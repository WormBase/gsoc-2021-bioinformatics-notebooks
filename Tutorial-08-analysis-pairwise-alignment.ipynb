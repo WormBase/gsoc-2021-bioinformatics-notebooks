{
 "cells": [
  {
   "cell_type": "markdown",
   "metadata": {},
   "source": [
    "# **Bioinformatics with Jupyter Notebooks for WormBase:**\n",
    "## **Analyses 4 - Pairwise Sequence Alignment**\n",
    "Welcome to the eighth jupyter notebook in the WormBase tutorial series. Over this series of tutorials, we will write code in Python that allows us to retrieve and perform simple analyses with data available on the WormBase sites.\n",
    "\n",
    "This tutorial will deal with performing pairwise sequence alignment of your data using multiple algorithms. This is not limited to only data from WormBase but the examples in the tutorial use worm data.\n",
    "Let's get started!"
   ]
  },
  {
   "cell_type": "markdown",
   "metadata": {},
   "source": [
    "As always, we start by importing any libraries that are required for the tutorials."
   ]
  },
  {
   "cell_type": "code",
   "execution_count": null,
   "metadata": {},
   "outputs": [],
   "source": [
    "import requests\n",
    "import sys\n",
    "import json\n",
    "import xml.dom.minidom"
   ]
  },
  {
   "cell_type": "markdown",
   "metadata": {},
   "source": [
    "#### Read in the input data from fasta files"
   ]
  },
  {
   "cell_type": "code",
   "execution_count": null,
   "metadata": {
    "scrolled": false
   },
   "outputs": [],
   "source": [
    "sequence1 = open(\"data/fasta1.fa\")\n",
    "sequence1 = sequence1.read()\n",
    "print(sequence1)"
   ]
  },
  {
   "cell_type": "code",
   "execution_count": null,
   "metadata": {
    "scrolled": false
   },
   "outputs": [],
   "source": [
    "sequence2 = open(\"data/fasta2.fa\")\n",
    "sequence2 = sequence2.read()\n",
    "print(sequence2)"
   ]
  },
  {
   "cell_type": "markdown",
   "metadata": {},
   "source": [
    "### Global Sequence Alignment"
   ]
  },
  {
   "cell_type": "markdown",
   "metadata": {},
   "source": [
    "#### EMBOSS Needle\n",
    "\n",
    "EMBOSS Needle creates an optimal global alignment of two sequences using the Needleman-Wunsch algorithm."
   ]
  },
  {
   "cell_type": "markdown",
   "metadata": {},
   "source": [
    "We can first get the different parameters that can be used for alignment using the API. Out of these, only email, and input sequences are mandatory fields."
   ]
  },
  {
   "cell_type": "code",
   "execution_count": null,
   "metadata": {},
   "outputs": [],
   "source": [
    "server = 'https://www.ebi.ac.uk/Tools/services/rest/emboss_needle/'"
   ]
  },
  {
   "cell_type": "code",
   "execution_count": null,
   "metadata": {},
   "outputs": [],
   "source": [
    "request = requests.get(server + 'parameters')\n",
    "\n",
    "if not request.ok:\n",
    "  request.raise_for_status()\n",
    "  sys.exit() \n",
    "\n",
    "parameters = xml.dom.minidom.parseString(request.text)\n",
    "parameters = parameters.toprettyxml()\n",
    "\n",
    "print(parameters)"
   ]
  },
  {
   "cell_type": "markdown",
   "metadata": {},
   "source": [
    "Now, we know the different parameters that can be used for running the alignment. We can then find out the details of each of these parameters, the type of data accepted, and the permissible values. \n",
    "\n",
    "You can change the parameter variable to whichever parameter you want to find details for."
   ]
  },
  {
   "cell_type": "code",
   "execution_count": null,
   "metadata": {},
   "outputs": [],
   "source": [
    "parameter = 'gapopen' "
   ]
  },
  {
   "cell_type": "code",
   "execution_count": null,
   "metadata": {},
   "outputs": [],
   "source": [
    "request = requests.get(server + 'parameterdetails/' + parameter)\n",
    "\n",
    "if not request.ok:\n",
    "  request.raise_for_status()\n",
    "  sys.exit() \n",
    "\n",
    "parameter_details = xml.dom.minidom.parseString(request.text)\n",
    "parameter_details = parameter_details.toprettyxml()\n",
    "\n",
    "print(parameter_details)"
   ]
  },
  {
   "cell_type": "markdown",
   "metadata": {},
   "source": [
    "Now, we can request the API and run the alignment. Here, multiple parameters can be specified based on the details from the cells above. For EMBOSS Needle, the mandatory fields are - email, asequence, and bsequence. And after running the alignment, we can get the job id for getting the status of the job and also the results of the alignment."
   ]
  },
  {
   "cell_type": "code",
   "execution_count": null,
   "metadata": {},
   "outputs": [],
   "source": [
    "request = requests.post(server + 'run', \n",
    "                        headers = {\"Content-Type\" : \"application/x-www-form-urlencoded\", \"Accept\" : \"text/plain\"},\n",
    "                        data = {\"email\" : \"xyz@wormbase.org\", \"asequence\" : sequence1, \"bsequence\" : sequence2 })\n",
    "\n",
    "if not request.ok:\n",
    "  request.raise_for_status()\n",
    "  sys.exit() \n",
    "\n",
    "print(request.text)\n",
    "jobid = request.text"
   ]
  },
  {
   "cell_type": "markdown",
   "metadata": {},
   "source": [
    "It is easy to check the status of our job. Just run the code in the next cell."
   ]
  },
  {
   "cell_type": "code",
   "execution_count": null,
   "metadata": {},
   "outputs": [],
   "source": [
    "request = requests.get(server + 'status/' + jobid)\n",
    "print(request.text)"
   ]
  },
  {
   "cell_type": "markdown",
   "metadata": {},
   "source": [
    "The API gives different data as results. You can use the next cell to understand the different result types and which ones you need to output."
   ]
  },
  {
   "cell_type": "code",
   "execution_count": null,
   "metadata": {
    "scrolled": true
   },
   "outputs": [],
   "source": [
    "request = requests.get(server + 'resulttypes/' + jobid)\n",
    "\n",
    "resulttypes = xml.dom.minidom.parseString(request.text)\n",
    "resulttypes = resulttypes.toprettyxml()\n",
    "\n",
    "print(resulttypes)"
   ]
  },
  {
   "cell_type": "markdown",
   "metadata": {},
   "source": [
    "Assign the kind of output you would want to display and then request the API to return it. \n",
    "\n",
    "The outtype variable can be assigned to any of the identifiers mentioned in the previous output."
   ]
  },
  {
   "cell_type": "code",
   "execution_count": null,
   "metadata": {},
   "outputs": [],
   "source": [
    "outtype = 'out'"
   ]
  },
  {
   "cell_type": "code",
   "execution_count": null,
   "metadata": {},
   "outputs": [],
   "source": [
    "request = requests.get(server + 'result/' + jobid + '/' + outtype)\n",
    "\n",
    "print(request.text)"
   ]
  },
  {
   "cell_type": "markdown",
   "metadata": {},
   "source": [
    "And you are done!\n",
    "\n",
    "We will check out some more tutorials, based on the other alignment algorithms!"
   ]
  },
  {
   "cell_type": "markdown",
   "metadata": {},
   "source": [
    "#### EMBOSS Stretcher\n",
    "\n",
    "EMBOSS Stretcher uses a modification of the Needleman-Wunsch algorithm that allows larger sequences to be globally aligned."
   ]
  },
  {
   "cell_type": "code",
   "execution_count": null,
   "metadata": {},
   "outputs": [],
   "source": [
    "server = 'https://www.ebi.ac.uk/Tools/services/rest/emboss_stretcher/'"
   ]
  },
  {
   "cell_type": "code",
   "execution_count": null,
   "metadata": {},
   "outputs": [],
   "source": [
    "request = requests.get(server + 'parameters')\n",
    "\n",
    "if not request.ok:\n",
    "  request.raise_for_status()\n",
    "  sys.exit() \n",
    "\n",
    "parameters = xml.dom.minidom.parseString(request.text)\n",
    "parameters = parameters.toprettyxml()\n",
    "\n",
    "print(parameters)"
   ]
  },
  {
   "cell_type": "code",
   "execution_count": null,
   "metadata": {},
   "outputs": [],
   "source": [
    "parameter = 'gapopen'"
   ]
  },
  {
   "cell_type": "code",
   "execution_count": null,
   "metadata": {},
   "outputs": [],
   "source": [
    "request = requests.get(server + 'parameterdetails/' + parameter)\n",
    "\n",
    "if not request.ok:\n",
    "  request.raise_for_status()\n",
    "  sys.exit() \n",
    "\n",
    "parameter_details = xml.dom.minidom.parseString(request.text)\n",
    "parameter_details = parameter_details.toprettyxml()\n",
    "\n",
    "print(parameter_details)"
   ]
  },
  {
   "cell_type": "code",
   "execution_count": null,
   "metadata": {
    "scrolled": true
   },
   "outputs": [],
   "source": [
    "request = requests.post(server + 'run', \n",
    "                        headers = {\"Content-Type\" : \"application/x-www-form-urlencoded\", \"Accept\" : \"text/plain\"},\n",
    "                        data = {\"email\" : \"xyz@wormbase.org\", \"asequence\" : sequence1, \"bsequence\" : sequence2 })\n",
    "\n",
    "if not request.ok:\n",
    "  request.raise_for_status()\n",
    "  sys.exit() \n",
    "\n",
    "print(request.text)\n",
    "jobid = request.text"
   ]
  },
  {
   "cell_type": "code",
   "execution_count": null,
   "metadata": {
    "scrolled": true
   },
   "outputs": [],
   "source": [
    "request = requests.get(server + 'status/' + jobid)\n",
    "print(request.text)"
   ]
  },
  {
   "cell_type": "code",
   "execution_count": null,
   "metadata": {},
   "outputs": [],
   "source": [
    "request = requests.get(server + 'resulttypes/' + jobid)\n",
    "\n",
    "resulttypes = xml.dom.minidom.parseString(request.text)\n",
    "resulttypes = resulttypes.toprettyxml()\n",
    "\n",
    "print(resulttypes)"
   ]
  },
  {
   "cell_type": "code",
   "execution_count": null,
   "metadata": {},
   "outputs": [],
   "source": [
    "outtype = 'out' "
   ]
  },
  {
   "cell_type": "code",
   "execution_count": null,
   "metadata": {
    "scrolled": true
   },
   "outputs": [],
   "source": [
    "request = requests.get(server + 'result/' + jobid + '/' + outtype)\n",
    "\n",
    "print(request.text)"
   ]
  },
  {
   "cell_type": "markdown",
   "metadata": {},
   "source": [
    "### Local Alignment"
   ]
  },
  {
   "cell_type": "markdown",
   "metadata": {},
   "source": [
    "#### EMBOSS Water\n",
    "\n",
    "EMBOSS Water uses the Smith-Waterman algorithm (modified for speed enhancements) to calculate the local alignment of two sequences."
   ]
  },
  {
   "cell_type": "code",
   "execution_count": null,
   "metadata": {},
   "outputs": [],
   "source": [
    "server = 'https://www.ebi.ac.uk/Tools/services/rest/emboss_water/'"
   ]
  },
  {
   "cell_type": "code",
   "execution_count": null,
   "metadata": {},
   "outputs": [],
   "source": [
    "request = requests.get(server + 'parameters')\n",
    "\n",
    "if not request.ok:\n",
    "  request.raise_for_status()\n",
    "  sys.exit() \n",
    "\n",
    "parameters = xml.dom.minidom.parseString(request.text)\n",
    "parameters = parameters.toprettyxml()\n",
    "\n",
    "print(parameters)"
   ]
  },
  {
   "cell_type": "code",
   "execution_count": null,
   "metadata": {},
   "outputs": [],
   "source": [
    "parameter = 'gapopen'"
   ]
  },
  {
   "cell_type": "code",
   "execution_count": null,
   "metadata": {},
   "outputs": [],
   "source": [
    "request = requests.get(server + 'parameterdetails/' + parameter)\n",
    " \n",
    "if not request.ok:\n",
    "  request.raise_for_status()\n",
    "  sys.exit() \n",
    "\n",
    "parameter_details = xml.dom.minidom.parseString(request.text)\n",
    "parameter_details = parameter_details.toprettyxml()\n",
    "\n",
    "print(parameter_details)"
   ]
  },
  {
   "cell_type": "code",
   "execution_count": null,
   "metadata": {
    "scrolled": true
   },
   "outputs": [],
   "source": [
    "request = requests.post(server + 'run', \n",
    "                        headers = {\"Content-Type\" : \"application/x-www-form-urlencoded\", \"Accept\" : \"text/plain\"},\n",
    "                        data = {\"email\" : \"xyz@wormbase.org\", \"asequence\" : sequence1, \"bsequence\" : sequence2 })\n",
    "\n",
    "if not request.ok:\n",
    "  request.raise_for_status()\n",
    "  sys.exit() \n",
    "\n",
    "print(request.text)\n",
    "jobid = request.text"
   ]
  },
  {
   "cell_type": "code",
   "execution_count": null,
   "metadata": {},
   "outputs": [],
   "source": [
    "request = requests.get(server + 'status/' + jobid)\n",
    "print(request.text)"
   ]
  },
  {
   "cell_type": "code",
   "execution_count": null,
   "metadata": {},
   "outputs": [],
   "source": [
    "request = requests.get(server + 'resulttypes/' + jobid)\n",
    "\n",
    "resulttypes = xml.dom.minidom.parseString(request.text)\n",
    "resulttypes = resulttypes.toprettyxml()\n",
    "\n",
    "print(resulttypes)"
   ]
  },
  {
   "cell_type": "code",
   "execution_count": null,
   "metadata": {},
   "outputs": [],
   "source": [
    "outtype = 'out'"
   ]
  },
  {
   "cell_type": "code",
   "execution_count": null,
   "metadata": {
    "scrolled": true
   },
   "outputs": [],
   "source": [
    "request = requests.get('https://www.ebi.ac.uk/Tools/services/rest/emboss_water/result/' + jobid + '/' + outtype)\n",
    "\n",
    "print(request.text)"
   ]
  },
  {
   "cell_type": "markdown",
   "metadata": {},
   "source": [
    "#### EMBOSS Matcher\n",
    "\n",
    "EMBOSS Matcher identifies local similarities between two sequences using a rigorous algorithm based on the LALIGN application."
   ]
  },
  {
   "cell_type": "code",
   "execution_count": null,
   "metadata": {},
   "outputs": [],
   "source": [
    "server = 'https://www.ebi.ac.uk/Tools/services/rest/emboss_matcher/'"
   ]
  },
  {
   "cell_type": "code",
   "execution_count": null,
   "metadata": {},
   "outputs": [],
   "source": [
    "request = requests.get(server + 'parameters')\n",
    "\n",
    "if not request.ok:\n",
    "  request.raise_for_status()\n",
    "  sys.exit() \n",
    "\n",
    "parameters = xml.dom.minidom.parseString(request.text)\n",
    "parameters = parameters.toprettyxml()\n",
    "\n",
    "print(parameters)"
   ]
  },
  {
   "cell_type": "code",
   "execution_count": null,
   "metadata": {},
   "outputs": [],
   "source": [
    "parameter = 'gapopen'"
   ]
  },
  {
   "cell_type": "code",
   "execution_count": null,
   "metadata": {},
   "outputs": [],
   "source": [
    "request = requests.get(server + 'parameterdetails/' + parameter)\n",
    "\n",
    "if not request.ok:\n",
    "  request.raise_for_status()\n",
    "  sys.exit() \n",
    "\n",
    "parameter_details = xml.dom.minidom.parseString(request.text)\n",
    "parameter_details = parameter_details.toprettyxml()\n",
    "\n",
    "print(parameter_details)"
   ]
  },
  {
   "cell_type": "code",
   "execution_count": null,
   "metadata": {
    "scrolled": true
   },
   "outputs": [],
   "source": [
    "request = requests.post(server + 'run', \n",
    "                        headers = {\"Content-Type\" : \"application/x-www-form-urlencoded\", \"Accept\" : \"text/plain\"},\n",
    "                        data = {\"email\" : \"xyz@wormbase.org\", \"asequence\" : sequence1, \"bsequence\" : sequence2 })\n",
    "\n",
    "if not request.ok:\n",
    "  request.raise_for_status()\n",
    "  sys.exit() \n",
    "\n",
    "print(request.text)\n",
    "jobid = request.text"
   ]
  },
  {
   "cell_type": "code",
   "execution_count": null,
   "metadata": {},
   "outputs": [],
   "source": [
    "request = requests.get(server + 'status/' + jobid)\n",
    "print(request.text)"
   ]
  },
  {
   "cell_type": "code",
   "execution_count": null,
   "metadata": {},
   "outputs": [],
   "source": [
    "request = requests.get(server + 'resulttypes/' + jobid)\n",
    "\n",
    "resulttypes = xml.dom.minidom.parseString(request.text)\n",
    "resulttypes = resulttypes.toprettyxml()\n",
    "\n",
    "print(resulttypes)"
   ]
  },
  {
   "cell_type": "code",
   "execution_count": null,
   "metadata": {},
   "outputs": [],
   "source": [
    "outtype = 'out'"
   ]
  },
  {
   "cell_type": "code",
   "execution_count": null,
   "metadata": {
    "scrolled": true
   },
   "outputs": [],
   "source": [
    "request = requests.get(server + 'result/' + jobid +'/' + outtype)\n",
    "\n",
    "print(request.text)"
   ]
  },
  {
   "cell_type": "markdown",
   "metadata": {},
   "source": [
    "### LALIGN\n",
    "\n",
    "LALIGN finds internal duplications by calculating non-intersecting local alignments of protein or DNA sequences."
   ]
  },
  {
   "cell_type": "code",
   "execution_count": null,
   "metadata": {},
   "outputs": [],
   "source": [
    "server = 'https://www.ebi.ac.uk/Tools/services/rest/lalign/'"
   ]
  },
  {
   "cell_type": "code",
   "execution_count": null,
   "metadata": {},
   "outputs": [],
   "source": [
    "request = requests.get(server + 'parameters')\n",
    "\n",
    "if not request.ok:\n",
    "  request.raise_for_status()\n",
    "  sys.exit() \n",
    "\n",
    "parameters = xml.dom.minidom.parseString(request.text)\n",
    "parameters = parameters.toprettyxml()\n",
    "\n",
    "print(parameters)"
   ]
  },
  {
   "cell_type": "code",
   "execution_count": null,
   "metadata": {},
   "outputs": [],
   "source": [
    "parameter = 'matrix'"
   ]
  },
  {
   "cell_type": "code",
   "execution_count": null,
   "metadata": {},
   "outputs": [],
   "source": [
    "request = requests.get(server + 'parameterdetails/' + parameter)\n",
    "\n",
    "if not request.ok:\n",
    "  request.raise_for_status()\n",
    "  sys.exit() \n",
    "\n",
    "parameter_details = xml.dom.minidom.parseString(request.text)\n",
    "parameter_details = parameter_details.toprettyxml()\n",
    "\n",
    "print(parameter_details)"
   ]
  },
  {
   "cell_type": "code",
   "execution_count": null,
   "metadata": {
    "scrolled": true
   },
   "outputs": [],
   "source": [
    "request = requests.post(server + 'run', \n",
    "                        headers = {\"Content-Type\" : \"application/x-www-form-urlencoded\", \"Accept\" : \"text/plain\"},\n",
    "                        data = {\"email\" : \"xyz@wormbase.org\", \"asequence\" : sequence1, \"bsequence\" : sequence2 })\n",
    "\n",
    "if not request.ok:\n",
    "  request.raise_for_status()\n",
    "  sys.exit() \n",
    "\n",
    "print(request.text)\n",
    "jobid = request.text"
   ]
  },
  {
   "cell_type": "code",
   "execution_count": null,
   "metadata": {},
   "outputs": [],
   "source": [
    "request = requests.get(server + 'status/' + jobid)\n",
    "print(request.text)"
   ]
  },
  {
   "cell_type": "code",
   "execution_count": null,
   "metadata": {},
   "outputs": [],
   "source": [
    "request = requests.get(server + 'resulttypes/' + jobid)\n",
    "\n",
    "resulttypes = xml.dom.minidom.parseString(request.text)\n",
    "resulttypes = resulttypes.toprettyxml()\n",
    "\n",
    "print(resulttypes)"
   ]
  },
  {
   "cell_type": "code",
   "execution_count": null,
   "metadata": {},
   "outputs": [],
   "source": [
    "outtype = 'out'"
   ]
  },
  {
   "cell_type": "code",
   "execution_count": null,
   "metadata": {
    "scrolled": true
   },
   "outputs": [],
   "source": [
    "request = requests.get(server + 'result/' + jobid + '/' + outtype)\n",
    "\n",
    "print(request.text)"
   ]
  },
  {
   "cell_type": "markdown",
   "metadata": {},
   "source": [
    "### Genomic Alignment"
   ]
  },
  {
   "cell_type": "markdown",
   "metadata": {},
   "source": [
    "#### GeneWise\n",
    "\n",
    "GeneWise compares a protein sequence to a genomic DNA sequence, allowing for introns and frameshifting errors."
   ]
  },
  {
   "cell_type": "markdown",
   "metadata": {},
   "source": [
    "Read in fasta files for the input protein sequence and also the genomic DNA sequence to which you are comparing it to."
   ]
  },
  {
   "cell_type": "code",
   "execution_count": null,
   "metadata": {
    "scrolled": false
   },
   "outputs": [],
   "source": [
    "prot = open(\"data/genewise_prot.fa\")\n",
    "prot = prot.read()\n",
    "print(prot)"
   ]
  },
  {
   "cell_type": "code",
   "execution_count": null,
   "metadata": {
    "scrolled": false
   },
   "outputs": [],
   "source": [
    "nucl = open(\"data/genewise_nucl.fa\")\n",
    "nucl = nucl.read()\n",
    "print(nucl)"
   ]
  },
  {
   "cell_type": "code",
   "execution_count": null,
   "metadata": {},
   "outputs": [],
   "source": [
    "server = 'https://www.ebi.ac.uk/Tools/services/rest/genewise/'"
   ]
  },
  {
   "cell_type": "code",
   "execution_count": null,
   "metadata": {},
   "outputs": [],
   "source": [
    "request = requests.get(server + 'parameters')\n",
    "\n",
    "if not request.ok:\n",
    "  request.raise_for_status()\n",
    "  sys.exit() \n",
    "\n",
    "parameters = xml.dom.minidom.parseString(request.text)\n",
    "parameters = parameters.toprettyxml()\n",
    "\n",
    "print(parameters)"
   ]
  },
  {
   "cell_type": "code",
   "execution_count": null,
   "metadata": {},
   "outputs": [],
   "source": [
    "parameter = 'genes'"
   ]
  },
  {
   "cell_type": "code",
   "execution_count": null,
   "metadata": {},
   "outputs": [],
   "source": [
    "request = requests.get(server + 'parameterdetails/' + parameter)\n",
    "\n",
    "if not request.ok:\n",
    "  request.raise_for_status()\n",
    "  sys.exit() \n",
    "\n",
    "parameter_details = xml.dom.minidom.parseString(request.text)\n",
    "parameter_details = parameter_details.toprettyxml()\n",
    "\n",
    "print(parameter_details)"
   ]
  },
  {
   "cell_type": "code",
   "execution_count": null,
   "metadata": {
    "scrolled": true
   },
   "outputs": [],
   "source": [
    "request = requests.post(server + 'run', \n",
    "                        headers = {\"Content-Type\" : \"application/x-www-form-urlencoded\", \"Accept\" : \"text/plain\"},\n",
    "                        data = {\"email\" : \"xyz@wormbase.org\", \"asequence\" : prot, \"bsequence\" : nucl })\n",
    "\n",
    "if not request.ok:\n",
    "  request.raise_for_status()\n",
    "  sys.exit() \n",
    "\n",
    "print(request.text)\n",
    "jobid = request.text"
   ]
  },
  {
   "cell_type": "code",
   "execution_count": null,
   "metadata": {},
   "outputs": [],
   "source": [
    "request = requests.get(server + 'status/' + jobid)\n",
    "print(request.text)"
   ]
  },
  {
   "cell_type": "code",
   "execution_count": null,
   "metadata": {},
   "outputs": [],
   "source": [
    "request = requests.get(server + 'resulttypes/' + jobid)\n",
    "\n",
    "resulttypes = xml.dom.minidom.parseString(request.text)\n",
    "resulttypes = resulttypes.toprettyxml()\n",
    "\n",
    "print(resulttypes)"
   ]
  },
  {
   "cell_type": "code",
   "execution_count": null,
   "metadata": {},
   "outputs": [],
   "source": [
    "outtype = 'out'"
   ]
  },
  {
   "cell_type": "code",
   "execution_count": null,
   "metadata": {
    "scrolled": true
   },
   "outputs": [],
   "source": [
    "request = requests.get(server + 'result/' + jobid + '/' + outtype)\n",
    "\n",
    "print(request.text)"
   ]
  },
  {
   "cell_type": "markdown",
   "metadata": {},
   "source": [
    "This is the end of the fourth tutorial for WormBase data analysis! This tutorial dealt with using multiple algorithms for Pairwise Sequence Alignment analyses.\n",
    "\n",
    "In the next tutorial, we will use different algorithms for Multiple Sequence Alignment analyses!\n",
    "\n",
    "Acknowledgements:\n",
    "- EBI APIs for Pairwise Alignments (https://www.ebi.ac.uk/Tools/psa/)"
   ]
  }
 ],
 "metadata": {
  "kernelspec": {
   "display_name": "Python 3",
   "language": "python",
   "name": "python3"
  },
  "language_info": {
   "codemirror_mode": {
    "name": "ipython",
    "version": 3
   },
   "file_extension": ".py",
   "mimetype": "text/x-python",
   "name": "python",
   "nbconvert_exporter": "python",
   "pygments_lexer": "ipython3",
   "version": "3.8.5"
  }
 },
 "nbformat": 4,
 "nbformat_minor": 4
}
