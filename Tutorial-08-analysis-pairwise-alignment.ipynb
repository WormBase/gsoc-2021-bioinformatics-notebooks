{
 "cells": [
  {
   "cell_type": "markdown",
   "metadata": {},
   "source": [
    "# **Bioinformatics with Jupyter Notebooks for WormBase:**\n",
    "## **Analyses 4 - Pairwise Sequence Alignment**\n",
    "Welcome to the eighth jupyter notebook in the WormBase tutorial series. Over this series of tutorials, we will write code in Python that allows us to retrieve and perform simple analyses with data available on the WormBase sites.\n",
    "\n",
    "This tutorial will deal with performing pairwise sequence alignment of your data using multiple algorithms. This is not limited to only data from WormBase but the examples in the tutorial use worm data.\n",
    "Let's get started!"
   ]
  },
  {
   "cell_type": "markdown",
   "metadata": {},
   "source": [
    "As always, we start by importing any libraries that are required for the tutorials."
   ]
  },
  {
   "cell_type": "code",
   "execution_count": 1,
   "metadata": {},
   "outputs": [],
   "source": [
    "import requests, sys, json\n",
    "import xml.dom.minidom"
   ]
  },
  {
   "cell_type": "markdown",
   "metadata": {},
   "source": [
    "#### Read in the input data from fasta files"
   ]
  },
  {
   "cell_type": "code",
   "execution_count": 2,
   "metadata": {
    "scrolled": false
   },
   "outputs": [
    {
     "name": "stdout",
     "output_type": "stream",
     "text": [
      ">C37F5.1                   \n",
      "atgaatcacattgaccttttgaaggtcaaaaaagagccgccgtcgagttc \n",
      "ggaagaagccgaggaagaagaatctccgaaacatacgattgagggaattt \n",
      "tggatataagaaagaaagagatgaacgtctcagacttgatgtgtacccga \n",
      "tcctcgacacctccgacctcatcatccgtcgactcaatcataaccctgtg \n",
      "gcaattccttctagaactactgcaacaagaccaaaatggtgatataatcg \n",
      "aatggacacgcggaacggacggcgaattccgactgattgatgcagaagcc \n",
      "gtggcgagaaagtggggacaacggaaggcgaaaccgcatatgaattatga \n",
      "taaactgtcgagagcgttacgatattattatgagaagaatattattaaga \n",
      "\n"
     ]
    }
   ],
   "source": [
    "sequence1 = open(\"data/fasta1.fa\")\n",
    "sequence1 = sequence1.read()\n",
    "print(sequence1)"
   ]
  },
  {
   "cell_type": "code",
   "execution_count": 3,
   "metadata": {
    "scrolled": false
   },
   "outputs": [
    {
     "name": "stdout",
     "output_type": "stream",
     "text": [
      ">FM864439                                          \n",
      "tggcatttctacgggtgatgaggtggatggagtcgccgaggaggcacact \n",
      "gcttgacggggagccacactatctgttggacttggtgtgctgacactgtg \n",
      "cgtcgtcggtgaatccgtcccaagaaggctcagcgccgagaaatccgtgt \n",
      "tgccacgtggattttgaggtggtggaggcggcggcggcggtgcttgtaat \n",
      "gacgtcataaacgacggaatctcgtgtcgaatgtccttctcgtctttgac \n",
      "ataacacatcttcatgttcatatttgaggaaaagtcggcggtcggcggag \n",
      "cgtgggcgtcagtagttacaaagcgatatacgaactttttgccgatcacc \n",
      "ttcttaataatattcttctcataataatatcgtaacgctctcgacagttt \n",
      "atcataattcatatgcggtttcgccttccgttgtccccactttctcgcca \n",
      "cggcttctgcatcaatcagtcggaattcgccgtccgttccgcgtgtccat \n",
      "tcgattatatcaccattttggtcttgttgcagtagttctagaaggaattg \n",
      "ccacagggttatgattgagtcgacggatgatgaggtcggaggtgtcgagg \n",
      "atcgggtacacatcaagtctgagacgttcatctctttctctctaatttgc \n",
      "gcaattaaatctatctactccttcagacattgttccgtgcccagcttctt \n",
      "ccgaactctacggatgctcttttttgacctaaaattgtcaatgagattca \n",
      "ttttcgtgtaatctgtagagggtccgcgctttgatatcctctctctactg \n",
      "cgtaattcatcgttactactcattcagtcatggtcaatggtcaaantttt \n",
      "tcncccttcttatttcctnacttccttcttctccctcacttttctttcta \n",
      "tctatctattcatgattaaggagcaatttattcatagcctgatactctcc \n",
      "ttctcccttccttatcctcctattcctccttccttcttccctttcttctt \n",
      "cacttagttctcgttcccctacacactctgttctttccccgtgtgccgct \n",
      "ggggctgttcccgctgtctgcttacgagttgtatggaccctttaacgtat \n",
      "ctgtgttctgggcttcacgcgagagtacttctgctgtgttcgccgcacgt \n",
      "attaacggatatcggcggccatgtcttgctttattctttgctaattggac \n",
      "tgttgctgtgttactgactccactgtcgtcgtacagacttcgacaactcc \n",
      "tgttatgccccatttacttgt\n",
      "\n"
     ]
    }
   ],
   "source": [
    "sequence2 = open(\"data/fasta2.fa\")\n",
    "sequence2 = sequence2.read()\n",
    "print(sequence2)"
   ]
  },
  {
   "cell_type": "markdown",
   "metadata": {},
   "source": [
    "### Global Sequence Alignment"
   ]
  },
  {
   "cell_type": "markdown",
   "metadata": {},
   "source": [
    "#### EMBOSS Needle\n",
    "\n",
    "EMBOSS Needle creates an optimal global alignment of two sequences using the Needleman-Wunsch algorithm."
   ]
  },
  {
   "cell_type": "markdown",
   "metadata": {},
   "source": [
    "We can first get the different parameters that can be used for alignment using the API. Out of these, only email, and input sequences are mandatory fields."
   ]
  },
  {
   "cell_type": "code",
   "execution_count": 4,
   "metadata": {},
   "outputs": [],
   "source": [
    "server = 'https://www.ebi.ac.uk/Tools/services/rest/emboss_needle/'"
   ]
  },
  {
   "cell_type": "code",
   "execution_count": 5,
   "metadata": {},
   "outputs": [
    {
     "name": "stdout",
     "output_type": "stream",
     "text": [
      "<?xml version=\"1.0\" ?>\n",
      "<parameters>\n",
      "\t<id>matrix</id>\n",
      "\t<id>gapopen</id>\n",
      "\t<id>gapext</id>\n",
      "\t<id>endweight</id>\n",
      "\t<id>endopen</id>\n",
      "\t<id>endextend</id>\n",
      "\t<id>format</id>\n",
      "\t<id>stype</id>\n",
      "\t<id>asequence</id>\n",
      "\t<id>bsequence</id>\n",
      "</parameters>\n",
      "\n"
     ]
    }
   ],
   "source": [
    "request = requests.get(server+'parameters')\n",
    "\n",
    "if not request.ok:\n",
    "  request.raise_for_status()\n",
    "  sys.exit() \n",
    "\n",
    "parameters = xml.dom.minidom.parseString(request.text)\n",
    "parameters = parameters.toprettyxml()\n",
    "\n",
    "print(parameters)"
   ]
  },
  {
   "cell_type": "markdown",
   "metadata": {},
   "source": [
    "Now, we know the different parameters that can be used for running the alignment. We can then find out the details of each of these parameters, the type of data accepted, and the permissible values. "
   ]
  },
  {
   "cell_type": "code",
   "execution_count": 6,
   "metadata": {},
   "outputs": [],
   "source": [
    "parameter = 'gapopen' #Change the variable to whichever parameter you want to find details for"
   ]
  },
  {
   "cell_type": "code",
   "execution_count": 7,
   "metadata": {},
   "outputs": [
    {
     "name": "stdout",
     "output_type": "stream",
     "text": [
      "<?xml version=\"1.0\" ?>\n",
      "<parameter>\n",
      "\t<name>Gap open</name>\n",
      "\t<description>Pairwise alignment score for the first residue in a gap.</description>\n",
      "\t<type>FLOAT</type>\n",
      "\t<values>\n",
      "\t\t<value>\n",
      "\t\t\t<label>100</label>\n",
      "\t\t\t<value>100</value>\n",
      "\t\t\t<defaultValue>false</defaultValue>\n",
      "\t\t</value>\n",
      "\t\t<value>\n",
      "\t\t\t<label>50</label>\n",
      "\t\t\t<value>50</value>\n",
      "\t\t\t<defaultValue>false</defaultValue>\n",
      "\t\t</value>\n",
      "\t\t<value>\n",
      "\t\t\t<label>25</label>\n",
      "\t\t\t<value>25</value>\n",
      "\t\t\t<defaultValue>false</defaultValue>\n",
      "\t\t</value>\n",
      "\t\t<value>\n",
      "\t\t\t<label>20</label>\n",
      "\t\t\t<value>20</value>\n",
      "\t\t\t<defaultValue>false</defaultValue>\n",
      "\t\t</value>\n",
      "\t\t<value>\n",
      "\t\t\t<label>15</label>\n",
      "\t\t\t<value>15</value>\n",
      "\t\t\t<defaultValue>false</defaultValue>\n",
      "\t\t</value>\n",
      "\t\t<value>\n",
      "\t\t\t<label>10</label>\n",
      "\t\t\t<value>10</value>\n",
      "\t\t\t<defaultValue>true</defaultValue>\n",
      "\t\t</value>\n",
      "\t\t<value>\n",
      "\t\t\t<label>5</label>\n",
      "\t\t\t<value>5</value>\n",
      "\t\t\t<defaultValue>false</defaultValue>\n",
      "\t\t</value>\n",
      "\t\t<value>\n",
      "\t\t\t<label>1</label>\n",
      "\t\t\t<value>1</value>\n",
      "\t\t\t<defaultValue>false</defaultValue>\n",
      "\t\t</value>\n",
      "\t</values>\n",
      "</parameter>\n",
      "\n"
     ]
    }
   ],
   "source": [
    "request = requests.get(server+'parameterdetails/'+parameter)\n",
    "\n",
    "if not request.ok:\n",
    "  request.raise_for_status()\n",
    "  sys.exit() \n",
    "\n",
    "parameter_details = xml.dom.minidom.parseString(request.text)\n",
    "parameter_details = parameter_details.toprettyxml()\n",
    "\n",
    "print(parameter_details)"
   ]
  },
  {
   "cell_type": "markdown",
   "metadata": {},
   "source": [
    "Now, we can request the API and run the alignment. Here, multiple parameters can be specified based on the details from the cells above. For EMBOSS Needle, the mandatory fields are - email, asequence, and bsequence. And after running the alignment, we can get the job id for getting the status of the job and also the results of the alignment."
   ]
  },
  {
   "cell_type": "code",
   "execution_count": 8,
   "metadata": {},
   "outputs": [
    {
     "name": "stdout",
     "output_type": "stream",
     "text": [
      "emboss_needle-R20210630-222733-0117-97240744-p2m\n"
     ]
    }
   ],
   "source": [
    "request = requests.post(server+'run', \n",
    "                        headers={ \"Content-Type\" : \"application/x-www-form-urlencoded\", \"Accept\" : \"text/plain\"}, \n",
    "                        data={ \"email\" : \"hebbarprajna2000@gmail.com\", \"asequence\" : sequence1, \"bsequence\" : sequence2 })\n",
    "\n",
    "if not request.ok:\n",
    "  request.raise_for_status()\n",
    "  sys.exit() \n",
    "\n",
    "print(request.text)\n",
    "jobid = request.text"
   ]
  },
  {
   "cell_type": "markdown",
   "metadata": {},
   "source": [
    "It is easy to check the status of our job. Just run the code in the next cell."
   ]
  },
  {
   "cell_type": "code",
   "execution_count": 9,
   "metadata": {},
   "outputs": [
    {
     "name": "stdout",
     "output_type": "stream",
     "text": [
      "RUNNING\n"
     ]
    }
   ],
   "source": [
    "request = requests.get(server+'status/'+jobid)\n",
    "print(request.text)"
   ]
  },
  {
   "cell_type": "markdown",
   "metadata": {},
   "source": [
    "The API gives different data as results. You can use the next cell to understand the different result types and which ones you need to output."
   ]
  },
  {
   "cell_type": "code",
   "execution_count": 10,
   "metadata": {
    "scrolled": true
   },
   "outputs": [
    {
     "name": "stdout",
     "output_type": "stream",
     "text": [
      "<?xml version=\"1.0\" ?>\n",
      "<types>\n",
      "\t<type>\n",
      "\t\t<description>The output from the tool itself</description>\n",
      "\t\t<fileSuffix>txt</fileSuffix>\n",
      "\t\t<identifier>out</identifier>\n",
      "\t\t<label>Tool Output</label>\n",
      "\t\t<mediaType>text/plain</mediaType>\n",
      "\t</type>\n",
      "\t<type>\n",
      "\t\t<description>The first input sequence as seen by the tool</description>\n",
      "\t\t<fileSuffix>txt</fileSuffix>\n",
      "\t\t<identifier>asequence</identifier>\n",
      "\t\t<label>First Input Sequence</label>\n",
      "\t\t<mediaType>text/plain</mediaType>\n",
      "\t</type>\n",
      "\t<type>\n",
      "\t\t<description>The second input sequence as seen by the tool</description>\n",
      "\t\t<fileSuffix>txt</fileSuffix>\n",
      "\t\t<identifier>bsequence</identifier>\n",
      "\t\t<label>Second Input Sequence</label>\n",
      "\t\t<mediaType>text/plain</mediaType>\n",
      "\t</type>\n",
      "\t<type>\n",
      "\t\t<description>The pairwise alignment as returned by the tool</description>\n",
      "\t\t<fileSuffix>txt</fileSuffix>\n",
      "\t\t<identifier>aln</identifier>\n",
      "\t\t<label>Pairwise Alignment</label>\n",
      "\t\t<mediaType>text/plain</mediaType>\n",
      "\t</type>\n",
      "\t<type>\n",
      "\t\t<description>The submission details which was submitted as a job</description>\n",
      "\t\t<fileSuffix>params</fileSuffix>\n",
      "\t\t<identifier>submission</identifier>\n",
      "\t\t<label>Submission Details</label>\n",
      "\t\t<mediaType>application/xml</mediaType>\n",
      "\t</type>\n",
      "</types>\n",
      "\n"
     ]
    }
   ],
   "source": [
    "request = requests.get(server+'resulttypes/'+jobid)\n",
    "\n",
    "resulttypes = xml.dom.minidom.parseString(request.text)\n",
    "resulttypes = resulttypes.toprettyxml()\n",
    "\n",
    "print(resulttypes)"
   ]
  },
  {
   "cell_type": "markdown",
   "metadata": {},
   "source": [
    "Assign the kind of output you would want to display and then request the API to return it. "
   ]
  },
  {
   "cell_type": "code",
   "execution_count": 11,
   "metadata": {},
   "outputs": [],
   "source": [
    "outtype = 'out' #Can be any of the identifiers mentioned in the previous output"
   ]
  },
  {
   "cell_type": "code",
   "execution_count": 12,
   "metadata": {},
   "outputs": [
    {
     "name": "stdout",
     "output_type": "stream",
     "text": [
      "########################################\n",
      "# Program: needle\n",
      "# Rundate: Wed 30 Jun 2021 22:27:36\n",
      "# Commandline: needle\n",
      "#    -auto\n",
      "#    -stdout\n",
      "#    -asequence emboss_needle-R20210630-222733-0117-97240744-p2m.asequence\n",
      "#    -bsequence emboss_needle-R20210630-222733-0117-97240744-p2m.bsequence\n",
      "# Align_format: srspair\n",
      "# Report_file: stdout\n",
      "########################################\n",
      "\n",
      "#=======================================\n",
      "#\n",
      "# Aligned_sequences: 2\n",
      "# 1: C37F5.1\n",
      "# 2: FM864439\n",
      "# Matrix: EDNAFULL\n",
      "# Gap_penalty: 10.0\n",
      "# Extend_penalty: 0.5\n",
      "#\n",
      "# Length: 1319\n",
      "# Identity:     273/1319 (20.7%)\n",
      "# Similarity:   273/1319 (20.7%)\n",
      "# Gaps:         967/1319 (73.3%)\n",
      "# Score: 359.5\n",
      "# \n",
      "#\n",
      "#=======================================\n",
      "\n",
      "C37F5.1            1 --------------------------------------atgaatcaca--     10\n",
      "                                                           |.||..||||  \n",
      "FM864439           1 tggcatttctacgggtgatgaggtggatggagtcgccgaggaggcacact     50\n",
      "\n",
      "C37F5.1           11 --ttgac---------------cttttgaa---ggtcaaaaaagagc---     37\n",
      "                       |||||               ||.|||.|   |||       |.||   \n",
      "FM864439          51 gcttgacggggagccacactatctgttggacttggt-------gtgctga     93\n",
      "\n",
      "C37F5.1           38 -------cgccgtcgagt-------tcggaagaa--------gccgagga     65\n",
      "                            ||.||||| ||       ||..|||||        ||||||.|\n",
      "FM864439          94 cactgtgcgtcgtcg-gtgaatccgtcccaagaaggctcagcgccgagaa    142\n",
      "\n",
      "C37F5.1           66 a----------------ga-------------------------------     68\n",
      "                     |                ||                               \n",
      "FM864439         143 atccgtgttgccacgtggattttgaggtggtggaggcggcggcggcggtg    192\n",
      "\n",
      "C37F5.1           69 -----------------------agaatctc----cgaa-----------     80\n",
      "                                            .|||||||    ||||           \n",
      "FM864439         193 cttgtaatgacgtcataaacgacggaatctcgtgtcgaatgtccttctcg    242\n",
      "\n",
      "C37F5.1           81 ------acatacga-----------------ttgagggaattttg-----    102\n",
      "                           |||||..|                 ||||||.||..|.|     \n",
      "FM864439         243 tctttgacataacacatcttcatgttcatatttgaggaaaagtcggcggt    292\n",
      "\n",
      "C37F5.1          103 --------------------------------gatataagaa--------    112\n",
      "                                                     ||||||.|||        \n",
      "FM864439         293 cggcggagcgtgggcgtcagtagttacaaagcgatatacgaactttttgc    342\n",
      "\n",
      "C37F5.1          113 ----------------------------agaaagagat--gaacg-tctc    131\n",
      "                                                 |.||..|.||  .|||| ||||\n",
      "FM864439         343 cgatcaccttcttaataatattcttctcataataatatcgtaacgctctc    392\n",
      "\n",
      "C37F5.1          132 agac--ttgat----------------------------gtgtacccga-    150\n",
      "                      |||  ||.||                            .||| |||.| \n",
      "FM864439         393 -gacagtttatcataattcatatgcggtttcgccttccgttgt-ccccac    440\n",
      "\n",
      "C37F5.1          151 -tcctcgacac--ctccgacctc-atca--------------tcc-----    177\n",
      "                      |.||||.|||  ||.|..|.|| ||||              |||     \n",
      "FM864439         441 tttctcgccacggcttctgcatcaatcagtcggaattcgccgtccgttcc    490\n",
      "\n",
      "C37F5.1          178 ----gtcgactcaatcataac-----------cctgtggcaattccttct    212\n",
      "                         |||.|.||.||.|||.|           |.|||.|| |.|..||||\n",
      "FM864439         491 gcgtgtccattcgattatatcaccattttggtcttgttgc-agtagttct    539\n",
      "\n",
      "C37F5.1          213 agaa-ctactgcaacaagaccaaaatggtgatataatcgaatggac----    257\n",
      "                     |||| ..|.|||.|||           |.|.|||.||.||.|.|||    \n",
      "FM864439         540 agaaggaattgccaca-----------gggttatgattgagtcgacggat    578\n",
      "\n",
      "C37F5.1          258 ----------------acgcggaacg------------------gacg--    271\n",
      "                                     .||.|||.||                  ||||  \n",
      "FM864439         579 gatgaggtcggaggtgtcgaggatcgggtacacatcaagtctgagacgtt    628\n",
      "\n",
      "C37F5.1          272 --------------------gcgaa------------------ttccgac    283\n",
      "                                         |||.|                  |||.|||\n",
      "FM864439         629 catctctttctctctaatttgcgcaattaaatctatctactccttcagac    678\n",
      "\n",
      "C37F5.1          284 tgattgatgcagaagccgtggcgag--------aaagtggggacaacgga    325\n",
      "                       ||||.|       |||||.|.||        .||.|     |.|||||\n",
      "FM864439         679 --attgtt-------ccgtgcccagcttcttccgaact-----ctacgga    714\n",
      "\n",
      "C37F5.1          326 ag---------gcgaaaccgcatatgaatt----atga------------    350\n",
      "                     .|         |    |||..|    ||||    ||||            \n",
      "FM864439         715 tgctcttttttg----acctaa----aattgtcaatgagattcattttcg    756\n",
      "\n",
      "C37F5.1          351 --taaactgtcgag----agcgttacgatat------tattatgagaaga    388\n",
      "                       |||.||||.|||    .|||.|..|||||      |.|..||.|.|  \n",
      "FM864439         757 tgtaatctgtagagggtccgcgctttgatatcctctctctactgcgta--    804\n",
      "\n",
      "C37F5.1          389 atatt--------------attaaga------------------------    400\n",
      "                       |||              |||.||.                        \n",
      "FM864439         805 --attcatcgttactactcattcagtcatggtcaatggtcaaantttttc    852\n",
      "\n",
      "C37F5.1          400 --------------------------------------------------    400\n",
      "                                                                       \n",
      "FM864439         853 ncccttcttatttcctnacttccttcttctccctcacttttctttctatc    902\n",
      "\n",
      "C37F5.1          400 --------------------------------------------------    400\n",
      "                                                                       \n",
      "FM864439         903 tatctattcatgattaaggagcaatttattcatagcctgatactctcctt    952\n",
      "\n",
      "C37F5.1          400 --------------------------------------------------    400\n",
      "                                                                       \n",
      "FM864439         953 ctcccttccttatcctcctattcctccttccttcttccctttcttcttca   1002\n",
      "\n",
      "C37F5.1          400 --------------------------------------------------    400\n",
      "                                                                       \n",
      "FM864439        1003 cttagttctcgttcccctacacactctgttctttccccgtgtgccgctgg   1052\n",
      "\n",
      "C37F5.1          400 --------------------------------------------------    400\n",
      "                                                                       \n",
      "FM864439        1053 ggctgttcccgctgtctgcttacgagttgtatggaccctttaacgtatct   1102\n",
      "\n",
      "C37F5.1          400 --------------------------------------------------    400\n",
      "                                                                       \n",
      "FM864439        1103 gtgttctgggcttcacgcgagagtacttctgctgtgttcgccgcacgtat   1152\n",
      "\n",
      "C37F5.1          400 --------------------------------------------------    400\n",
      "                                                                       \n",
      "FM864439        1153 taacggatatcggcggccatgtcttgctttattctttgctaattggactg   1202\n",
      "\n",
      "C37F5.1          400 --------------------------------------------------    400\n",
      "                                                                       \n",
      "FM864439        1203 ttgctgtgttactgactccactgtcgtcgtacagacttcgacaactcctg   1252\n",
      "\n",
      "C37F5.1          400 -------------------    400\n",
      "                                        \n",
      "FM864439        1253 ttatgccccatttacttgt   1271\n",
      "\n",
      "\n",
      "#---------------------------------------\n",
      "#---------------------------------------\n",
      "\n"
     ]
    }
   ],
   "source": [
    "request = requests.get(server+'result/'+jobid+'/'+outtype)\n",
    "\n",
    "print(request.text)"
   ]
  },
  {
   "cell_type": "markdown",
   "metadata": {},
   "source": [
    "And you are done!\n",
    "\n",
    "We will check out some more tutorials, based on the other alignment algorithms!"
   ]
  },
  {
   "cell_type": "markdown",
   "metadata": {},
   "source": [
    "#### EMBOSS Stretcher\n",
    "\n",
    "EMBOSS Stretcher uses a modification of the Needleman-Wunsch algorithm that allows larger sequences to be globally aligned."
   ]
  },
  {
   "cell_type": "code",
   "execution_count": 13,
   "metadata": {},
   "outputs": [],
   "source": [
    "server = 'https://www.ebi.ac.uk/Tools/services/rest/emboss_stretcher/'"
   ]
  },
  {
   "cell_type": "code",
   "execution_count": 14,
   "metadata": {},
   "outputs": [
    {
     "name": "stdout",
     "output_type": "stream",
     "text": [
      "<?xml version=\"1.0\" ?>\n",
      "<parameters>\n",
      "\t<id>matrix</id>\n",
      "\t<id>gapopen</id>\n",
      "\t<id>gapext</id>\n",
      "\t<id>format</id>\n",
      "\t<id>stype</id>\n",
      "\t<id>asequence</id>\n",
      "\t<id>bsequence</id>\n",
      "</parameters>\n",
      "\n"
     ]
    }
   ],
   "source": [
    "request = requests.get(server+'parameters')\n",
    "\n",
    "if not request.ok:\n",
    "  request.raise_for_status()\n",
    "  sys.exit() \n",
    "\n",
    "parameters = xml.dom.minidom.parseString(request.text)\n",
    "parameters = parameters.toprettyxml()\n",
    "\n",
    "print(parameters)"
   ]
  },
  {
   "cell_type": "code",
   "execution_count": 15,
   "metadata": {},
   "outputs": [],
   "source": [
    "parameter = 'gapopen'"
   ]
  },
  {
   "cell_type": "code",
   "execution_count": 16,
   "metadata": {},
   "outputs": [
    {
     "name": "stdout",
     "output_type": "stream",
     "text": [
      "<?xml version=\"1.0\" ?>\n",
      "<parameter>\n",
      "\t<name>Gap open</name>\n",
      "\t<description>Pairwise alignment score for the first residue in a gap.</description>\n",
      "\t<type>INTEGER</type>\n",
      "\t<values>\n",
      "\t\t<value>\n",
      "\t\t\t<label>1</label>\n",
      "\t\t\t<value>1</value>\n",
      "\t\t\t<defaultValue>false</defaultValue>\n",
      "\t\t</value>\n",
      "\t\t<value>\n",
      "\t\t\t<label>2</label>\n",
      "\t\t\t<value>2</value>\n",
      "\t\t\t<defaultValue>false</defaultValue>\n",
      "\t\t</value>\n",
      "\t\t<value>\n",
      "\t\t\t<label>3</label>\n",
      "\t\t\t<value>3</value>\n",
      "\t\t\t<defaultValue>false</defaultValue>\n",
      "\t\t</value>\n",
      "\t\t<value>\n",
      "\t\t\t<label>4</label>\n",
      "\t\t\t<value>4</value>\n",
      "\t\t\t<defaultValue>false</defaultValue>\n",
      "\t\t</value>\n",
      "\t\t<value>\n",
      "\t\t\t<label>5</label>\n",
      "\t\t\t<value>5</value>\n",
      "\t\t\t<defaultValue>false</defaultValue>\n",
      "\t\t</value>\n",
      "\t\t<value>\n",
      "\t\t\t<label>6</label>\n",
      "\t\t\t<value>6</value>\n",
      "\t\t\t<defaultValue>false</defaultValue>\n",
      "\t\t</value>\n",
      "\t\t<value>\n",
      "\t\t\t<label>7</label>\n",
      "\t\t\t<value>7</value>\n",
      "\t\t\t<defaultValue>false</defaultValue>\n",
      "\t\t</value>\n",
      "\t\t<value>\n",
      "\t\t\t<label>8</label>\n",
      "\t\t\t<value>8</value>\n",
      "\t\t\t<defaultValue>false</defaultValue>\n",
      "\t\t</value>\n",
      "\t\t<value>\n",
      "\t\t\t<label>9</label>\n",
      "\t\t\t<value>9</value>\n",
      "\t\t\t<defaultValue>false</defaultValue>\n",
      "\t\t</value>\n",
      "\t\t<value>\n",
      "\t\t\t<label>10</label>\n",
      "\t\t\t<value>10</value>\n",
      "\t\t\t<defaultValue>false</defaultValue>\n",
      "\t\t</value>\n",
      "\t\t<value>\n",
      "\t\t\t<label>11</label>\n",
      "\t\t\t<value>11</value>\n",
      "\t\t\t<defaultValue>false</defaultValue>\n",
      "\t\t</value>\n",
      "\t\t<value>\n",
      "\t\t\t<label>12</label>\n",
      "\t\t\t<value>12</value>\n",
      "\t\t\t<defaultValue>false</defaultValue>\n",
      "\t\t\t<properties>\n",
      "\t\t\t\t<property>\n",
      "\t\t\t\t\t<key>defaultValueContexts</key>\n",
      "\t\t\t\t\t<value>protein</value>\n",
      "\t\t\t\t</property>\n",
      "\t\t\t</properties>\n",
      "\t\t</value>\n",
      "\t\t<value>\n",
      "\t\t\t<label>13</label>\n",
      "\t\t\t<value>13</value>\n",
      "\t\t\t<defaultValue>false</defaultValue>\n",
      "\t\t</value>\n",
      "\t\t<value>\n",
      "\t\t\t<label>14</label>\n",
      "\t\t\t<value>14</value>\n",
      "\t\t\t<defaultValue>false</defaultValue>\n",
      "\t\t</value>\n",
      "\t\t<value>\n",
      "\t\t\t<label>15</label>\n",
      "\t\t\t<value>15</value>\n",
      "\t\t\t<defaultValue>false</defaultValue>\n",
      "\t\t</value>\n",
      "\t\t<value>\n",
      "\t\t\t<label>16</label>\n",
      "\t\t\t<value>16</value>\n",
      "\t\t\t<defaultValue>false</defaultValue>\n",
      "\t\t\t<properties>\n",
      "\t\t\t\t<property>\n",
      "\t\t\t\t\t<key>defaultValueContexts</key>\n",
      "\t\t\t\t\t<value>nucleotide</value>\n",
      "\t\t\t\t</property>\n",
      "\t\t\t</properties>\n",
      "\t\t</value>\n",
      "\t\t<value>\n",
      "\t\t\t<label>17</label>\n",
      "\t\t\t<value>17</value>\n",
      "\t\t\t<defaultValue>false</defaultValue>\n",
      "\t\t</value>\n",
      "\t\t<value>\n",
      "\t\t\t<label>18</label>\n",
      "\t\t\t<value>18</value>\n",
      "\t\t\t<defaultValue>false</defaultValue>\n",
      "\t\t</value>\n",
      "\t\t<value>\n",
      "\t\t\t<label>19</label>\n",
      "\t\t\t<value>19</value>\n",
      "\t\t\t<defaultValue>false</defaultValue>\n",
      "\t\t</value>\n",
      "\t\t<value>\n",
      "\t\t\t<label>20</label>\n",
      "\t\t\t<value>20</value>\n",
      "\t\t\t<defaultValue>false</defaultValue>\n",
      "\t\t</value>\n",
      "\t\t<value>\n",
      "\t\t\t<label>21</label>\n",
      "\t\t\t<value>21</value>\n",
      "\t\t\t<defaultValue>false</defaultValue>\n",
      "\t\t</value>\n",
      "\t\t<value>\n",
      "\t\t\t<label>25</label>\n",
      "\t\t\t<value>25</value>\n",
      "\t\t\t<defaultValue>false</defaultValue>\n",
      "\t\t</value>\n",
      "\t</values>\n",
      "</parameter>\n",
      "\n"
     ]
    }
   ],
   "source": [
    "request = requests.get(server+'parameterdetails/'+parameter)\n",
    "\n",
    "if not request.ok:\n",
    "  request.raise_for_status()\n",
    "  sys.exit() \n",
    "\n",
    "parameter_details = xml.dom.minidom.parseString(request.text)\n",
    "parameter_details = parameter_details.toprettyxml()\n",
    "\n",
    "print(parameter_details)"
   ]
  },
  {
   "cell_type": "code",
   "execution_count": 17,
   "metadata": {
    "scrolled": true
   },
   "outputs": [
    {
     "name": "stdout",
     "output_type": "stream",
     "text": [
      "emboss_stretcher-R20210630-222753-0838-30472598-p1m\n"
     ]
    }
   ],
   "source": [
    "request = requests.post(server+'run', \n",
    "                        headers={ \"Content-Type\" : \"application/x-www-form-urlencoded\", \"Accept\" : \"text/plain\"}, \n",
    "                        data={ \"email\" : \"hebbarprajna2000@gmail.com\", \"asequence\" : sequence1, \"bsequence\" : sequence2 })\n",
    "\n",
    "if not request.ok:\n",
    "  request.raise_for_status()\n",
    "  sys.exit() \n",
    "\n",
    "print(request.text)\n",
    "jobid = request.text"
   ]
  },
  {
   "cell_type": "code",
   "execution_count": 18,
   "metadata": {
    "scrolled": true
   },
   "outputs": [
    {
     "name": "stdout",
     "output_type": "stream",
     "text": [
      "FINISHED\n"
     ]
    }
   ],
   "source": [
    "request = requests.get(server+'status/'+jobid)\n",
    "print(request.text)"
   ]
  },
  {
   "cell_type": "code",
   "execution_count": 19,
   "metadata": {},
   "outputs": [
    {
     "name": "stdout",
     "output_type": "stream",
     "text": [
      "<?xml version=\"1.0\" ?>\n",
      "<types>\n",
      "\t<type>\n",
      "\t\t<description>The output from the tool itself</description>\n",
      "\t\t<fileSuffix>txt</fileSuffix>\n",
      "\t\t<identifier>out</identifier>\n",
      "\t\t<label>Tool Output</label>\n",
      "\t\t<mediaType>text/plain</mediaType>\n",
      "\t</type>\n",
      "\t<type>\n",
      "\t\t<description>The first input sequence as seen by the tool</description>\n",
      "\t\t<fileSuffix>txt</fileSuffix>\n",
      "\t\t<identifier>asequence</identifier>\n",
      "\t\t<label>First Input Sequence</label>\n",
      "\t\t<mediaType>text/plain</mediaType>\n",
      "\t</type>\n",
      "\t<type>\n",
      "\t\t<description>The second input sequence as seen by the tool</description>\n",
      "\t\t<fileSuffix>txt</fileSuffix>\n",
      "\t\t<identifier>bsequence</identifier>\n",
      "\t\t<label>Second Input Sequence</label>\n",
      "\t\t<mediaType>text/plain</mediaType>\n",
      "\t</type>\n",
      "\t<type>\n",
      "\t\t<description>The pairwise alignment as returned by the tool</description>\n",
      "\t\t<fileSuffix>txt</fileSuffix>\n",
      "\t\t<identifier>aln</identifier>\n",
      "\t\t<label>Pairwise Alignment</label>\n",
      "\t\t<mediaType>text/plain</mediaType>\n",
      "\t</type>\n",
      "\t<type>\n",
      "\t\t<description>The submission details which was submitted as a job</description>\n",
      "\t\t<fileSuffix>params</fileSuffix>\n",
      "\t\t<identifier>submission</identifier>\n",
      "\t\t<label>Submission Details</label>\n",
      "\t\t<mediaType>application/xml</mediaType>\n",
      "\t</type>\n",
      "</types>\n",
      "\n"
     ]
    }
   ],
   "source": [
    "request = requests.get(server+'resulttypes/'+jobid)\n",
    "\n",
    "resulttypes = xml.dom.minidom.parseString(request.text)\n",
    "resulttypes = resulttypes.toprettyxml()\n",
    "\n",
    "print(resulttypes)"
   ]
  },
  {
   "cell_type": "code",
   "execution_count": 20,
   "metadata": {},
   "outputs": [],
   "source": [
    "outtype = 'out' #Can be any of the identifiers mentioned in the previous output"
   ]
  },
  {
   "cell_type": "code",
   "execution_count": 21,
   "metadata": {
    "scrolled": true
   },
   "outputs": [
    {
     "name": "stdout",
     "output_type": "stream",
     "text": [
      "########################################\n",
      "# Program: stretcher\n",
      "# Rundate: Wed 30 Jun 2021 22:20:55\n",
      "# Commandline: stretcher\n",
      "#    -auto\n",
      "#    -stdout\n",
      "#    -asequence emboss_stretcher-R20210630-222753-0838-30472598-p1m.asequence\n",
      "#    -bsequence emboss_stretcher-R20210630-222753-0838-30472598-p1m.bsequence\n",
      "# Align_format: markx0\n",
      "# Report_file: stdout\n",
      "########################################\n",
      "\n",
      "#=======================================\n",
      "#\n",
      "# Aligned_sequences: 2\n",
      "# 1: C37F5.1\n",
      "# 2: FM864439\n",
      "# Matrix: EDNAFULL\n",
      "# Gap_penalty: 16\n",
      "# Extend_penalty: 4\n",
      "#\n",
      "# Length: 1273\n",
      "# Identity:     298/1273 (23.4%)\n",
      "# Similarity:   298/1273 (23.4%)\n",
      "# Gaps:         875/1273 (68.7%)\n",
      "# Score: -3046\n",
      "# \n",
      "#\n",
      "#=======================================\n",
      "\n",
      "                                                     10  \n",
      "C37F5. -----------------ATGA-----AT----------------CACA--\n",
      "                        ::::     ::                ::::  \n",
      "FM8644 TGGCATTTCTACGGGTGATGAGGTGGATGGAGTCGCCGAGGAGGCACACT\n",
      "               10        20        30        40        50\n",
      "\n",
      "                                20                       \n",
      "C37F5. --TTGAC---------------CTTTTGAA---GGT--------------\n",
      "         :::::               :: ::: :   :::              \n",
      "FM8644 GCTTGACGGGGAGCCACACTATCTGTTGGACTTGGTGTGCTGACACTGTG\n",
      "               60        70        80        90       100\n",
      "\n",
      "                             30             40           \n",
      "C37F5. --------------------CAAAAA-----AGAGCCGC-----------\n",
      "                           ::: ::     :: ::::            \n",
      "FM8644 CGTCGTCGGTGAATCCGTCCCAAGAAGGCTCAGCGCCGAGAAATCCGTGT\n",
      "              110       120       130       140       150\n",
      "\n",
      "                    50             60                    \n",
      "C37F5. -----CGTCGAGTTCG-----GAAGAAGCCGAGGAAG----------AA-\n",
      "            ::: :: :: :     :  :: :: : ::  :          :: \n",
      "FM8644 TGCCACGTGGATTTTGAGGTGGTGGAGGCGGCGGCGGCGGTGCTTGTAAT\n",
      "              160       170       180       190       200\n",
      "\n",
      "                      70            80                   \n",
      "C37F5. ----------------GAATCTC----CGAA-----------------AC\n",
      "                       :::::::    ::::                 ::\n",
      "FM8644 GACGTCATAAACGACGGAATCTCGTGTCGAATGTCCTTCTCGTCTTTGAC\n",
      "              210       220       230       240       250\n",
      "\n",
      "                              90       100               \n",
      "C37F5. ATACGA-----------------TTGAGGGAATTTTGG------------\n",
      "       :::  :                 :::::: ::  : ::            \n",
      "FM8644 ATAACACATCTTCATGTTCATATTTGAGGAAAAGTCGGCGGTCGGCGGAG\n",
      "              260       270       280       290       300\n",
      "\n",
      "                                    110                  \n",
      "C37F5. -------------------------ATATAAGAA----------------\n",
      "                                ::::: :::                \n",
      "FM8644 CGTGGGCGTCAGTAGTTACAAAGCGATATACGAACTTTTTGCCGATCACC\n",
      "              310       320       330       340       350\n",
      "\n",
      "                                120                      \n",
      "C37F5. --------------------AGAAAGAGATG--AACG------------T\n",
      "                           : ::  : ::   ::::            :\n",
      "FM8644 TTCTTAATAATATTCTTCTCATAATAATATCGTAACGCTCTCGACAGTTT\n",
      "              360       370       380       390       400\n",
      "\n",
      "      130       140           150                        \n",
      "C37F5. CTCAGACTTGATGTG----TACCCGATCC---------------TCGACA\n",
      "        ::: : :: :: ::    : : :  :::               ::: ::\n",
      "FM8644 ATCATAATTCATATGCGGTTTCGCCTTCCGTTGTCCCCACTTTCTCGCCA\n",
      "              410       420       430       440       450\n",
      "\n",
      "     160         170                               180   \n",
      "C37F5. C--CTCCGACCTCA-TCA--------------TCCGT---------CGAC\n",
      "       :  :: :  : ::: :::              :::::         : : \n",
      "FM8644 CGGCTTCTGCATCAATCAGTCGGAATTCGCCGTCCGTTCCGCGTGTCCAT\n",
      "              460       470       480       490       500\n",
      "\n",
      "           190                  200       210            \n",
      "C37F5. TCAATCATAACCC-----------TGTGGCAATTCCTTCTAGAA------\n",
      "       :: :: ::: : :           ::: ::: :   ::::::::      \n",
      "FM8644 TCGATTATATCACCATTTTGGTCTTGTTGCAGTAG-TTCTAGAAGGAATT\n",
      "              510       520       530        540         \n",
      "\n",
      "         220                                             \n",
      "C37F5. -CTACTG-------------------------------------------\n",
      "        : :: :                                           \n",
      "FM8644 GCCACAGGGTTATGATTGAGTCGACGGATGATGAGGTCGGAGGTGTCGAG\n",
      "     550       560       570       580       590         \n",
      "\n",
      "                       230       240                     \n",
      "C37F5. -----------CAACAAGACCAAAATGGTGATAT----------------\n",
      "                  :: :::: :  : : : : :: :                \n",
      "FM8644 GATCGGGTACACATCAAGTCTGAGACGTTCATCTCTTTCTCTCTAATTTG\n",
      "     600       610       620       630       640         \n",
      "\n",
      "            250                           260            \n",
      "C37F5. ---AATCGAATG--------------GACA------CGCG----------\n",
      "          :::  :::               ::::      :: :          \n",
      "FM8644 CGCAATTAAATCTATCTACTCCTTCAGACATTGTTCCGTGCCCAGCTTCT\n",
      "     650       660       670       680       690         \n",
      "\n",
      "                                                         \n",
      "C37F5. ---GAAC-------------------------------------------\n",
      "          ::::                                           \n",
      "FM8644 TCCGAACTCTACGGATGCTCTTTTTTGACCTAAAATTGTCAATGAGATTC\n",
      "     700       710       720       730       740         \n",
      "\n",
      "                             270                         \n",
      "C37F5. ---------------------GGACGGCG---------------------\n",
      "                            :: : :::                     \n",
      "FM8644 ATTTTCGTGTAATCTGTAGAGGGTCCGCGCTTTGATATCCTCTCTCTACT\n",
      "     750       760       770       780       790         \n",
      "\n",
      "                     280                                 \n",
      "C37F5. ----AATTC-------CGACTGATT-------------------------\n",
      "           :::::       : ::: :::                         \n",
      "FM8644 GCGTAATTCATCGTTACTACTCATTCAGTCATGGTCAATGGTCAAANTTT\n",
      "     800       810       820       830       840         \n",
      "\n",
      "                                                         \n",
      "C37F5. --------------------------------------------------\n",
      "                                                         \n",
      "FM8644 TTCNCCCTTCTTATTTCCTNACTTCCTTCTTCTCCCTCACTTTTCTTTCT\n",
      "     850       860       870       880       890         \n",
      "\n",
      "                    290               300       310      \n",
      "C37F5. --------------GATGCAGAAGC--------CGTGGCGAGAAA-----\n",
      "                     :::  :: :::        : : ::  :: :     \n",
      "FM8644 ATCTATCTATTCATGATTAAGGAGCAATTTATTCATAGCCTGATACTCTC\n",
      "     900       910       920       930       940         \n",
      "\n",
      "                                                         \n",
      "C37F5. --------------------------------------------------\n",
      "                                                         \n",
      "FM8644 CTTCTCCCTTCCTTATCCTCCTATTCCTCCTTCCTTCTTCCCTTTCTTCT\n",
      "     950       960       970       980       990         \n",
      "\n",
      "                                                         \n",
      "C37F5. --------------------------------------------------\n",
      "                                                         \n",
      "FM8644 TCACTTAGTTCTCGTTCCCCTACACACTCTGTTCTTTCCCCGTGTGCCGC\n",
      "    1000      1010      1020      1030      1040         \n",
      "\n",
      "                                                 320     \n",
      "C37F5. -------------------------------GTGGGGAC-----AACGGA\n",
      "                                      ::  ::::     :::: :\n",
      "FM8644 TGGGGCTGTTCCCGCTGTCTGCTTACGAGTTGTATGGACCCTTTAACGTA\n",
      "    1050      1060      1070      1080      1090         \n",
      "\n",
      "                          330                            \n",
      "C37F5. -----------------AGGCGAAA------------------CCGCA--\n",
      "                        : :::: :                  :::::  \n",
      "FM8644 TCTGTGTTCTGGGCTTCACGCGAGAGTACTTCTGCTGTGTTCGCCGCACG\n",
      "    1100      1110      1120      1130      1140         \n",
      "\n",
      "      340                                     350        \n",
      "C37F5. TATGAA-------------------------TTAT-----GATAA----A\n",
      "       ::: ::                         ::::     : :::    :\n",
      "FM8644 TATTAACGGATATCGGCGGCCATGTCTTGCTTTATTCTTTGCTAATTGGA\n",
      "    1150      1160      1170      1180      1190         \n",
      "\n",
      "          360       370        380                       \n",
      "C37F5. CTGTCGAGAGCGTTAC-GATATTATTATG-------AGA-----AGAA--\n",
      "       :::: :   : ::::: ::    : : :        :::     : ::  \n",
      "FM8644 CTGTTGCT-GTGTTACTGACTCCACTGTCGTCGTACAGACTTCGACAACT\n",
      "    1200       1210      1220      1230      1240        \n",
      "\n",
      "       390                 400\n",
      "C37F5. --TATTAT-------TAA---GA\n",
      "         : ::::       : :   : \n",
      "FM8644 CCTGTTATGCCCCATTTACTTGT\n",
      "     1250      1260      1270 \n",
      "\n",
      "\n",
      "#---------------------------------------\n",
      "#---------------------------------------\n",
      "\n"
     ]
    }
   ],
   "source": [
    "request = requests.get(server+'result/'+jobid+'/'+outtype)\n",
    "\n",
    "print(request.text)"
   ]
  },
  {
   "cell_type": "markdown",
   "metadata": {},
   "source": [
    "### Local Alignment"
   ]
  },
  {
   "cell_type": "markdown",
   "metadata": {},
   "source": [
    "#### EMBOSS Water\n",
    "\n",
    "EMBOSS Water uses the Smith-Waterman algorithm (modified for speed enhancements) to calculate the local alignment of two sequences."
   ]
  },
  {
   "cell_type": "code",
   "execution_count": 22,
   "metadata": {},
   "outputs": [],
   "source": [
    "server = 'https://www.ebi.ac.uk/Tools/services/rest/emboss_water/'"
   ]
  },
  {
   "cell_type": "code",
   "execution_count": 23,
   "metadata": {},
   "outputs": [
    {
     "name": "stdout",
     "output_type": "stream",
     "text": [
      "<?xml version=\"1.0\" ?>\n",
      "<parameters>\n",
      "\t<id>matrix</id>\n",
      "\t<id>gapopen</id>\n",
      "\t<id>gapext</id>\n",
      "\t<id>format</id>\n",
      "\t<id>stype</id>\n",
      "\t<id>asequence</id>\n",
      "\t<id>bsequence</id>\n",
      "</parameters>\n",
      "\n"
     ]
    }
   ],
   "source": [
    "request = requests.get(server+'parameters')\n",
    "\n",
    "if not request.ok:\n",
    "  request.raise_for_status()\n",
    "  sys.exit() \n",
    "\n",
    "parameters = xml.dom.minidom.parseString(request.text)\n",
    "parameters = parameters.toprettyxml()\n",
    "\n",
    "print(parameters)"
   ]
  },
  {
   "cell_type": "code",
   "execution_count": 24,
   "metadata": {},
   "outputs": [],
   "source": [
    "parameter = 'gapopen'"
   ]
  },
  {
   "cell_type": "code",
   "execution_count": 25,
   "metadata": {},
   "outputs": [
    {
     "name": "stdout",
     "output_type": "stream",
     "text": [
      "<?xml version=\"1.0\" ?>\n",
      "<parameter>\n",
      "\t<name>Gap open</name>\n",
      "\t<description>Pairwise alignment score for the first residue in a gap.</description>\n",
      "\t<type>FLOAT</type>\n",
      "\t<values>\n",
      "\t\t<value>\n",
      "\t\t\t<label>100</label>\n",
      "\t\t\t<value>100</value>\n",
      "\t\t\t<defaultValue>false</defaultValue>\n",
      "\t\t</value>\n",
      "\t\t<value>\n",
      "\t\t\t<label>50</label>\n",
      "\t\t\t<value>50</value>\n",
      "\t\t\t<defaultValue>false</defaultValue>\n",
      "\t\t</value>\n",
      "\t\t<value>\n",
      "\t\t\t<label>25</label>\n",
      "\t\t\t<value>25</value>\n",
      "\t\t\t<defaultValue>false</defaultValue>\n",
      "\t\t</value>\n",
      "\t\t<value>\n",
      "\t\t\t<label>20</label>\n",
      "\t\t\t<value>20</value>\n",
      "\t\t\t<defaultValue>false</defaultValue>\n",
      "\t\t</value>\n",
      "\t\t<value>\n",
      "\t\t\t<label>15</label>\n",
      "\t\t\t<value>15</value>\n",
      "\t\t\t<defaultValue>false</defaultValue>\n",
      "\t\t</value>\n",
      "\t\t<value>\n",
      "\t\t\t<label>10</label>\n",
      "\t\t\t<value>10</value>\n",
      "\t\t\t<defaultValue>true</defaultValue>\n",
      "\t\t</value>\n",
      "\t\t<value>\n",
      "\t\t\t<label>5</label>\n",
      "\t\t\t<value>5</value>\n",
      "\t\t\t<defaultValue>false</defaultValue>\n",
      "\t\t</value>\n",
      "\t\t<value>\n",
      "\t\t\t<label>1</label>\n",
      "\t\t\t<value>1</value>\n",
      "\t\t\t<defaultValue>false</defaultValue>\n",
      "\t\t</value>\n",
      "\t</values>\n",
      "</parameter>\n",
      "\n"
     ]
    }
   ],
   "source": [
    "request = requests.get(server+'parameterdetails/'+parameter)\n",
    "\n",
    "if not request.ok:\n",
    "  request.raise_for_status()\n",
    "  sys.exit() \n",
    "\n",
    "parameter_details = xml.dom.minidom.parseString(request.text)\n",
    "parameter_details = parameter_details.toprettyxml()\n",
    "\n",
    "print(parameter_details)"
   ]
  },
  {
   "cell_type": "code",
   "execution_count": 26,
   "metadata": {
    "scrolled": true
   },
   "outputs": [
    {
     "name": "stdout",
     "output_type": "stream",
     "text": [
      "emboss_water-R20210630-222810-0411-64808521-p2m\n"
     ]
    }
   ],
   "source": [
    "request = requests.post(server+'run', \n",
    "                        headers={ \"Content-Type\" : \"application/x-www-form-urlencoded\", \"Accept\" : \"text/plain\"}, \n",
    "                        data={ \"email\" : \"hebbarprajna2000@gmail.com\", \"asequence\" : sequence1, \"bsequence\" : sequence2 })\n",
    "\n",
    "if not request.ok:\n",
    "  request.raise_for_status()\n",
    "  sys.exit() \n",
    "\n",
    "print(request.text)\n",
    "jobid = request.text"
   ]
  },
  {
   "cell_type": "code",
   "execution_count": 27,
   "metadata": {},
   "outputs": [
    {
     "name": "stdout",
     "output_type": "stream",
     "text": [
      "RUNNING\n"
     ]
    }
   ],
   "source": [
    "request = requests.get(server+'status/'+jobid)\n",
    "print(request.text)"
   ]
  },
  {
   "cell_type": "code",
   "execution_count": 28,
   "metadata": {},
   "outputs": [
    {
     "name": "stdout",
     "output_type": "stream",
     "text": [
      "<?xml version=\"1.0\" ?>\n",
      "<types>\n",
      "\t<type>\n",
      "\t\t<description>The output from the tool itself</description>\n",
      "\t\t<fileSuffix>txt</fileSuffix>\n",
      "\t\t<identifier>out</identifier>\n",
      "\t\t<label>Tool Output</label>\n",
      "\t\t<mediaType>text/plain</mediaType>\n",
      "\t</type>\n",
      "\t<type>\n",
      "\t\t<description>The first input sequence as seen by the tool</description>\n",
      "\t\t<fileSuffix>txt</fileSuffix>\n",
      "\t\t<identifier>asequence</identifier>\n",
      "\t\t<label>First Input Sequence</label>\n",
      "\t\t<mediaType>text/plain</mediaType>\n",
      "\t</type>\n",
      "\t<type>\n",
      "\t\t<description>The second input sequence as seen by the tool</description>\n",
      "\t\t<fileSuffix>txt</fileSuffix>\n",
      "\t\t<identifier>bsequence</identifier>\n",
      "\t\t<label>Second Input Sequence</label>\n",
      "\t\t<mediaType>text/plain</mediaType>\n",
      "\t</type>\n",
      "\t<type>\n",
      "\t\t<description>The pairwise alignment as returned by the tool</description>\n",
      "\t\t<fileSuffix>txt</fileSuffix>\n",
      "\t\t<identifier>aln</identifier>\n",
      "\t\t<label>Pairwise Alignment</label>\n",
      "\t\t<mediaType>text/plain</mediaType>\n",
      "\t</type>\n",
      "\t<type>\n",
      "\t\t<description>The submission details which was submitted as a job</description>\n",
      "\t\t<fileSuffix>params</fileSuffix>\n",
      "\t\t<identifier>submission</identifier>\n",
      "\t\t<label>Submission Details</label>\n",
      "\t\t<mediaType>application/xml</mediaType>\n",
      "\t</type>\n",
      "</types>\n",
      "\n"
     ]
    }
   ],
   "source": [
    "request = requests.get(server+'resulttypes/'+jobid)\n",
    "\n",
    "resulttypes = xml.dom.minidom.parseString(request.text)\n",
    "resulttypes = resulttypes.toprettyxml()\n",
    "\n",
    "print(resulttypes)"
   ]
  },
  {
   "cell_type": "code",
   "execution_count": 29,
   "metadata": {},
   "outputs": [],
   "source": [
    "outtype = 'out' #Can be any of the identifiers mentioned in the previous output"
   ]
  },
  {
   "cell_type": "code",
   "execution_count": 30,
   "metadata": {
    "scrolled": true
   },
   "outputs": [
    {
     "name": "stdout",
     "output_type": "stream",
     "text": [
      "########################################\n",
      "# Program: water\n",
      "# Rundate: Wed 30 Jun 2021 22:28:11\n",
      "# Commandline: water\n",
      "#    -auto\n",
      "#    -stdout\n",
      "#    -asequence emboss_water-R20210630-222810-0411-64808521-p2m.asequence\n",
      "#    -bsequence emboss_water-R20210630-222810-0411-64808521-p2m.bsequence\n",
      "# Align_format: srspair\n",
      "# Report_file: stdout\n",
      "########################################\n",
      "\n",
      "#=======================================\n",
      "#\n",
      "# Aligned_sequences: 2\n",
      "# 1: C37F5.1\n",
      "# 2: FM864439\n",
      "# Matrix: EDNAFULL\n",
      "# Gap_penalty: 10.0\n",
      "# Extend_penalty: 0.5\n",
      "#\n",
      "# Length: 837\n",
      "# Identity:     273/837 (32.6%)\n",
      "# Similarity:   273/837 (32.6%)\n",
      "# Gaps:         486/837 (58.1%)\n",
      "# Score: 363.5\n",
      "# \n",
      "#\n",
      "#=======================================\n",
      "\n",
      "C37F5.1            1 atgaatcaca----ttgac---------------cttttgaa---ggtca     28\n",
      "                     |.||..||||    |||||               ||.|||.|   |||  \n",
      "FM864439          39 aggaggcacactgcttgacggggagccacactatctgttggacttggt--     86\n",
      "\n",
      "C37F5.1           29 aaaaagagc----------cgccgtcgagt-------tcggaagaa----     57\n",
      "                          |.||          ||.||||| ||       ||..|||||    \n",
      "FM864439          87 -----gtgctgacactgtgcgtcgtcg-gtgaatccgtcccaagaaggct    130\n",
      "\n",
      "C37F5.1           58 ----gccgaggaa-------------------------------------     66\n",
      "                         ||||||.||                                     \n",
      "FM864439         131 cagcgccgagaaatccgtgttgccacgtggattttgaggtggtggaggcg    180\n",
      "\n",
      "C37F5.1           67 --------------------------------ga-agaatctc----cga     79\n",
      "                                                     || .|||||||    |||\n",
      "FM864439         181 gcggcggcggtgcttgtaatgacgtcataaacgacggaatctcgtgtcga    230\n",
      "\n",
      "C37F5.1           80 a-----------------acatacga-----------------ttgaggg     95\n",
      "                     |                 |||||..|                 ||||||.\n",
      "FM864439         231 atgtccttctcgtctttgacataacacatcttcatgttcatatttgagga    280\n",
      "\n",
      "C37F5.1           96 aattttg-------------------------------------gatata    108\n",
      "                     ||..|.|                                     ||||||\n",
      "FM864439         281 aaagtcggcggtcggcggagcgtgggcgtcagtagttacaaagcgatata    330\n",
      "\n",
      "C37F5.1          109 agaa------------------------------------agaaagagat    122\n",
      "                     .|||                                    |.||..|.||\n",
      "FM864439         331 cgaactttttgccgatcaccttcttaataatattcttctcataataatat    380\n",
      "\n",
      "C37F5.1          123 --gaacg-tctcagac------------ttgat-----------------    140\n",
      "                       .|||| |||| |||            ||.||                 \n",
      "FM864439         381 cgtaacgctctc-gacagtttatcataattcatatgcggtttcgccttcc    429\n",
      "\n",
      "C37F5.1          141 -gtgtacccga--tcctcgacac--ctccgacctc-atca----------    174\n",
      "                      .||| |||.|  |.||||.|||  ||.|..|.|| ||||          \n",
      "FM864439         430 gttgt-ccccactttctcgccacggcttctgcatcaatcagtcggaattc    478\n",
      "\n",
      "C37F5.1          175 ---------tcc----gtcgactcaatcataac-----------cctgtg    200\n",
      "                              |||    |||.|.||.||.|||.|           |.|||.\n",
      "FM864439         479 gccgtccgttccgcgtgtccattcgattatatcaccattttggtcttgtt    528\n",
      "\n",
      "C37F5.1          201 gcaattccttctagaa-ctactgcaacaagaccaaaatggtgatataatc    249\n",
      "                     || |.|..|||||||| ..|.|||.|||           |.|.|||.||.\n",
      "FM864439         529 gc-agtagttctagaaggaattgccaca-----------gggttatgatt    566\n",
      "\n",
      "C37F5.1          250 gaatggac--------------------acgcggaacg------------    267\n",
      "                     ||.|.|||                    .||.|||.||            \n",
      "FM864439         567 gagtcgacggatgatgaggtcggaggtgtcgaggatcgggtacacatcaa    616\n",
      "\n",
      "C37F5.1          268 ------gacg----------------------gcgaa-------------    276\n",
      "                           ||||                      |||.|             \n",
      "FM864439         617 gtctgagacgttcatctctttctctctaatttgcgcaattaaatctatct    666\n",
      "\n",
      "C37F5.1          277 -----ttccgactgattgatgcagaagccgtggcgag--------aaagt    313\n",
      "                          |||.|||  ||||.|       |||||.|.||        .||.|\n",
      "FM864439         667 actccttcagac--attgtt-------ccgtgcccagcttcttccgaact    707\n",
      "\n",
      "C37F5.1          314 ggggacaacggaag---------gcgaaaccgcatatgaatt----atga    350\n",
      "                          |.|||||.|         |    |||..|    ||||    ||||\n",
      "FM864439         708 -----ctacggatgctcttttttg----acctaa----aattgtcaatga    744\n",
      "\n",
      "C37F5.1          351 --------------taaactgtcgag----agcgttacgatat------t    376\n",
      "                                   |||.||||.|||    .|||.|..|||||      |\n",
      "FM864439         745 gattcattttcgtgtaatctgtagagggtccgcgctttgatatcctctct    794\n",
      "\n",
      "C37F5.1          377 attatgagaagaatatt--------------attaag    399\n",
      "                     .|..||.|.|    |||              |||.||\n",
      "FM864439         795 ctactgcgta----attcatcgttactactcattcag    827\n",
      "\n",
      "\n",
      "#---------------------------------------\n",
      "#---------------------------------------\n",
      "\n"
     ]
    }
   ],
   "source": [
    "request = requests.get('https://www.ebi.ac.uk/Tools/services/rest/emboss_water/result/'+jobid+'/'+outtype)\n",
    "\n",
    "print(request.text)"
   ]
  },
  {
   "cell_type": "markdown",
   "metadata": {},
   "source": [
    "#### EMBOSS Matcher\n",
    "\n",
    "EMBOSS Matcher identifies local similarities between two sequences using a rigorous algorithm based on the LALIGN application."
   ]
  },
  {
   "cell_type": "code",
   "execution_count": 31,
   "metadata": {},
   "outputs": [],
   "source": [
    "server = 'https://www.ebi.ac.uk/Tools/services/rest/emboss_matcher/'"
   ]
  },
  {
   "cell_type": "code",
   "execution_count": 32,
   "metadata": {},
   "outputs": [
    {
     "name": "stdout",
     "output_type": "stream",
     "text": [
      "<?xml version=\"1.0\" ?>\n",
      "<parameters>\n",
      "\t<id>matrix</id>\n",
      "\t<id>gapopen</id>\n",
      "\t<id>gapext</id>\n",
      "\t<id>alternatives</id>\n",
      "\t<id>format</id>\n",
      "\t<id>stype</id>\n",
      "\t<id>asequence</id>\n",
      "\t<id>bsequence</id>\n",
      "</parameters>\n",
      "\n"
     ]
    }
   ],
   "source": [
    "request = requests.get(server+'parameters')\n",
    "\n",
    "if not request.ok:\n",
    "  request.raise_for_status()\n",
    "  sys.exit() \n",
    "\n",
    "parameters = xml.dom.minidom.parseString(request.text)\n",
    "parameters = parameters.toprettyxml()\n",
    "\n",
    "print(parameters)"
   ]
  },
  {
   "cell_type": "code",
   "execution_count": 33,
   "metadata": {},
   "outputs": [],
   "source": [
    "parameter = 'gapopen'"
   ]
  },
  {
   "cell_type": "code",
   "execution_count": 34,
   "metadata": {},
   "outputs": [
    {
     "name": "stdout",
     "output_type": "stream",
     "text": [
      "<?xml version=\"1.0\" ?>\n",
      "<parameter>\n",
      "\t<name>Gap open</name>\n",
      "\t<description>Pairwise alignment score for the first residue in a gap.</description>\n",
      "\t<type>INTEGER</type>\n",
      "\t<values>\n",
      "\t\t<value>\n",
      "\t\t\t<label>1</label>\n",
      "\t\t\t<value>1</value>\n",
      "\t\t\t<defaultValue>false</defaultValue>\n",
      "\t\t</value>\n",
      "\t\t<value>\n",
      "\t\t\t<label>2</label>\n",
      "\t\t\t<value>2</value>\n",
      "\t\t\t<defaultValue>false</defaultValue>\n",
      "\t\t</value>\n",
      "\t\t<value>\n",
      "\t\t\t<label>3</label>\n",
      "\t\t\t<value>3</value>\n",
      "\t\t\t<defaultValue>false</defaultValue>\n",
      "\t\t</value>\n",
      "\t\t<value>\n",
      "\t\t\t<label>4</label>\n",
      "\t\t\t<value>4</value>\n",
      "\t\t\t<defaultValue>false</defaultValue>\n",
      "\t\t</value>\n",
      "\t\t<value>\n",
      "\t\t\t<label>5</label>\n",
      "\t\t\t<value>5</value>\n",
      "\t\t\t<defaultValue>false</defaultValue>\n",
      "\t\t</value>\n",
      "\t\t<value>\n",
      "\t\t\t<label>6</label>\n",
      "\t\t\t<value>6</value>\n",
      "\t\t\t<defaultValue>false</defaultValue>\n",
      "\t\t</value>\n",
      "\t\t<value>\n",
      "\t\t\t<label>7</label>\n",
      "\t\t\t<value>7</value>\n",
      "\t\t\t<defaultValue>false</defaultValue>\n",
      "\t\t</value>\n",
      "\t\t<value>\n",
      "\t\t\t<label>8</label>\n",
      "\t\t\t<value>8</value>\n",
      "\t\t\t<defaultValue>false</defaultValue>\n",
      "\t\t</value>\n",
      "\t\t<value>\n",
      "\t\t\t<label>9</label>\n",
      "\t\t\t<value>9</value>\n",
      "\t\t\t<defaultValue>false</defaultValue>\n",
      "\t\t</value>\n",
      "\t\t<value>\n",
      "\t\t\t<label>10</label>\n",
      "\t\t\t<value>10</value>\n",
      "\t\t\t<defaultValue>false</defaultValue>\n",
      "\t\t</value>\n",
      "\t\t<value>\n",
      "\t\t\t<label>11</label>\n",
      "\t\t\t<value>11</value>\n",
      "\t\t\t<defaultValue>false</defaultValue>\n",
      "\t\t</value>\n",
      "\t\t<value>\n",
      "\t\t\t<label>12</label>\n",
      "\t\t\t<value>12</value>\n",
      "\t\t\t<defaultValue>false</defaultValue>\n",
      "\t\t</value>\n",
      "\t\t<value>\n",
      "\t\t\t<label>13</label>\n",
      "\t\t\t<value>13</value>\n",
      "\t\t\t<defaultValue>false</defaultValue>\n",
      "\t\t</value>\n",
      "\t\t<value>\n",
      "\t\t\t<label>14</label>\n",
      "\t\t\t<value>14</value>\n",
      "\t\t\t<defaultValue>false</defaultValue>\n",
      "\t\t\t<properties>\n",
      "\t\t\t\t<property>\n",
      "\t\t\t\t\t<key>defaultValueContexts</key>\n",
      "\t\t\t\t\t<value>protein</value>\n",
      "\t\t\t\t</property>\n",
      "\t\t\t</properties>\n",
      "\t\t</value>\n",
      "\t\t<value>\n",
      "\t\t\t<label>15</label>\n",
      "\t\t\t<value>15</value>\n",
      "\t\t\t<defaultValue>false</defaultValue>\n",
      "\t\t</value>\n",
      "\t\t<value>\n",
      "\t\t\t<label>16</label>\n",
      "\t\t\t<value>16</value>\n",
      "\t\t\t<defaultValue>false</defaultValue>\n",
      "\t\t\t<properties>\n",
      "\t\t\t\t<property>\n",
      "\t\t\t\t\t<key>defaultValueContexts</key>\n",
      "\t\t\t\t\t<value>nucleotide</value>\n",
      "\t\t\t\t</property>\n",
      "\t\t\t</properties>\n",
      "\t\t</value>\n",
      "\t\t<value>\n",
      "\t\t\t<label>17</label>\n",
      "\t\t\t<value>17</value>\n",
      "\t\t\t<defaultValue>false</defaultValue>\n",
      "\t\t</value>\n",
      "\t\t<value>\n",
      "\t\t\t<label>18</label>\n",
      "\t\t\t<value>18</value>\n",
      "\t\t\t<defaultValue>false</defaultValue>\n",
      "\t\t</value>\n",
      "\t\t<value>\n",
      "\t\t\t<label>19</label>\n",
      "\t\t\t<value>19</value>\n",
      "\t\t\t<defaultValue>false</defaultValue>\n",
      "\t\t</value>\n",
      "\t\t<value>\n",
      "\t\t\t<label>20</label>\n",
      "\t\t\t<value>20</value>\n",
      "\t\t\t<defaultValue>false</defaultValue>\n",
      "\t\t</value>\n",
      "\t\t<value>\n",
      "\t\t\t<label>21</label>\n",
      "\t\t\t<value>21</value>\n",
      "\t\t\t<defaultValue>false</defaultValue>\n",
      "\t\t</value>\n",
      "\t\t<value>\n",
      "\t\t\t<label>25</label>\n",
      "\t\t\t<value>25</value>\n",
      "\t\t\t<defaultValue>false</defaultValue>\n",
      "\t\t</value>\n",
      "\t</values>\n",
      "</parameter>\n",
      "\n"
     ]
    }
   ],
   "source": [
    "request = requests.get(server+'parameterdetails/'+parameter)\n",
    "\n",
    "if not request.ok:\n",
    "  request.raise_for_status()\n",
    "  sys.exit() \n",
    "\n",
    "parameter_details = xml.dom.minidom.parseString(request.text)\n",
    "parameter_details = parameter_details.toprettyxml()\n",
    "\n",
    "print(parameter_details)"
   ]
  },
  {
   "cell_type": "code",
   "execution_count": 35,
   "metadata": {
    "scrolled": true
   },
   "outputs": [
    {
     "name": "stdout",
     "output_type": "stream",
     "text": [
      "emboss_matcher-R20210630-222826-0908-13953254-p1m\n"
     ]
    }
   ],
   "source": [
    "request = requests.post(server+'run', \n",
    "                        headers={ \"Content-Type\" : \"application/x-www-form-urlencoded\", \"Accept\" : \"text/plain\"}, \n",
    "                        data={ \"email\" : \"hebbarprajna2000@gmail.com\", \"asequence\" : sequence1, \"bsequence\" : sequence2 })\n",
    "\n",
    "if not request.ok:\n",
    "  request.raise_for_status()\n",
    "  sys.exit() \n",
    "\n",
    "print(request.text)\n",
    "jobid = request.text"
   ]
  },
  {
   "cell_type": "code",
   "execution_count": 36,
   "metadata": {},
   "outputs": [
    {
     "name": "stdout",
     "output_type": "stream",
     "text": [
      "RUNNING\n"
     ]
    }
   ],
   "source": [
    "request = requests.get(server+'status/'+jobid)\n",
    "print(request.text)"
   ]
  },
  {
   "cell_type": "code",
   "execution_count": 37,
   "metadata": {},
   "outputs": [
    {
     "name": "stdout",
     "output_type": "stream",
     "text": [
      "<?xml version=\"1.0\" ?>\n",
      "<types>\n",
      "\t<type>\n",
      "\t\t<description>The output from the tool itself</description>\n",
      "\t\t<fileSuffix>txt</fileSuffix>\n",
      "\t\t<identifier>out</identifier>\n",
      "\t\t<label>Tool Output</label>\n",
      "\t\t<mediaType>text/plain</mediaType>\n",
      "\t</type>\n",
      "\t<type>\n",
      "\t\t<description>The first input sequence as seen by the tool</description>\n",
      "\t\t<fileSuffix>txt</fileSuffix>\n",
      "\t\t<identifier>asequence</identifier>\n",
      "\t\t<label>First Input Sequence</label>\n",
      "\t\t<mediaType>text/plain</mediaType>\n",
      "\t</type>\n",
      "\t<type>\n",
      "\t\t<description>The second input sequence as seen by the tool</description>\n",
      "\t\t<fileSuffix>txt</fileSuffix>\n",
      "\t\t<identifier>bsequence</identifier>\n",
      "\t\t<label>Second Input Sequence</label>\n",
      "\t\t<mediaType>text/plain</mediaType>\n",
      "\t</type>\n",
      "\t<type>\n",
      "\t\t<description>The pairwise alignment as returned by the tool</description>\n",
      "\t\t<fileSuffix>txt</fileSuffix>\n",
      "\t\t<identifier>aln</identifier>\n",
      "\t\t<label>Pairwise Alignment</label>\n",
      "\t\t<mediaType>text/plain</mediaType>\n",
      "\t</type>\n",
      "\t<type>\n",
      "\t\t<description>The submission details which was submitted as a job</description>\n",
      "\t\t<fileSuffix>params</fileSuffix>\n",
      "\t\t<identifier>submission</identifier>\n",
      "\t\t<label>Submission Details</label>\n",
      "\t\t<mediaType>application/xml</mediaType>\n",
      "\t</type>\n",
      "</types>\n",
      "\n"
     ]
    }
   ],
   "source": [
    "request = requests.get(server+'resulttypes/'+jobid)\n",
    "\n",
    "resulttypes = xml.dom.minidom.parseString(request.text)\n",
    "resulttypes = resulttypes.toprettyxml()\n",
    "\n",
    "print(resulttypes)"
   ]
  },
  {
   "cell_type": "code",
   "execution_count": 38,
   "metadata": {},
   "outputs": [],
   "source": [
    "outtype = 'out' #Can be any of the identifiers mentioned in the previous output"
   ]
  },
  {
   "cell_type": "code",
   "execution_count": 39,
   "metadata": {
    "scrolled": true
   },
   "outputs": [
    {
     "name": "stdout",
     "output_type": "stream",
     "text": [
      "########################################\n",
      "# Program: matcher\n",
      "# Rundate: Wed 30 Jun 2021 22:28:28\n",
      "# Commandline: matcher\n",
      "#    -auto\n",
      "#    -stdout\n",
      "#    -asequence emboss_matcher-R20210630-222826-0908-13953254-p1m.asequence\n",
      "#    -bsequence emboss_matcher-R20210630-222826-0908-13953254-p1m.bsequence\n",
      "# Align_format: markx0\n",
      "# Report_file: stdout\n",
      "########################################\n",
      "\n",
      "#=======================================\n",
      "#\n",
      "# Aligned_sequences: 2\n",
      "# 1: C37F5.1\n",
      "# 2: FM864439\n",
      "# Matrix: EDNAFULL\n",
      "# Gap_penalty: 16\n",
      "# Extend_penalty: 4\n",
      "#\n",
      "# Length: 21\n",
      "# Identity:      16/21 (76.2%)\n",
      "# Similarity:    16/21 (76.2%)\n",
      "# Gaps:           0/21 ( 0.0%)\n",
      "# Score: 60\n",
      "# \n",
      "#\n",
      "#=======================================\n",
      "\n",
      "             380       390  \n",
      "C37F5. ATATTATTATGAGAAGAATAT\n",
      "       ::::: :: : : :: :::::\n",
      "FM8644 ATATTCTTCTCATAATAATAT\n",
      "     360       370       380\n",
      "\n",
      "\n",
      "#---------------------------------------\n",
      "#---------------------------------------\n",
      "\n"
     ]
    }
   ],
   "source": [
    "request = requests.get(server+'result/'+jobid+'/'+outtype)\n",
    "\n",
    "print(request.text)"
   ]
  },
  {
   "cell_type": "markdown",
   "metadata": {},
   "source": [
    "### LALIGN\n",
    "\n",
    "LALIGN finds internal duplications by calculating non-intersecting local alignments of protein or DNA sequences."
   ]
  },
  {
   "cell_type": "code",
   "execution_count": 40,
   "metadata": {},
   "outputs": [],
   "source": [
    "server = 'https://www.ebi.ac.uk/Tools/services/rest/lalign/'"
   ]
  },
  {
   "cell_type": "code",
   "execution_count": 41,
   "metadata": {},
   "outputs": [
    {
     "name": "stdout",
     "output_type": "stream",
     "text": [
      "<?xml version=\"1.0\" ?>\n",
      "<parameters>\n",
      "\t<id>stype</id>\n",
      "\t<id>matrix</id>\n",
      "\t<id>match_scores</id>\n",
      "\t<id>gapopen</id>\n",
      "\t<id>gapext</id>\n",
      "\t<id>expthr</id>\n",
      "\t<id>format</id>\n",
      "\t<id>graphics</id>\n",
      "\t<id>asequence</id>\n",
      "\t<id>bsequence</id>\n",
      "</parameters>\n",
      "\n"
     ]
    }
   ],
   "source": [
    "request = requests.get(server+'parameters')\n",
    "\n",
    "if not request.ok:\n",
    "  request.raise_for_status()\n",
    "  sys.exit() \n",
    "\n",
    "parameters = xml.dom.minidom.parseString(request.text)\n",
    "parameters = parameters.toprettyxml()\n",
    "\n",
    "print(parameters)"
   ]
  },
  {
   "cell_type": "code",
   "execution_count": 42,
   "metadata": {},
   "outputs": [],
   "source": [
    "parameter = 'matrix'"
   ]
  },
  {
   "cell_type": "code",
   "execution_count": 43,
   "metadata": {},
   "outputs": [
    {
     "name": "stdout",
     "output_type": "stream",
     "text": [
      "<?xml version=\"1.0\" ?>\n",
      "<parameter>\n",
      "\t<name>Matrix</name>\n",
      "\t<description>Default substitution scoring matrices.</description>\n",
      "\t<type>STRING</type>\n",
      "\t<values>\n",
      "\t\t<value>\n",
      "\t\t\t<label>BLOSUM50</label>\n",
      "\t\t\t<value>BL50</value>\n",
      "\t\t\t<defaultValue>true</defaultValue>\n",
      "\t\t</value>\n",
      "\t\t<value>\n",
      "\t\t\t<label>BLOSUM62</label>\n",
      "\t\t\t<value>BL62</value>\n",
      "\t\t\t<defaultValue>false</defaultValue>\n",
      "\t\t</value>\n",
      "\t\t<value>\n",
      "\t\t\t<label>BLOSUM80</label>\n",
      "\t\t\t<value>BL80</value>\n",
      "\t\t\t<defaultValue>false</defaultValue>\n",
      "\t\t</value>\n",
      "\t\t<value>\n",
      "\t\t\t<label>PAM120</label>\n",
      "\t\t\t<value>P120</value>\n",
      "\t\t\t<defaultValue>false</defaultValue>\n",
      "\t\t</value>\n",
      "\t\t<value>\n",
      "\t\t\t<label>PAM250</label>\n",
      "\t\t\t<value>P250</value>\n",
      "\t\t\t<defaultValue>false</defaultValue>\n",
      "\t\t</value>\n",
      "\t\t<value>\n",
      "\t\t\t<label>MDM10</label>\n",
      "\t\t\t<value>M10</value>\n",
      "\t\t\t<defaultValue>false</defaultValue>\n",
      "\t\t</value>\n",
      "\t\t<value>\n",
      "\t\t\t<label>MDM20</label>\n",
      "\t\t\t<value>M20</value>\n",
      "\t\t\t<defaultValue>false</defaultValue>\n",
      "\t\t</value>\n",
      "\t\t<value>\n",
      "\t\t\t<label>MDM40</label>\n",
      "\t\t\t<value>M40</value>\n",
      "\t\t\t<defaultValue>false</defaultValue>\n",
      "\t\t</value>\n",
      "\t\t<value>\n",
      "\t\t\t<label>VTML10</label>\n",
      "\t\t\t<value>VT10</value>\n",
      "\t\t\t<defaultValue>false</defaultValue>\n",
      "\t\t</value>\n",
      "\t\t<value>\n",
      "\t\t\t<label>VTML20</label>\n",
      "\t\t\t<value>VT20</value>\n",
      "\t\t\t<defaultValue>false</defaultValue>\n",
      "\t\t</value>\n",
      "\t\t<value>\n",
      "\t\t\t<label>VTML40</label>\n",
      "\t\t\t<value>VT40</value>\n",
      "\t\t\t<defaultValue>false</defaultValue>\n",
      "\t\t</value>\n",
      "\t\t<value>\n",
      "\t\t\t<label>VTML80</label>\n",
      "\t\t\t<value>VT80</value>\n",
      "\t\t\t<defaultValue>false</defaultValue>\n",
      "\t\t</value>\n",
      "\t\t<value>\n",
      "\t\t\t<label>VTML120</label>\n",
      "\t\t\t<value>VT120</value>\n",
      "\t\t\t<defaultValue>false</defaultValue>\n",
      "\t\t</value>\n",
      "\t\t<value>\n",
      "\t\t\t<label>VTML160</label>\n",
      "\t\t\t<value>VT160</value>\n",
      "\t\t\t<defaultValue>false</defaultValue>\n",
      "\t\t</value>\n",
      "\t\t<value>\n",
      "\t\t\t<label>VTML200</label>\n",
      "\t\t\t<value>VT200</value>\n",
      "\t\t\t<defaultValue>false</defaultValue>\n",
      "\t\t</value>\n",
      "\t\t<value>\n",
      "\t\t\t<label>OPTIMA5</label>\n",
      "\t\t\t<value>OPT5</value>\n",
      "\t\t\t<defaultValue>false</defaultValue>\n",
      "\t\t</value>\n",
      "\t</values>\n",
      "</parameter>\n",
      "\n"
     ]
    }
   ],
   "source": [
    "request = requests.get(server+'parameterdetails/'+parameter)\n",
    "\n",
    "if not request.ok:\n",
    "  request.raise_for_status()\n",
    "  sys.exit() \n",
    "\n",
    "parameter_details = xml.dom.minidom.parseString(request.text)\n",
    "parameter_details = parameter_details.toprettyxml()\n",
    "\n",
    "print(parameter_details)"
   ]
  },
  {
   "cell_type": "code",
   "execution_count": 44,
   "metadata": {
    "scrolled": true
   },
   "outputs": [
    {
     "name": "stdout",
     "output_type": "stream",
     "text": [
      "lalign-R20210630-222838-0384-67845787-p2m\n"
     ]
    }
   ],
   "source": [
    "request = requests.post(server+'run', \n",
    "                        headers={ \"Content-Type\" : \"application/x-www-form-urlencoded\", \"Accept\" : \"text/plain\"}, \n",
    "                        data={ \"email\" : \"hebbarprajna2000@gmail.com\", \"asequence\" : sequence1, \"bsequence\" : sequence2 })\n",
    "\n",
    "if not request.ok:\n",
    "  request.raise_for_status()\n",
    "  sys.exit() \n",
    "\n",
    "print(request.text)\n",
    "jobid = request.text"
   ]
  },
  {
   "cell_type": "code",
   "execution_count": 45,
   "metadata": {},
   "outputs": [
    {
     "name": "stdout",
     "output_type": "stream",
     "text": [
      "FINISHED\n"
     ]
    }
   ],
   "source": [
    "request = requests.get(server+'status/'+jobid)\n",
    "print(request.text)"
   ]
  },
  {
   "cell_type": "code",
   "execution_count": 46,
   "metadata": {},
   "outputs": [
    {
     "name": "stdout",
     "output_type": "stream",
     "text": [
      "<?xml version=\"1.0\" ?>\n",
      "<types>\n",
      "\t<type>\n",
      "\t\t<description>The output from the tool itself</description>\n",
      "\t\t<fileSuffix>txt</fileSuffix>\n",
      "\t\t<identifier>out</identifier>\n",
      "\t\t<label>Tool Output</label>\n",
      "\t\t<mediaType>text/plain</mediaType>\n",
      "\t</type>\n",
      "\t<type>\n",
      "\t\t<description>The first input sequence as seen by the tool</description>\n",
      "\t\t<fileSuffix>txt</fileSuffix>\n",
      "\t\t<identifier>asequence</identifier>\n",
      "\t\t<label>First Input Sequence</label>\n",
      "\t\t<mediaType>text/plain</mediaType>\n",
      "\t</type>\n",
      "\t<type>\n",
      "\t\t<description>The second input sequence as seen by the tool</description>\n",
      "\t\t<fileSuffix>txt</fileSuffix>\n",
      "\t\t<identifier>bsequence</identifier>\n",
      "\t\t<label>Second Input Sequence</label>\n",
      "\t\t<mediaType>text/plain</mediaType>\n",
      "\t</type>\n",
      "\t<type>\n",
      "\t\t<description>The pairwise alignment as returned by the tool</description>\n",
      "\t\t<fileSuffix>txt</fileSuffix>\n",
      "\t\t<identifier>aln</identifier>\n",
      "\t\t<label>Pairwise Alignment</label>\n",
      "\t\t<mediaType>text/plain</mediaType>\n",
      "\t</type>\n",
      "\t<type>\n",
      "\t\t<description>The submission details which was submitted as a job</description>\n",
      "\t\t<fileSuffix>params</fileSuffix>\n",
      "\t\t<identifier>submission</identifier>\n",
      "\t\t<label>Submission Details</label>\n",
      "\t\t<mediaType>application/xml</mediaType>\n",
      "\t</type>\n",
      "</types>\n",
      "\n"
     ]
    }
   ],
   "source": [
    "request = requests.get(server+'resulttypes/'+jobid)\n",
    "\n",
    "resulttypes = xml.dom.minidom.parseString(request.text)\n",
    "resulttypes = resulttypes.toprettyxml()\n",
    "\n",
    "print(resulttypes)"
   ]
  },
  {
   "cell_type": "code",
   "execution_count": 47,
   "metadata": {},
   "outputs": [],
   "source": [
    "outtype = 'out' #Can be any of the identifiers mentioned in the previous output"
   ]
  },
  {
   "cell_type": "code",
   "execution_count": 48,
   "metadata": {
    "scrolled": true
   },
   "outputs": [
    {
     "name": "stdout",
     "output_type": "stream",
     "text": [
      "# /nfs/public/ro/es/appbin/linux-x86_64/fasta-36.3.8h/lalign36 -m 9i lalign-R20210630-222838-0384-67845787-p2m.asequence lalign-R20210630-222838-0384-67845787-p2m.bsequence -m 0\n",
      "LALIGN finds non-overlapping local alignments\n",
      " version 36.3.8h Aug, 2019\n",
      "Please cite:\n",
      " X. Huang and W. Miller (1991) Adv. Appl. Math. 12:373-381\n",
      "\n",
      "Query: lalign-R20210630-222838-0384-67845787-p2m.asequence\n",
      "  1>>>C37F5.1 - 400 nt\n",
      "Library: lalign-R20210630-222838-0384-67845787-p2m.bsequence\n",
      "     1271 residues in     1 sequences\n",
      "\n",
      "Statistics: (shuffled [500]) MLE statistics: Lambda= 0.1399;  K=0.04844\n",
      " statistics sampled from 1 (1) to 500 sequences\n",
      "Threshold: E() < 0.2 score: 84\n",
      "Algorithm: Smith-Waterman (SSE2, Michael Farrar 2006) (7.2 Nov 2010)\n",
      "Parameters: +5/-4 matrix (5:-4), open/ext: -12/-4\n",
      " Scan time:  0.100\n",
      "\n",
      "The best non-identical alignments are:     ls-w bits E(1) %_id  %_sim  alen\n",
      "FM864439                        (1271) [r] 1702 348.0 8.9e-100 0.923 0.923  401\n",
      "+-                                          104 25.4   0.012 0.655 0.655   55\n",
      "\n",
      ">>>C37F5.1, 400 nt vs lalign-R20210630-222838-0384-67845787-p2m.bsequence library\n",
      "\n",
      ">>FM864439                                                (1271 nt)\n",
      " Waterman-Eggert score: 1702;  348.0 bits; E(1) <  8.9e-100\n",
      "92.3% identity (92.3% similar) in 401 nt overlap (400-1:352-751)\n",
      "\n",
      "     400       390       380       370       360       350         \n",
      "C37F5. TCTTAATAATATTCTTCTCATAATAATATCGTAACGCTCTCGACAGTTTATCATAATTCA\n",
      "       ::::::::::::::::::::::::::::::::::::::::::::::::::::::::::::\n",
      "FM8644 TCTTAATAATATTCTTCTCATAATAATATCGTAACGCTCTCGACAGTTTATCATAATTCA\n",
      "             360       370       380       390       400       410 \n",
      "\n",
      "     340       330       320       310       300       290         \n",
      "C37F5. TATGCGGTTTCGCCTTCCGTTGTCCCCACTTTCTCGCCACGGCTTCTGCATCAATCAGTC\n",
      "       ::::::::::::::::::::::::::::::::::::::::::::::::::::::::::::\n",
      "FM8644 TATGCGGTTTCGCCTTCCGTTGTCCCCACTTTCTCGCCACGGCTTCTGCATCAATCAGTC\n",
      "             420       430       440       450       460       470 \n",
      "\n",
      "     280       270       260       250       240       230         \n",
      "C37F5. GGAATTCGCCGTCCGTTCCGCGTGTCCATTCGATTATATCACCATTTTGGTCTTGTTGCA\n",
      "       ::::::::::::::::::::::::::::::::::::::::::::::::::::::::::::\n",
      "FM8644 GGAATTCGCCGTCCGTTCCGCGTGTCCATTCGATTATATCACCATTTTGGTCTTGTTGCA\n",
      "             480       490       500       510       520       530 \n",
      "\n",
      "     220       210       200       190       180       170         \n",
      "C37F5. GTAGTTCTAGAAGGAATTGCCACAGGGTTATGATTGAGTCGACGGATGATGAGGTCGGAG\n",
      "       ::::::::::::::::::::::::::::::::::::::::::::::::::::::::::::\n",
      "FM8644 GTAGTTCTAGAAGGAATTGCCACAGGGTTATGATTGAGTCGACGGATGATGAGGTCGGAG\n",
      "             540       550       560       570       580       590 \n",
      "\n",
      "     160       150       140       130       120       110         \n",
      "C37F5. GTGTCGAGGATCGGGTACACATCAAGTCTGAGACGTTCATCTCTTTCTTTCTTATATCCA\n",
      "       :::::::::::::::::::::::::::::::::::::::::::::::: ::: :: : : \n",
      "FM8644 GTGTCGAGGATCGGGTACACATCAAGTCTGAGACGTTCATCTCTTTCTCTCTAATTTGCG\n",
      "             600       610       620       630       640       650 \n",
      "\n",
      "     100        90        80        70         60        50        \n",
      "C37F5. AAATTCCCTCAATCGTATGTTTCGGAGATTCTTCT-TCCTCGGCTTCTTCCGAACTCGAC\n",
      "        ::::   :: :::   :  ::: :: ::: :::  : : : ::::::::::::::: ::\n",
      "FM8644 CAATTAAATCTATCTACTCCTTCAGACATTGTTCCGTGCCCAGCTTCTTCCGAACTCTAC\n",
      "             660       670       680       690       700       710 \n",
      "\n",
      "       40        30        20        10         \n",
      "C37F5. GGCGGCTCTTTTTTGACCTTCAAAAGGTCAATGTGATTCAT\n",
      "       ::  :::::::::::::::  :::  ::::::: :::::::\n",
      "FM8644 GGATGCTCTTTTTTGACCTA-AAATTGTCAATGAGATTCAT\n",
      "             720       730        740       750 \n",
      "\n",
      ">--\n",
      " Waterman-Eggert score: 104;  25.4 bits; E(1) <  0.012\n",
      "65.5% identity (65.5% similar) in 55 nt overlap (182-128:8-62)\n",
      "\n",
      "       180       170       160       150       140       130  \n",
      "C37F5. TCGACGGATGATGAGGTCGGAGGTGTCGAGGATCGGGTACACATCAAGTCTGAGA\n",
      "       :: :::: ::::::::: :  :: ::::  ::   :: ::::  :  : : : ::\n",
      "FM8644 TCTACGGGTGATGAGGTGGATGGAGTCGCCGAGGAGGCACACTGCTTGACGGGGA\n",
      "        10        20        30        40        50        60  \n",
      "\n",
      "\n",
      ">>>///\n",
      "\n",
      "400 residues in 1 query   sequences\n",
      "1271 residues in 1 library sequences\n",
      " Scomplib [36.3.8h Aug, 2019]\n",
      " start: Wed Jun 30 22:28:39 2021 done: Wed Jun 30 22:28:39 2021\n",
      " Total Scan time:  0.100 Total Display time:  0.020\n",
      "\n",
      "Function used was LALIGN [36.3.8h Aug, 2019]\n",
      "\n"
     ]
    }
   ],
   "source": [
    "request = requests.get(server+'result/'+jobid+'/'+outtype)\n",
    "\n",
    "print(request.text)"
   ]
  },
  {
   "cell_type": "markdown",
   "metadata": {},
   "source": [
    "### Genomic Alignment"
   ]
  },
  {
   "cell_type": "markdown",
   "metadata": {},
   "source": [
    "#### GeneWise\n",
    "\n",
    "GeneWise compares a protein sequence to a genomic DNA sequence, allowing for introns and frameshifting errors."
   ]
  },
  {
   "cell_type": "markdown",
   "metadata": {},
   "source": [
    "Read in fasta files for the input protein sequence and also the genomic DNA sequence to which you are comparing it to."
   ]
  },
  {
   "cell_type": "code",
   "execution_count": 49,
   "metadata": {
    "scrolled": false
   },
   "outputs": [
    {
     "name": "stdout",
     "output_type": "stream",
     "text": [
      ">GOA-1\n",
      "MGCTMSQEERAALERSRMIEKNLKEDGMQAAKDIKLLLLGAGESGKSTIVKQMKIIHESGFTAEDYKQYKPVVYSNTVQS\n",
      "LVAILRAMSNLGVSFGSADREVDAKLVMDVVARMEDTEPFSEELLSSMKRLWGDAGVQDCFSRSNEYQLNDSAKYFLDDL\n",
      "ERLGEAIYQPTEQDILRTRVKTTGIVEVHFTFKNLNFKLFDVGGQRSERKKWIHCFEDVTAIIFCVAMSEYDQVLHEDET\n",
      "TNRMHESLKLFDSICNNKWFTDTSIILFLNKKDLFEEKIKKSPLTICFPEYSGRQDYHEASAYIQAQFEAKNKSANKEIY\n",
      "CHMTCATDTTNIQFVFDAVTDVIIANNLRGCGLY\n",
      "\n"
     ]
    }
   ],
   "source": [
    "prot = open(\"data/genewise_prot.fa\")\n",
    "prot = prot.read()\n",
    "print(prot)"
   ]
  },
  {
   "cell_type": "code",
   "execution_count": 50,
   "metadata": {
    "scrolled": false
   },
   "outputs": [
    {
     "name": "stdout",
     "output_type": "stream",
     "text": [
      ">GOA-1\n",
      "ATGGGTTGTACCATGTCACAGGAAGAGCGTGCCGCTCTTGAAAGATCACGAATGATTGAGAAAAATCTTAAAGAAGACGG\n",
      "CATGCAAGCGGCAAAAGATATCAAACTGCTGCTACTTGGTGCAGGAGAATCAGGAAAATCGACTATTGTAAAACAGATGA\n",
      "AAATTATTCACGAATCGGGATTCACAGCAGAAGACTACAAACAGTACAAGCCGGTTGTCTACAGTAACACGGTTCAATCA\n",
      "TTGGTCGCTATTTTGCGAGCCATGAGCAACTTAGGCGTTTCATTTGGTTCGGCTGACAGAGAGGTAGATGCAAAATTAGT\n",
      "GATGGATGTGGTGGCACGAATGGAGGACACAGAGCCATTCTCAGAAGAATTGCTCAGTTCAATGAAACGGTTGTGGGGAG\n",
      "ACGCAGGTGTACAGGATTGTTTCTCAAGGAGTAACGAGTATCAATTGAATGATTCAGCCAAATATTTCCTTGACGACCTG\n",
      "GAAAGGTTAGGAGAGGCAATATATCAACCAACTGAGCAAGATATTCTCCGAACTCGTGTCAAAACAACTGGTATTGTTGA\n",
      "AGTTCACTTCACATTCAAAAATCTCAATTTCAAATTGTTCGATGTGGGAGGTCAAAGATCAGAAAGGAAGAAGTGGATTC\n",
      "ATTGTTTCGAAGATGTTACTGCTATTATTTTCTGTGTTGCCATGTCAGAGTATGATCAAGTGTTGCACGAAGATGAGACA\n",
      "ACAAACCGAATGCACGAATCGCTGAAGCTGTTCGATTCGATCTGTAATAACAAATGGTTCACAGATACATCGATTATTCT\n",
      "GTTCCTGAACAAGAAGGATCTGTTTGAAGAGAAAATCAAGAAAAGCCCGTTAACGATCTGCTTCCCAGAATATTCAGGAC\n",
      "GACAAGACTACCACGAGGCATCTGCGTATATTCAAGCACAATTTGAGGCTAAAAACAAATCAGCGAATAAGGAAATCTAT\n",
      "TGCCACATGACATGTGCCACAGACACAACTAACATTCAATTTGTGTTTGACGCTGTCACCGATGTGATTATTGCCAATAA\n",
      "TCTTCGTGGATGCGGCTTGTATTAA\n",
      "\n"
     ]
    }
   ],
   "source": [
    "nucl = open(\"data/genewise_nucl.fa\")\n",
    "nucl = nucl.read()\n",
    "print(nucl)"
   ]
  },
  {
   "cell_type": "code",
   "execution_count": 51,
   "metadata": {},
   "outputs": [],
   "source": [
    "server = 'https://www.ebi.ac.uk/Tools/services/rest/genewise/'"
   ]
  },
  {
   "cell_type": "code",
   "execution_count": 52,
   "metadata": {},
   "outputs": [
    {
     "name": "stdout",
     "output_type": "stream",
     "text": [
      "<?xml version=\"1.0\" ?>\n",
      "<parameters>\n",
      "\t<id>para</id>\n",
      "\t<id>pretty</id>\n",
      "\t<id>genes</id>\n",
      "\t<id>trans</id>\n",
      "\t<id>cdna</id>\n",
      "\t<id>embl</id>\n",
      "\t<id>ace</id>\n",
      "\t<id>gff</id>\n",
      "\t<id>diana</id>\n",
      "\t<id>init</id>\n",
      "\t<id>splice</id>\n",
      "\t<id>random</id>\n",
      "\t<id>alg</id>\n",
      "\t<id>asequence</id>\n",
      "\t<id>bsequence</id>\n",
      "</parameters>\n",
      "\n"
     ]
    }
   ],
   "source": [
    "request = requests.get(server+'parameters')\n",
    "\n",
    "if not request.ok:\n",
    "  request.raise_for_status()\n",
    "  sys.exit() \n",
    "\n",
    "parameters = xml.dom.minidom.parseString(request.text)\n",
    "parameters = parameters.toprettyxml()\n",
    "\n",
    "print(parameters)"
   ]
  },
  {
   "cell_type": "code",
   "execution_count": 53,
   "metadata": {},
   "outputs": [],
   "source": [
    "parameter = 'genes'"
   ]
  },
  {
   "cell_type": "code",
   "execution_count": 54,
   "metadata": {},
   "outputs": [
    {
     "name": "stdout",
     "output_type": "stream",
     "text": [
      "<?xml version=\"1.0\" ?>\n",
      "<parameter>\n",
      "\t<name>Gene Structure</name>\n",
      "\t<description>Show gene structure, as in genewise</description>\n",
      "\t<type>BOOLEAN</type>\n",
      "\t<values>\n",
      "\t\t<value>\n",
      "\t\t\t<label>ON</label>\n",
      "\t\t\t<value>true</value>\n",
      "\t\t\t<defaultValue>true</defaultValue>\n",
      "\t\t</value>\n",
      "\t\t<value>\n",
      "\t\t\t<label>OFF</label>\n",
      "\t\t\t<value>false</value>\n",
      "\t\t\t<defaultValue>false</defaultValue>\n",
      "\t\t</value>\n",
      "\t</values>\n",
      "</parameter>\n",
      "\n"
     ]
    }
   ],
   "source": [
    "request = requests.get(server+'parameterdetails/'+parameter)\n",
    "\n",
    "if not request.ok:\n",
    "  request.raise_for_status()\n",
    "  sys.exit() \n",
    "\n",
    "parameter_details = xml.dom.minidom.parseString(request.text)\n",
    "parameter_details = parameter_details.toprettyxml()\n",
    "\n",
    "print(parameter_details)"
   ]
  },
  {
   "cell_type": "code",
   "execution_count": 55,
   "metadata": {
    "scrolled": true
   },
   "outputs": [
    {
     "name": "stdout",
     "output_type": "stream",
     "text": [
      "genewise-R20210630-222856-0161-28749315-p2m\n"
     ]
    }
   ],
   "source": [
    "request = requests.post(server+'run', \n",
    "                        headers={ \"Content-Type\" : \"application/x-www-form-urlencoded\", \"Accept\" : \"text/plain\"}, \n",
    "                        data={ \"email\" : \"hebbarprajna2000@gmail.com\", \"asequence\" : prot, \"bsequence\" : nucl })\n",
    "\n",
    "if not request.ok:\n",
    "  request.raise_for_status()\n",
    "  sys.exit() \n",
    "\n",
    "print(request.text)\n",
    "jobid = request.text"
   ]
  },
  {
   "cell_type": "code",
   "execution_count": 56,
   "metadata": {},
   "outputs": [
    {
     "name": "stdout",
     "output_type": "stream",
     "text": [
      "RUNNING\n"
     ]
    }
   ],
   "source": [
    "request = requests.get(server+'status/'+jobid)\n",
    "print(request.text)"
   ]
  },
  {
   "cell_type": "code",
   "execution_count": 57,
   "metadata": {},
   "outputs": [
    {
     "name": "stdout",
     "output_type": "stream",
     "text": [
      "<?xml version=\"1.0\" ?>\n",
      "<types>\n",
      "\t<type>\n",
      "\t\t<description>The output from the tool itself</description>\n",
      "\t\t<fileSuffix>txt</fileSuffix>\n",
      "\t\t<identifier>out</identifier>\n",
      "\t\t<label>Tool Output</label>\n",
      "\t\t<mediaType>text/plain</mediaType>\n",
      "\t</type>\n",
      "\t<type>\n",
      "\t\t<description>Error messages produced by the tool</description>\n",
      "\t\t<fileSuffix>txt</fileSuffix>\n",
      "\t\t<identifier>error</identifier>\n",
      "\t\t<label>Tool Error Details</label>\n",
      "\t\t<mediaType>text/plain</mediaType>\n",
      "\t</type>\n",
      "\t<type>\n",
      "\t\t<description>The input protein sequence as seen by the tool</description>\n",
      "\t\t<fileSuffix>txt</fileSuffix>\n",
      "\t\t<identifier>asequence</identifier>\n",
      "\t\t<label>First Input Sequence</label>\n",
      "\t\t<mediaType>text/plain</mediaType>\n",
      "\t</type>\n",
      "\t<type>\n",
      "\t\t<description>The input DNA sequence as seen by the tool</description>\n",
      "\t\t<fileSuffix>txt</fileSuffix>\n",
      "\t\t<identifier>bsequence</identifier>\n",
      "\t\t<label>Second Input Sequence</label>\n",
      "\t\t<mediaType>text/plain</mediaType>\n",
      "\t</type>\n",
      "\t<type>\n",
      "\t\t<description>The pairwise alignment as returned by the tool</description>\n",
      "\t\t<fileSuffix>txt</fileSuffix>\n",
      "\t\t<identifier>aln</identifier>\n",
      "\t\t<label>Pairwise Alignment</label>\n",
      "\t\t<mediaType>text/plain</mediaType>\n",
      "\t</type>\n",
      "\t<type>\n",
      "\t\t<description>The submission details which was submitted as a job</description>\n",
      "\t\t<fileSuffix>params</fileSuffix>\n",
      "\t\t<identifier>submission</identifier>\n",
      "\t\t<label>Submission Details</label>\n",
      "\t\t<mediaType>application/xml</mediaType>\n",
      "\t</type>\n",
      "</types>\n",
      "\n"
     ]
    }
   ],
   "source": [
    "request = requests.get(server+'resulttypes/'+jobid)\n",
    "\n",
    "resulttypes = xml.dom.minidom.parseString(request.text)\n",
    "resulttypes = resulttypes.toprettyxml()\n",
    "\n",
    "print(resulttypes)"
   ]
  },
  {
   "cell_type": "code",
   "execution_count": 58,
   "metadata": {},
   "outputs": [],
   "source": [
    "outtype = 'out' #Can be any of the identifiers mentioned in the previous output"
   ]
  },
  {
   "cell_type": "code",
   "execution_count": 59,
   "metadata": {
    "scrolled": true
   },
   "outputs": [
    {
     "name": "stdout",
     "output_type": "stream",
     "text": [
      "genewise $Name: wise2-4-1 $ (unreleased release)\n",
      "This program is freely distributed under a GPL. See source directory\n",
      "Copyright (c) GRL limited: portions of the code are from separate copyright\n",
      "\n",
      "Query protein:       GOA-1\n",
      "Comp Matrix:         BLOSUM62.bla\n",
      "Gap open:            12\n",
      "Gap extension:       2\n",
      "Start/End            default\n",
      "Target Sequence      GOA-1\n",
      "Strand:              forward\n",
      "Start/End (protein)  default\n",
      "Gene Parameter file: gene.stat\n",
      "Splice site model:   GT/AG only\n",
      "GT/AG bits penalty   -9.96\n",
      "Codon Table:         codon.table\n",
      "Subs error:          1e-06\n",
      "Indel error:         1e-06\n",
      "Null model           syn\n",
      "Algorithm            623\n",
      "\n",
      "genewise output\n",
      "Score 868.23 bits over entire alignment\n",
      "Scores as bits over a synchronous coding model\n",
      "\n",
      "Warning: The bits scores is not probablistically correct for single seqs\n",
      "See WWW help for more info\n",
      "\n",
      "GOA-1              1 MGCTMSQEERAALERSRMIEKNLKEDGMQAAKDIKLLLLGAGESGKSTI \n",
      "                     MGCTMSQEERAALERSRMIEKNLKEDGMQAAKDIKLLLLGAGESGKSTI \n",
      "                     MGCTMSQEERAALERSRMIEKNLKEDGMQAAKDIKLLLLGAGESGKSTI \n",
      "GOA-1              1 agtaatcggcggcgatcaagaacagggacggagaaccccggggtgataa \n",
      "                     tggctcaaagcctagcgttaaataaagtaccaatattttgcgacgacct \n",
      "                     gttcgagagtcttaaaagtgattaaccgagaatcaggattaaaaaagtt \n",
      "\n",
      "\n",
      "GOA-1             50 VKQMKIIHESGFTAEDYKQYKPVVYSNTVQSLVAILRAMSNLGVSFGSA \n",
      "                     VKQMKIIHESGFTAEDYKQYKPVVYSNTVQSLVAILRAMSNLGVSFGSA \n",
      "                     VKQMKIIHESGFTAEDYKQYKPVVYSNTVQSLVAILRAMSNLGVSFGSA \n",
      "GOA-1            148 gacaaaacgtgtagggtactacggtaaagcttggatcgaaatggttgtg \n",
      "                     taatattaacgtccaaaaaaacttagactacttcttgctgatgtctgcc \n",
      "                     aaggattcagacaaaccagcggtcctcgtaagcttgacgccactattgt \n",
      "\n",
      "\n",
      "GOA-1             99 DREVDAKLVMDVVARMEDTEPFSEELLSSMKRLWGDAGVQDCFSRSNEY \n",
      "                     DREVDAKLVMDVVARMEDTEPFSEELLSSMKRLWGDAGVQDCFSRSNEY \n",
      "                     DREVDAKLVMDVVARMEDTEPFSEELLSSMKRLWGDAGVQDCFSRSNEY \n",
      "GOA-1            295 gaggggatgaggggcaggagcttggtcataacttgggggcgtttaaagt \n",
      "                     agatacatttattcgtaacactcaattgctagtggacgtaagtcggaaa \n",
      "                     cagataaaggtggaaggcagacaaagctagagggacatagttcagtcgt \n",
      "\n",
      "\n",
      "GOA-1            148 QLNDSAKYFLDDLERLGEAIYQPTEQDILRTRVKTTGIVEVHFTFKNLN \n",
      "                     QLNDSAKYFLDDLERLGEAIYQPTEQDILRTRVKTTGIVEVHFTFKNLN \n",
      "                     QLNDSAKYFLDDLERLGEAIYQPTEQDILRTRVKTTGIVEVHFTFKNLN \n",
      "GOA-1            442 ctagtgattcggcgatgggatccagcgaccacgaaagagggctataaca \n",
      "                     ataaccaattaatagtgactaaccaaattgcgtaccgttatatctaata \n",
      "                     agttacatctccgagaagaataatgattcattcaattttatccacatct \n",
      "\n",
      "\n",
      "GOA-1            197 FKLFDVGGQRSERKKWIHCFEDVTAIIFCVAMSEYDQVLHEDETTNRMH \n",
      "                     FKLFDVGGQRSERKKWIHCFEDVTAIIFCVAMSEYDQVLHEDETTNRMH \n",
      "                     FKLFDVGGQRSERKKWIHCFEDVTAIIFCVAMSEYDQVLHEDETTNRMH \n",
      "GOA-1            589 tattggggcatgaaatacttgggagaattggatgtgcgtcgggaaacac \n",
      "                     tattatggagcagaagtagtaatcctttgtctcaaaattaaaaccagta \n",
      "                     cagctgataaaaggggtttcattttttcttcgagttaggcatgaacagc \n",
      "\n",
      "\n",
      "GOA-1            246 ESLKLFDSICNNKWFTDTSIILFLNKKDLFEEKIKKSPLTICFPEYSGR \n",
      "                     ESLKLFDSICNNKWFTDTSIILFLNKKDLFEEKIKKSPLTICFPEYSGR \n",
      "                     ESLKLFDSICNNKWFTDTSIILFLNKKDLFEEKIKKSPLTICFPEYSGR \n",
      "GOA-1            736 gtcactgtataaattagataactcaaagctggaaaaactaattcgttgc \n",
      "                     actattactgaaagtcacctttttaaaattaaataagctctgtcaacgg \n",
      "                     aggggctgcttcagcatagttgcgcggtgtagacgacgagcccaataaa \n",
      "\n",
      "\n",
      "GOA-1            295 QDYHEASAYIQAQFEAKNKSANKEIYCHMTCATDTTNIQFVFDAVTDVI \n",
      "                     QDYHEASAYIQAQFEAKNKSANKEIYCHMTCATDTTNIQFVFDAVTDVI \n",
      "                     QDYHEASAYIQAQFEAKNKSANKEIYCHMTCATDTTNIQFVFDAVTDVI \n",
      "GOA-1            883 cgtcggtgtacgctggaaatgaagattcaatgagaaaactgtgggagga \n",
      "                     aaaaacccatacatacaaaccaaatagatcgccaccatatttactcatt \n",
      "                     acccgatgttaaatgtacaagtgactccgatcacatctatgtctcctgt \n",
      "\n",
      "\n",
      "GOA-1            344 IANNLRGCGLY                                       \n",
      "                     IANNLRGCGLY                                       \n",
      "                     IANNLRGCGLY                                       \n",
      "GOA-1           1030 agaaccgtgtt                                       \n",
      "                     tcaatggggta                                       \n",
      "                     tcttttaccgt                                       \n",
      "\n",
      "\n",
      "//\n",
      "\n"
     ]
    }
   ],
   "source": [
    "request = requests.get(server+'result/'+jobid+'/'+outtype)\n",
    "\n",
    "print(request.text)"
   ]
  },
  {
   "cell_type": "markdown",
   "metadata": {},
   "source": [
    "This is the end of the fourth tutorial for WormBase data analysis! This tutorial dealt with using multiple algorithms for Pairwise Sequence Alignment analyses.\n",
    "\n",
    "In the next tutorial, we will use different algorithms for Multiple Sequence Alignment analyses!"
   ]
  }
 ],
 "metadata": {
  "kernelspec": {
   "display_name": "Python 3",
   "language": "python",
   "name": "python3"
  },
  "language_info": {
   "codemirror_mode": {
    "name": "ipython",
    "version": 3
   },
   "file_extension": ".py",
   "mimetype": "text/x-python",
   "name": "python",
   "nbconvert_exporter": "python",
   "pygments_lexer": "ipython3",
   "version": "3.8.5"
  }
 },
 "nbformat": 4,
 "nbformat_minor": 4
}
