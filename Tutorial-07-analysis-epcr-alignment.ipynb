{
 "cells": [
  {
   "cell_type": "markdown",
   "metadata": {},
   "source": [
    "# **Bioinformatics with Jupyter Notebooks for WormBase:**\n",
    "## **Analyses 3 - ePCR**\n",
    "Welcome to the seventh jupyter notebook in the WormBase tutorial series. Over this series of tutorials, we will write code in Python that allows us to retrieve and perform simple analyses with data available on the WormBase sites.\n",
    "\n",
    "This tutorial will deal with performing In-Silico PCR of your data locally. (This is compatible on Linux OS systems only!!)\n",
    "Let's get started!"
   ]
  },
  {
   "cell_type": "markdown",
   "metadata": {},
   "source": [
    "We start by importing the required python libraries and also installing 1 program locally - BLAT (from the UCSC Genome Browser), which includes In-Silico PCR.\n",
    "\n",
    "In-Silico PCR searches a sequence database with a pair of PCR primers, using an indexing strategy for fast performance. We can download the gfPcr/isPcr version of In-Silico PCR, which performs the same as the web version."
   ]
  },
  {
   "cell_type": "code",
   "execution_count": 1,
   "metadata": {},
   "outputs": [],
   "source": [
    "import os\n",
    "import itertools\n",
    "import Bio \n",
    "from Bio import SeqIO\n",
    "import math\n",
    "import pandas as pd \n",
    "get_ipython().system = os.system"
   ]
  },
  {
   "cell_type": "markdown",
   "metadata": {},
   "source": [
    "#### Install BLAT, run the gfPcr and make it ready to receive queries and use isPCR send a In-Silico PCR query"
   ]
  },
  {
   "cell_type": "markdown",
   "metadata": {},
   "source": [
    "Download the binaries for the BLAT program which also contains In-Silico PCR"
   ]
  },
  {
   "cell_type": "code",
   "execution_count": 2,
   "metadata": {},
   "outputs": [
    {
     "data": {
      "text/plain": [
       "0"
      ]
     },
     "execution_count": 2,
     "metadata": {},
     "output_type": "execute_result"
    }
   ],
   "source": [
    "!mkdir BLAT\n",
    "!rsync -a rsync://hgdownload.soe.ucsc.edu/genome/admin/exe/linux.x86_64/blat/ BLAT/\n",
    "!chmod +x BLAT/isPcr BLAT/gfPcr BLAT/blat"
   ]
  },
  {
   "cell_type": "markdown",
   "metadata": {},
   "source": [
    "Download the .2bit genome file for the C. elegans species"
   ]
  },
  {
   "cell_type": "code",
   "execution_count": 3,
   "metadata": {},
   "outputs": [
    {
     "data": {
      "text/plain": [
       "0"
      ]
     },
     "execution_count": 3,
     "metadata": {},
     "output_type": "execute_result"
    }
   ],
   "source": [
    "!wget https://hgdownload.soe.ucsc.edu/goldenPath/ce11/bigZips/ce11.2bit"
   ]
  },
  {
   "cell_type": "markdown",
   "metadata": {},
   "source": [
    "Run the server on the downloaded .2bit file"
   ]
  },
  {
   "cell_type": "code",
   "execution_count": 4,
   "metadata": {},
   "outputs": [
    {
     "data": {
      "text/plain": [
       "0"
      ]
     },
     "execution_count": 4,
     "metadata": {},
     "output_type": "execute_result"
    }
   ],
   "source": [
    "!BLAT/gfPcr start 127.0.0.1 1234 -stepSize=5 ce11.2bit &"
   ]
  },
  {
   "cell_type": "markdown",
   "metadata": {},
   "source": [
    "Query the server with a ePCR request for the example file - ePCR_example.txt"
   ]
  },
  {
   "cell_type": "code",
   "execution_count": 5,
   "metadata": {},
   "outputs": [
    {
     "data": {
      "text/plain": [
       "0"
      ]
     },
     "execution_count": 5,
     "metadata": {},
     "output_type": "execute_result"
    }
   ],
   "source": [
    "!BLAT/isPcr -maxSize=5000 -minPerfect=5 -minGood=10 ce11.2bit ePCR_example.txt ePCR.fasta"
   ]
  },
  {
   "cell_type": "markdown",
   "metadata": {},
   "source": [
    "#### Parse the output of the In-Silico program and generate readable output"
   ]
  },
  {
   "cell_type": "code",
   "execution_count": 6,
   "metadata": {},
   "outputs": [],
   "source": [
    "fasta_sequences = SeqIO.parse(open('ePCR.fasta'),'fasta')"
   ]
  },
  {
   "cell_type": "code",
   "execution_count": 7,
   "metadata": {},
   "outputs": [
    {
     "name": "stdout",
     "output_type": "stream",
     "text": [
      "ID: chrX:10782951+10784138\n",
      "Name: chrX:10782951+10784138\n",
      "Description: chrX:10782951+10784138 assay_1 1188bp CGATAAACAATCAACGGCATAAT TTTGAAACTGATATAGAGGGGCA\n",
      "Number of features: 0\n",
      "Seq('CGATAAACAATCAACGGCATAATtatcagaattgagctcgaaagcttaaactcc...AAA')\n",
      "\n",
      "\n",
      "ID: chrV:10296804+10298994\n",
      "Name: chrV:10296804+10298994\n",
      "Description: chrV:10296804+10298994 assay_2 2191bp AAGGTTATTTATGCGGTGGAAAT AGCACTTTGAGCTTGATGAAATC\n",
      "Number of features: 0\n",
      "Seq('AAGGTTATTTATGCGGTGGAAATgacacgggaaaggtggcaaaatgtaatacat...GCT')\n",
      "\n",
      "\n",
      "ID: chrII:11338204+11339806\n",
      "Name: chrII:11338204+11339806\n",
      "Description: chrII:11338204+11339806 assay_3 1603bp AGATTGGAACGATAACGCAGATA TTTGCCAATTTGCATTTTATTTT\n",
      "Number of features: 0\n",
      "Seq('AGATTGGAACGATAACGCAGATAcaaaagataattaatctgaaattgttaaata...AAA')\n",
      "\n",
      "\n"
     ]
    }
   ],
   "source": [
    "for sequence in fasta_sequences:\n",
    "    print(sequence)\n",
    "    print('\\n')"
   ]
  },
  {
   "cell_type": "markdown",
   "metadata": {},
   "source": [
    "This is the end of the third tutorial for WormBase data analysis! This tutorial dealt with using In-Silico PCR locally for any worm primers.\n",
    "\n",
    "In the next tutorial, we will use multiple nucleotide and protein aligners on different WormBase data!"
   ]
  }
 ],
 "metadata": {
  "kernelspec": {
   "display_name": "Python 3",
   "language": "python",
   "name": "python3"
  },
  "language_info": {
   "codemirror_mode": {
    "name": "ipython",
    "version": 3
   },
   "file_extension": ".py",
   "mimetype": "text/x-python",
   "name": "python",
   "nbconvert_exporter": "python",
   "pygments_lexer": "ipython3",
   "version": "3.8.5"
  }
 },
 "nbformat": 4,
 "nbformat_minor": 4
}
