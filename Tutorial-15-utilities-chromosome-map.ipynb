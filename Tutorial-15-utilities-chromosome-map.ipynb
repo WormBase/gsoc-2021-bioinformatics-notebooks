{
 "cells": [
  {
   "cell_type": "markdown",
   "metadata": {},
   "source": [
    "# **Bioinformatics with Jupyter Notebooks for WormBase:**\n",
    "## **Utilities 3 - Chromosome Map**\n",
    "Welcome to the last jupyter notebook in the WormBase tutorial series. Over this series of tutorials, we wrote code in Python that allows us to retrieve and perform simple analyses with data available on the WormBase sites.\n",
    "\n",
    "This tutorial will deal with generating a chromosome map for the input gene list. Let's get started!"
   ]
  },
  {
   "cell_type": "markdown",
   "metadata": {},
   "source": [
    "As always, we begin by importing the required libraries."
   ]
  },
  {
   "cell_type": "code",
   "execution_count": null,
   "metadata": {},
   "outputs": [],
   "source": [
    "from __future__ import print_function\n",
    "import regex as re\n",
    "from PIL import Image, ImageFont, ImageDraw, ImageOps\n",
    "from intermine.webservice import Service\n",
    "service = Service(\"http://intermine.wormbase.org/tools/wormmine/service\")"
   ]
  },
  {
   "cell_type": "markdown",
   "metadata": {},
   "source": [
    "The chromosomes in WormBase site are numbered using the Roman Numeric System. Hence, it will be handy to have a function that would convert roman numerals to integers for easy manipulations!\n",
    "\n",
    "The function `value` assigns the integer values to the roman numerals and the `romanToDecimal` function does the actual conversion."
   ]
  },
  {
   "cell_type": "code",
   "execution_count": null,
   "metadata": {},
   "outputs": [],
   "source": [
    "def value(r):\n",
    "    if (r == 'I'):\n",
    "        return 1\n",
    "    if (r == 'V'):\n",
    "        return 5\n",
    "    if (r == 'X'):\n",
    "        return 10\n",
    "    if (r == 'L'):\n",
    "        return 50\n",
    "    if (r == 'C'):\n",
    "        return 100\n",
    "    if (r == 'D'):\n",
    "        return 500\n",
    "    if (r == 'M'):\n",
    "        return 1000\n",
    "    return -1\n",
    "  \n",
    "def romanToDecimal(str):\n",
    "    res = 0\n",
    "    i = 0 \n",
    "    while (i < len(str)):\n",
    "        s1 = value(str[i])\n",
    "        if (i + 1 < len(str)):\n",
    "            s2 = value(str[i + 1])\n",
    "            if (s1 >= s2):\n",
    "                res = res + s1\n",
    "                i = i + 1\n",
    "            else:\n",
    "                res = res + s2 - s1\n",
    "                i = i + 2\n",
    "        else:\n",
    "            res = res + s1\n",
    "            i = i + 1\n",
    " \n",
    "    return res"
   ]
  },
  {
   "cell_type": "markdown",
   "metadata": {},
   "source": [
    "Since we will be visualising the chromosomes, we require special fonts that we can download and use. The following cell will result in a folder named `imp_fonts` which contains only the required fonts!"
   ]
  },
  {
   "cell_type": "code",
   "execution_count": null,
   "metadata": {
    "scrolled": true
   },
   "outputs": [],
   "source": [
    "!wget \"https://noto-website-2.storage.googleapis.com/pkgs/NotoSans-hinted.zip\"\n",
    "!unzip \"NotoSans-hinted.zip\" -d \"fonts_for_map\"\n",
    "!mkdir imp_fonts\n",
    "\n",
    "!mv \"fonts_for_map/NotoSans-BoldItalic.ttf\" \"imp_fonts\"\n",
    "!mv \"fonts_for_map/NotoSans-Bold.ttf\" \"imp_fonts\"\n",
    "!mv \"fonts_for_map/NotoSans-Italic.ttf\" \"imp_fonts\"\n",
    "!mv \"fonts_for_map/NotoSans-ExtraBoldItalic.ttf\" \"imp_fonts\"\n",
    "\n",
    "!rm -r fonts_for_map\n",
    "!rm \"NotoSans-hinted.zip\""
   ]
  },
  {
   "cell_type": "markdown",
   "metadata": {},
   "source": [
    "The text on the chromosome needs to be tilted at an angle and not completely horizontal. The following function deals with that. Again, no changes are necessary!"
   ]
  },
  {
   "cell_type": "code",
   "execution_count": null,
   "metadata": {},
   "outputs": [],
   "source": [
    "def rotatetxt(text='test', degree=90):\n",
    "  \n",
    "  font = ImageFont.truetype(\"imp_fonts/NotoSans-ExtraBoldItalic.ttf\", size=12)\n",
    "  width, height = font.getsize(text)\n",
    "\n",
    "  image = Image.new('L', (height+50, width))\n",
    "  draw = ImageDraw.Draw(image)\n",
    "  draw.text((0, 0), text, font=font, fill=255)\n",
    "    \n",
    "  writeout = image.rotate(degree, expand=1)\n",
    "  return writeout"
   ]
  },
  {
   "cell_type": "markdown",
   "metadata": {},
   "source": [
    "Assign the gene list to the GeneNames variable! Add genes to the list separated by commas, while ensuring that the entire list is enclosed by double quotes.\n",
    "\n",
    "We will then prepare the gene list in a format useful for us!"
   ]
  },
  {
   "cell_type": "code",
   "execution_count": null,
   "metadata": {},
   "outputs": [],
   "source": [
    "GeneNames = \"eat-4, egl-19, C26C6.1, WBGene00006669, F19B2.10, gpa-3\"\n",
    "gene_strings = re.split('; |, |\\*|\\n', GeneNames)"
   ]
  },
  {
   "cell_type": "markdown",
   "metadata": {},
   "source": [
    "The next step is to map the genes to the chromosome locations. For this we will use WormMine queries. Refer to tutorial 2 for more info on using WormMine. \n",
    "\n",
    "We will make a list of all genes that can mapped to chromosomes in _C.elegans_ and pair them with their locations."
   ]
  },
  {
   "cell_type": "code",
   "execution_count": null,
   "metadata": {},
   "outputs": [],
   "source": [
    "genes_found = {} #dictionary as we need to pair genes with their locations!\n",
    "genes_notfound = []\n",
    "\n",
    "for gene_name in gene_strings:\n",
    "    gene_name = gene_name.strip()\n",
    "    \n",
    "    query = service.new_query(\"Gene\") \n",
    "    query.add_view(\"chromosome.primaryIdentifier\", \"locations.start\")\n",
    "    query.add_constraint(\"Gene\", \"LOOKUP\", gene_name, \"C. elegans\", code = \"A\")\n",
    "    \n",
    "    if gene_name not in genes_found:\n",
    "        if not query.rows():\n",
    "            genes_notfound.append(gene_name)\n",
    "            \n",
    "        else:\n",
    "            for generow in query.rows():\n",
    "                gene_id = generow[\"primaryIdentifier\"]\n",
    "                gene_pub_name = generow[\"symbol\"]\n",
    "                gene_chr = generow[\"chromosome.primaryIdentifier\"]\n",
    "                gene_loc = generow[\"locations.start\"]\n",
    "                genes_found.update({gene_id : [gene_pub_name, gene_chr, gene_loc]})"
   ]
  },
  {
   "cell_type": "markdown",
   "metadata": {},
   "source": [
    "Now that we have mapped the genes to the chromosomes in the dictionary, we will fetch the chromosome information. Again, we use WormMine."
   ]
  },
  {
   "cell_type": "code",
   "execution_count": null,
   "metadata": {},
   "outputs": [],
   "source": [
    "query = service.new_query(\"Chromosome\")\n",
    "query.add_view(\"primaryIdentifier\", \"length\")\n",
    "\n",
    "chromosomes = {}\n",
    "\n",
    "for chrrow in query.rows():\n",
    "    chrom_label = chrrow[\"primaryIdentifier\"]\n",
    "    length = chrrow[\"length\"]\n",
    "    \n",
    "    if 'X' in chrom_label:\n",
    "        chr_num = (5+1)\n",
    "    elif 'MtDNA' in chrom_label:\n",
    "        chr_num = (6+1)\n",
    "    else:\n",
    "        chr_num = roman_to_int(chrom_label)\n",
    "    \n",
    "    chromosomes.update({chr_num : [chrom_label, length]})"
   ]
  },
  {
   "cell_type": "markdown",
   "metadata": {},
   "source": [
    "Now we have all that we need to generate the chromosome map images!!\n",
    "\n",
    "We will first assign all the image dimensions related variables appropriate values. Then deal with laying down the lines for chromosomes and then marking the gene names on them. You do not need to make any changes to this cell!"
   ]
  },
  {
   "cell_type": "code",
   "execution_count": null,
   "metadata": {},
   "outputs": [],
   "source": [
    "spacer = 65                               #increase to increase height\n",
    "headspace = 60\n",
    "mitohead = 200\n",
    "txthead = 15\n",
    "nameshift = 65\n",
    "autoscale = 25000                         #decrease to increase width\n",
    "mitoscale = (autoscale / 1000)\n",
    "\n",
    "chromosome_map = Image.new('RGB', (int(25000000 / autoscale), (spacer * 8)), (255, 255, 255)) #dimension and color\n",
    "graph = ImageDraw.Draw(chromosome_map)\n",
    "\n",
    "\n",
    "\n",
    "for chromosome in chromosomes:\n",
    "    \n",
    "    chrnum = chromosome\n",
    "    chromlabel = chromosomes[chromosome][0]\n",
    "    chromlength = chromosomes[chromosome][1]\n",
    "    \n",
    "    font = ImageFont.truetype(\"imp_fonts/NotoSans-Bold.ttf\", size=20)\n",
    "    \n",
    "    if 'MtDNA' in chromlabel: \n",
    "        graph.line((mitohead, (spacer * chrnum), (chromlength/mitoscale + mitohead), (spacer * chrnum)), \n",
    "                   fill=(0, 100, 255), width=5)\n",
    "        graph.text((txthead, (spacer * chrnum - 15)),(chromlabel + ' (X 1,000)'),(0,0,0),font=font)\n",
    "        \n",
    "    else:\n",
    "        graph.line((headspace, (spacer * chrnum), (chromlength/autoscale + headspace), (spacer * chrnum)), \n",
    "                   fill=(0, 100, 255), width=5)\n",
    "        graph.text((txthead, (spacer * chrnum - 15)),(chromlabel),(0,0,0),font=font)\n",
    "        \n",
    "\n",
    "for gene in genes_found:\n",
    "    \n",
    "    geneid = gene\n",
    "    pubname = genes_found[gene][0]\n",
    "    chromo = genes_found[gene][1]\n",
    "    location = genes_found[gene][2]\n",
    "    \n",
    "    font = ImageFont.truetype(\"imp_fonts/NotoSans-BoldItalic.ttf\")\n",
    "    \n",
    "    if 'MtDNA' in chromo:\n",
    "        chrnum = 7\n",
    "        graph.line(((location/mitoscale + mitohead), (spacer * chrnum -2.5 ), (location/mitoscale + mitohead), \n",
    "                    (spacer * chrnum - 10)), fill=(0, 0, 0), width=2)\n",
    "        chromosome_map.paste( ImageOps.colorize(rotatetxt(pubname, 45), (0,0,0), (0,0,0)), \n",
    "                 (int(location/mitoscale + mitohead - 5), (spacer * chrnum - nameshift)),  rotatetxt(pubname, 45))\n",
    "    \n",
    "    elif 'X' in chromo: \n",
    "        chrnum = 6\n",
    "        graph.line(((location/autoscale + headspace), (spacer * chrnum -2.5 ), (location/autoscale + headspace), \n",
    "                    (spacer * chrnum - 10)), fill=(0, 0, 0), width=2)\n",
    "        chromosome_map.paste( ImageOps.colorize(rotatetxt(pubname, 45), (0,0,0), (0,0,0)), \n",
    "                 (int(location/autoscale + headspace - 5), (spacer * chrnum - nameshift)),  rotatetxt(pubname, 45))\n",
    "        \n",
    "    else:\n",
    "        chrnum = roman_to_int(chromo)\n",
    "        graph.line(((location/autoscale + headspace), (spacer * chrnum -2.5 ), (location/autoscale + headspace), \n",
    "                    (spacer * chrnum - 10)), fill=(0, 0, 0), width=2)\n",
    "        chromosome_map.paste( ImageOps.colorize(rotatetxt(pubname, 45), (0,0,0), (0,0,0)), \n",
    "                 (int(location/autoscale + headspace - 5), (spacer * chrnum - nameshift)),  rotatetxt(pubname, 45))\n",
    "\n",
    "chromosome_map"
   ]
  },
  {
   "cell_type": "markdown",
   "metadata": {},
   "source": [
    "This is the end of the tutorial on generating a chromosome map for a given list of genes using WormMine.\n",
    "\n",
    "Acknowledgements:\n",
    "- Worm Tutorials GitHub (https://github.com/Munfred/worm-tutorials)\n",
    "\n",
    "This is also the end of the WormBase Jupyter Notebook series! Hope it was helpful!!"
   ]
  }
 ],
 "metadata": {
  "kernelspec": {
   "display_name": "Python 3",
   "language": "python",
   "name": "python3"
  },
  "language_info": {
   "codemirror_mode": {
    "name": "ipython",
    "version": 3
   },
   "file_extension": ".py",
   "mimetype": "text/x-python",
   "name": "python",
   "nbconvert_exporter": "python",
   "pygments_lexer": "ipython3",
   "version": "3.8.5"
  }
 },
 "nbformat": 4,
 "nbformat_minor": 4
}
