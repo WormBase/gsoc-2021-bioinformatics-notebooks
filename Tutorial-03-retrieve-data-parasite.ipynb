{
 "cells": [
  {
   "cell_type": "markdown",
   "metadata": {},
   "source": [
    "# **Bioinformatics with Jupyter Notebooks for WormBase:**\n",
    "## **Data Retrieval 3 - Accessing WormBase data through ParaSite**\n",
    "Welcome to the third jupyter notebook in the WormBase tutorial series. Over this series of tutorials, we will write code in Python that allows us to retrieve and perform simple analyses with data available on the WormBase sites.\n",
    "\n",
    "This tutorial will deal with accessing the WormBase ParaSite RESTful API endpoints and downloading any required data. Let's get started!"
   ]
  },
  {
   "cell_type": "markdown",
   "metadata": {},
   "source": [
    "We start by installing and loading the libraries that are required for this tutorial. We also initialise the server variable to the parasite main website."
   ]
  },
  {
   "cell_type": "code",
   "execution_count": null,
   "metadata": {},
   "outputs": [],
   "source": [
    "import requests\n",
    "import sys\n",
    "import json\n",
    "server = \"https://parasite.wormbase.org\""
   ]
  },
  {
   "cell_type": "markdown",
   "metadata": {},
   "source": [
    "#### Information about the available data\n",
    "\n",
    "In the cell below, there are several examples on how to use `/rest-15/info/`. Uncomment the request that suits your needs best and change the variables as needed. "
   ]
  },
  {
   "cell_type": "markdown",
   "metadata": {},
   "source": [
    "Get the currently available assemblies for a species in json format."
   ]
  },
  {
   "cell_type": "code",
   "execution_count": null,
   "metadata": {},
   "outputs": [],
   "source": [
    "request = requests.get(server + \"/rest-15/info/assembly/caenorhabditis_elegans?\", \n",
    "                       headers = {\"Content-Type\" : \"application/json\", \"Accept\" : \"\"})\n",
    "\n",
    "if not request.ok:\n",
    "  request.raise_for_status()\n",
    "  sys.exit()\n",
    "decoded = request.json()\n",
    "print(json.dumps(decoded, indent = 4))"
   ]
  },
  {
   "cell_type": "markdown",
   "metadata": {},
   "source": [
    "Get information about the specified sequence region for a species in json format."
   ]
  },
  {
   "cell_type": "code",
   "execution_count": null,
   "metadata": {},
   "outputs": [],
   "source": [
    "request = requests.get(server + \"/rest-15/info/assembly/caenorhabditis_elegans/I?\", \n",
    "                       headers = {\"Content-Type\" : \"application/json\", \"Accept\" : \"\"})\n",
    "\n",
    "if not request.ok:\n",
    "  request.raise_for_status()\n",
    "  sys.exit()\n",
    "decoded = request.json()\n",
    "print(json.dumps(decoded, indent = 4))"
   ]
  },
  {
   "cell_type": "markdown",
   "metadata": {},
   "source": [
    "Get information about a genome in json format."
   ]
  },
  {
   "cell_type": "code",
   "execution_count": null,
   "metadata": {},
   "outputs": [],
   "source": [
    "request = requests.get(server + \"/rest-15/info/genomes/caenorhabditis_elegans?\", \n",
    "                       headers = {\"Content-Type\" : \"application/json\", \"Accept\" : \"\"})\n",
    "\n",
    "if not request.ok:\n",
    "  request.raise_for_status()\n",
    "  sys.exit()\n",
    "decoded = request.json()\n",
    "print(json.dumps(decoded, indent = 4))"
   ]
  },
  {
   "cell_type": "markdown",
   "metadata": {},
   "source": [
    "Find information about all genomes in json format."
   ]
  },
  {
   "cell_type": "code",
   "execution_count": null,
   "metadata": {},
   "outputs": [],
   "source": [
    "request = requests.get(server + \"/rest-15/info/genomes/?\", \n",
    "                       headers = {\"Content-Type\" : \"application/json\", \"Accept\" : \"\"})\n",
    "\n",
    "if not request.ok:\n",
    "  request.raise_for_status()\n",
    "  sys.exit()\n",
    "decoded = request.json()\n",
    "print(json.dumps(decoded, indent = 4))"
   ]
  },
  {
   "cell_type": "markdown",
   "metadata": {},
   "source": [
    "Find information about a genome with a specified assembly in json format."
   ]
  },
  {
   "cell_type": "code",
   "execution_count": null,
   "metadata": {},
   "outputs": [],
   "source": [
    "request = requests.get(server + \"/rest-15/info/genomes/assembly/GCA_000002985.3?\", \n",
    "                       headers = {\"Content-Type\" : \"application/json\", \"Accept\" : \"\"})\n",
    "\n",
    "if not request.ok:\n",
    "  request.raise_for_status()\n",
    "  sys.exit()\n",
    "decoded = request.json()\n",
    "print(json.dumps(decoded, indent = 4))"
   ]
  },
  {
   "cell_type": "markdown",
   "metadata": {},
   "source": [
    "Find information about all genomes beneath a given node of the taxonomy in json format."
   ]
  },
  {
   "cell_type": "code",
   "execution_count": null,
   "metadata": {},
   "outputs": [],
   "source": [
    "request = requests.get(server + \"/rest-15/info/genomes/taxonomy/6239?\", \n",
    "                       headers = {\"Content-Type\" : \"application/json\", \"Accept\" : \"\"})\n",
    "\n",
    "if not request.ok:\n",
    "  request.raise_for_status()\n",
    "  sys.exit()\n",
    "decoded = request.json()\n",
    "print(json.dumps(decoded, indent = 4))"
   ]
  },
  {
   "cell_type": "markdown",
   "metadata": {},
   "source": [
    "Get the quality (CEGMA and BUSCO) scores for a specific genome in json format."
   ]
  },
  {
   "cell_type": "code",
   "execution_count": null,
   "metadata": {},
   "outputs": [],
   "source": [
    "request = requests.get(server + \"/rest-15/info/quality/caenorhabditis_elegans?\", \n",
    "                       headers = {\"Content-Type\" : \"application/json\", \"Accept\" : \"\"})\n",
    "\n",
    "if not request.ok:\n",
    "  request.raise_for_status()\n",
    "  sys.exit()\n",
    "decoded = request.json()\n",
    "print(json.dumps(decoded, indent = 4))"
   ]
  },
  {
   "cell_type": "markdown",
   "metadata": {},
   "source": [
    "Get the WormBase release number in json format."
   ]
  },
  {
   "cell_type": "code",
   "execution_count": null,
   "metadata": {},
   "outputs": [],
   "source": [
    "request = requests.get(server + \"/rest-15/info/version/\", \n",
    "                       headers = {\"Content-Type\" : \"application/json\", \"Accept\" : \"\"})\n",
    "\n",
    "if not request.ok:\n",
    "  request.raise_for_status()\n",
    "  sys.exit()\n",
    "decoded = request.json()\n",
    "print(json.dumps(decoded, indent = 4))"
   ]
  },
  {
   "cell_type": "markdown",
   "metadata": {},
   "source": [
    "Lists all available species, their aliases, available adaptor groups and data release in json format."
   ]
  },
  {
   "cell_type": "code",
   "execution_count": null,
   "metadata": {},
   "outputs": [],
   "source": [
    "request = requests.get(server + \"/rest-15/info/species?division=EnsemblParasite\", \n",
    "                       headers = {\"Content-Type\" : \"application/json\", \"Accept\" : \"\"})\n",
    "\n",
    "if not request.ok:\n",
    "  request.raise_for_status()\n",
    "  sys.exit()\n",
    "decoded = request.json()\n",
    "print(json.dumps(decoded, indent = 4))"
   ]
  },
  {
   "cell_type": "markdown",
   "metadata": {},
   "source": [
    "#### Looking up information for single and several identifiers\n",
    "\n",
    "In the cell below, there are several examples on how to use `/rest-15/lookup/`. Uncomment the request that suits your needs best and change the variables as needed. "
   ]
  },
  {
   "cell_type": "markdown",
   "metadata": {},
   "source": [
    "Find the species and database for a single identifier in json format."
   ]
  },
  {
   "cell_type": "code",
   "execution_count": null,
   "metadata": {},
   "outputs": [],
   "source": [
    "request = requests.get(server + \"/rest-15/lookup/id/WBGene00008422?\", \n",
    "                       headers = {\"Content-Type\" : \"application/json\", \"Accept\" : \"\"})\n",
    "\n",
    "if not request.ok:\n",
    "  request.raise_for_status()\n",
    "  sys.exit()\n",
    "decoded = request.json()\n",
    "print(json.dumps(decoded, indent = 4))"
   ]
  },
  {
   "cell_type": "markdown",
   "metadata": {},
   "source": [
    "Find the species and database for a single identifier (expanded information) in json format."
   ]
  },
  {
   "cell_type": "code",
   "execution_count": null,
   "metadata": {},
   "outputs": [],
   "source": [
    "request = requests.get(server + \"/rest-15/lookup/id/WBGene00008422?expand=1\", \n",
    "                       headers = {\"Content-Type\" : \"application/json\", \"Accept\" : \"\"})\n",
    "\n",
    "if not request.ok:\n",
    "  request.raise_for_status()\n",
    "  sys.exit()\n",
    "decoded = request.json()\n",
    "print(json.dumps(decoded, indent = 4))"
   ]
  },
  {
   "cell_type": "markdown",
   "metadata": {},
   "source": [
    "Find the species and database for a single identifier (condensed information) in json format."
   ]
  },
  {
   "cell_type": "code",
   "execution_count": null,
   "metadata": {},
   "outputs": [],
   "source": [
    "request = requests.get(server + \"/rest-15/lookup/id/WBGene00008422?format=condensed;db_type=core\", \n",
    "                       headers = {\"Content-Type\" : \"application/json\", \"Accept\" : \"\"})\n",
    "\n",
    "if not request.ok:\n",
    "  request.raise_for_status()\n",
    "  sys.exit()\n",
    "decoded = request.json()\n",
    "print(json.dumps(decoded, indent = 4))"
   ]
  },
  {
   "cell_type": "markdown",
   "metadata": {},
   "source": [
    "Find the species and database for several identifiers in json format."
   ]
  },
  {
   "cell_type": "code",
   "execution_count": null,
   "metadata": {},
   "outputs": [],
   "source": [
    "request = requests.post(server + \"/rest-15/lookup/id/\", \n",
    "                        headers = {\"Content-Type\" : \"application/json\", \"Accept\" : \"application/json\"}, data='{ \"ids\" : [\"WBGene00011532\", \"WBGene00008422\" ] }')\n",
    "\n",
    "if not request.ok:\n",
    "  request.raise_for_status()\n",
    "  sys.exit()\n",
    "decoded = request.json()\n",
    "print(json.dumps(decoded, indent = 4))"
   ]
  },
  {
   "cell_type": "markdown",
   "metadata": {},
   "source": [
    "Find the species and database for a symbol in a linked external database in json format."
   ]
  },
  {
   "cell_type": "code",
   "execution_count": null,
   "metadata": {},
   "outputs": [],
   "source": [
    "request = requests.get(server + \"/rest-15/lookup/symbol/caenorhabditis_elegans_prjna13758/chaf-1?\", \n",
    "                       headers = {\"Content-Type\" : \"application/json\", \"Accept\" : \"\"})\n",
    "\n",
    "if not request.ok:\n",
    "  request.raise_for_status()\n",
    "  sys.exit()\n",
    "decoded = request.json()\n",
    "print(json.dumps(decoded, indent = 4))"
   ]
  },
  {
   "cell_type": "markdown",
   "metadata": {},
   "source": [
    "Find the species and database for a symbol in a linked external database in json format."
   ]
  },
  {
   "cell_type": "code",
   "execution_count": null,
   "metadata": {},
   "outputs": [],
   "source": [
    "request = requests.get(server + \"/rest-15/lookup/symbol/caenorhabditis_elegans_prjna13758/chaf-1?expand=1\", \n",
    "                       headers = {\"Content-Type\" : \"application/json\", \"Accept\" : \"\"})\n",
    "\n",
    "if not request.ok:\n",
    "  request.raise_for_status()\n",
    "  sys.exit()\n",
    "decoded = request.json()\n",
    "print(json.dumps(decoded, indent = 4))"
   ]
  },
  {
   "cell_type": "markdown",
   "metadata": {},
   "source": [
    "Find the species and database for a symbol in a linked external database in json format."
   ]
  },
  {
   "cell_type": "code",
   "execution_count": null,
   "metadata": {},
   "outputs": [],
   "source": [
    "request = requests.get(server + \"/rest-15/lookup/symbol/caenorhabditis_elegans_prjna13758/chaf-1?\" \\\n",
    "                       + \"format=condensed;db_type=core\", \n",
    "                       headers = {\"Content-Type\" : \"application/json\", \"Accept\" : \"\"})\n",
    "\n",
    "if not request.ok:\n",
    "  request.raise_for_status()\n",
    "  sys.exit()\n",
    "decoded = request.json()\n",
    "print(json.dumps(decoded, indent = 4))"
   ]
  },
  {
   "cell_type": "markdown",
   "metadata": {},
   "source": [
    "Find the species and database for a set of symbols in a linked external database in json format."
   ]
  },
  {
   "cell_type": "code",
   "execution_count": null,
   "metadata": {},
   "outputs": [],
   "source": [
    "request = requests.post(server + \"/rest-15/lookup/symbol/caenorhabditis_elegans_prjna13758/chaf-1\", \n",
    "                        headers = {\"Content-Type\" : \"application/json\", \"Accept\" : \"application/json\"}, \n",
    "                        data = '{\"symbols\" : [\"Bm994\", \"__VAR(gene_symbol2)__\" ] }')\n",
    "\n",
    "if not request.ok:\n",
    "  request.raise_for_status()\n",
    "  sys.exit()\n",
    "decoded = request.json()\n",
    "print(json.dumps(decoded, indent = 4))"
   ]
  },
  {
   "cell_type": "markdown",
   "metadata": {},
   "source": [
    "#### Sequence Information from WormBase\n",
    "\n",
    "In the cells below, there are several examples on how to use `/rest-15/sequence/`. Uncomment the request that suits your needs best and change the variables as needed. "
   ]
  },
  {
   "cell_type": "markdown",
   "metadata": {},
   "source": [
    "Request DNA sequence by WormBase Gene ID in plain text format."
   ]
  },
  {
   "cell_type": "code",
   "execution_count": null,
   "metadata": {},
   "outputs": [],
   "source": [
    "request = requests.get(server + \"/rest-15/sequence/id/WBGene00008422?\" , \n",
    "                       headers = {\"Content-Type\" : \"text/plain\", \"Accept\" : \"\"}) \n",
    "\n",
    "if not request.ok:\n",
    "  request.raise_for_status()\n",
    "  sys.exit() \n",
    "print(request.text)"
   ]
  },
  {
   "cell_type": "markdown",
   "metadata": {},
   "source": [
    "Request Genomic sequence by WormBase Gene ID in plain text format."
   ]
  },
  {
   "cell_type": "code",
   "execution_count": null,
   "metadata": {},
   "outputs": [],
   "source": [
    "request = requests.get(server + \"/rest-15/sequence/id/WBGene00008422?type=genomic\" , \n",
    "                       headers = {\"Content-Type\" : \"text/x-fasta\", \"Accept\" : \"\"}) \n",
    "\n",
    "if not request.ok:\n",
    "  request.raise_for_status()\n",
    "  sys.exit() \n",
    "print(request.text)"
   ]
  },
  {
   "cell_type": "markdown",
   "metadata": {},
   "source": [
    "Request Protein sequence (1 of multiple) by WormBase Gene ID in xml format."
   ]
  },
  {
   "cell_type": "code",
   "execution_count": null,
   "metadata": {},
   "outputs": [],
   "source": [
    "request = requests.get(server + \"/rest-15/sequence/id/WBGene00008422?multiple_sequences=1;type=protein\" , \n",
    "                       headers = {\"Content-Type\" : \"text/x-seqxml+xml\", \"Accept\" : \"\"}) \n",
    "\n",
    "if not request.ok:\n",
    "  request.raise_for_status()\n",
    "  sys.exit() \n",
    "print(request.text)"
   ]
  },
  {
   "cell_type": "markdown",
   "metadata": {},
   "source": [
    "Request cdna (or cds) transcript sequence by WormBase Entry ID in fasta format."
   ]
  },
  {
   "cell_type": "code",
   "execution_count": null,
   "metadata": {},
   "outputs": [],
   "source": [
    "request = requests.get(server + \"/rest-15/sequence/id/E02H9.4?object_type=transcript;type=cdna\" , \n",
    "                       headers = {\"Content-Type\" : \"text/x-fasta\", \"Accept\" : \"\"}) \n",
    "\n",
    "if not request.ok:\n",
    "  request.raise_for_status()\n",
    "  sys.exit() \n",
    "print(request.text)"
   ]
  },
  {
   "cell_type": "markdown",
   "metadata": {},
   "source": [
    "Get the genomic sequence of the specified region of a species in fasta format."
   ]
  },
  {
   "cell_type": "code",
   "execution_count": null,
   "metadata": {},
   "outputs": [],
   "source": [
    "request = requests.get(server + \"/rest-15/sequence/region/caenorhabditis_elegans/I:1-5000:1?\" , \n",
    "                       headers = {\"Content-Type\" : \"text/x-fasta\", \"Accept\" : \"\"}) \n",
    "\n",
    "if not request.ok:\n",
    "  request.raise_for_status()\n",
    "  sys.exit() \n",
    "print(request.text)"
   ]
  },
  {
   "cell_type": "markdown",
   "metadata": {},
   "source": [
    "Get the soft-masked genomic sequence of the specified region of a species in fasta format."
   ]
  },
  {
   "cell_type": "code",
   "execution_count": null,
   "metadata": {
    "scrolled": true
   },
   "outputs": [],
   "source": [
    "request = requests.get(server + \"/rest-15/sequence/region/caenorhabditis_elegans/I:1-5000:1?mask=soft\" , \n",
    "                       headers = {\"Content-Type\" : \"text/x-fasta\", \"Accept\" : \"\"}) \n",
    "\n",
    "if not request.ok:\n",
    "  request.raise_for_status()\n",
    "  sys.exit() \n",
    "print(request.text)"
   ]
  },
  {
   "cell_type": "markdown",
   "metadata": {},
   "source": [
    "Request multiple types of sequence by a stable identifier list in json format."
   ]
  },
  {
   "cell_type": "code",
   "execution_count": null,
   "metadata": {},
   "outputs": [],
   "source": [
    "request = requests.post(server + \"/rest-15/sequence/id\" , \n",
    "                        headers = {\"Content-Type\" : \"application/json\", \"Accept\" : \"application/json\"}, \n",
    "                        data = '{\"ids\" : [\"WBGene00011532\", \"WBGene00008422\" ] }') \n",
    "\n",
    "if not request.ok:\n",
    "  request.raise_for_status()\n",
    "  sys.exit() \n",
    "decoded = request.json()\n",
    "print(json.dumps(decoded, indent = 4))"
   ]
  },
  {
   "cell_type": "markdown",
   "metadata": {},
   "source": [
    "Get the genomic sequence of the specified region of a species in json format."
   ]
  },
  {
   "cell_type": "code",
   "execution_count": null,
   "metadata": {
    "scrolled": true
   },
   "outputs": [],
   "source": [
    "request = requests.get(server + \"/rest-15/sequence/region/caenorhabditis_elegans/I:1-5000:1?\" , \n",
    "                       headers = {\"Content-Type\" : \"application/json\", \"Accept\" : \"\"}) \n",
    "\n",
    "if not request.ok:\n",
    "  request.raise_for_status()\n",
    "  sys.exit() \n",
    "decoded = request.json()\n",
    "print(json.dumps(decoded, indent = 4))"
   ]
  },
  {
   "cell_type": "markdown",
   "metadata": {},
   "source": [
    "Get the genomic sequences of multiple regions of a species in json format."
   ]
  },
  {
   "cell_type": "code",
   "execution_count": null,
   "metadata": {},
   "outputs": [],
   "source": [
    "request = requests.post(server + \"/rest-15/sequence/region/caenorhabditis_elegans\" , \n",
    "                        headers = {\"Content-Type\" : \"application/json\", \"Accept\" : \"application/json\"}, \n",
    "                        data = '{\"regions\" : [\"I:1-5000:1\", \"I:5600..85000\"] }') \n",
    "\n",
    "if not request.ok:\n",
    "  request.raise_for_status()\n",
    "  sys.exit() \n",
    "decoded = request.json()\n",
    "print(json.dumps(decoded, indent = 4))"
   ]
  },
  {
   "cell_type": "markdown",
   "metadata": {},
   "source": [
    "#### Map data from cdna, cds or protein coordinates to genomic coordinates\n",
    "\n",
    "In the cell below, there are several examples on how to use `/rest-15/map/`. Uncomment the request that suits your needs best and change the variables as needed. "
   ]
  },
  {
   "cell_type": "markdown",
   "metadata": {},
   "source": [
    "Convert from cDNA coordinates to genomic coordinates in json format."
   ]
  },
  {
   "cell_type": "code",
   "execution_count": null,
   "metadata": {},
   "outputs": [],
   "source": [
    "request = requests.get(server + \"/rest-15/map/cdna/Y74C9A.3.2/100..300?object_type=transcript\" , \n",
    "                       headers = {\"Content-Type\" : \"application/json\", \"Accept\" : \"\"}) \n",
    "\n",
    "if not request.ok:\n",
    "  request.raise_for_status()\n",
    "  sys.exit() \n",
    "decoded = request.json()\n",
    "print(json.dumps(decoded, indent = 4))"
   ]
  },
  {
   "cell_type": "markdown",
   "metadata": {},
   "source": [
    "Convert from cds coordinates to genomic coordinates in json format."
   ]
  },
  {
   "cell_type": "code",
   "execution_count": null,
   "metadata": {},
   "outputs": [],
   "source": [
    "request = requests.get(server + \"/rest-15/map/cds/Y74C9A.3.2/1..300?object_type=transcript\" , \n",
    "                       headers = {\"Content-Type\" : \"application/json\", \"Accept\" : \"\"}) \n",
    "\n",
    "if not request.ok:\n",
    "  request.raise_for_status()\n",
    "  sys.exit() \n",
    "decoded = request.json()\n",
    "print(json.dumps(decoded, indent = 4))"
   ]
  },
  {
   "cell_type": "markdown",
   "metadata": {},
   "source": [
    "Convert from protein coordinates to genomic coordinates in json format."
   ]
  },
  {
   "cell_type": "code",
   "execution_count": null,
   "metadata": {},
   "outputs": [],
   "source": [
    "request = requests.get(server + \"/rest-15/map/translation/Y74C9A.3.2/1..100?object_type=translation\" , \n",
    "                       headers = {\"Content-Type\" : \"application/json\", \"Accept\" : \"\"}) \n",
    "\n",
    "if not request.ok:\n",
    "  request.raise_for_status()\n",
    "  sys.exit() \n",
    "decoded = request.json()\n",
    "print(json.dumps(decoded, indent = 4))"
   ]
  },
  {
   "cell_type": "markdown",
   "metadata": {},
   "source": [
    "#### Explore ontology and taxonomy terms\n",
    "\n",
    "In the cell below, there are several examples on how to use `/rest-15/ontology/`. Uncomment the request that suits your needs best and change the variables as needed. "
   ]
  },
  {
   "cell_type": "markdown",
   "metadata": {},
   "source": [
    "Reconstruct the entire ancestry of a term from is_a and part_of relationships in json format."
   ]
  },
  {
   "cell_type": "code",
   "execution_count": null,
   "metadata": {},
   "outputs": [],
   "source": [
    "request = requests.get(server + \"/rest-15/ontology/ancestors/GO:0005667?\" , \n",
    "                       headers = {\"Content-Type\" : \"application/json\", \"Accept\" : \"\"}) \n",
    "#request = requests.get(server + \"/rest-15/ontology/ancestors/chart/GO:0005667?\" , \n",
    "#                        headers = {\"Content-Type\" : \"application/json\", \"Accept\" : \"\"}) \n",
    "\n",
    "if not request.ok:\n",
    "  request.raise_for_status()\n",
    "  sys.exit() \n",
    "decoded = request.json()\n",
    "print(json.dumps(decoded, indent = 4))"
   ]
  },
  {
   "cell_type": "markdown",
   "metadata": {},
   "source": [
    "Find all the terms descended from a given term in json format."
   ]
  },
  {
   "cell_type": "code",
   "execution_count": null,
   "metadata": {},
   "outputs": [],
   "source": [
    "request = requests.get(server + \"/rest-15/ontology/descendants/GO:0005667?\" , \n",
    "                       headers = {\"Content-Type\" : \"application/json\", \"Accept\" : \"\"}) \n",
    "\n",
    "if not request.ok:\n",
    "  request.raise_for_status()\n",
    "  sys.exit() \n",
    "decoded = request.json()\n",
    "print(json.dumps(decoded, indent = 4))"
   ]
  },
  {
   "cell_type": "markdown",
   "metadata": {},
   "source": [
    "Search for an ontological term by its namespaced identifier in json format"
   ]
  },
  {
   "cell_type": "code",
   "execution_count": null,
   "metadata": {},
   "outputs": [],
   "source": [
    "request = requests.get(server + \"/rest-15/ontology/id/GO:0005667?\" , \n",
    "                       headers = {\"Content-Type\" : \"application/json\", \"Accept\" : \"\"}) \n",
    "\n",
    "if not request.ok:\n",
    "  request.raise_for_status()\n",
    "  sys.exit() \n",
    "decoded = request.json()\n",
    "print(json.dumps(decoded, indent = 4))"
   ]
  },
  {
   "cell_type": "markdown",
   "metadata": {},
   "source": [
    "Search for a list of ontological terms by their name in json format."
   ]
  },
  {
   "cell_type": "code",
   "execution_count": null,
   "metadata": {
    "scrolled": true
   },
   "outputs": [],
   "source": [
    "request = requests.get(server + \"/rest-15/ontology/name/transcription factor complex?\" , \n",
    "                       headers = {\"Content-Type\" : \"application/json\", \"Accept\" : \"\"}) \n",
    "\n",
    "if not request.ok:\n",
    "  request.raise_for_status()\n",
    "  sys.exit() \n",
    "decoded = request.json()\n",
    "print(json.dumps(decoded, indent = 4))"
   ]
  },
  {
   "cell_type": "markdown",
   "metadata": {},
   "source": [
    "#### Retrieves features that overlap a given region\n",
    "\n",
    "In the cell below, there are several examples on how to use `/rest-15/overlap/`. Uncomment the request that suits your needs best and change the variables as needed. "
   ]
  },
  {
   "cell_type": "markdown",
   "metadata": {},
   "source": [
    "Retrieves mentioned features of a kind that overlap a region defined by a gene in json format."
   ]
  },
  {
   "cell_type": "code",
   "execution_count": null,
   "metadata": {},
   "outputs": [],
   "source": [
    "request = requests.get(server + \"/rest-15/overlap/id/WBGene00008422?feature=gene\" , \n",
    "                       headers = {\"Content-Type\" : \"application/json\", \"Accept\" : \"\"}) \n",
    "\n",
    "if not request.ok:\n",
    "  request.raise_for_status()\n",
    "  sys.exit() \n",
    "decoded = request.json()\n",
    "print(json.dumps(decoded, indent = 4))"
   ]
  },
  {
   "cell_type": "markdown",
   "metadata": {},
   "source": [
    "Retrieves mentioned features of multiple types for a region in json format."
   ]
  },
  {
   "cell_type": "code",
   "execution_count": null,
   "metadata": {},
   "outputs": [],
   "source": [
    "request = requests.get(server + \"/rest-15/overlap/region/caenorhabditis_elegans/I:1-5000?feature=gene;\" + \\\n",
    "                       \"feature=transcript;feature=cds;feature=exon\" , \n",
    "                       headers = {\"Content-Type\" : \"application/json\", \"Accept\" : \"\"}) \n",
    "\n",
    "if not request.ok:\n",
    "  request.raise_for_status()\n",
    "  sys.exit() \n",
    "decoded = request.json()\n",
    "print(json.dumps(decoded, indent = 4))"
   ]
  },
  {
   "cell_type": "markdown",
   "metadata": {},
   "source": [
    "Retrieves mentioned features of multiple types for a region in json format."
   ]
  },
  {
   "cell_type": "code",
   "execution_count": null,
   "metadata": {},
   "outputs": [],
   "source": [
    "request = requests.get(server + \"/rest-15/overlap/region/caenorhabditis_elegans/I:1-5000?feature=gene;\" + \\\n",
    "                       \"feature=transcript;feature=cds;feature=exon\" , \n",
    "                       headers = {\"Content-Type\" : \"application/json\", \"Accept\" : \"\"}) \n",
    "\n",
    "if not request.ok:\n",
    "  request.raise_for_status()\n",
    "  sys.exit() \n",
    "decoded = request.json()\n",
    "print(json.dumps(decoded, indent = 4))"
   ]
  },
  {
   "cell_type": "markdown",
   "metadata": {},
   "source": [
    "Retrieve mentioned features of multiple types for a specific translation in json format."
   ]
  },
  {
   "cell_type": "code",
   "execution_count": null,
   "metadata": {},
   "outputs": [],
   "source": [
    "request = requests.get(server + \"/rest-15/overlap/translation/Y74C9A.3.2?type=Superfamily\" , \n",
    "                       headers = {\"Content-Type\" : \"application/json\", \"Accept\" : \"\"}) \n",
    "\n",
    "if not request.ok:\n",
    "  request.raise_for_status()\n",
    "  sys.exit() \n",
    "decoded = request.json()\n",
    "print(json.dumps(decoded, indent = 4))"
   ]
  },
  {
   "cell_type": "markdown",
   "metadata": {},
   "source": [
    "#### Extracting all objects linked by cross referencing\n",
    "\n",
    "In the cells below, there are several examples on how to use `/rest-15/xrefs/`. Uncomment the request that suits your needs best and change the variables as needed. "
   ]
  },
  {
   "cell_type": "markdown",
   "metadata": {},
   "source": [
    "Looks up an external symbol and returns all objects linked to it in xml format."
   ]
  },
  {
   "cell_type": "code",
   "execution_count": null,
   "metadata": {},
   "outputs": [],
   "source": [
    "request = requests.get(server + \"/rest-15/xrefs/symbol/caenorhabditis_elegans_prjna13758/chaf-1?\" , \n",
    "                       headers = {\"Content-Type\" : \"text/xml\", \"Accept\" : \"\"}) \n",
    "\n",
    "if not request.ok:\n",
    "  request.raise_for_status()\n",
    "  sys.exit()\n",
    "print(request.text)"
   ]
  },
  {
   "cell_type": "markdown",
   "metadata": {},
   "source": [
    "Looks up an external symbol and returns all objects linked to it in json format."
   ]
  },
  {
   "cell_type": "code",
   "execution_count": null,
   "metadata": {},
   "outputs": [],
   "source": [
    "request = requests.get(server+\"/rest-15/xrefs/symbol/caenorhabditis_elegans_prjna13758/chaf-1?\" , \n",
    "                       headers = {\"Content-Type\" : \"application/json\", \"Accept\" : \"\"}) \n",
    "\n",
    "if not request.ok:\n",
    "  request.raise_for_status()\n",
    "  sys.exit() \n",
    "decoded = request.json()\n",
    "print(json.dumps(decoded, indent = 4))"
   ]
  },
  {
   "cell_type": "markdown",
   "metadata": {},
   "source": [
    "Looks up an external symbol and returns mentioned objects linked to it in json format."
   ]
  },
  {
   "cell_type": "code",
   "execution_count": null,
   "metadata": {},
   "outputs": [],
   "source": [
    "request = requests.get(server + \"/rest-15/xrefs/symbol/caenorhabditis_elegans_prjna13758/chaf-1?\" + \\\n",
    "                       \"external_db=EntrezGene\" , \n",
    "                       headers = {\"Content-Type\" : \"application/json\", \"Accept\" : \"\"}) \n",
    "\n",
    "if not request.ok:\n",
    "  request.raise_for_status()\n",
    "  sys.exit() \n",
    "decoded = request.json()\n",
    "print(json.dumps(decoded, indent = 4))"
   ]
  },
  {
   "cell_type": "markdown",
   "metadata": {},
   "source": [
    "Perform lookups of identifiers and retrieve their external references in other databases in json format."
   ]
  },
  {
   "cell_type": "code",
   "execution_count": null,
   "metadata": {},
   "outputs": [],
   "source": [
    "request = requests.get(server + \"/rest-15/xrefs/id/WBGene00008422?\", \n",
    "                       headers = {\"Content-Type\" : \"application/json\", \"Accept\" : \"\"}) \n",
    "\n",
    "if not request.ok:\n",
    "  request.raise_for_status()\n",
    "  sys.exit() \n",
    "decoded = request.json()\n",
    "print(json.dumps(decoded, indent = 4))"
   ]
  },
  {
   "cell_type": "markdown",
   "metadata": {},
   "source": [
    "Perform lookups of identifiers and retrieve their external references in mentioned databases in json format."
   ]
  },
  {
   "cell_type": "code",
   "execution_count": null,
   "metadata": {},
   "outputs": [],
   "source": [
    "request = requests.get(server + \"/rest-15/xrefs/id/Y74C9A.3.2?object_type=transcript;external_db=GO;all_levels=1\", \n",
    "                       headers = {\"Content-Type\" : \"application/json\", \"Accept\" : \"\"}) \n",
    "\n",
    "if not request.ok:\n",
    "  request.raise_for_status()\n",
    "  sys.exit() \n",
    "decoded = request.json()\n",
    "print(json.dumps(decoded, indent = 4))"
   ]
  },
  {
   "cell_type": "markdown",
   "metadata": {},
   "source": [
    "Performs a lookup based upon the primary accession or display label of an external reference in json format."
   ]
  },
  {
   "cell_type": "code",
   "execution_count": null,
   "metadata": {},
   "outputs": [],
   "source": [
    "request = requests.get(server + \"/rest-15/xrefs/name/caenorhabditis_elegans_prjna13758/chaf-1?\", \n",
    "                       headers = {\"Content-Type\" : \"application/json\", \"Accept\" : \"\"}) \n",
    "\n",
    "if not request.ok:\n",
    "  request.raise_for_status()\n",
    "  sys.exit() \n",
    "decoded = request.json()\n",
    "print(json.dumps(decoded, indent = 4))"
   ]
  },
  {
   "cell_type": "markdown",
   "metadata": {},
   "source": [
    "#### Comparative Genomics and GeneTree information\n",
    "\n",
    "In the cells below, there are several examples on how to use `/rest-15/genetree/`. Uncomment the request that suits your needs best and change the variables as needed. "
   ]
  },
  {
   "cell_type": "markdown",
   "metadata": {},
   "source": [
    "Retrieves a gene tree dump for a gene tree stable identifier in json format."
   ]
  },
  {
   "cell_type": "code",
   "execution_count": null,
   "metadata": {},
   "outputs": [],
   "source": [
    "request = requests.get(server + \"/rest-15/genetree/id/WBGT00000000021204?\", \n",
    "                       headers = {\"Content-Type\" : \"application/json\", \"Accept\" : \"\"}) \n",
    "\n",
    "if not request.ok:\n",
    "  request.raise_for_status()\n",
    "  sys.exit() \n",
    "decoded = request.json()\n",
    "print(json.dumps(decoded, indent = 4))"
   ]
  },
  {
   "cell_type": "markdown",
   "metadata": {},
   "source": [
    "Retrieves homology information (orthologues) by gene id in json format."
   ]
  },
  {
   "cell_type": "code",
   "execution_count": null,
   "metadata": {},
   "outputs": [],
   "source": [
    "request = requests.get(server + \"/rest-15/homology/id/WBGene00008422?\", \n",
    "                       headers = {\"Content-Type\" : \"application/json\", \"Accept\" : \"\"}) \n",
    "\n",
    "if not request.ok:\n",
    "  request.raise_for_status()\n",
    "  sys.exit() \n",
    "decoded = request.json()\n",
    "print(json.dumps(decoded, indent = 4))"
   ]
  },
  {
   "cell_type": "markdown",
   "metadata": {},
   "source": [
    "Retrieves homology information related to mentioned fields by gene id in json format."
   ]
  },
  {
   "cell_type": "code",
   "execution_count": null,
   "metadata": {},
   "outputs": [],
   "source": [
    "request = requests.get(server + \"/rest-15/homology/id/WBGene00008422?compara=parasite\", \n",
    "                       headers = {\"Content-Type\" : \"application/json\", \"Accept\" : \"\"}) \n",
    "\n",
    "if not request.ok:\n",
    "  request.raise_for_status()\n",
    "  sys.exit() \n",
    "decoded = request.json()\n",
    "print(json.dumps(decoded, indent = 4))"
   ]
  },
  {
   "cell_type": "markdown",
   "metadata": {},
   "source": [
    "Retrieves homology information related to mentioned fields by gene id in json format."
   ]
  },
  {
   "cell_type": "code",
   "execution_count": null,
   "metadata": {},
   "outputs": [],
   "source": [
    "request = requests.get(server + \"/rest-15/homology/id/WBGene00008422?target_taxon=6279;sequence=cdna;\" + \\\n",
    "                       \"target_species=wuchereria_bancrofti_prjeb536;type=orthologues\", \n",
    "                       headers = {\"Content-Type\" : \"application/json\", \"Accept\" : \"\"}) \n",
    "\n",
    "if not request.ok:\n",
    "  request.raise_for_status()\n",
    "  sys.exit() \n",
    "decoded = request.json()\n",
    "print(json.dumps(decoded, indent = 4))"
   ]
  },
  {
   "cell_type": "markdown",
   "metadata": {},
   "source": [
    "Retrieves homology information in condensed format related to mentioned fields by gene id in json format."
   ]
  },
  {
   "cell_type": "code",
   "execution_count": null,
   "metadata": {},
   "outputs": [],
   "source": [
    "request = requests.get(server + \"/rest-15/homology/id/WBGene00008422?format=condensed;type=orthologues\", \n",
    "                       headers = {\"Content-Type\" : \"application/json\", \"Accept\" : \"\"}) \n",
    "\n",
    "if not request.ok:\n",
    "  request.raise_for_status()\n",
    "  sys.exit() \n",
    "decoded = request.json()\n",
    "print(json.dumps(decoded, indent = 4))"
   ]
  },
  {
   "cell_type": "markdown",
   "metadata": {},
   "source": [
    "Retrieves homology information in condensed format related to mentioned fields by symbol in json format."
   ]
  },
  {
   "cell_type": "code",
   "execution_count": null,
   "metadata": {},
   "outputs": [],
   "source": [
    "request = requests.get(server + \"/rest-15/homology/symbol/caenorhabditis_elegans_prjna13758/chaf-1?\", \n",
    "                       headers = {\"Content-Type\" : \"application/json\", \"Accept\" : \"\"}) \n",
    "\n",
    "if not request.ok:\n",
    "  request.raise_for_status()\n",
    "  sys.exit() \n",
    "decoded = request.json()\n",
    "print(json.dumps(decoded, indent = 4))"
   ]
  },
  {
   "cell_type": "markdown",
   "metadata": {},
   "source": [
    "Retrieves homology information related to mentioned fields by symbol in json format"
   ]
  },
  {
   "cell_type": "code",
   "execution_count": null,
   "metadata": {},
   "outputs": [],
   "source": [
    "request = requests.get(server + \"/rest-15/homology/symbol/caenorhabditis_elegans_prjna13758/chaf-1?\" + \\\n",
    "                       \"target_taxon=6279;sequence=cdna;target_species=wuchereria_bancrofti_prjeb536;\" + \\\n",
    "                       \"type=orthologues\", \n",
    "                       headers = {\"Content-Type\" : \"application/json\", \"Accept\" : \"\"}) \n",
    "\n",
    "if not request.ok:\n",
    "  request.raise_for_status()\n",
    "  sys.exit() \n",
    "decoded = request.json()\n",
    "print(json.dumps(decoded, indent = 4))"
   ]
  },
  {
   "cell_type": "markdown",
   "metadata": {},
   "source": [
    "Retrieves homology information in condensed format related to mentioned fields by symbol in json format"
   ]
  },
  {
   "cell_type": "code",
   "execution_count": null,
   "metadata": {},
   "outputs": [],
   "source": [
    "request = requests.get(server + \"/rest-15/homology/symbol/caenorhabditis_elegans_prjna13758/chaf-1?\" + \\\n",
    "                       \"format=condensed;type=orthologues\", \n",
    "                       headers = {\"Content-Type\" : \"application/json\", \"Accept\" : \"\"}) \n",
    "\n",
    "if not request.ok:\n",
    "  request.raise_for_status()\n",
    "  sys.exit() \n",
    "decoded = request.json()\n",
    "print(json.dumps(decoded, indent = 4))"
   ]
  },
  {
   "cell_type": "markdown",
   "metadata": {},
   "source": [
    "Retrieves a gene tree dump for a gene tree stable identifier in nh format."
   ]
  },
  {
   "cell_type": "code",
   "execution_count": null,
   "metadata": {},
   "outputs": [],
   "source": [
    "request = requests.get(server + \"/rest-15/genetree/id/WBGT00000000021204?nh_format=simple\", \n",
    "                       headers = {\"Content-Type\" : \"text/x-nh\", \"Accept\" : \"\"}) \n",
    "\n",
    "if not request.ok:\n",
    "  request.raise_for_status()\n",
    "  sys.exit()\n",
    "print(request.text)"
   ]
  },
  {
   "cell_type": "markdown",
   "metadata": {},
   "source": [
    "Retrieves a gene tree dump for a gene tree stable identifier in phyloxml-xml format"
   ]
  },
  {
   "cell_type": "code",
   "execution_count": null,
   "metadata": {},
   "outputs": [],
   "source": [
    "request = requests.get(server + \"/rest-15/genetree/id/WBGT00000000021204?\", \n",
    "                       headers = {\"Content-Type\" : \"text/x-phyloxml+xml\", \"Accept\" : \"\"}) \n",
    "\n",
    "if not request.ok:\n",
    "  request.raise_for_status()\n",
    "  sys.exit()\n",
    "print(request.text)"
   ]
  },
  {
   "cell_type": "markdown",
   "metadata": {},
   "source": [
    "Retrieves a gene tree dump with cdna sequence information for a gene tree stable identifier in phyloxml-xml format"
   ]
  },
  {
   "cell_type": "code",
   "execution_count": null,
   "metadata": {},
   "outputs": [],
   "source": [
    "request = requests.get(server + \"/rest-15/genetree/id/WBGT00000000021204?aligned=1;sequence=cdna\", \n",
    "                       headers = {\"Content-Type\" : \"text/x-phyloxml+xml\", \"Accept\" : \"\"}) \n",
    "\n",
    "if not request.ok:\n",
    "  request.raise_for_status()\n",
    "  sys.exit()\n",
    "print(request.text)"
   ]
  },
  {
   "cell_type": "markdown",
   "metadata": {},
   "source": [
    "Retrieves a gene tree that contains the stable identifier in phyloxml-xml format."
   ]
  },
  {
   "cell_type": "code",
   "execution_count": null,
   "metadata": {},
   "outputs": [],
   "source": [
    "request = requests.get(server + \"/rest-15/genetree/member/id/WBGene00008422?\", \n",
    "                       headers = {\"Content-Type\" : \"text/x-phyloxml+xml\", \"Accept\" : \"\"}) \n",
    "\n",
    "if not request.ok:\n",
    "  request.raise_for_status()\n",
    "  sys.exit()\n",
    "print(request.text)"
   ]
  },
  {
   "cell_type": "markdown",
   "metadata": {},
   "source": [
    "Retrieves a gene tree containing the gene identified by a symbol in phyloxml-xml format."
   ]
  },
  {
   "cell_type": "code",
   "execution_count": null,
   "metadata": {},
   "outputs": [],
   "source": [
    "request = requests.get(server + \"/rest-15/genetree/member/symbol/caenorhabditis_elegans_prjna13758/chaf-1?\", \n",
    "                       headers = {\"Content-Type\" : \"text/x-phyloxml+xml\", \"Accept\" : \"\"}) \n",
    "\n",
    "if not request.ok:\n",
    "  request.raise_for_status()\n",
    "  sys.exit()\n",
    "print(request.text)"
   ]
  },
  {
   "cell_type": "markdown",
   "metadata": {},
   "source": [
    "This is the end of the tutorial for accessing WormBase ParaSite through the RESTful API in several data types.\n",
    "\n",
    "In the next tutorial, we will use the WormBase RESTful API to access the essential gene information for any WormBase gene IDs, and replicate the SimpleMine results.\n",
    "\n",
    "Acknowledgements;\n",
    "- ParaSite RESTful API (https://parasite.wormbase.org/rest-15)"
   ]
  }
 ],
 "metadata": {
  "kernelspec": {
   "display_name": "Python 3",
   "language": "python",
   "name": "python3"
  },
  "language_info": {
   "codemirror_mode": {
    "name": "ipython",
    "version": 3
   },
   "file_extension": ".py",
   "mimetype": "text/x-python",
   "name": "python",
   "nbconvert_exporter": "python",
   "pygments_lexer": "ipython3",
   "version": "3.8.5"
  }
 },
 "nbformat": 4,
 "nbformat_minor": 4
}
