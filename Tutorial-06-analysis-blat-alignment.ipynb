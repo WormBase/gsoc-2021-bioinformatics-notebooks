{
 "cells": [
  {
   "cell_type": "markdown",
   "metadata": {},
   "source": [
    "# **Bioinformatics with Jupyter Notebooks for WormBase:**\n",
    "## **Analyses 2 - Alignment using BLAT**\n",
    "Welcome to the sixth jupyter notebook in the WormBase tutorial series. Over this series of tutorials, we will write code in Python that allows us to retrieve and perform simple analyses with data available on the WormBase sites.\n",
    "\n",
    "This tutorial will deal with performing BLAT alignment of your data locally. (This is compatible on Linux OS systems only!!)\n",
    "Let's get started!"
   ]
  },
  {
   "cell_type": "markdown",
   "metadata": {},
   "source": [
    "We start by importing the required python libraries and also installing 2 programs locally - BLAT (from the UCSC Genome Browser). \n",
    "\n",
    "BLAT is an alignment tool like BLAST. We can download the gfServer/gfClient version of BLAT, which performs the same as the web version."
   ]
  },
  {
   "cell_type": "code",
   "execution_count": null,
   "metadata": {},
   "outputs": [],
   "source": [
    "import os\n",
    "import itertools\n",
    "import Bio \n",
    "import math\n",
    "import pandas as pd\n",
    "from Bio import SearchIO \n",
    "get_ipython().system = os.system"
   ]
  },
  {
   "cell_type": "markdown",
   "metadata": {},
   "source": [
    "#### Install BLAT, run the gfServer and make it ready to receive queries and use gfClient send a BLAT query"
   ]
  },
  {
   "cell_type": "markdown",
   "metadata": {},
   "source": [
    "Download the binaries for the BLAT program"
   ]
  },
  {
   "cell_type": "code",
   "execution_count": null,
   "metadata": {},
   "outputs": [],
   "source": [
    "!mkdir BLAT\n",
    "!rsync -a rsync://hgdownload.soe.ucsc.edu/genome/admin/exe/linux.x86_64/blat/ BLAT/\n",
    "!chmod +x BLAT/gfServer BLAT/gfClient BLAT/blat"
   ]
  },
  {
   "cell_type": "markdown",
   "metadata": {},
   "source": [
    "Download the .2bit genome file for the C. elegans species"
   ]
  },
  {
   "cell_type": "code",
   "execution_count": null,
   "metadata": {},
   "outputs": [],
   "source": [
    "!wget https://hgdownload.soe.ucsc.edu/goldenPath/ce11/bigZips/ce11.2bit"
   ]
  },
  {
   "cell_type": "markdown",
   "metadata": {},
   "source": [
    "Run the server on the downloaded .2bit file"
   ]
  },
  {
   "cell_type": "code",
   "execution_count": null,
   "metadata": {},
   "outputs": [],
   "source": [
    "!BLAT/gfServer start 127.0.0.1 1234 -stepSize=5 ce11.2bit &"
   ]
  },
  {
   "cell_type": "markdown",
   "metadata": {},
   "source": [
    "Query the server with a BLAT request for the example file - nucl_example.fa"
   ]
  },
  {
   "cell_type": "code",
   "execution_count": null,
   "metadata": {},
   "outputs": [],
   "source": [
    "!BLAT/gfClient -minScore=10 -minIdentity=0 127.0.0.1 1234 . data/nucl_example.fa out.psl"
   ]
  },
  {
   "cell_type": "markdown",
   "metadata": {},
   "source": [
    "#### Parse the output of the BLAT program and generate a useful dataframe"
   ]
  },
  {
   "cell_type": "code",
   "execution_count": null,
   "metadata": {},
   "outputs": [],
   "source": [
    "psl = 'out.psl' \n",
    "qresult = SearchIO.read(psl, 'blat-psl')"
   ]
  },
  {
   "cell_type": "markdown",
   "metadata": {},
   "source": [
    "The cell below describes a class that takes in a row of the psl file as input and tokenizes it to extract all information that the BLAT output can provide.\n",
    "\n",
    "You do not need to make any changes to this cell."
   ]
  },
  {
   "cell_type": "code",
   "execution_count": null,
   "metadata": {},
   "outputs": [],
   "source": [
    "class Psl(object):\n",
    "       \n",
    "    def __init__(self, s):\n",
    "        fields = s.strip().split()\n",
    "        num_fields = len(fields)\n",
    "        matches, mismatches, repmatches, ncount, qnuminsert, qbaseinsert, tnuminsert, tbaseinsert, strand, qname, \\\n",
    "        qsize, qstart, qend, tname, tsize, tstart, tend, blockcount, blocksizes, qstarts, tstarts = fields[0:21]\n",
    "        self.matches = int(matches)\n",
    "        self.mismatches = int(mismatches)\n",
    "        self.repmatches = int(repmatches)\n",
    "        self.ncount = int(ncount)\n",
    "        self.qnuminsert = int(qnuminsert)\n",
    "        self.qbaseinsert = int(qbaseinsert)\n",
    "        self.tnuminsert = int(tnuminsert)\n",
    "        self.tbaseinsert = int(tbaseinsert)\n",
    "        self.strand = strand\n",
    "        self.qname = qname\n",
    "        self.qsize = int(qsize)\n",
    "        self.qstart = int(qstart)\n",
    "        self.qend = int(qend)\n",
    "        self.tname = tname\n",
    "        self.tsize = int(tsize)\n",
    "        self.tstart = int(tstart)\n",
    "        self.tend = int(tend)\n",
    "        self.blockcount = int(blockcount)\n",
    "        self.blocksizes = [int(x) for x in blocksizes.split(',')[0:-1]]\n",
    "        self.qstarts = [int(x) for x in qstarts.split(',')[0:-1]]\n",
    "        self.tstarts = [int(x) for x in tstarts.strip().split(',')[0:-1]]\n",
    "        \n",
    "    def __lenmul(self): #In case the sequence is protein, we need the length multiplier value to be 3, else 1\n",
    "        if self.__isProtein:\n",
    "            return 3\n",
    "        else:\n",
    "            return 1\n",
    "\n",
    "    def __isProtein(self): #We find out if the input sequence is a protein or nucleotide sequence!!\n",
    "        lastblock = self.blockcount - 1\n",
    "        return (self.strand[1:1] == '+' and self.tend == (self.tstarts[lastblock] + \n",
    "                (3 * self.blocksizes[lastblock]))) or ((self.strand[1:1] == '-') and \n",
    "                (self.tstart == (self.tsize - (self.tstarts[lastblock] + 3*self.blocksizes[lastblock]))))\n",
    "    \n",
    "    def __calcMilliBad(self, ismrna): #Get the number of non-identical matches\n",
    "        qalisize = self.__lenmul() * self.qspan()\n",
    "        alisize = min(qalisize, self.tspan())\n",
    "        millibad = 0\n",
    "        if alisize <= 0: return 0\n",
    "        sizediff = alisize - self.tspan()\n",
    "        if sizediff < 0:\n",
    "            if ismrna:\n",
    "                sizediff = 0\n",
    "            else:\n",
    "                sizediff = -sizediff\n",
    "        insertfactor = self.qnuminsert\n",
    "        if not ismrna: insertfactor += self.tnuminsert\n",
    "        total = self.__lenmul() *\\\n",
    "            (self.matches + self.repmatches + self.mismatches)\n",
    "        if total != 0:\n",
    "            millibad = (1000 * (self.mismatches * self.__lenmul() + insertfactor + \\\n",
    "                                    round(3*math.log(1 + sizediff)))) / total\n",
    "        return millibad\n",
    "\n",
    "    def qspan(self): #Get span of alignment for input sequence\n",
    "        return self.qend - self.qstart\n",
    "    \n",
    "    def tspan(self): #Get span of alignment for target sequence\n",
    "        return self.tend - self.tstart\n",
    "    \n",
    "    def score(self): #Calculate the score as in the web version of BLAT\n",
    "        return self.matches + (self.repmatches / 2) - self.mismatches - self.qnuminsert - self.tnuminsert\n",
    "    \n",
    "    def calcPercentIdentity(self): #Calculate the percent identity as in the web version of BLAT\n",
    "        return 100.0 - self.__calcMilliBad(True) * 0.1"
   ]
  },
  {
   "cell_type": "markdown",
   "metadata": {},
   "source": [
    "We will now create a dataframe that will contain the BLAT output in a way that is readable and easy-to-understand."
   ]
  },
  {
   "cell_type": "code",
   "execution_count": null,
   "metadata": {},
   "outputs": [],
   "source": [
    "BLAT_output = pd.DataFrame(columns=['Query Name', 'Score', 'Sequence start in query', 'Sequence end in query', 'Size of query', 'Percent Identity', 'Target Name', 'Strand', 'Sequence start in target', 'Sequence end in target', 'Span of Target'])\n",
    "with open('out.psl') as f:\n",
    "    for line in itertools.islice(f, 6, None):  \n",
    "        p = Psl(line)\n",
    "        BLAT_output = BLAT_output.append({'Query Name':p.qname, 'Score':p.score(), 'Sequence start in query':p.qstart+1, 'Sequence end in query':p.qend, 'Size of query':p.qsize, 'Percent Identity':\"%.1f\" % p.calcPercentIdentity(), 'Target Name':p.tname, 'Strand':p.strand, 'Sequence start in target':p.tstart+1, 'Sequence end in target':p.tend, 'Span of Target':p.tspan()}, ignore_index=True)    "
   ]
  },
  {
   "cell_type": "code",
   "execution_count": null,
   "metadata": {},
   "outputs": [],
   "source": [
    "BLAT_output"
   ]
  },
  {
   "cell_type": "markdown",
   "metadata": {},
   "source": [
    "This is the end of the second tutorial for WormBase data analysis! This tutorial dealt with using the BLAT alignment locally for any worm data.\n",
    "\n",
    "In the next tutorial, we will use ePCR (In-Silico PCR), which is used to search a sequence database with a pair of PCR primers!"
   ]
  }
 ],
 "metadata": {
  "kernelspec": {
   "display_name": "Python 3",
   "language": "python",
   "name": "python3"
  },
  "language_info": {
   "codemirror_mode": {
    "name": "ipython",
    "version": 2
   },
   "file_extension": ".py",
   "mimetype": "text/x-python",
   "name": "python",
   "nbconvert_exporter": "python",
   "pygments_lexer": "ipython2",
   "version": "2.7.17"
  }
 },
 "nbformat": 4,
 "nbformat_minor": 4
}
