{
 "cells": [
  {
   "cell_type": "markdown",
   "metadata": {},
   "source": [
    "# **Bioinformatics with Jupyter Notebooks for WormBase:**\n",
    "## **Analyses 2 - Alignment using BLAT**\n",
    "Welcome to the sixth jupyter notebook in the WormBase tutorial series. Over this series of tutorials, we will write code in Python that allows us to retrieve and perform simple analyses with data available on the WormBase sites.\n",
    "\n",
    "This tutorial will deal with performing BLAT alignment of your data locally. (This is compatible on Linux OS systems only!!)\n",
    "Let's get started!"
   ]
  },
  {
   "cell_type": "markdown",
   "metadata": {},
   "source": [
    "We start by importing the required python libraries and also installing 2 programs locally - BLAT (from the UCSC Genome Browser). \n",
    "\n",
    "BLAT is an alignment tool like BLAST. We can download the gfServer/gfClient version of BLAT, which performs the same as the web version."
   ]
  },
  {
   "cell_type": "code",
   "execution_count": 1,
   "metadata": {},
   "outputs": [],
   "source": [
    "import os\n",
    "import itertools\n",
    "import Bio \n",
    "import math\n",
    "import pandas as pd\n",
    "from Bio import SearchIO \n",
    "get_ipython().system = os.system"
   ]
  },
  {
   "cell_type": "markdown",
   "metadata": {},
   "source": [
    "#### Install BLAT, run the gfServer and make it ready to receive queries and use gfClient send a BLAT query"
   ]
  },
  {
   "cell_type": "markdown",
   "metadata": {},
   "source": [
    "Download the binaries for the BLAT program"
   ]
  },
  {
   "cell_type": "code",
   "execution_count": 2,
   "metadata": {},
   "outputs": [
    {
     "data": {
      "text/plain": [
       "0"
      ]
     },
     "execution_count": 2,
     "metadata": {},
     "output_type": "execute_result"
    }
   ],
   "source": [
    "!mkdir BLAT #there are Python commands to crerate directories\n",
    "!rsync -a rsync://hgdownload.soe.ucsc.edu/genome/admin/exe/linux.x86_64/blat/ BLAT/\n",
    "!chmod +x BLAT/gfServer BLAT/gfClient BLAT/blat"
   ]
  },
  {
   "cell_type": "markdown",
   "metadata": {},
   "source": [
    "Download the .2bit genome file for the C. elegans species"
   ]
  },
  {
   "cell_type": "code",
   "execution_count": 3,
   "metadata": {},
   "outputs": [
    {
     "data": {
      "text/plain": [
       "0"
      ]
     },
     "execution_count": 3,
     "metadata": {},
     "output_type": "execute_result"
    }
   ],
   "source": [
    "!wget https://hgdownload.soe.ucsc.edu/goldenPath/ce11/bigZips/ce11.2bit"
   ]
  },
  {
   "cell_type": "markdown",
   "metadata": {},
   "source": [
    "Run the server on the downloaded .2bit file"
   ]
  },
  {
   "cell_type": "code",
   "execution_count": 4,
   "metadata": {},
   "outputs": [
    {
     "data": {
      "text/plain": [
       "0"
      ]
     },
     "execution_count": 4,
     "metadata": {},
     "output_type": "execute_result"
    }
   ],
   "source": [
    "!BLAT/gfServer start 127.0.0.1 1234 -stepSize=5 ce11.2bit &"
   ]
  },
  {
   "cell_type": "markdown",
   "metadata": {},
   "source": [
    "Query the server with a BLAT request for the example file - nucl_example.fa"
   ]
  },
  {
   "cell_type": "code",
   "execution_count": 5,
   "metadata": {},
   "outputs": [
    {
     "data": {
      "text/plain": [
       "0"
      ]
     },
     "execution_count": 5,
     "metadata": {},
     "output_type": "execute_result"
    }
   ],
   "source": [
    "!BLAT/gfClient -minScore=10 -minIdentity=0 127.0.0.1 1234 . data/nucl_example.fa out.psl"
   ]
  },
  {
   "cell_type": "markdown",
   "metadata": {},
   "source": [
    "#### Parse the output of the BLAT program and generate a useful dataframe"
   ]
  },
  {
   "cell_type": "code",
   "execution_count": 6,
   "metadata": {},
   "outputs": [],
   "source": [
    "psl = 'out.psl' \n",
    "qresult = SearchIO.read(psl, 'blat-psl')"
   ]
  },
  {
   "cell_type": "markdown",
   "metadata": {},
   "source": [
    "The cell below describes a class that takes in a row of the psl file as input and tokenizes it to extract all information that the BLAT output can provide.\n",
    "\n",
    "You do not need to make any changes to this cell."
   ]
  },
  {
   "cell_type": "code",
   "execution_count": 7,
   "metadata": {},
   "outputs": [],
   "source": [
    "class Psl(object):\n",
    "       \n",
    "    def __init__(self, s):\n",
    "        fields = s.strip().split()\n",
    "        num_fields = len(fields)\n",
    "        matches, mismatches, repmatches, ncount, qnuminsert, qbaseinsert, tnuminsert, tbaseinsert, strand, qname, \\\n",
    "        qsize, qstart, qend, tname, tsize, tstart, tend, blockcount, blocksizes, qstarts, tstarts = fields[0:21]\n",
    "        self.matches = int(matches)\n",
    "        self.mismatches = int(mismatches)\n",
    "        self.repmatches = int(repmatches)\n",
    "        self.ncount = int(ncount)\n",
    "        self.qnuminsert = int(qnuminsert)\n",
    "        self.qbaseinsert = int(qbaseinsert)\n",
    "        self.tnuminsert = int(tnuminsert)\n",
    "        self.tbaseinsert = int(tbaseinsert)\n",
    "        self.strand = strand\n",
    "        self.qname = qname\n",
    "        self.qsize = int(qsize)\n",
    "        self.qstart = int(qstart)\n",
    "        self.qend = int(qend)\n",
    "        self.tname = tname\n",
    "        self.tsize = int(tsize)\n",
    "        self.tstart = int(tstart)\n",
    "        self.tend = int(tend)\n",
    "        self.blockcount = int(blockcount)\n",
    "        self.blocksizes = [int(x) for x in blocksizes.split(',')[0:-1]]\n",
    "        self.qstarts = [int(x) for x in qstarts.split(',')[0:-1]]\n",
    "        self.tstarts = [int(x) for x in tstarts.strip().split(',')[0:-1]]\n",
    "        \n",
    "    def __lenmul(self): #In case the sequence is protein, we need the length multiplier value to be 3, else 1\n",
    "        if self.__isProtein:\n",
    "            return 3\n",
    "        else:\n",
    "            return 1\n",
    "\n",
    "    def __isProtein(self): #We find out if the input sequence is a protein or nucleotide sequence!!\n",
    "        lastblock = self.blockcount - 1\n",
    "        return (self.strand[1:1] == '+' and self.tend == (self.tstarts[lastblock] + \n",
    "                (3 * self.blocksizes[lastblock]))) or ((self.strand[1:1] == '-') and \n",
    "                (self.tstart == (self.tsize - (self.tstarts[lastblock] + 3*self.blocksizes[lastblock]))))\n",
    "    \n",
    "    def __calcMilliBad(self, ismrna): #Get the number of non-identical matches\n",
    "        qalisize = self.__lenmul() * self.qspan()\n",
    "        alisize = min(qalisize, self.tspan())\n",
    "        millibad = 0\n",
    "        if alisize <= 0: return 0\n",
    "        sizediff = alisize - self.tspan()\n",
    "        if sizediff < 0:\n",
    "            if ismrna:\n",
    "                sizediff = 0\n",
    "            else:\n",
    "                sizediff = -sizediff\n",
    "        insertfactor = self.qnuminsert\n",
    "        if not ismrna: insertfactor += self.tnuminsert\n",
    "        total = self.__lenmul() *\\\n",
    "            (self.matches + self.repmatches + self.mismatches)\n",
    "        if total != 0:\n",
    "            millibad = (1000 * (self.mismatches * self.__lenmul() + insertfactor + \\\n",
    "                                    round(3*math.log(1 + sizediff)))) / total\n",
    "        return millibad\n",
    "\n",
    "    def qspan(self): #Get span of alignment for input sequence\n",
    "        return self.qend - self.qstart\n",
    "    \n",
    "    def tspan(self): #Get span of alignment for target sequence\n",
    "        return self.tend - self.tstart\n",
    "    \n",
    "    def score(self): #Calculate the score as in the web version of BLAT\n",
    "        return self.matches + (self.repmatches / 2) - self.mismatches - self.qnuminsert - self.tnuminsert\n",
    "    \n",
    "    def calcPercentIdentity(self): #Calculate the percent identity as in the web version of BLAT\n",
    "        return 100.0 - self.__calcMilliBad(True) * 0.1"
   ]
  },
  {
   "cell_type": "markdown",
   "metadata": {},
   "source": [
    "We will now create a dataframe that will contain the BLAT output in a way that is readable and easy-to-understand."
   ]
  },
  {
   "cell_type": "code",
   "execution_count": 8,
   "metadata": {},
   "outputs": [],
   "source": [
    "BLAT_output = pd.DataFrame(columns=['Query Name', 'Score', 'Sequence start in query', 'Sequence end in query', 'Size of query', 'Percent Identity', 'Target Name', 'Strand', 'Sequence start in target', 'Sequence end in target', 'Span of Target'])\n",
    "with open('out.psl') as f:\n",
    "    for line in itertools.islice(f, 6, None):  \n",
    "        p = Psl(line)\n",
    "        BLAT_output = BLAT_output.append({'Query Name':p.qname, 'Score':p.score(), 'Sequence start in query':p.qstart+1, 'Sequence end in query':p.qend, 'Size of query':p.qsize, 'Percent Identity':\"%.1f\" % p.calcPercentIdentity(), 'Target Name':p.tname, 'Strand':p.strand, 'Sequence start in target':p.tstart+1, 'Sequence end in target':p.tend, 'Span of Target':p.tspan()}, ignore_index=True)    "
   ]
  },
  {
   "cell_type": "code",
   "execution_count": 9,
   "metadata": {},
   "outputs": [
    {
     "data": {
      "text/html": [
       "<div>\n",
       "<style scoped>\n",
       "    .dataframe tbody tr th:only-of-type {\n",
       "        vertical-align: middle;\n",
       "    }\n",
       "\n",
       "    .dataframe tbody tr th {\n",
       "        vertical-align: top;\n",
       "    }\n",
       "\n",
       "    .dataframe thead th {\n",
       "        text-align: right;\n",
       "    }\n",
       "</style>\n",
       "<table border=\"1\" class=\"dataframe\">\n",
       "  <thead>\n",
       "    <tr style=\"text-align: right;\">\n",
       "      <th></th>\n",
       "      <th>Query Name</th>\n",
       "      <th>Score</th>\n",
       "      <th>Sequence start in query</th>\n",
       "      <th>Sequence end in query</th>\n",
       "      <th>Size of query</th>\n",
       "      <th>Percent Identity</th>\n",
       "      <th>Target Name</th>\n",
       "      <th>Strand</th>\n",
       "      <th>Sequence start in target</th>\n",
       "      <th>Sequence end in target</th>\n",
       "      <th>Span of Target</th>\n",
       "    </tr>\n",
       "  </thead>\n",
       "  <tbody>\n",
       "    <tr>\n",
       "      <th>0</th>\n",
       "      <td>C37F5.1</td>\n",
       "      <td>12.0</td>\n",
       "      <td>64</td>\n",
       "      <td>75</td>\n",
       "      <td>450</td>\n",
       "      <td>100.0</td>\n",
       "      <td>chrII</td>\n",
       "      <td>+</td>\n",
       "      <td>10508110</td>\n",
       "      <td>10508121</td>\n",
       "      <td>12</td>\n",
       "    </tr>\n",
       "    <tr>\n",
       "      <th>1</th>\n",
       "      <td>C37F5.1</td>\n",
       "      <td>16.0</td>\n",
       "      <td>43</td>\n",
       "      <td>58</td>\n",
       "      <td>450</td>\n",
       "      <td>100.0</td>\n",
       "      <td>chrIII</td>\n",
       "      <td>+</td>\n",
       "      <td>9948381</td>\n",
       "      <td>9948396</td>\n",
       "      <td>16</td>\n",
       "    </tr>\n",
       "    <tr>\n",
       "      <th>2</th>\n",
       "      <td>C37F5.1</td>\n",
       "      <td>16.0</td>\n",
       "      <td>55</td>\n",
       "      <td>70</td>\n",
       "      <td>450</td>\n",
       "      <td>100.0</td>\n",
       "      <td>chrIV</td>\n",
       "      <td>+</td>\n",
       "      <td>13774041</td>\n",
       "      <td>13774056</td>\n",
       "      <td>16</td>\n",
       "    </tr>\n",
       "    <tr>\n",
       "      <th>3</th>\n",
       "      <td>C37F5.1</td>\n",
       "      <td>20.0</td>\n",
       "      <td>97</td>\n",
       "      <td>117</td>\n",
       "      <td>450</td>\n",
       "      <td>100.0</td>\n",
       "      <td>chrV</td>\n",
       "      <td>+</td>\n",
       "      <td>8584771</td>\n",
       "      <td>8584792</td>\n",
       "      <td>22</td>\n",
       "    </tr>\n",
       "    <tr>\n",
       "      <th>4</th>\n",
       "      <td>C37F5.1</td>\n",
       "      <td>18.0</td>\n",
       "      <td>55</td>\n",
       "      <td>72</td>\n",
       "      <td>450</td>\n",
       "      <td>100.0</td>\n",
       "      <td>chrV</td>\n",
       "      <td>+</td>\n",
       "      <td>18094249</td>\n",
       "      <td>18094266</td>\n",
       "      <td>18</td>\n",
       "    </tr>\n",
       "    <tr>\n",
       "      <th>5</th>\n",
       "      <td>C37F5.1</td>\n",
       "      <td>18.0</td>\n",
       "      <td>336</td>\n",
       "      <td>353</td>\n",
       "      <td>450</td>\n",
       "      <td>100.0</td>\n",
       "      <td>chrI</td>\n",
       "      <td>-</td>\n",
       "      <td>12635080</td>\n",
       "      <td>12635097</td>\n",
       "      <td>18</td>\n",
       "    </tr>\n",
       "    <tr>\n",
       "      <th>6</th>\n",
       "      <td>C37F5.1</td>\n",
       "      <td>18.0</td>\n",
       "      <td>27</td>\n",
       "      <td>44</td>\n",
       "      <td>450</td>\n",
       "      <td>100.0</td>\n",
       "      <td>chrIII</td>\n",
       "      <td>-</td>\n",
       "      <td>2535570</td>\n",
       "      <td>2535587</td>\n",
       "      <td>18</td>\n",
       "    </tr>\n",
       "    <tr>\n",
       "      <th>7</th>\n",
       "      <td>C37F5.1</td>\n",
       "      <td>20.0</td>\n",
       "      <td>16</td>\n",
       "      <td>35</td>\n",
       "      <td>450</td>\n",
       "      <td>100.0</td>\n",
       "      <td>chrIII</td>\n",
       "      <td>-</td>\n",
       "      <td>5767252</td>\n",
       "      <td>5767271</td>\n",
       "      <td>20</td>\n",
       "    </tr>\n",
       "    <tr>\n",
       "      <th>8</th>\n",
       "      <td>C37F5.1</td>\n",
       "      <td>447.0</td>\n",
       "      <td>1</td>\n",
       "      <td>450</td>\n",
       "      <td>450</td>\n",
       "      <td>100.0</td>\n",
       "      <td>chrIV</td>\n",
       "      <td>-</td>\n",
       "      <td>2278432</td>\n",
       "      <td>2300286</td>\n",
       "      <td>21855</td>\n",
       "    </tr>\n",
       "    <tr>\n",
       "      <th>9</th>\n",
       "      <td>C37F5.1</td>\n",
       "      <td>16.0</td>\n",
       "      <td>176</td>\n",
       "      <td>191</td>\n",
       "      <td>450</td>\n",
       "      <td>100.0</td>\n",
       "      <td>chrIV</td>\n",
       "      <td>-</td>\n",
       "      <td>5494796</td>\n",
       "      <td>5494811</td>\n",
       "      <td>16</td>\n",
       "    </tr>\n",
       "    <tr>\n",
       "      <th>10</th>\n",
       "      <td>C37F5.1</td>\n",
       "      <td>16.0</td>\n",
       "      <td>41</td>\n",
       "      <td>56</td>\n",
       "      <td>450</td>\n",
       "      <td>100.0</td>\n",
       "      <td>chrV</td>\n",
       "      <td>-</td>\n",
       "      <td>3728901</td>\n",
       "      <td>3728916</td>\n",
       "      <td>16</td>\n",
       "    </tr>\n",
       "    <tr>\n",
       "      <th>11</th>\n",
       "      <td>C37F5.1</td>\n",
       "      <td>50.0</td>\n",
       "      <td>401</td>\n",
       "      <td>450</td>\n",
       "      <td>450</td>\n",
       "      <td>100.0</td>\n",
       "      <td>chrX</td>\n",
       "      <td>-</td>\n",
       "      <td>109060</td>\n",
       "      <td>109109</td>\n",
       "      <td>50</td>\n",
       "    </tr>\n",
       "  </tbody>\n",
       "</table>\n",
       "</div>"
      ],
      "text/plain": [
       "   Query Name  Score Sequence start in query Sequence end in query  \\\n",
       "0     C37F5.1   12.0                      64                    75   \n",
       "1     C37F5.1   16.0                      43                    58   \n",
       "2     C37F5.1   16.0                      55                    70   \n",
       "3     C37F5.1   20.0                      97                   117   \n",
       "4     C37F5.1   18.0                      55                    72   \n",
       "5     C37F5.1   18.0                     336                   353   \n",
       "6     C37F5.1   18.0                      27                    44   \n",
       "7     C37F5.1   20.0                      16                    35   \n",
       "8     C37F5.1  447.0                       1                   450   \n",
       "9     C37F5.1   16.0                     176                   191   \n",
       "10    C37F5.1   16.0                      41                    56   \n",
       "11    C37F5.1   50.0                     401                   450   \n",
       "\n",
       "   Size of query Percent Identity Target Name Strand Sequence start in target  \\\n",
       "0            450            100.0       chrII      +                 10508110   \n",
       "1            450            100.0      chrIII      +                  9948381   \n",
       "2            450            100.0       chrIV      +                 13774041   \n",
       "3            450            100.0        chrV      +                  8584771   \n",
       "4            450            100.0        chrV      +                 18094249   \n",
       "5            450            100.0        chrI      -                 12635080   \n",
       "6            450            100.0      chrIII      -                  2535570   \n",
       "7            450            100.0      chrIII      -                  5767252   \n",
       "8            450            100.0       chrIV      -                  2278432   \n",
       "9            450            100.0       chrIV      -                  5494796   \n",
       "10           450            100.0        chrV      -                  3728901   \n",
       "11           450            100.0        chrX      -                   109060   \n",
       "\n",
       "   Sequence end in target Span of Target  \n",
       "0                10508121             12  \n",
       "1                 9948396             16  \n",
       "2                13774056             16  \n",
       "3                 8584792             22  \n",
       "4                18094266             18  \n",
       "5                12635097             18  \n",
       "6                 2535587             18  \n",
       "7                 5767271             20  \n",
       "8                 2300286          21855  \n",
       "9                 5494811             16  \n",
       "10                3728916             16  \n",
       "11                 109109             50  "
      ]
     },
     "execution_count": 9,
     "metadata": {},
     "output_type": "execute_result"
    }
   ],
   "source": [
    "BLAT_output"
   ]
  },
  {
   "cell_type": "markdown",
   "metadata": {},
   "source": [
    "This is the end of the second tutorial for WormBase data analysis! This tutorial dealt with using the BLAT alignment locally for any worm data.\n",
    "\n",
    "In the next tutorial, we will use ePCR (In-Silico PCR), which is used to search a sequence database with a pair of PCR primers!"
   ]
  }
 ],
 "metadata": {
  "kernelspec": {
   "display_name": "Python 3",
   "language": "python",
   "name": "python3"
  },
  "language_info": {
   "codemirror_mode": {
    "name": "ipython",
    "version": 2
   },
   "file_extension": ".py",
   "mimetype": "text/x-python",
   "name": "python",
   "nbconvert_exporter": "python",
   "pygments_lexer": "ipython2",
   "version": "2.7.17"
  }
 },
 "nbformat": 4,
 "nbformat_minor": 4
}
