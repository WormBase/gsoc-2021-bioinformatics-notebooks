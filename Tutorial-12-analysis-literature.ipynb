{
 "cells": [
  {
   "cell_type": "markdown",
   "metadata": {},
   "source": [
    "# **Bioinformatics with Jupyter Notebooks for WormBase:**\n",
    "## **Analyses 8 - Literature Analyses**\n",
    "Welcome to the eighth jupyter notebook in the WormBase tutorial series. Over this series of tutorials, we will write code in Python that allows us to retrieve and perform simple analyses with data available on the WormBase sites.\n",
    "\n",
    "This tutorial will deal with obtaining different literature-related information such as the information that can be obtained using the Textpresso Central website.\n",
    "Let's get started!"
   ]
  },
  {
   "cell_type": "markdown",
   "metadata": {},
   "source": [
    "We will start by importing required libraries for the analysis. We use the Europe PMC API for obtaining this information!"
   ]
  },
  {
   "cell_type": "code",
   "execution_count": null,
   "metadata": {},
   "outputs": [],
   "source": [
    "import requests, sys, json, urllib3, xml.dom.minidom\n",
    "from lxml import etree\n",
    "urllib3.disable_warnings(urllib3.exceptions.InsecureRequestWarning)"
   ]
  },
  {
   "cell_type": "markdown",
   "metadata": {},
   "source": [
    "Let us first explore the fields that are available in the Europe PMC API. "
   ]
  },
  {
   "cell_type": "code",
   "execution_count": null,
   "metadata": {},
   "outputs": [],
   "source": [
    "#Generate the required URL for fetching the fields and send the request\n",
    "request = requests.get('https://www.ebi.ac.uk/europepmc/webservices/rest/fields', headers={ \"Content-Type\" : \"application/json\", \"Accept\" : \"\"})\n",
    "\n",
    "#Print the output from the query \n",
    "if not request.ok:\n",
    "  request.raise_for_status()\n",
    "  sys.exit() \n",
    "result = xml.dom.minidom.parseString(request.text)\n",
    "result = result.toprettyxml()\n",
    "print(result)"
   ]
  },
  {
   "cell_type": "markdown",
   "metadata": {},
   "source": [
    "In case you know the accession ID for a paper, it is very easy to download any supplementary material that is associated with this paper by using the supplementaryFiles end point of the API."
   ]
  },
  {
   "cell_type": "code",
   "execution_count": null,
   "metadata": {},
   "outputs": [],
   "source": [
    "#Generate the URL required for the query by entering the accession id of the paper in the variable below.\n",
    "id = 'PMC3027648'\n",
    "request = requests.get('https://www.ebi.ac.uk/europepmc/webservices/rest/'+id+'/supplementaryFiles?includeInlineImage=true', headers={ \"Content-Type\" : \"application/zip\", \"Accept\" : \"\"}, stream=True)\n",
    "\n",
    "#download the queried results to your system into a .zip fike\n",
    "target_path='supplementaryFiles.zip'\n",
    "handle = open(target_path, 'wb')\n",
    "for chunk in request.iter_content(chunk_size=512):\n",
    "    if chunk:\n",
    "        handle.write(chunk)\n",
    "handle.close()"
   ]
  },
  {
   "cell_type": "markdown",
   "metadata": {},
   "source": [
    "It is extremely useful to query for papers that contain a certain keyword. For this we define a function which you do not need to make any changes to which will query the keyword across the entire Europe PMC database."
   ]
  },
  {
   "cell_type": "code",
   "execution_count": null,
   "metadata": {},
   "outputs": [],
   "source": [
    "def searchEuropePMCclient(query, format='XML'):\n",
    "    base_url = 'https://www.ebi.ac.uk/europepmc/webservices/rest/search?'\n",
    "    payload = {'query' : query, 'format' : format}\n",
    "    request = requests.get(base_url, params=payload)\n",
    "    if request.ok:\n",
    "        result = xml.dom.minidom.parseString(request.text)\n",
    "        result = result.toprettyxml()\n",
    "        print(result)\n",
    "    else:\n",
    "        print('Something has gone wrong!!')"
   ]
  },
  {
   "cell_type": "code",
   "execution_count": null,
   "metadata": {},
   "outputs": [],
   "source": [
    "#Enter the keyword that you want to search for\n",
    "keyword = 'Caenorhabditis elegans'\n",
    "searchEuropePMCclient(keyword)"
   ]
  },
  {
   "cell_type": "markdown",
   "metadata": {},
   "source": [
    "Another useful utility provided by the Europe PMC API is the possibility to query for the works of a certain author using either their name or their ORCID ID."
   ]
  },
  {
   "cell_type": "code",
   "execution_count": null,
   "metadata": {},
   "outputs": [],
   "source": [
    "#Enter the author's name or ORCID ID\n",
    "author_id = '0000-0001-8314-8497'"
   ]
  },
  {
   "cell_type": "code",
   "execution_count": null,
   "metadata": {},
   "outputs": [],
   "source": [
    "#Generate the required URL for fetching the papers written by the author and send the request\n",
    "request = requests.get('https://www.ebi.ac.uk/europepmc/webservices/rest/search?query=AUTHORID:'+author_id, headers={ \"Content-Type\" : \"application/json\", \"Accept\" : \"\"})\n",
    "\n",
    "#Print the output from the query \n",
    "if not request.ok:\n",
    "  request.raise_for_status()\n",
    "  sys.exit() \n",
    "result = xml.dom.minidom.parseString(request.text)\n",
    "result = result.toprettyxml()\n",
    "print(result)"
   ]
  },
  {
   "cell_type": "markdown",
   "metadata": {},
   "source": [
    "It is also possible to list the papers that have cited a certain publication by just entering the source of the paper and its external id which can be its accession id in most cases."
   ]
  },
  {
   "cell_type": "code",
   "execution_count": null,
   "metadata": {},
   "outputs": [],
   "source": [
    "#Enter source and external id of the paper\n",
    "source = 'MED' #Can be AGR, CBA, CTX, ETH, HIR, MED, PAT, PMC, PPR\n",
    "external_id = '30206121'"
   ]
  },
  {
   "cell_type": "code",
   "execution_count": null,
   "metadata": {},
   "outputs": [],
   "source": [
    "#Generate the required URL for fetching the papers that cite the queried paper and send the request\n",
    "request = requests.get('https://www.ebi.ac.uk/europepmc/webservices/rest/'+source+'/'+external_id+'/citations', headers={ \"Content-Type\" : \"application/json\", \"Accept\" : \"\"})\n",
    "\n",
    "#Print the output from the query \n",
    "if not request.ok:\n",
    "  request.raise_for_status()\n",
    "  sys.exit() \n",
    "result = xml.dom.minidom.parseString(request.text)\n",
    "result = result.toprettyxml()\n",
    "print(result)"
   ]
  },
  {
   "cell_type": "markdown",
   "metadata": {},
   "source": [
    "This is the end of the tutorial on replicating Textpresso results using the Europe PMC RESTful API to get the literature analyses information. The data is up-to date and is very quick to extract, and is easy to handle.\n",
    "\n",
    "This tutorial is also the end of the analysis series. In the next tutorial, we will implement and test some simple utilities for the data."
   ]
  }
 ],
 "metadata": {
  "kernelspec": {
   "display_name": "Python 3",
   "language": "python",
   "name": "python3"
  },
  "language_info": {
   "codemirror_mode": {
    "name": "ipython",
    "version": 2
   },
   "file_extension": ".py",
   "mimetype": "text/x-python",
   "name": "python",
   "nbconvert_exporter": "python",
   "pygments_lexer": "ipython2",
   "version": "2.7.17"
  }
 },
 "nbformat": 4,
 "nbformat_minor": 4
}
