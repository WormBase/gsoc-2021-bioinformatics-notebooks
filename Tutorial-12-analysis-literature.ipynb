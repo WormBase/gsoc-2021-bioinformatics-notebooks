{
 "cells": [
  {
   "cell_type": "markdown",
   "metadata": {},
   "source": [
    "# **Bioinformatics with Jupyter Notebooks for WormBase:**\n",
    "## **Analyses 8 - Literature Analyses**\n",
    "Welcome to the eighth jupyter notebook in the WormBase tutorial series. Over this series of tutorials, we will write code in Python that allows us to retrieve and perform simple analyses with data available on the WormBase sites.\n",
    "\n",
    "This tutorial will deal with obtaining different literature-related information such as the information that can be obtained using the Textpresso Central website.\n",
    "Let's get started!"
   ]
  },
  {
   "cell_type": "markdown",
   "metadata": {},
   "source": [
    "We will start by importing required libraries for the analysis. We use the Europe PMC API for obtaining this information!"
   ]
  },
  {
   "cell_type": "code",
   "execution_count": null,
   "metadata": {},
   "outputs": [],
   "source": [
    "import requests\n",
    "import sys\n",
    "import json\n",
    "import urllib3\n",
    "import xml.dom.minidom\n",
    "from lxml import etree\n",
    "urllib3.disable_warnings(urllib3.exceptions.InsecureRequestWarning)"
   ]
  },
  {
   "cell_type": "markdown",
   "metadata": {},
   "source": [
    "Let us first explore the fields that are available in the Europe PMC API. "
   ]
  },
  {
   "cell_type": "markdown",
   "metadata": {},
   "source": [
    "We first need to query the API for fetching the fields that can be used for data extraction with this API. We then print out the results."
   ]
  },
  {
   "cell_type": "code",
   "execution_count": null,
   "metadata": {},
   "outputs": [],
   "source": [
    "request = requests.get('https://www.ebi.ac.uk/europepmc/webservices/rest/fields', \n",
    "                       headers={ \"Content-Type\" : \"application/json\", \"Accept\" : \"\"})\n",
    "\n",
    "if not request.ok:\n",
    "    request.raise_for_status()\n",
    "    sys.exit() \n",
    "result = xml.dom.minidom.parseString(request.text)\n",
    "result = result.toprettyxml()\n",
    "print(result)"
   ]
  },
  {
   "cell_type": "markdown",
   "metadata": {},
   "source": [
    "In case you know the accession ID for a paper, it is very easy to download any supplementary material that is associated with this paper by using the supplementaryFiles end point of the API."
   ]
  },
  {
   "cell_type": "markdown",
   "metadata": {},
   "source": [
    "We generate the URL required for our query by entering the accession id of the paper in the id variable.\n",
    "Then we download the queried results to our system into a '.zip' file."
   ]
  },
  {
   "cell_type": "code",
   "execution_count": null,
   "metadata": {},
   "outputs": [],
   "source": [
    "id = 'PMC3027648'\n",
    "request = requests.get('https://www.ebi.ac.uk/europepmc/webservices/rest/' + id + \\\n",
    "                       '/supplementaryFiles?includeInlineImage=true', \n",
    "                       headers = {\"Content-Type\" : \"application/zip\", \"Accept\" : \"\"}, stream=True)\n",
    "\n",
    "target_path='supplementaryFiles.zip'\n",
    "handle = open(target_path, 'wb')\n",
    "for chunk in request.iter_content(chunk_size=512):\n",
    "    if chunk:\n",
    "        handle.write(chunk)\n",
    "handle.close()"
   ]
  },
  {
   "cell_type": "markdown",
   "metadata": {},
   "source": [
    "It is extremely useful to query for papers that contain a certain keyword. For this we define a function which you do not need to make any changes to which will query the keyword across the entire Europe PMC database."
   ]
  },
  {
   "cell_type": "code",
   "execution_count": null,
   "metadata": {},
   "outputs": [],
   "source": [
    "def searchEuropePMCclient(query, format='XML'):\n",
    "    base_url = 'https://www.ebi.ac.uk/europepmc/webservices/rest/search?'\n",
    "    payload = {'query' : query, 'format' : format}\n",
    "    request = requests.get(base_url, params=payload)\n",
    "    if request.ok:\n",
    "        result = xml.dom.minidom.parseString(request.text)\n",
    "        result = result.toprettyxml()\n",
    "        print(result)\n",
    "    else:\n",
    "        print('Something has gone wrong!!')"
   ]
  },
  {
   "cell_type": "markdown",
   "metadata": {},
   "source": [
    "Assign the keyword that you want to search for using the API to the keyword variable."
   ]
  },
  {
   "cell_type": "code",
   "execution_count": null,
   "metadata": {},
   "outputs": [],
   "source": [
    "keyword = 'Caenorhabditis elegans'\n",
    "searchEuropePMCclient(keyword)"
   ]
  },
  {
   "cell_type": "markdown",
   "metadata": {},
   "source": [
    "Another useful utility provided by the Europe PMC API is the possibility to query for the works of a certain author using either their name or their ORCID ID.\n",
    "\n",
    "Assign the author's name or ORCID ID to the author_id variable."
   ]
  },
  {
   "cell_type": "code",
   "execution_count": null,
   "metadata": {},
   "outputs": [],
   "source": [
    "author_id = '0000-0001-8314-8497'"
   ]
  },
  {
   "cell_type": "markdown",
   "metadata": {},
   "source": [
    "We first generate the required URL for fetching the papers written by the author and then send the request."
   ]
  },
  {
   "cell_type": "code",
   "execution_count": null,
   "metadata": {},
   "outputs": [],
   "source": [
    "request = requests.get('https://www.ebi.ac.uk/europepmc/webservices/rest/search?query=AUTHORID:' + author_id, \n",
    "                       headers={ \"Content-Type\" : \"application/json\", \"Accept\" : \"\"})\n",
    "\n",
    "if not request.ok:\n",
    "    request.raise_for_status()\n",
    "    sys.exit() \n",
    "result = xml.dom.minidom.parseString(request.text)\n",
    "result = result.toprettyxml()\n",
    "print(result)"
   ]
  },
  {
   "cell_type": "markdown",
   "metadata": {},
   "source": [
    "It is also possible to list the papers that have cited a certain publication by just entering the source of the paper and its external id which can be its accession id in most cases."
   ]
  },
  {
   "cell_type": "markdown",
   "metadata": {},
   "source": [
    "Assign the source and external id of the paper to the variables source and external_id. \n",
    "The source can be - AGR, CBA, CTX, ETH, HIR, MED, PAT, PMC, PPR"
   ]
  },
  {
   "cell_type": "code",
   "execution_count": null,
   "metadata": {},
   "outputs": [],
   "source": [
    "source = 'MED'  \n",
    "external_id = '30206121'"
   ]
  },
  {
   "cell_type": "markdown",
   "metadata": {},
   "source": [
    "We then generate the required URL for fetching the papers that cite the queried paper and send the request."
   ]
  },
  {
   "cell_type": "code",
   "execution_count": null,
   "metadata": {},
   "outputs": [],
   "source": [
    "request = requests.get('https://www.ebi.ac.uk/europepmc/webservices/rest/' + source + '/' + external_id + \\\n",
    "                       '/citations', \n",
    "                       headers={ \"Content-Type\" : \"application/json\", \"Accept\" : \"\"})\n",
    "\n",
    "if not request.ok:\n",
    "    request.raise_for_status()\n",
    "    sys.exit() \n",
    "result = xml.dom.minidom.parseString(request.text)\n",
    "result = result.toprettyxml()\n",
    "print(result)"
   ]
  },
  {
   "cell_type": "markdown",
   "metadata": {},
   "source": [
    "This is the end of the tutorial on replicating Textpresso results using the Europe PMC RESTful API to get the literature analyses information. The data is up-to date and is very quick to extract, and is easy to handle.\n",
    "\n",
    "\n",
    "This tutorial is also the end of the analysis series. In the next tutorial, we will implement and test some simple utilities for the data.\n",
    "\n",
    "Acknowledgements:\n",
    "\n",
    "- Textpresso Central (https://textpressocentral.org/tpc/home)\n",
    "- EuropePMC API (http://europepmc.org/RestfulWebService)"
   ]
  }
 ],
 "metadata": {
  "kernelspec": {
   "display_name": "Python 3",
   "language": "python",
   "name": "python3"
  },
  "language_info": {
   "codemirror_mode": {
    "name": "ipython",
    "version": 3
   },
   "file_extension": ".py",
   "mimetype": "text/x-python",
   "name": "python",
   "nbconvert_exporter": "python",
   "pygments_lexer": "ipython3",
   "version": "3.8.5"
  }
 },
 "nbformat": 4,
 "nbformat_minor": 4
}
