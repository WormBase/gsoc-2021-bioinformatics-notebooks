{
 "cells": [
  {
   "cell_type": "markdown",
   "metadata": {},
   "source": [
    "# **Bioinformatics with Jupyter Notebooks for WormBase:**\n",
    "## **Data Retrieval 3 - Accessing WormBase data through ParaSite**\n",
    "Welcome to the third jupyter notebook in the WormBase tutorial series. Over this series of tutorials, we will write code in Python that allows us to retrieve and perform simple analyses with data available on the WormBase sites.\n",
    "\n",
    "This tutorial will deal with accessing the WormBase ParaSite RESTful API endpoints (https://parasite.wormbase.org/rest-15) and downloading any required data. Let's get started!"
   ]
  },
  {
   "cell_type": "markdown",
   "metadata": {},
   "source": [
    "We start by installing and loading the libraries that are required for this tutorial. We also initialise the server variable to the parasite main website."
   ]
  },
  {
   "cell_type": "code",
   "execution_count": null,
   "metadata": {},
   "outputs": [],
   "source": [
    "import requests, sys, json\n",
    "server = \"https://parasite.wormbase.org\""
   ]
  },
  {
   "cell_type": "markdown",
   "metadata": {},
   "source": [
    "#### Information about the available data\n",
    "\n",
    "In the cell below, there are several examples on how to use `/rest-15/info/`. Uncomment the request that suits your needs best and change the variables as needed. "
   ]
  },
  {
   "cell_type": "code",
   "execution_count": null,
   "metadata": {},
   "outputs": [],
   "source": [
    "#Get the currently available assemblies for a species in json format\n",
    "request = requests.get(server+\"/rest-15/info/assembly/caenorhabditis_elegans?\", headers={ \"Content-Type\" : \"application/json\", \"Accept\" : \"\"})\n",
    "\n",
    "#Get information about the specified sequence region for a species in json format\n",
    "#request = requests.get(server+\"/rest-15/info/assembly/caenorhabditis_elegans/I?\", headers={ \"Content-Type\" : \"application/json\", \"Accept\" : \"\"})\n",
    "\n",
    "#Get information about a genome in json format\n",
    "#request = requests.get(server+\"/rest-15/info/genomes/caenorhabditis_elegans?\", headers={ \"Content-Type\" : \"application/json\", \"Accept\" : \"\"})\n",
    "\n",
    "#Find information about all genomes in json format\n",
    "#request = requests.get(server+\"/rest-15/info/genomes/?\", headers={ \"Content-Type\" : \"application/json\", \"Accept\" : \"\"})\n",
    "\n",
    "#Find information about a genome with a specified assembly in json format\n",
    "#request = requests.get(server+\"/rest-15/info/genomes/assembly/GCA_000002985.3?\", headers={ \"Content-Type\" : \"application/json\", \"Accept\" : \"\"})\n",
    "\n",
    "#Find information about all genomes beneath a given node of the taxonomy in json format\n",
    "#request = requests.get(server+\"/rest-15/info/genomes/taxonomy/6239?\", headers={ \"Content-Type\" : \"application/json\", \"Accept\" : \"\"})\n",
    "\n",
    "#Get the quality (CEGMA and BUSCO) scores for a specific genome in json format\n",
    "#request = requests.get(server+\"/rest-15/info/quality/caenorhabditis_elegans?\", headers={ \"Content-Type\" : \"application/json\", \"Accept\" : \"\"})\n",
    "\n",
    "#Get the WormBase release number in json format\n",
    "#request = requests.get(server+\"/rest-15/info/version/\", headers={ \"Content-Type\" : \"application/json\", \"Accept\" : \"\"})\n",
    "\n",
    "#Lists all available species, their aliases, available adaptor groups and data release in json format\n",
    "#request = requests.get(server+\"/rest-15/info/species?division=EnsemblParasite\", headers={ \"Content-Type\" : \"application/json\", \"Accept\" : \"\"})\n",
    "\n",
    "\n",
    "if not request.ok:\n",
    "  request.raise_for_status()\n",
    "  sys.exit()\n",
    "decoded = request.json()\n",
    "print(json.dumps(decoded, indent = 4))"
   ]
  },
  {
   "cell_type": "markdown",
   "metadata": {},
   "source": [
    "#### Looking up information for single and several identifiers\n",
    "\n",
    "In the cell below, there are several examples on how to use `/rest-15/lookup/`. Uncomment the request that suits your needs best and change the variables as needed. "
   ]
  },
  {
   "cell_type": "code",
   "execution_count": null,
   "metadata": {},
   "outputs": [],
   "source": [
    "#Find the species and database for a single identifier in json format\n",
    "#request = requests.get(server+\"/rest-15/lookup/id/WBGene00008422?\", headers={ \"Content-Type\" : \"application/json\", \"Accept\" : \"\"})\n",
    "\n",
    "#Find the species and database for a single identifier (expanded information) in json format\n",
    "#request = requests.get(server+\"/rest-15/lookup/id/WBGene00008422?expand=1\", headers={ \"Content-Type\" : \"application/json\", \"Accept\" : \"\"})\n",
    "\n",
    "#Find the species and database for a single identifier (condensed information) in json format\n",
    "#request = requests.get(server+\"/rest-15/lookup/id/WBGene00008422?format=condensed;db_type=core\", headers={ \"Content-Type\" : \"application/json\", \"Accept\" : \"\"})\n",
    "\n",
    "#Find the species and database for several identifiers in json format\n",
    "#request = requests.post(server+\"/rest-15/lookup/id/\", headers={ \"Content-Type\" : \"application/json\", \"Accept\" : \"application/json\"}, data='{ \"ids\" : [\"WBGene00011532\", \"WBGene00008422\" ] }')\n",
    "\n",
    "#Find the species and database for a symbol in a linked external database in json format\n",
    "request = requests.get(server+\"/rest-15/lookup/symbol/caenorhabditis_elegans_prjna13758/chaf-1?\", headers={ \"Content-Type\" : \"application/json\", \"Accept\" : \"\"})\n",
    "\n",
    "#Find the species and database for a symbol in a linked external database in json format\n",
    "#request = requests.get(server+\"/rest-15/lookup/symbol/caenorhabditis_elegans_prjna13758/chaf-1?expand=1\", headers={ \"Content-Type\" : \"application/json\", \"Accept\" : \"\"})\n",
    "\n",
    "#Find the species and database for a symbol in a linked external database in json format\n",
    "#request = requests.get(server+\"/rest-15/lookup/symbol/caenorhabditis_elegans_prjna13758/chaf-1?format=condensed;db_type=core\", headers={ \"Content-Type\" : \"application/json\", \"Accept\" : \"\"})\n",
    "\n",
    "#Find the species and database for a set of symbols in a linked external database in json format\n",
    "#request = requests.post(server+\"/rest-15/lookup/symbol/caenorhabditis_elegans_prjna13758/chaf-1\", headers={ \"Content-Type\" : \"application/json\", \"Accept\" : \"application/json\"}, data='{ \"symbols\" : [\"Bm994\", \"__VAR(gene_symbol2)__\" ] }')\n",
    "\n",
    "\n",
    "if not request.ok:\n",
    "  request.raise_for_status()\n",
    "  sys.exit()\n",
    "decoded = request.json()\n",
    "print(json.dumps(decoded, indent = 4))"
   ]
  },
  {
   "cell_type": "markdown",
   "metadata": {},
   "source": [
    "#### Sequence Information from WormBase\n",
    "\n",
    "In the cells below, there are several examples on how to use `/rest-15/sequence/`. Uncomment the request that suits your needs best and change the variables as needed. "
   ]
  },
  {
   "cell_type": "code",
   "execution_count": null,
   "metadata": {},
   "outputs": [],
   "source": [
    "#Request DNA sequence by WormBase Gene ID in plain text format\n",
    "#request = requests.get(server+\"/rest-15/sequence/id/WBGene00008422?\" , headers={ \"Content-Type\" : \"text/plain\", \"Accept\" : \"\"}) \n",
    "\n",
    "#Request Genomic sequence by WormBase Gene ID in plain text format\n",
    "request = requests.get(server+\"/rest-15/sequence/id/WBGene00008422?type=genomic\" , headers={ \"Content-Type\" : \"text/x-fasta\", \"Accept\" : \"\"}) \n",
    "\n",
    "if not request.ok:\n",
    "  request.raise_for_status()\n",
    "  sys.exit() \n",
    "print(request.text)"
   ]
  },
  {
   "cell_type": "code",
   "execution_count": null,
   "metadata": {},
   "outputs": [],
   "source": [
    "#Request Protein sequence (1 of multiple) by WormBase Gene ID in xml format\n",
    "request = requests.get(server+\"/rest-15/sequence/id/WBGene00008422?multiple_sequences=1;type=protein\" , headers={ \"Content-Type\" : \"text/x-seqxml+xml\", \"Accept\" : \"\"}) \n",
    "\n",
    "if not request.ok:\n",
    "  request.raise_for_status()\n",
    "  sys.exit() \n",
    "print(request.text)"
   ]
  },
  {
   "cell_type": "code",
   "execution_count": null,
   "metadata": {},
   "outputs": [],
   "source": [
    "#Request cdna transcript sequence by WormBase Entry ID in fasta format\n",
    "request = requests.get(server+\"/rest-15/sequence/id/E02H9.4?object_type=transcript;type=cdna\" , headers={ \"Content-Type\" : \"text/x-fasta\", \"Accept\" : \"\"}) \n",
    "\n",
    "#Request cds transcript sequence by WormBase Entry ID in fasta format\n",
    "#request = requests.get(server+\"/rest-15/sequence/id/E02H9.4?object_type=transcript;type=cds\" , headers={ \"Content-Type\" : \"text/x-fasta\", \"Accept\" : \"\"}) \n",
    "\n",
    "#Get the genomic sequence of the specified region of a species in fasta format\n",
    "#request = requests.get(server+\"/rest-15/sequence/region/caenorhabditis_elegans/I:1-5000:1?\" , headers={ \"Content-Type\" : \"text/x-fasta\", \"Accept\" : \"\"}) \n",
    "\n",
    "#Get the soft-masked genomic sequence of the specified region of a species in fasta format\n",
    "#request = requests.get(server+\"/rest-15/sequence/region/caenorhabditis_elegans/I:1-5000:1?mask=soft\" , headers={ \"Content-Type\" : \"text/x-fasta\", \"Accept\" : \"\"}) \n",
    "\n",
    "if not request.ok:\n",
    "  request.raise_for_status()\n",
    "  sys.exit() \n",
    "print(request.text)"
   ]
  },
  {
   "cell_type": "code",
   "execution_count": null,
   "metadata": {},
   "outputs": [],
   "source": [
    "#Request multiple types of sequence by a stable identifier list in json format\n",
    "#request = requests.post(server+\"/rest-15/sequence/id\" , headers={ \"Content-Type\" : \"application/json\", \"Accept\" : \"application/json\"}, data='{ \"ids\" : [\"WBGene00011532\", \"WBGene00008422\" ] }') \n",
    "\n",
    "#Get the genomic sequence of the specified region of a species in json format\n",
    "#request = requests.get(server+\"/rest-15/sequence/region/caenorhabditis_elegans/I:1-5000:1?\" , headers={ \"Content-Type\" : \"application/json\", \"Accept\" : \"\"}) \n",
    "\n",
    "#Get the genomic sequences of multiple regions of a species in json format\n",
    "request = requests.post(server+\"/rest-15/sequence/region/caenorhabditis_elegans\" , headers={ \"Content-Type\" : \"application/json\", \"Accept\" : \"application/json\"}, data='{ \"regions\" : [\"I:1-5000:1\", \"I:5600..85000\"] }') \n",
    "\n",
    "if not request.ok:\n",
    "  request.raise_for_status()\n",
    "  sys.exit() \n",
    "decoded = request.json()\n",
    "print(json.dumps(decoded, indent = 4))"
   ]
  },
  {
   "cell_type": "markdown",
   "metadata": {},
   "source": [
    "#### Map data from cdna, cds or protein coordinates to genomic coordinates\n",
    "\n",
    "In the cell below, there are several examples on how to use `/rest-15/map/`. Uncomment the request that suits your needs best and change the variables as needed. "
   ]
  },
  {
   "cell_type": "code",
   "execution_count": null,
   "metadata": {},
   "outputs": [],
   "source": [
    "#Convert from cDNA coordinates to genomic coordinates in json format\n",
    "#request = requests.get(server+\"/rest-15/map/cdna/Y74C9A.3.2/100..300?object_type=transcript\" , headers={ \"Content-Type\" : \"application/json\", \"Accept\" : \"\"}) \n",
    "\n",
    "#Convert from cds coordinates to genomic coordinates in json format\n",
    "#request = requests.get(server+\"/rest-15/map/cds/Y74C9A.3.2/1..300?object_type=transcript\" , headers={ \"Content-Type\" : \"application/json\", \"Accept\" : \"\"}) \n",
    "\n",
    "#Convert from protein coordinates to genomic coordinates in json format\n",
    "request = requests.get(server+\"/rest-15/map/translation/Y74C9A.3.2/1..100?object_type=translation\" , headers={ \"Content-Type\" : \"application/json\", \"Accept\" : \"\"}) \n",
    "\n",
    "if not request.ok:\n",
    "  request.raise_for_status()\n",
    "  sys.exit() \n",
    "decoded = request.json()\n",
    "print(json.dumps(decoded, indent = 4))"
   ]
  },
  {
   "cell_type": "markdown",
   "metadata": {},
   "source": [
    "#### Explore ontology and taxonomy terms\n",
    "\n",
    "In the cell below, there are several examples on how to use `/rest-15/ontology/`. Uncomment the request that suits your needs best and change the variables as needed. "
   ]
  },
  {
   "cell_type": "code",
   "execution_count": null,
   "metadata": {},
   "outputs": [],
   "source": [
    "#Reconstruct the entire ancestry of a term from is_a and part_of relationships in json format\n",
    "#request = requests.get(server+\"/rest-15/ontology/ancestors/GO:0005667?\" , headers={ \"Content-Type\" : \"application/json\", \"Accept\" : \"\"}) \n",
    "\n",
    "#request = requests.get(server+\"/rest-15/ontology/ancestors/chart/GO:0005667?\" , headers={ \"Content-Type\" : \"application/json\", \"Accept\" : \"\"}) \n",
    "\n",
    "#Find all the terms descended from a given term in json format\n",
    "#request = requests.get(server+\"/rest-15/ontology/descendants/GO:0005667?\" , headers={ \"Content-Type\" : \"application/json\", \"Accept\" : \"\"}) \n",
    "\n",
    "#Search for an ontological term by its namespaced identifier in json format\n",
    "#request = requests.get(server+\"/rest-15/ontology/id/GO:0005667?\" , headers={ \"Content-Type\" : \"application/json\", \"Accept\" : \"\"}) \n",
    "\n",
    "#Search for a list of ontological terms by their name in json format\n",
    "request = requests.get(server+\"/rest-15/ontology/name/transcription factor complex?\" , headers={ \"Content-Type\" : \"application/json\", \"Accept\" : \"\"}) \n",
    "\n",
    "\n",
    "if not request.ok:\n",
    "  request.raise_for_status()\n",
    "  sys.exit() \n",
    "decoded = request.json()\n",
    "print(json.dumps(decoded, indent = 4))"
   ]
  },
  {
   "cell_type": "markdown",
   "metadata": {},
   "source": [
    "#### Retrieves features that overlap a given region\n",
    "\n",
    "In the cell below, there are several examples on how to use `/rest-15/overlap/`. Uncomment the request that suits your needs best and change the variables as needed. "
   ]
  },
  {
   "cell_type": "code",
   "execution_count": null,
   "metadata": {},
   "outputs": [],
   "source": [
    "#Retrieves mentioned features of a kind that overlap a region defined by a gene in json format\n",
    "#request = requests.get(server+\"/rest-15/overlap/id/WBGene00008422?feature=gene\" , headers={ \"Content-Type\" : \"application/json\", \"Accept\" : \"\"}) \n",
    "\n",
    "#Retrieves mentioned features of multiple types for a region in json format\n",
    "#request = requests.get(server+\"/rest-15/overlap/region/caenorhabditis_elegans/I:1-5000?feature=gene;feature=transcript;feature=cds;feature=exon\" , headers={ \"Content-Type\" : \"application/json\", \"Accept\" : \"\"}) \n",
    "\n",
    "#Retrieves mentioned features of multiple types for a region in json format\n",
    "#request = requests.get(server+\"/rest-15/overlap/region/caenorhabditis_elegans/I:1-5000?feature=gene;feature=transcript;feature=cds;feature=exon\" , headers={ \"Content-Type\" : \"application/json\", \"Accept\" : \"\"}) \n",
    "\n",
    "#Retrieve mentioned features of multiple types for a specific translation in json format\n",
    "request = requests.get(server+\"/rest-15/overlap/translation/Y74C9A.3.2?type=Superfamily\" , headers={ \"Content-Type\" : \"application/json\", \"Accept\" : \"\"}) \n",
    "\n",
    "if not request.ok:\n",
    "  request.raise_for_status()\n",
    "  sys.exit() \n",
    "decoded = request.json()\n",
    "print(json.dumps(decoded, indent = 4))"
   ]
  },
  {
   "cell_type": "markdown",
   "metadata": {},
   "source": [
    "#### Extracting all objects linked by cross referencing\n",
    "\n",
    "In the cells below, there are several examples on how to use `/rest-15/xrefs/`. Uncomment the request that suits your needs best and change the variables as needed. "
   ]
  },
  {
   "cell_type": "code",
   "execution_count": null,
   "metadata": {},
   "outputs": [],
   "source": [
    "#Looks up an external symbol and returns all objects linked to it in xml format\n",
    "request = requests.get(server+\"/rest-15/xrefs/symbol/caenorhabditis_elegans_prjna13758/chaf-1?\" , headers={ \"Content-Type\" : \"text/xml\", \"Accept\" : \"\"}) \n",
    "\n",
    "if not request.ok:\n",
    "  request.raise_for_status()\n",
    "  sys.exit()\n",
    "print(request.text)"
   ]
  },
  {
   "cell_type": "code",
   "execution_count": null,
   "metadata": {},
   "outputs": [],
   "source": [
    "#Looks up an external symbol and returns all objects linked to it in json format\n",
    "#request = requests.get(server+\"/rest-15/xrefs/symbol/caenorhabditis_elegans_prjna13758/chaf-1?\" , headers={ \"Content-Type\" : \"application/json\", \"Accept\" : \"\"}) \n",
    "\n",
    "#Looks up an external symbol and returns mentioned objects linked to it in json format\n",
    "#request = requests.get(server+\"/rest-15/xrefs/symbol/caenorhabditis_elegans_prjna13758/chaf-1?external_db=EntrezGene\" , headers={ \"Content-Type\" : \"application/json\", \"Accept\" : \"\"}) \n",
    "\n",
    "#Perform lookups of identifiers and retrieve their external references in other databases in json format\n",
    "#request = requests.get(server+\"/rest-15/xrefs/id/WBGene00008422?\", headers={ \"Content-Type\" : \"application/json\", \"Accept\" : \"\"}) \n",
    "\n",
    "#Perform lookups of identifiers and retrieve their external references in mentioned databases in json format\n",
    "#request = requests.get(server+\"/rest-15/xrefs/id/Y74C9A.3.2?object_type=transcript;external_db=GO;all_levels=1\", headers={ \"Content-Type\" : \"application/json\", \"Accept\" : \"\"}) \n",
    "\n",
    "#Performs a lookup based upon the primary accession or display label of an external reference in json format\n",
    "request = requests.get(server+\"/rest-15/xrefs/name/caenorhabditis_elegans_prjna13758/chaf-1?\", headers={ \"Content-Type\" : \"application/json\", \"Accept\" : \"\"}) \n",
    "\n",
    "if not request.ok:\n",
    "  request.raise_for_status()\n",
    "  sys.exit() \n",
    "decoded = request.json()\n",
    "print(json.dumps(decoded, indent = 4))"
   ]
  },
  {
   "cell_type": "markdown",
   "metadata": {},
   "source": [
    "#### Comparative Genomics and GeneTree information\n",
    "\n",
    "In the cells below, there are several examples on how to use `/rest-15/genetree/`. Uncomment the request that suits your needs best and change the variables as needed. "
   ]
  },
  {
   "cell_type": "code",
   "execution_count": null,
   "metadata": {},
   "outputs": [],
   "source": [
    "#Retrieves a gene tree dump for a gene tree stable identifier in json format\n",
    "request = requests.get(server+\"/rest-15/genetree/id/WBGT00000000021204?\", headers={ \"Content-Type\" : \"application/json\", \"Accept\" : \"\"}) \n",
    "\n",
    "#Retrieves homology information (orthologues) by gene id in json format\n",
    "#request = requests.get(server+\"/rest-15/homology/id/WBGene00008422?\", headers={ \"Content-Type\" : \"application/json\", \"Accept\" : \"\"}) \n",
    "\n",
    "#Retrieves homology information related to mentioned fields by gene id in json format\n",
    "#request = requests.get(server+\"/rest-15/homology/id/WBGene00008422?compara=parasite\", headers={ \"Content-Type\" : \"application/json\", \"Accept\" : \"\"}) \n",
    "\n",
    "#Retrieves homology information related to mentioned fields by gene id in json format\n",
    "#request = requests.get(server+\"/rest-15/homology/id/WBGene00008422?target_taxon=6279;sequence=cdna;target_species=wuchereria_bancrofti_prjeb536;type=orthologues\", headers={ \"Content-Type\" : \"application/json\", \"Accept\" : \"\"}) \n",
    "\n",
    "#Retrieves homology information in condensed format related to mentioned fields by gene id in json format\n",
    "#request = requests.get(server+\"/rest-15/homology/id/WBGene00008422?format=condensed;type=orthologues\", headers={ \"Content-Type\" : \"application/json\", \"Accept\" : \"\"}) \n",
    "\n",
    "#Retrieves homology information in condensed format related to mentioned fields by symbol in json format\n",
    "#request = requests.get(server+\"/rest-15/homology/symbol/caenorhabditis_elegans_prjna13758/chaf-1?\", headers={ \"Content-Type\" : \"application/json\", \"Accept\" : \"\"}) \n",
    "\n",
    "#Retrieves homology information related to mentioned fields by symbol in json format\n",
    "#request = requests.get(server+\"/rest-15/homology/symbol/caenorhabditis_elegans_prjna13758/chaf-1?target_taxon=6279;sequence=cdna;target_species=wuchereria_bancrofti_prjeb536;type=orthologues\", headers={ \"Content-Type\" : \"application/json\", \"Accept\" : \"\"}) \n",
    "\n",
    "#Retrieves homology information in condensed format related to mentioned fields by symbol in json format\n",
    "#request = requests.get(server+\"/rest-15/homology/symbol/caenorhabditis_elegans_prjna13758/chaf-1?format=condensed;type=orthologues\", headers={ \"Content-Type\" : \"application/json\", \"Accept\" : \"\"}) \n",
    "\n",
    "if not request.ok:\n",
    "  request.raise_for_status()\n",
    "  sys.exit() \n",
    "decoded = request.json()\n",
    "print(json.dumps(decoded, indent = 4))"
   ]
  },
  {
   "cell_type": "code",
   "execution_count": null,
   "metadata": {},
   "outputs": [],
   "source": [
    "#Retrieves a gene tree dump for a gene tree stable identifier in nh format\n",
    "request = requests.get(server+\"/rest-15/genetree/id/WBGT00000000021204?nh_format=simple\", headers={ \"Content-Type\" : \"text/x-nh\", \"Accept\" : \"\"}) \n",
    "\n",
    "if not request.ok:\n",
    "  request.raise_for_status()\n",
    "  sys.exit()\n",
    "print(request.text)"
   ]
  },
  {
   "cell_type": "code",
   "execution_count": null,
   "metadata": {},
   "outputs": [],
   "source": [
    "#Retrieves a gene tree dump for a gene tree stable identifier in phyloxml-xml format\n",
    "#request = requests.get(server+\"/rest-15/genetree/id/WBGT00000000021204?\", headers={ \"Content-Type\" : \"text/x-phyloxml+xml\", \"Accept\" : \"\"}) \n",
    "\n",
    "#Retrieves a gene tree dump with cdna sequence information for a gene tree stable identifier in phyloxml-xml format\n",
    "#request = requests.get(server+\"/rest-15/genetree/id/WBGT00000000021204?aligned=1;sequence=cdna\", headers={ \"Content-Type\" : \"text/x-phyloxml+xml\", \"Accept\" : \"\"}) \n",
    "\n",
    "#Retrieves a gene tree that contains the stable identifier in phyloxml-xml format\n",
    "#request = requests.get(server+\"/rest-15/genetree/member/id/WBGene00008422?\", headers={ \"Content-Type\" : \"text/x-phyloxml+xml\", \"Accept\" : \"\"}) \n",
    "\n",
    "#Retrieves a gene tree containing the gene identified by a symbol in phyloxml-xml format\n",
    "request = requests.get(server+\"/rest-15/genetree/member/symbol/caenorhabditis_elegans_prjna13758/chaf-1?\", headers={ \"Content-Type\" : \"text/x-phyloxml+xml\", \"Accept\" : \"\"}) \n",
    "\n",
    "if not request.ok:\n",
    "  request.raise_for_status()\n",
    "  sys.exit()\n",
    "print(request.text)"
   ]
  },
  {
   "cell_type": "markdown",
   "metadata": {},
   "source": [
    "This is the end of the tutorial for accessing WormBase ParaSite through the RESTful API in several data types.\n",
    "\n",
    "In the next tutorial, we will use the WormBase RESTful API to access the essential gene information for any WormBase gene IDs, and replicate the SimpleMine results."
   ]
  }
 ],
 "metadata": {
  "kernelspec": {
   "display_name": "Python 3",
   "language": "python",
   "name": "python3"
  },
  "language_info": {
   "codemirror_mode": {
    "name": "ipython",
    "version": 3
   },
   "file_extension": ".py",
   "mimetype": "text/x-python",
   "name": "python",
   "nbconvert_exporter": "python",
   "pygments_lexer": "ipython3",
   "version": "3.8.5"
  }
 },
 "nbformat": 4,
 "nbformat_minor": 4
}
