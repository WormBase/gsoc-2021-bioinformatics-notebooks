{
 "cells": [
  {
   "cell_type": "markdown",
   "metadata": {},
   "source": [
    "# **Bioinformatics with Jupyter Notebooks for WormBase:**\n",
    "## **Utilities 2 - WormCat**\n",
    "Welcome to the fourteenth jupyter notebook in the WormBase tutorial series. Over this series of tutorials, we will write code in Python that allows us to retrieve and perform simple analyses with data available on the WormBase sites.\n",
    "\n",
    "This tutorial will deal with using WormCat, which is a tool for annotating and visualizing gene set enrichment data from _C. elegans_ microarray, RNA seq or RNAi screen data. Let's get started!"
   ]
  },
  {
   "cell_type": "markdown",
   "metadata": {},
   "source": [
    " The required packages for this tutorial can be installed using the next 3 cells. A more detaied explanation is there in the setup (Tutorial-00) notebook.?"
   ]
  },
  {
   "cell_type": "code",
   "execution_count": null,
   "metadata": {},
   "outputs": [],
   "source": [
    "!pip install rpy2\n",
    "!pip install wormcat_batch"
   ]
  },
  {
   "cell_type": "code",
   "execution_count": null,
   "metadata": {},
   "outputs": [],
   "source": [
    "%load_ext rpy2.ipython"
   ]
  },
  {
   "cell_type": "code",
   "execution_count": null,
   "metadata": {},
   "outputs": [],
   "source": [
    "%%R\n",
    "install.packages(\"devtools\")\n",
    "\n",
    "library(\"devtools\")\n",
    "\n",
    "install_github(\"trinker/plotflow\")\n",
    "\n",
    "install_github(\"dphiggs01/wormcat\")\n",
    "\n",
    "install.packages(\"argparse\")\n",
    "\n",
    "library(wormcat)"
   ]
  },
  {
   "cell_type": "markdown",
   "metadata": {},
   "source": [
    "Let's start by importing the required libraries for the tutorial."
   ]
  },
  {
   "cell_type": "code",
   "execution_count": null,
   "metadata": {},
   "outputs": [],
   "source": [
    "import pandas as pd\n",
    "from IPython.core.display import SVG"
   ]
  },
  {
   "cell_type": "markdown",
   "metadata": {},
   "source": [
    "We will start by assigning values to some variables.\n",
    "\n",
    "First, we will have to assign the value to the Annotation_File variable. These are annotation databases that have been defined by, and created by WormCat. Depending on your use-case, you can choose a suitable annotation database.\n",
    "\n",
    "The different annotation databases are-\n",
    "\n",
    "[1]  kn_jan-18-2021.csv\n",
    "\n",
    "[2]  orf_jan-18-2021.csv\n",
    "\n",
    "[3]  whole_genome_jul-03-2019.csv.bk\n",
    "\n",
    "[4]  ahringer_jan-02-2019.csv\n",
    "\n",
    "[5]  whole_genome_jul-03-2019.csv\n",
    "\n",
    "[6]  orfeome_jan-31-2019.csv\n",
    "\n",
    "[7]  two_jan-18-2021.csv\n",
    "\n",
    "Based on this, assign a number to the variable. \n",
    "Next, we assign a name to the Output Directory and also assign the name of the input excel sheet ('.xlsx' file) to the Input_File variable.\n",
    "\n",
    "\n",
    "\n",
    "The input '.xlsx' file needs to follow certain rules:\n",
    "- Each sheet in the .xlsx file is a different gene set. Each Sheet requires a column header which MUST be 'Sequence ID' or 'Wormbase ID' (The column header is case sensitive.) which is followed by the gene list.\n",
    "- The Spreadsheet Name should ONLY be composed of Letters, Numbers, and Underscores (_) and has an extension .xlsx, .xlt, .xls.\n",
    "- The individual Sheet Names (i.e., Tab name) within the spreadsheet should ONLY be composed of Letters, Numbers, and Underscores (_)."
   ]
  },
  {
   "cell_type": "code",
   "execution_count": null,
   "metadata": {},
   "outputs": [],
   "source": [
    "Annotation_File = '2'\n",
    "Output_Directory = 'WormCat_Output'\n",
    "Input_File = 'data/Murphy_TS.xlsx'\n",
    "\n",
    "command_input = Annotation_File + '\\n' + Output_Directory + '\\ny\\n' + Input_File\n",
    "command_input"
   ]
  },
  {
   "cell_type": "markdown",
   "metadata": {},
   "source": [
    "Now we have the command ready for running the wormcat program. Let's run it and extract the results!"
   ]
  },
  {
   "cell_type": "code",
   "execution_count": null,
   "metadata": {},
   "outputs": [],
   "source": [
    "!printf \"$command_input\" | wormcat_cli"
   ]
  },
  {
   "cell_type": "markdown",
   "metadata": {},
   "source": [
    "Let's read in the output file that provides us enrichment data from the nested annotation list with broad categories in Category 1 (Cat1) and more specific categories in Cat2 and Cat3. \n",
    "\n",
    "For details about the three categories, download this file from the WormCat website - http://wormcat.com/static/download/Category_Definitions.csv"
   ]
  },
  {
   "cell_type": "code",
   "execution_count": null,
   "metadata": {},
   "outputs": [],
   "source": [
    "output = 'WormCat_Output/Out_Murphy_TS.xlsx'\n",
    "Output_Cat1 = pd.read_excel(output, 'Cat1')\n",
    "Output_Cat2 = pd.read_excel(output, 'Cat2')\n",
    "Output_Cat3 = pd.read_excel(output, 'Cat3')"
   ]
  },
  {
   "cell_type": "code",
   "execution_count": null,
   "metadata": {
    "scrolled": true
   },
   "outputs": [],
   "source": [
    "Output_Cat1"
   ]
  },
  {
   "cell_type": "markdown",
   "metadata": {},
   "source": [
    "We then assign the gene set (i.e., sheet name) that we want to take a closer look at and also the category of output. Once specified, we can explore the other outputs.\n",
    "\n",
    "WormCat output provides scaled bubble charts with enrichment scores that meet a Bonferroni false discovery rate cut off of 0.01.\n",
    "\n",
    "It also includes CSV files on the data used for the graph."
   ]
  },
  {
   "cell_type": "code",
   "execution_count": null,
   "metadata": {},
   "outputs": [],
   "source": [
    "gene_set = 'hypodermis'\n",
    "category = '1'"
   ]
  },
  {
   "cell_type": "code",
   "execution_count": null,
   "metadata": {},
   "outputs": [],
   "source": [
    "SVG(filename = 'WormCat_Output/' + gene_set + '/rgs_fisher_cat' + category + '_apv.svg')"
   ]
  },
  {
   "cell_type": "code",
   "execution_count": null,
   "metadata": {},
   "outputs": [],
   "source": [
    "graph_csv = pd.read_csv('WormCat_Output/' + gene_set + '/rgs_fisher_cat' + category + '_apv.csv')"
   ]
  },
  {
   "cell_type": "code",
   "execution_count": null,
   "metadata": {},
   "outputs": [],
   "source": [
    "graph_csv"
   ]
  },
  {
   "cell_type": "markdown",
   "metadata": {},
   "source": [
    "This is the end of the tutorial on using WormCat to deal with WormBase data!\n",
    "\n",
    "In the next tutorial, we will generate Chromosome Maps with WormBase data.\n",
    "\n",
    "Acknowledgements:\n",
    "- WormCat (http://wormcat.com/)\n",
    "- WormCat publication - 'WormCat: an online tool for annotation and visualization of Caenorhabditis elegans genome-scale data.' Amy D Holdorf, Daniel P Higgins, Anne C. Hart, Peter R Boag, Gregory Pazour, Albertha J. M. Walhout, Amy Karol Walker. GENETICS February 1, 2020 vol. 214 no. 2 279-294;"
   ]
  }
 ],
 "metadata": {
  "kernelspec": {
   "display_name": "Python 3",
   "language": "python",
   "name": "python3"
  },
  "language_info": {
   "codemirror_mode": {
    "name": "ipython",
    "version": 3
   },
   "file_extension": ".py",
   "mimetype": "text/x-python",
   "name": "python",
   "nbconvert_exporter": "python",
   "pygments_lexer": "ipython3",
   "version": "3.8.5"
  }
 },
 "nbformat": 4,
 "nbformat_minor": 4
}
