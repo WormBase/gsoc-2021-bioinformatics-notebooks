{
 "cells": [
  {
   "cell_type": "markdown",
   "metadata": {},
   "source": [
    "# **Bioinformatics with Jupyter Notebooks for WormBase:**\n",
    "## **Analyses 6 - Ontology Analyses**\n",
    "Welcome to the sixth jupyter notebook in the WormBase tutorial series. Over this series of tutorials, we will write code in Python that allows us to retrieve and perform simple analyses with data available on the WormBase sites.\n",
    "\n",
    "This tutorial will deal with obtaining different ontology information for the given gene input.\n",
    "Let's get started!"
   ]
  },
  {
   "cell_type": "markdown",
   "metadata": {},
   "source": [
    "As always, we start by importing all the required packages."
   ]
  },
  {
   "cell_type": "code",
   "execution_count": 1,
   "metadata": {},
   "outputs": [
    {
     "ename": "ImportError",
     "evalue": "No module named pandas",
     "output_type": "error",
     "traceback": [
      "\u001b[0;31m---------------------------------------------------------------------------\u001b[0m",
      "\u001b[0;31mImportError\u001b[0m                               Traceback (most recent call last)",
      "\u001b[0;32m<ipython-input-1-567dbde6f623>\u001b[0m in \u001b[0;36m<module>\u001b[0;34m()\u001b[0m\n\u001b[1;32m      1\u001b[0m \u001b[0;32mimport\u001b[0m \u001b[0mrequests\u001b[0m\u001b[0;34m,\u001b[0m \u001b[0msys\u001b[0m\u001b[0;34m,\u001b[0m \u001b[0mjson\u001b[0m\u001b[0;34m\u001b[0m\u001b[0m\n\u001b[0;32m----> 2\u001b[0;31m \u001b[0;32mimport\u001b[0m \u001b[0mpandas\u001b[0m \u001b[0;32mas\u001b[0m \u001b[0mpd\u001b[0m\u001b[0;34m\u001b[0m\u001b[0m\n\u001b[0m\u001b[1;32m      3\u001b[0m \u001b[0mpd\u001b[0m\u001b[0;34m.\u001b[0m\u001b[0mset_option\u001b[0m\u001b[0;34m(\u001b[0m\u001b[0;34m'display.max_columns'\u001b[0m\u001b[0;34m,\u001b[0m \u001b[0mNone\u001b[0m\u001b[0;34m)\u001b[0m \u001b[0;31m#for ensuring full view of the dataframe generated\u001b[0m\u001b[0;34m\u001b[0m\u001b[0m\n",
      "\u001b[0;31mImportError\u001b[0m: No module named pandas"
     ]
    }
   ],
   "source": [
    "import requests, sys, json\n",
    "import pandas as pd\n",
    "pd.set_option('display.max_columns', None) #for ensuring full view of the dataframe generated"
   ]
  },
  {
   "cell_type": "markdown",
   "metadata": {},
   "source": [
    "Assign the gene you are looking to obtain the ontology information for to the variable in the cell below."
   ]
  },
  {
   "cell_type": "code",
   "execution_count": null,
   "metadata": {},
   "outputs": [],
   "source": [
    "gene = 'WBGene00001648'"
   ]
  },
  {
   "cell_type": "markdown",
   "metadata": {},
   "source": [
    "### Gene Ontology"
   ]
  },
  {
   "cell_type": "markdown",
   "metadata": {},
   "source": [
    "Gene Ontology gives 3 main sets of information- \n",
    "1) Biological Processes\n",
    "2) Molecular Functions\n",
    "3) Cellular Processes\n",
    "\n",
    "We will obtain the same information for our gene of interest and extract the data into a dataframe for easy understanding."
   ]
  },
  {
   "cell_type": "code",
   "execution_count": null,
   "metadata": {},
   "outputs": [],
   "source": [
    "#We first generate the request URL for the gene ontology summary\n",
    "request = requests.get('http://rest.wormbase.org/rest/field/gene/'+gene+'/gene_ontology_summary')"
   ]
  },
  {
   "cell_type": "code",
   "execution_count": null,
   "metadata": {},
   "outputs": [],
   "source": [
    "#We can obtain the output of the request in the json format\n",
    "if not request.ok:\n",
    "  request.raise_for_status()\n",
    "  sys.exit()\n",
    "decoded = request.json()\n",
    "print(json.dumps(decoded, indent = 4))"
   ]
  },
  {
   "cell_type": "markdown",
   "metadata": {},
   "source": [
    "We output the gene ontology for biological processes, molecular functions, and cellular components each in dataframes which can be used to generate csv files. If you need any more information to be added in your dataframe, just edit the fields in the cells below as per your requirement!"
   ]
  },
  {
   "cell_type": "code",
   "execution_count": null,
   "metadata": {},
   "outputs": [],
   "source": [
    "#Gene Ontology Biological Processes\n",
    "GO_BP = pd.DataFrame(columns = ['ID', 'Label'])"
   ]
  },
  {
   "cell_type": "code",
   "execution_count": null,
   "metadata": {},
   "outputs": [],
   "source": [
    "biological_processes = request.json()['gene_ontology_summary']['data']['Biological_process']\n",
    "for i in range(len(biological_processes)):\n",
    "    GO_BP = GO_BP.append({'ID' : biological_processes[i]['term_description'][0]['id'], \n",
    "                          'Label' : biological_processes[i]['term_description'][0]['label']}, ignore_index = True)"
   ]
  },
  {
   "cell_type": "code",
   "execution_count": null,
   "metadata": {},
   "outputs": [],
   "source": [
    "GO_BP"
   ]
  },
  {
   "cell_type": "code",
   "execution_count": null,
   "metadata": {},
   "outputs": [],
   "source": [
    "#Gene Ontology Molecular Functions\n",
    "GO_MF = pd.DataFrame(columns = ['ID', 'Label'])"
   ]
  },
  {
   "cell_type": "code",
   "execution_count": null,
   "metadata": {},
   "outputs": [],
   "source": [
    "molecular_functions = request.json()['gene_ontology_summary']['data']['Molecular_function']\n",
    "for i in range(len(molecular_functions)):\n",
    "    GO_MF = GO_MF.append({'ID' : molecular_functions[i]['term_description'][0]['id'], \n",
    "                          'Label' : molecular_functions[i]['term_description'][0]['label']}, ignore_index = True)"
   ]
  },
  {
   "cell_type": "code",
   "execution_count": null,
   "metadata": {},
   "outputs": [],
   "source": [
    "GO_MF"
   ]
  },
  {
   "cell_type": "code",
   "execution_count": null,
   "metadata": {},
   "outputs": [],
   "source": [
    "#Gene Ontology Cellular Components\n",
    "GO_CC = pd.DataFrame(columns = ['ID', 'Label'])"
   ]
  },
  {
   "cell_type": "code",
   "execution_count": null,
   "metadata": {},
   "outputs": [],
   "source": [
    "cellular_components = request.json()['gene_ontology_summary']['data']['Cellular_component']\n",
    "for i in range(len(cellular_components)):\n",
    "    GO_CC = GO_CC.append({'ID' : cellular_components[i]['term_description'][0]['id'], \n",
    "                          'Label' : cellular_components[i]['term_description'][0]['label']}, ignore_index = True)"
   ]
  },
  {
   "cell_type": "code",
   "execution_count": null,
   "metadata": {},
   "outputs": [],
   "source": [
    "GO_CC"
   ]
  },
  {
   "cell_type": "markdown",
   "metadata": {},
   "source": [
    "### Anatomy Ontology"
   ]
  },
  {
   "cell_type": "markdown",
   "metadata": {},
   "source": [
    "Anatomy ontology gives information regarding the tissues in which the queried gene is expressed in."
   ]
  },
  {
   "cell_type": "code",
   "execution_count": null,
   "metadata": {},
   "outputs": [],
   "source": [
    "#We first generate the request URL for the anatomy ontology\n",
    "request = requests.get('http://rest.wormbase.org/rest/field/gene/'+gene+'/expressed_in')"
   ]
  },
  {
   "cell_type": "code",
   "execution_count": null,
   "metadata": {},
   "outputs": [],
   "source": [
    "#We can obtain the output of the request in the json format\n",
    "if not request.ok:\n",
    "  request.raise_for_status()\n",
    "  sys.exit()\n",
    "decoded = request.json()\n",
    "print(json.dumps(decoded, indent = 4))"
   ]
  },
  {
   "cell_type": "markdown",
   "metadata": {},
   "source": [
    "We output the anatomy ontology in a dataframe which can be used to generate a csv file. If you need any more information to be added in your dataframe, just edit the fields in the cells below as per your requirement!"
   ]
  },
  {
   "cell_type": "code",
   "execution_count": null,
   "metadata": {},
   "outputs": [],
   "source": [
    "#Anatomy Ontology\n",
    "AO = pd.DataFrame(columns = ['ID', 'Label', 'Evidence'])"
   ]
  },
  {
   "cell_type": "code",
   "execution_count": null,
   "metadata": {},
   "outputs": [],
   "source": [
    "anatomy_terms = request.json()['expressed_in']['data']\n",
    "for i in range(len(anatomy_terms)):\n",
    "    AO = AO.append({'ID' : anatomy_terms[i]['ontology_term']['id'], \n",
    "                    'Label' : anatomy_terms[i]['ontology_term']['label'],\n",
    "                    'Evidence': anatomy_terms[i]['details'][0]['evidence']['Description']}, ignore_index = True)"
   ]
  },
  {
   "cell_type": "code",
   "execution_count": null,
   "metadata": {},
   "outputs": [],
   "source": [
    "AO"
   ]
  },
  {
   "cell_type": "markdown",
   "metadata": {},
   "source": [
    "### Disease Ontology"
   ]
  },
  {
   "cell_type": "markdown",
   "metadata": {},
   "source": [
    "Disease ontology gives the information regarding the diseases which the queried gene is assumed or proved to be related to."
   ]
  },
  {
   "cell_type": "code",
   "execution_count": null,
   "metadata": {},
   "outputs": [],
   "source": [
    "#We first generate the request URL for the human disease ontology\n",
    "request = requests.get('http://rest.wormbase.org/rest/field/gene/'+gene+'/human_diseases')"
   ]
  },
  {
   "cell_type": "code",
   "execution_count": null,
   "metadata": {},
   "outputs": [],
   "source": [
    "#We can obtain the output of the request in the json format\n",
    "if not request.ok:\n",
    "  request.raise_for_status()\n",
    "  sys.exit()\n",
    "decoded = request.json()\n",
    "print(json.dumps(decoded, indent = 4))"
   ]
  },
  {
   "cell_type": "markdown",
   "metadata": {},
   "source": [
    "We output the human disease ontology in a dataframe which can be used to generate a csv file. If you need any more information to be added in your dataframe, just edit the fields in the cells below as per your requirement!"
   ]
  },
  {
   "cell_type": "code",
   "execution_count": null,
   "metadata": {},
   "outputs": [],
   "source": [
    "#Disease Ontology\n",
    "DO = pd.DataFrame(columns = ['ID', 'Label', 'Inference Method'])"
   ]
  },
  {
   "cell_type": "code",
   "execution_count": null,
   "metadata": {},
   "outputs": [],
   "source": [
    "disease_terms = request.json()['human_diseases']['data']['potential_model']\n",
    "for i in range(len(disease_terms)):\n",
    "    DO = DO.append({'ID' : disease_terms[i]['id'], \n",
    "                    'Label' : disease_terms[i]['label'],\n",
    "                    'Inference Method': disease_terms[i]['ev']}, ignore_index = True)"
   ]
  },
  {
   "cell_type": "code",
   "execution_count": null,
   "metadata": {
    "scrolled": true
   },
   "outputs": [],
   "source": [
    "DO"
   ]
  },
  {
   "cell_type": "markdown",
   "metadata": {},
   "source": [
    "### Life Stage Ontology"
   ]
  },
  {
   "cell_type": "markdown",
   "metadata": {},
   "source": [
    "Life Stage ontology gives the information regarding the life stages of the organism during which the queried gene is assumed or proved to be active in."
   ]
  },
  {
   "cell_type": "code",
   "execution_count": null,
   "metadata": {},
   "outputs": [],
   "source": [
    "#We first generate the request URL for the life stage ontology\n",
    "request = requests.get('http://rest.wormbase.org/rest/field/gene/'+gene+'/fpkm_expression_summary_ls')"
   ]
  },
  {
   "cell_type": "code",
   "execution_count": null,
   "metadata": {},
   "outputs": [],
   "source": [
    "#We can obtain the output of the request in the json format\n",
    "if not request.ok:\n",
    "  request.raise_for_status()\n",
    "  sys.exit()\n",
    "decoded = request.json()\n",
    "print(json.dumps(decoded, indent = 4))"
   ]
  },
  {
   "cell_type": "markdown",
   "metadata": {},
   "source": [
    "We output the life stage ontology in a dataframe which can be used to generate a csv file. If you need any more information to be added in your dataframe, just edit the fields in the cells below as per your requirement!"
   ]
  },
  {
   "cell_type": "code",
   "execution_count": null,
   "metadata": {},
   "outputs": [],
   "source": [
    "#Life Stage Ontology\n",
    "LSO = pd.DataFrame(columns = ['ID', 'Label'])"
   ]
  },
  {
   "cell_type": "code",
   "execution_count": null,
   "metadata": {},
   "outputs": [],
   "source": [
    "life_stages = request.json()['fpkm_expression_summary_ls']['data']['controls']\n",
    "for i in range(len(life_stages)):\n",
    "    LSO = LSO.append({'ID' : life_stages[i]['life_stage']['id'], \n",
    "                    'Label' : life_stages[i]['life_stage']['label']}, ignore_index = True)"
   ]
  },
  {
   "cell_type": "code",
   "execution_count": null,
   "metadata": {},
   "outputs": [],
   "source": [
    "LSO"
   ]
  },
  {
   "cell_type": "markdown",
   "metadata": {},
   "source": [
    "### Phenotype Ontology"
   ]
  },
  {
   "cell_type": "markdown",
   "metadata": {},
   "source": [
    "Phenotype ontology gives the information regarding the phenotypes whose expression the queried gene is assumed or proved to be responsible for."
   ]
  },
  {
   "cell_type": "code",
   "execution_count": null,
   "metadata": {},
   "outputs": [],
   "source": [
    "#We first generate the request URL for the life stage ontology\n",
    "request = requests.get('http://rest.wormbase.org/rest/field/gene/'+gene+'/phenotype')"
   ]
  },
  {
   "cell_type": "code",
   "execution_count": null,
   "metadata": {},
   "outputs": [],
   "source": [
    "#We can obtain the output of the request in the json format\n",
    "if not request.ok:\n",
    "  request.raise_for_status()\n",
    "  sys.exit()\n",
    "decoded = request.json()\n",
    "print(json.dumps(decoded, indent = 4))"
   ]
  },
  {
   "cell_type": "markdown",
   "metadata": {},
   "source": [
    "We output the phenotype ontology in a dataframe which can be used to generate a csv file. If you need any more information to be added in your dataframe, just edit the fields in the cells below as per your requirement!"
   ]
  },
  {
   "cell_type": "code",
   "execution_count": null,
   "metadata": {},
   "outputs": [],
   "source": [
    "#Phenotype Ontology\n",
    "PO = pd.DataFrame(columns = ['ID', 'Label', 'Taxonomy'])"
   ]
  },
  {
   "cell_type": "code",
   "execution_count": null,
   "metadata": {},
   "outputs": [],
   "source": [
    "phenotype = request.json()['phenotype']['data']\n",
    "for i in range(len(phenotype)):\n",
    "    PO = PO.append({'ID' : phenotype[i]['phenotype']['id'], \n",
    "                    'Label' : phenotype[i]['phenotype']['label'],\n",
    "                    'Taxonomy': phenotype[i]['phenotype']['taxonomy']}, ignore_index = True)"
   ]
  },
  {
   "cell_type": "code",
   "execution_count": null,
   "metadata": {},
   "outputs": [],
   "source": [
    "PO"
   ]
  },
  {
   "cell_type": "markdown",
   "metadata": {},
   "source": [
    "This is the end of the sixth tutorial for WormBase data analysis! This tutorial dealt with obtaining several kinds of ontology information.\n",
    "\n",
    "In the next tutorial, we will perform Enrichment analyses on WormBase data!"
   ]
  }
 ],
 "metadata": {
  "kernelspec": {
   "display_name": "Python 3",
   "language": "python",
   "name": "python3"
  },
  "language_info": {
   "codemirror_mode": {
    "name": "ipython",
    "version": 2
   },
   "file_extension": ".py",
   "mimetype": "text/x-python",
   "name": "python",
   "nbconvert_exporter": "python",
   "pygments_lexer": "ipython2",
   "version": "2.7.17"
  }
 },
 "nbformat": 4,
 "nbformat_minor": 4
}
