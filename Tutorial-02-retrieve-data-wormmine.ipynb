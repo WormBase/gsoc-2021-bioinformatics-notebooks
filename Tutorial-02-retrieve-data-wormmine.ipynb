{
 "cells": [
  {
   "cell_type": "markdown",
   "metadata": {},
   "source": [
    "# **Bioinformatics with Jupyter Notebooks for WormBase:**\n",
    "## **Data Retrieval 2 - Getting data from WormMine**\n",
    "Welcome to the second jupyter notebook in the WormBase tutorial series. Over this series of tutorials, we will write code in Python that allows us to retrieve and perform simple analyses with data available on the WormBase sites.\n",
    "\n",
    "This tutorial will deal with the WormBase data from WormMine. \n",
    "We will both explore the site, and the intermine python package, and extract data of interest. Let's get started!"
   ]
  },
  {
   "cell_type": "markdown",
   "metadata": {},
   "source": [
    "We start by installing and loading the libraries that are required for this tutorial. "
   ]
  },
  {
   "cell_type": "code",
   "execution_count": null,
   "metadata": {},
   "outputs": [],
   "source": [
    "import pandas as pd\n",
    "import intermine\n",
    "from intermine import registry\n",
    "from intermine.webservice import Service"
   ]
  },
  {
   "cell_type": "markdown",
   "metadata": {},
   "source": [
    "getInfo(mine) can fetch all the information about a particular mine i.e., its description, version, organisms associated etc."
   ]
  },
  {
   "cell_type": "code",
   "execution_count": null,
   "metadata": {},
   "outputs": [],
   "source": [
    "registry.getInfo(\"WormMine\")"
   ]
  },
  {
   "cell_type": "markdown",
   "metadata": {},
   "source": [
    "getData(mine) can be used to extract the data sets corresponding to it.\n",
    "Note that this is not completely representative of the data available on WormMine!! Check the WormMine site for the complete data!!"
   ]
  },
  {
   "cell_type": "code",
   "execution_count": null,
   "metadata": {},
   "outputs": [],
   "source": [
    "registry.getData(\"WormMine\")"
   ]
  },
  {
   "cell_type": "markdown",
   "metadata": {},
   "source": [
    "The method \"new_query\" from Service class creates a query object"
   ]
  },
  {
   "cell_type": "code",
   "execution_count": null,
   "metadata": {},
   "outputs": [],
   "source": [
    "service = Service(\"http://intermine.wormbase.org/tools/wormmine/service\")\n",
    "query = service.new_query()"
   ]
  },
  {
   "cell_type": "markdown",
   "metadata": {},
   "source": [
    "### Performing simple queries on the WormMine database"
   ]
  },
  {
   "cell_type": "markdown",
   "metadata": {},
   "source": [
    "Let's query the WormMine database to extract the commonName, genus, name, shortName, species, and taxonID of all organisms whose data is available:"
   ]
  },
  {
   "cell_type": "code",
   "execution_count": null,
   "metadata": {
    "scrolled": true
   },
   "outputs": [],
   "source": [
    "query = service.new_query(\"Organism\")\n",
    "query.select(\"commonName\", \"genus\", \"name\", \"shortName\", \"species\",\"taxonId\")\n",
    "\n",
    "#Insert first 10 rows of the query results into a dataframe and display the output!\n",
    "organisms_data = pd.DataFrame(columns = [\"commonName\", \"genus\", \"name\", \"shortName\", \"species\",\"taxonId\"])\n",
    "\n",
    "for row in query.rows(start=0,size=10):\n",
    "    info = {'commonName':row[0], 'genus':row[1], 'name':row[2], 'shortName':row[3], 'species':row[4], \n",
    "            'taxonId':row[5]}\n",
    "    organisms_data = organisms_data.append(info, ignore_index = True)\n",
    "    \n",
    "organisms_data"
   ]
  },
  {
   "cell_type": "markdown",
   "metadata": {},
   "source": [
    "Let's query the WormMine database to extract the automatedDescription, biotype, briefDescription, length, operon, primaryIdentifier, secondaryIdentifier, and symbol of all genes whose data is available:"
   ]
  },
  {
   "cell_type": "code",
   "execution_count": null,
   "metadata": {
    "scrolled": true
   },
   "outputs": [],
   "source": [
    "query = service.new_query(\"Gene\")\n",
    "query.select(\"automatedDescription\", \"biotype\", \"briefDescription\", \"length\", \"operon\", \"primaryIdentifier\", \n",
    "             \"secondaryIdentifier\", \"symbol\")\n",
    "\n",
    "#Insert first 10 rows of the query results into a dataframe and display the output!\n",
    "genes_data = pd.DataFrame(columns = [\"automatedDescription\", \"biotype\", \"briefDescription\", \"length\", \"operon\", \n",
    "                                     \"primaryIdentifier\", \"secondaryIdentifier\", \"symbol\"])\n",
    "\n",
    "for row in query.rows(start=0,size=10):\n",
    "    info = {'automatedDescription':row[0], 'biotype':row[1], 'briefDescription':row[2], 'length':row[3], \n",
    "            'operon':row[4], 'primaryIdentifier':row[5], 'secondaryIdentifier':row[6], 'symbol':row[7]}\n",
    "    genes_data = genes_data.append(info, ignore_index = True)\n",
    "    \n",
    "genes_data"
   ]
  },
  {
   "cell_type": "markdown",
   "metadata": {},
   "source": [
    "Let's create a query object to query the description of all Gene Ontology (GO) terms from the WormMine database. We can then add extra columns (fields) to our query based on our needs - here, the identifier for all GO terms is added to the query. \n",
    "When there are multiple fields in a query, the default ordering of the output is based on the first field, but this can be changed to any other field."
   ]
  },
  {
   "cell_type": "code",
   "execution_count": null,
   "metadata": {},
   "outputs": [],
   "source": [
    "query = service.new_query()\n",
    "query.select(\"GOTerm.description\")\n",
    "\n",
    "query.add_view(\"GOTerm.identifier\") #Add a column to the query\n",
    "query.add_sort_order(\"GOTerm.identifier\") #Changing the sorting order of the query by a specific column\n",
    "\n",
    "#Insert first 10 rows of the query results into a dataframe and display the output!\n",
    "GO_data = pd.DataFrame(columns = [\"GOTerm.description\", \"GOTerm.identifier\"])\n",
    "\n",
    "for row in query.rows(start=0,size=10):\n",
    "    info = {'GOTerm.description':row[0], 'GOTerm.identifier':row[1]}\n",
    "    GO_data = GO_data.append(info, ignore_index = True)\n",
    "    \n",
    "GO_data"
   ]
  },
  {
   "cell_type": "markdown",
   "metadata": {},
   "source": [
    "### Performing queries on the WormMine database using constraints"
   ]
  },
  {
   "cell_type": "markdown",
   "metadata": {},
   "source": [
    "Let's query the WormMine database to extract all details of all organisms for which data is available. Then we can add a constraint to the query to restrict outputs to only those with a certain value in one of the fields, here Caenorhabditis in genus."
   ]
  },
  {
   "cell_type": "code",
   "execution_count": null,
   "metadata": {},
   "outputs": [],
   "source": [
    "query = service.new_query(\"Organism\")\n",
    "query.select(\"commonName\", \"genus\", \"name\", \"shortName\", \"species\", \"taxonId\")\n",
    "\n",
    "query.add_constraint(\"genus\", \"=\", \"Caenorhabditis\") #Add a constraint to the query based on a column\n",
    "\n",
    "#Insert first 10 rows of the query results into a dataframe and display the output!\n",
    "organisms_data = pd.DataFrame(columns = [\"commonName\", \"genus\", \"name\", \"shortName\", \"species\", \"taxonId\"])\n",
    "\n",
    "for row in query.rows(start=0,size=10):\n",
    "    info = {'commonName':row[0], 'genus':row[1], 'name':row[2], 'shortName':row[3], 'species':row[4], \n",
    "            'taxonId':row[5]}\n",
    "    organisms_data = organisms_data.append(info, ignore_index = True)\n",
    "    \n",
    "organisms_data"
   ]
  },
  {
   "cell_type": "markdown",
   "metadata": {},
   "source": [
    "Let's query the WormMine database to extract some details of all genes for which data is available. Then we can add multiple constraints. It is not necessary that the constraints are related to the fields explicitly mentioned in the query. \n",
    "\n",
    "Here, we add a constraint based on the value of genus being Caenorhabditis and another based on the value of ontologyTerm being kinase activity. \n",
    "\n",
    "(Even though the genus field is used as a constraint, the query does not return the column of genus as it has not been called in the query.)"
   ]
  },
  {
   "cell_type": "code",
   "execution_count": null,
   "metadata": {},
   "outputs": [],
   "source": [
    "query = service.new_query(\"Gene\")\n",
    "query.select(\"primaryIdentifier\", \"ontologyAnnotations.id\", \"ontologyAnnotations.qualifier\")\n",
    "\n",
    "query.add_constraint(\"organism.genus\",\"=\",\"Caenorhabditis\") #Add a constraint to the query based on a column\n",
    "query.add_constraint(\"ontologyAnnotations.ontologyTerm.name\",\"=\",\"kinase activity\") #Add a second constraint\n",
    "\n",
    "#Insert first 10 rows of the query results into a dataframe and display the output!\n",
    "genes_data = pd.DataFrame(columns = [\"primaryIdentifier\", \"ontologyAnnotations.id\", \n",
    "                                     \"ontologyAnnotations.qualifier\"])\n",
    "\n",
    "for row in query.rows(start=0,size=10):\n",
    "    info = {'primaryIdentifier':row[0], 'ontologyAnnotations.id':row[1], 'ontologyAnnotations.qualifier':row[2]}\n",
    "    genes_data = genes_data.append(info, ignore_index = True)\n",
    "    \n",
    "genes_data"
   ]
  },
  {
   "cell_type": "markdown",
   "metadata": {},
   "source": [
    "Let's query the WormMine database to extract all homologue data that is available along with the gene primaryIdentifiers and symbols for this data. Like mentiones previously, we can add multiple constraints. But it is not necessary that the constraints are applied one on the other.\n",
    "\n",
    "We can use logic operators to apply constraints on the query outputs. & - AND and | - OR can be used in the regular sense.\n",
    "\n",
    "Here, we have 3 constraints based on - the value of genus being Caenorhabditis, the value of species being elegans, and type of homologue being orthologue.\n",
    "\n",
    "Then we apply the constraints on the query such that the output either has to have Caenorhabditis as genus AND elegans as species OR type of homologue as orthologue."
   ]
  },
  {
   "cell_type": "code",
   "execution_count": null,
   "metadata": {},
   "outputs": [],
   "source": [
    "query = service.new_query(\"Homologue\")\n",
    "query.select('Homologue.id', 'Homologue.type', 'gene.primaryIdentifier', 'gene.symbol')\n",
    "\n",
    "query.add_constraint(\"gene.organism.genus\", \"=\", \"Caenorhabditis\") #Set up constraint A\n",
    "query.add_constraint(\"gene.organism.species\", \"=\", \"elegans\") #Set up constraint B\n",
    "query.add_constraint(\"type\", \"=\", \"orthologue\") #Set up constraint C\n",
    "query.set_logic(\"A & B & C\") #Logic operators can be used to set the different constraints on the query\n",
    "\n",
    "#Insert first 10 rows of the query results into a dataframe and display the output!\n",
    "homologue_data = pd.DataFrame(columns = [\"Homologue.id\", \"Homologue.type\", \"gene.primaryIdentifier\", \n",
    "                                         \"gene.symbol\"])\n",
    "\n",
    "for row in query.rows(start=0,size=10):\n",
    "    info = {'Homologue.id':row[0], 'Homologue.type':row[1], 'gene.primaryIdentifier':row[2], 'gene.symbol':row[3]}\n",
    "    homologue_data = homologue_data.append(info, ignore_index = True)\n",
    "    \n",
    "homologue_data"
   ]
  },
  {
   "cell_type": "markdown",
   "metadata": {},
   "source": [
    "#### Different types of constraints\n",
    "\n",
    "There are several kinds of constraints - Unary, Binary, Ternary, Multi-value, and List. We explore examples for all these constraint types."
   ]
  },
  {
   "cell_type": "markdown",
   "metadata": {},
   "source": [
    "##### Unary Constraints - \n",
    "Constraints that do not take any particular value but can be used to check if particular attirbute is absent or present.\n",
    "\n",
    "Types of Unary Constraints - IS Null and IS NOT Null\n",
    "\n",
    "Let's query the WormMine database to extract the automatedDescription, biotype, briefDescription, length, operon, primaryIdentifier, secondaryIdentifier, and symbol of all genes whose data is available, and then retain only those results where there is a valid secondaryIdentifier!"
   ]
  },
  {
   "cell_type": "code",
   "execution_count": null,
   "metadata": {},
   "outputs": [],
   "source": [
    "query = service.new_query(\"Gene\")\n",
    "query.select(\"automatedDescription\", \"biotype\", \"briefDescription\", \"length\", \"operon\", \"primaryIdentifier\", \n",
    "             \"secondaryIdentifier\", \"symbol\")\n",
    "\n",
    "query.add_constraint(\"secondaryIdentifier\",\"IS NOT NULL\") #Unary Constraint\n",
    "\n",
    "#Insert first 10 rows of the query results into a dataframe and display the output!\n",
    "genes_data = pd.DataFrame(columns = [\"automatedDescription\", \"biotype\", \"briefDescription\", \"length\", \"operon\", \n",
    "                                     \"primaryIdentifier\", \"secondaryIdentifier\", \"symbol\"])\n",
    "\n",
    "for row in query.rows(start=0,size=10):\n",
    "    info = {'automatedDescription':row[0], 'biotype':row[1], 'briefDescription':row[2], 'length':row[3], \n",
    "            'operon':row[4], 'primaryIdentifier':row[5], 'secondaryIdentifier':row[6], 'symbol':row[7]}\n",
    "    genes_data = genes_data.append(info, ignore_index = True)\n",
    "    \n",
    "genes_data"
   ]
  },
  {
   "cell_type": "markdown",
   "metadata": {},
   "source": [
    "##### Binary Constraints - \n",
    "Constraints that can take a particular attribute which can then be compared them to a specified value.\n",
    "\n",
    "Types of Binary Constraints - `=`, `<=`, `>=`, `<`, `>`, `!=`.\n",
    "\n",
    "Let's query the WormMine database to extract the automatedDescription, biotype, briefDescription, length, operon, primaryIdentifier, secondaryIdentifier, and symbol of all genes whose data is available, and then retain only those results where the value of the length is greater than or equal to 12000!"
   ]
  },
  {
   "cell_type": "code",
   "execution_count": null,
   "metadata": {},
   "outputs": [],
   "source": [
    "query = service.new_query(\"Gene\")\n",
    "query.select(\"automatedDescription\", \"biotype\", \"briefDescription\", \"length\", \"operon\", \"primaryIdentifier\", \n",
    "             \"secondaryIdentifier\", \"symbol\")\n",
    "\n",
    "query.add_constraint(\"length\",\">=\",\"12000\") #Binary Constraint\n",
    "\n",
    "#Insert first 10 rows of the query results into a dataframe and display the output!\n",
    "genes_data = pd.DataFrame(columns = [\"automatedDescription\", \"biotype\", \"briefDescription\", \"length\", \"operon\", \n",
    "                                     \"primaryIdentifier\", \"secondaryIdentifier\", \"symbol\"])\n",
    "\n",
    "for row in query.rows(start=0,size=10):\n",
    "    info = {'automatedDescription':row[0], 'biotype':row[1], 'briefDescription':row[2], 'length':row[3], \n",
    "            'operon':row[4], 'primaryIdentifier':row[5], 'secondaryIdentifier':row[6], 'symbol':row[7]}\n",
    "    genes_data = genes_data.append(info, ignore_index = True)\n",
    "    \n",
    "genes_data"
   ]
  },
  {
   "cell_type": "markdown",
   "metadata": {},
   "source": [
    "##### Ternary constraints - \n",
    "Constraints that have one required value and one optional value.\n",
    "\n",
    "Types of Ternary Constraints -LOOKUP (this operator searches through all the fields in a particular class for the value specified by the user)\n",
    "\n",
    "Let's query the WormMine database to extract the automatedDescription, biotype, briefDescription, length, operon, primaryIdentifier, secondaryIdentifier, and symbol of all genes whose data is available, and then retain only those results where there is a mention of 'GABA' in any field!\n",
    "\n",
    "The extra_value parameter can be used to limit the search to the type of object (for example, organism in genes), here C. elegans."
   ]
  },
  {
   "cell_type": "code",
   "execution_count": null,
   "metadata": {},
   "outputs": [],
   "source": [
    "query = service.new_query(\"Gene\")\n",
    "query.select(\"automatedDescription\", \"biotype\", \"briefDescription\", \"length\", \"operon\", \"primaryIdentifier\", \n",
    "             \"secondaryIdentifier\", \"symbol\")\n",
    "\n",
    "query.add_constraint(\"Gene\", \"LOOKUP\", \"hlh-2\", extra_value='C. elegans') #Ternary Constraint\n",
    "\n",
    "#Insert first 10 rows of the query results into a dataframe and display the output!\n",
    "genes_data = pd.DataFrame(columns = [\"automatedDescription\", \"biotype\", \"briefDescription\", \"length\", \"operon\", \n",
    "                                     \"primaryIdentifier\", \"secondaryIdentifier\", \"symbol\"])\n",
    "\n",
    "for row in query.rows(start=0,size=10):\n",
    "    info = {'automatedDescription':row[0], 'biotype':row[1], 'briefDescription':row[2], 'length':row[3], \n",
    "            'operon':row[4], 'primaryIdentifier':row[5], 'secondaryIdentifier':row[6], 'symbol':row[7]}\n",
    "    genes_data = genes_data.append(info, ignore_index = True)\n",
    "    \n",
    "genes_data"
   ]
  },
  {
   "cell_type": "markdown",
   "metadata": {},
   "source": [
    "##### Multi-value Constraints - \n",
    "Constraints that can take multiple values.\n",
    "\n",
    "Types of Multi-value Constraints -ONE OF and NONE OF\n",
    "\n",
    "Let's query the WormMine database to extract the automatedDescription, biotype, briefDescription, length, operon, primaryIdentifier, secondaryIdentifier, and symbol of all genes whose data is available, and then retain only those results where the gene symbol is one of hlh-2, unc-26, gar-3, or gbb-2."
   ]
  },
  {
   "cell_type": "code",
   "execution_count": null,
   "metadata": {},
   "outputs": [],
   "source": [
    "query = service.new_query(\"Gene\")\n",
    "query.select(\"automatedDescription\", \"biotype\", \"briefDescription\", \"length\", \"operon\", \"primaryIdentifier\", \n",
    "             \"secondaryIdentifier\", \"symbol\")\n",
    "\n",
    "query.add_constraint(\"symbol\",\"ONE OF\",['hlh-2','unc-26', 'gar-3', 'gbb-2']) #Multi-value Constraint\n",
    "\n",
    "#Insert first 10 rows of the query results into a dataframe and display the output!\n",
    "genes_data = pd.DataFrame(columns = [\"automatedDescription\", \"biotype\", \"briefDescription\", \"length\", \"operon\", \n",
    "                                     \"primaryIdentifier\", \"secondaryIdentifier\", \"symbol\"])\n",
    "\n",
    "for row in query.rows(start=0,size=10):\n",
    "    info = {'automatedDescription':row[0], 'biotype':row[1], 'briefDescription':row[2], 'length':row[3], \n",
    "            'operon':row[4], 'primaryIdentifier':row[5], 'secondaryIdentifier':row[6], 'symbol':row[7]}\n",
    "    genes_data = genes_data.append(info, ignore_index = True)\n",
    "    \n",
    "genes_data"
   ]
  },
  {
   "cell_type": "markdown",
   "metadata": {},
   "source": [
    "##### List constraints - \n",
    "Constraints that contain a list of values.\n",
    "\n",
    "Types of List Constraints -IN or NOT IN \n",
    "\n",
    "Let's query the WormMine database to extract the automatedDescription, biotype, briefDescription, length, operon, primaryIdentifier, secondaryIdentifier, and symbol of all genes whose data is available, and then retain only those results where the Gene is in the publicly available list C. elegans transcription factor genes present on WormMine."
   ]
  },
  {
   "cell_type": "code",
   "execution_count": null,
   "metadata": {},
   "outputs": [],
   "source": [
    "query = service.new_query(\"Gene\")\n",
    "query.select(\"automatedDescription\", \"biotype\", \"briefDescription\", \"length\", \"operon\", \"primaryIdentifier\", \n",
    "             \"secondaryIdentifier\", \"symbol\")\n",
    "\n",
    "query.add_constraint(\"Gene\",\"IN\",\"C. elegans transcription factor genes\") #List Constraint\n",
    "\n",
    "#Insert first 10 rows of the query results into a dataframe and display the output!\n",
    "genes_data = pd.DataFrame(columns = [\"automatedDescription\", \"biotype\", \"briefDescription\", \"length\", \"operon\", \n",
    "                                     \"primaryIdentifier\", \"secondaryIdentifier\", \"symbol\"])\n",
    "\n",
    "for row in query.rows(start=0,size=10):\n",
    "    info = {'automatedDescription':row[0], 'biotype':row[1], 'briefDescription':row[2], 'length':row[3], \n",
    "            'operon':row[4], 'primaryIdentifier':row[5], 'secondaryIdentifier':row[6], 'symbol':row[7]}\n",
    "    genes_data = genes_data.append(info, ignore_index = True)\n",
    "    \n",
    "genes_data"
   ]
  },
  {
   "cell_type": "markdown",
   "metadata": {},
   "source": [
    "##### Sub-Class constraints - \n",
    "Constraints that allow a user to specify a sub-class of a class to constrain a path to\n",
    "\n",
    "Let's query the WormMine database to extract the automatedDescription, biotype, briefDescription, length, operon, primaryIdentifier, secondaryIdentifier, and symbol of all genes whose data is available, and then constrain our results to only those items of the sub class GOAnnotation of ontologyAnnotations class."
   ]
  },
  {
   "cell_type": "code",
   "execution_count": null,
   "metadata": {},
   "outputs": [],
   "source": [
    "query = service.new_query(\"Gene\")\n",
    "query.select(\"automatedDescription\", \"biotype\", \"briefDescription\", \"length\", \"operon\", \"primaryIdentifier\", \n",
    "             \"secondaryIdentifier\", \"symbol\")\n",
    "\n",
    "query.add_constraint(\"ontologyAnnotations\",\"GOAnnotation\") #Sub-Class constraint\n",
    "\n",
    "#Insert first 10 rows of the query results into a dataframe and display the output!\n",
    "genes_data = pd.DataFrame(columns = [\"automatedDescription\", \"biotype\", \"briefDescription\", \"length\", \"operon\", \n",
    "                                     \"primaryIdentifier\", \"secondaryIdentifier\", \"symbol\"])\n",
    "\n",
    "for row in query.rows(start=0,size=10):\n",
    "    info = {'automatedDescription':row[0], 'biotype':row[1], 'briefDescription':row[2], 'length':row[3], \n",
    "            'operon':row[4], 'primaryIdentifier':row[5], 'secondaryIdentifier':row[6], 'symbol':row[7]}\n",
    "    genes_data = genes_data.append(info, ignore_index = True)\n",
    "    \n",
    "genes_data"
   ]
  },
  {
   "cell_type": "markdown",
   "metadata": {},
   "source": [
    "##### Loop Constraints - \n",
    "Constraints that assert that two paths refer to the same object\n",
    "\n",
    "Types of Loop Constraints - IS or IS NOT\n",
    "\n",
    "Let's query the WormMine database to extract the automatedDescription, biotype, briefDescription, length, operon, primaryIdentifier, secondaryIdentifier, and symbol of all genes whose data is available, constrain our results using a list constraint and then, a loop constraint."
   ]
  },
  {
   "cell_type": "code",
   "execution_count": null,
   "metadata": {},
   "outputs": [],
   "source": [
    "query = service.new_query(\"Gene\")\n",
    "query.select(\"automatedDescription\", \"biotype\", \"briefDescription\", \"length\", \"operon\", \"primaryIdentifier\", \n",
    "             \"secondaryIdentifier\", \"symbol\")\n",
    "\n",
    "query.add_view(\"homologues.gene.primaryIdentifier\", \"homologues.homologue.primaryIdentifier\") #Add more fields\n",
    "query.add_constraint(\"Gene\", \"IN\", \"C. elegans transcription factor genes\", code = \"A\") #List constraint\n",
    "query.add_constraint(\"homologues.homologue\", \"IS NOT\", \"Gene\", code = \"B\") #Loop Constraint\n",
    "\n",
    "#Insert first 10 rows of the query results into a dataframe and display the output!\n",
    "genes_data = pd.DataFrame(columns = [\"homologues.gene.primaryIdentifier\", \n",
    "                                     \"homologues.homologue.primaryIdentifier\"])\n",
    "\n",
    "for row in query.rows(start=0,size=10):\n",
    "    info = {'homologues.gene.primaryIdentifier':row['homologues.gene.primaryIdentifier'], \n",
    "            'homologues.homologue.primaryIdentifier':row['homologues.homologue.primaryIdentifier']}\n",
    "    genes_data = genes_data.append(info, ignore_index = True)\n",
    "    \n",
    "genes_data"
   ]
  },
  {
   "cell_type": "markdown",
   "metadata": {},
   "source": [
    "##### Range Constraints - \n",
    "Constraints that test whether a value lies relative to a set of ranges or not\n",
    "\n",
    "Types of Range Constraints - OVERLAPS, DOES NOT OVERLAP, WITHIN, OUTSIDE, CONTAINS and DOES NOT CONTAIN\n",
    "\n",
    "Let's query the WormMine database to extract the details on organism name and chromosome location of all sequences whose data is available, and then constrain our results based on if the chromosome location overlaps our specified range of I:1..4000."
   ]
  },
  {
   "cell_type": "code",
   "execution_count": null,
   "metadata": {},
   "outputs": [],
   "source": [
    "query = service.new_query()\n",
    "\n",
    "query.add_view(\"SequenceFeature.organism.shortName\", \n",
    "               \"SequenceFeature.chromosomeLocation.locatedOn.primaryIdentifier\", \n",
    "               \"SequenceFeature.chromosomeLocation.start\", \"SequenceFeature.chromosomeLocation.end\" ) #Add fields\n",
    "query.add_constraint(\"chromosomeLocation\", \"OVERLAPS\", [\"I:1..4000\"]) #Range constraint\n",
    "\n",
    "#Insert first 10 rows of the query results into a dataframe and display the output!\n",
    "genes_data = pd.DataFrame(columns = [\"Organism\", \"Chromosome identifier\", \"Chromosome Start Location\", \n",
    "                                     \"Chromosome End Location\"])\n",
    "\n",
    "for row in query.rows(start=0,size=10):\n",
    "    info = {'Organism':row[0], 'Chromosome identifier':row[1], 'Chromosome Start Location':row[2], \n",
    "            'Chromosome End Location':row[3]}\n",
    "    genes_data = genes_data.append(info, ignore_index = True)\n",
    "    \n",
    "genes_data"
   ]
  },
  {
   "cell_type": "markdown",
   "metadata": {},
   "source": [
    "### Some query examples and exploring some other functionalities"
   ]
  },
  {
   "cell_type": "markdown",
   "metadata": {},
   "source": [
    "Let's query the WormMine database to extract the primaryIdentifier, symbol, of all genes whose data is available and connect that to the name and identifiers of the ontology terms. We then add a constraint that the homologue type of the results should be orthologue:"
   ]
  },
  {
   "cell_type": "code",
   "execution_count": null,
   "metadata": {},
   "outputs": [],
   "source": [
    "query = service.new_query(\"Gene\")\n",
    "query.select(\"primaryIdentifier\",\"symbol\", \"ontologyAnnotations.ontologyTerm.name\", \n",
    "             \"ontologyAnnotations.ontologyTerm.identifier\")\n",
    "\n",
    "query.add_constraint(\"homologues.type\", \"=\", \"orthologue\")\n",
    "\n",
    "#Insert first 10 rows of the query results into a dataframe and display the output!\n",
    "genes_data = pd.DataFrame(columns = [\"primaryIdentifier\", \"symbol\", \"Ontology Name\", \"Ontology Identifier\"])\n",
    "\n",
    "for row in query.rows(start=0,size=10):\n",
    "    info = {'primaryIdentifier':row[0], 'symbol':row[1], 'Ontology Name':row[2], 'Ontology Identifier':row[3]}\n",
    "    genes_data = genes_data.append(info, ignore_index = True)\n",
    "    \n",
    "genes_data"
   ]
  },
  {
   "cell_type": "markdown",
   "metadata": {},
   "source": [
    "It is possible to perform INNER and OUTER joins on the queries to get columns from different sets of data easily!"
   ]
  },
  {
   "cell_type": "code",
   "execution_count": null,
   "metadata": {
    "scrolled": true
   },
   "outputs": [],
   "source": [
    "query.add_view('homologues.type')\n",
    "query.add_join(\"homologues\", \"INNER\")\n",
    "\n",
    "#Insert first 10 rows of the query results into a dataframe and display the output!\n",
    "genes_data = pd.DataFrame(columns = [\"primaryIdentifier\", \"symbol\", \"Ontology Name\", \"Ontology Identifier\",\n",
    "                                    \"Homologue Type\"])\n",
    "\n",
    "for row in query.rows(start=0,size=10):\n",
    "    info = {'primaryIdentifier':row[0], 'symbol':row[1], 'Ontology Name':row[2], 'Ontology Identifier':row[3], \n",
    "            'Homologue Type':row[4]}\n",
    "    genes_data = genes_data.append(info, ignore_index = True)\n",
    "    \n",
    "genes_data"
   ]
  },
  {
   "cell_type": "markdown",
   "metadata": {},
   "source": [
    "##### Combinations of constraints and set logic"
   ]
  },
  {
   "cell_type": "markdown",
   "metadata": {},
   "source": [
    "Let's query the organism name and gene symbol for all genes in the WormMine database. We then constrain our results based on the logic OR of two specified constraints as in the cell below:"
   ]
  },
  {
   "cell_type": "code",
   "execution_count": null,
   "metadata": {},
   "outputs": [],
   "source": [
    "query = service.new_query()\n",
    "query.add_view(\"Gene.organism.name\",\"Gene.symbol\")\n",
    "\n",
    "gene_is_ugt = query.add_constraint(\"Gene.symbol\", \"=\", \"ugt-59\") #Add first binary constraint\n",
    "gene_is_sgn = query.add_constraint(\"Gene.symbol\", \"=\", \"sgn-1\") #Add second binary constraint\n",
    "query.set_logic(gene_is_ugt | gene_is_sgn) #Logic OR on the 2 constraints\n",
    "\n",
    "#Insert first 10 rows of the query results into a dataframe and display the output!\n",
    "genes_data = pd.DataFrame(columns = [\"Gene.organism.name\", \"Gene.symbol\"])\n",
    "\n",
    "for row in query.rows(start=0,size=10):\n",
    "    info = {'Gene.organism.name':row[0], 'Gene.symbol':row[1]}\n",
    "    genes_data = genes_data.append(info, ignore_index = True)\n",
    "    \n",
    "genes_data"
   ]
  },
  {
   "cell_type": "markdown",
   "metadata": {},
   "source": [
    "### Writing query results to a file for later use"
   ]
  },
  {
   "cell_type": "markdown",
   "metadata": {},
   "source": [
    "Since we use dataframes for storing the data, we can easily choose any rows or columns we want to retain based on simple constraints using the various functionalities present in the pandas library!"
   ]
  },
  {
   "cell_type": "code",
   "execution_count": null,
   "metadata": {},
   "outputs": [],
   "source": [
    "genes_data.to_csv('results.csv')"
   ]
  },
  {
   "cell_type": "markdown",
   "metadata": {},
   "source": [
    "### Getting a readable XML serialisation of a query"
   ]
  },
  {
   "cell_type": "code",
   "execution_count": null,
   "metadata": {},
   "outputs": [],
   "source": [
    "query.to_xml()"
   ]
  },
  {
   "cell_type": "markdown",
   "metadata": {},
   "source": [
    "### Clearing the output of a query"
   ]
  },
  {
   "cell_type": "code",
   "execution_count": null,
   "metadata": {},
   "outputs": [],
   "source": [
    "query.clear_view()"
   ]
  },
  {
   "cell_type": "markdown",
   "metadata": {},
   "source": [
    "This is the end of the tutorial for querying and extracting WormBase data using WormMine through intermine.\n",
    "\n",
    "In the next tutorial, we will use access the WormBase ParaSite data through their RESTful API.\n",
    "\n",
    "Acknowledgements:\n",
    "- WormMine(http://intermine.wormbase.org/tools/wormmine/begin.do)\n",
    "- InterMine tutorials (https://github.com/intermine/intermine-ws-python-docs)"
   ]
  }
 ],
 "metadata": {
  "kernelspec": {
   "display_name": "Python 3",
   "language": "python",
   "name": "python3"
  },
  "language_info": {
   "codemirror_mode": {
    "name": "ipython",
    "version": 3
   },
   "file_extension": ".py",
   "mimetype": "text/x-python",
   "name": "python",
   "nbconvert_exporter": "python",
   "pygments_lexer": "ipython3",
   "version": "3.8.5"
  }
 },
 "nbformat": 4,
 "nbformat_minor": 4
}
