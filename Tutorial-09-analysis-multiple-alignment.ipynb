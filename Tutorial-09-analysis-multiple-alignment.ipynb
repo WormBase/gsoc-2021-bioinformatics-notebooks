{
 "cells": [
  {
   "cell_type": "markdown",
   "metadata": {},
   "source": [
    "# **Bioinformatics with Jupyter Notebooks for WormBase:**\n",
    "## **Analyses 5 - Multiple Sequence Alignment**\n",
    "Welcome to the ninth jupyter notebook in the WormBase tutorial series. Over this series of tutorials, we will write code in Python that allows us to retrieve and perform simple analyses with data available on the WormBase sites.\n",
    "\n",
    "This tutorial will deal with performing multiple sequence alignment of your data using several different algorithms. This is not limited to only data from WormBase but the examples in the tutorial use worm data.\n",
    "Let's get started!"
   ]
  },
  {
   "cell_type": "markdown",
   "metadata": {},
   "source": [
    "As always, we start by importing any libraries that are required for the tutorials."
   ]
  },
  {
   "cell_type": "code",
   "execution_count": null,
   "metadata": {},
   "outputs": [],
   "source": [
    "import requests\n",
    "import sys\n",
    "import json\n",
    "import xml.dom.minidom"
   ]
  },
  {
   "cell_type": "markdown",
   "metadata": {},
   "source": [
    "#### Read in the input data of multiple sequences from a fasta file"
   ]
  },
  {
   "cell_type": "code",
   "execution_count": null,
   "metadata": {},
   "outputs": [],
   "source": [
    "sequences = open(\"data/mutltiple_fasta.fa\")\n",
    "sequences = sequences.read()\n",
    "print(sequences)"
   ]
  },
  {
   "cell_type": "markdown",
   "metadata": {},
   "source": [
    "### Clustal Omega\n",
    "\n",
    "Clustal Omega is an MSA tool that uses seeded guide trees and HMM profile-profile techniques to generate alignments that is suitable for medium-large alignments."
   ]
  },
  {
   "cell_type": "code",
   "execution_count": null,
   "metadata": {},
   "outputs": [],
   "source": [
    "server = 'https://www.ebi.ac.uk/Tools/services/rest/clustalo/'"
   ]
  },
  {
   "cell_type": "markdown",
   "metadata": {},
   "source": [
    "We can first explore which parameters can be used for multiple sequence alignment using the API. Out of these, only email, and input sequences are mandatory fields in most cases!"
   ]
  },
  {
   "cell_type": "code",
   "execution_count": null,
   "metadata": {
    "scrolled": true
   },
   "outputs": [],
   "source": [
    "request = requests.get(server + 'parameters')\n",
    "\n",
    "if not request.ok:\n",
    "  request.raise_for_status()\n",
    "  sys.exit() \n",
    "\n",
    "parameters = xml.dom.minidom.parseString(request.text)\n",
    "parameters = parameters.toprettyxml()\n",
    "\n",
    "print(parameters)"
   ]
  },
  {
   "cell_type": "markdown",
   "metadata": {},
   "source": [
    "Now, we know the different parameters that can be used for running the alignment. We can then find out the details of each of these parameters, the type of data accepted, and the permissible values. \n",
    "\n",
    "You can change the parameter variable to whichever parameter you want to find details about."
   ]
  },
  {
   "cell_type": "code",
   "execution_count": null,
   "metadata": {},
   "outputs": [],
   "source": [
    "parameter = 'guidetreeout'"
   ]
  },
  {
   "cell_type": "code",
   "execution_count": null,
   "metadata": {},
   "outputs": [],
   "source": [
    "request = requests.get(server + 'parameterdetails/' + parameter)\n",
    "\n",
    "if not request.ok:\n",
    "  request.raise_for_status()\n",
    "  sys.exit() \n",
    "\n",
    "parameter_details = xml.dom.minidom.parseString(request.text)\n",
    "parameter_details = parameter_details.toprettyxml()\n",
    "\n",
    "print(parameter_details)"
   ]
  },
  {
   "cell_type": "markdown",
   "metadata": {},
   "source": [
    "Now, we can request the API and run the alignment. Here, multiple parameters can be specified based on the details from the cells above. For Clustal Omega, the mandatory fields are - email and sequence. And after running the alignment, we can get the job id for getting the status of the job and also the results of the alignment."
   ]
  },
  {
   "cell_type": "code",
   "execution_count": null,
   "metadata": {},
   "outputs": [],
   "source": [
    "request = requests.post(server + 'run', \n",
    "                        headers = {\"Content-Type\" : \"application/x-www-form-urlencoded\", \"Accept\" : \"text/plain\"}, \n",
    "                        data = {\"email\" : \"xyz@wormbase.org\", \"sequence\" : sequences })\n",
    "\n",
    "if not request.ok:\n",
    "  request.raise_for_status()\n",
    "  sys.exit() \n",
    "\n",
    "print(request.text)\n",
    "jobid = request.text"
   ]
  },
  {
   "cell_type": "markdown",
   "metadata": {},
   "source": [
    "It is easy to check the status of our job. Just run the code in the next cell."
   ]
  },
  {
   "cell_type": "code",
   "execution_count": null,
   "metadata": {},
   "outputs": [],
   "source": [
    "request = requests.get(server + 'status/' + jobid)\n",
    "print(request.text)"
   ]
  },
  {
   "cell_type": "markdown",
   "metadata": {},
   "source": [
    "The API gives different data as results. You can use the next cell to understand the different result types and which ones you need to output."
   ]
  },
  {
   "cell_type": "code",
   "execution_count": null,
   "metadata": {},
   "outputs": [],
   "source": [
    "request = requests.get(server + 'resulttypes/' + jobid)\n",
    "\n",
    "resulttypes = xml.dom.minidom.parseString(request.text)\n",
    "resulttypes = resulttypes.toprettyxml()\n",
    "\n",
    "print(resulttypes)"
   ]
  },
  {
   "cell_type": "markdown",
   "metadata": {},
   "source": [
    "Assign the kind of output you would want to display and then request the API to return it. \n",
    "\n",
    "You can change the outtype variable to any of the identifiers mentioned in the previous output."
   ]
  },
  {
   "cell_type": "code",
   "execution_count": null,
   "metadata": {},
   "outputs": [],
   "source": [
    "outtype = 'aln-clustal_num' "
   ]
  },
  {
   "cell_type": "code",
   "execution_count": null,
   "metadata": {
    "scrolled": true
   },
   "outputs": [],
   "source": [
    "request = requests.get(server + 'result/' + jobid + '/' + outtype)\n",
    "\n",
    "print(request.text)"
   ]
  },
  {
   "cell_type": "code",
   "execution_count": null,
   "metadata": {},
   "outputs": [],
   "source": [
    "outtype = 'phylotree' "
   ]
  },
  {
   "cell_type": "code",
   "execution_count": null,
   "metadata": {
    "scrolled": true
   },
   "outputs": [],
   "source": [
    "request = requests.get(server + 'result/' + jobid + '/' + outtype)\n",
    "\n",
    "print(request.text)"
   ]
  },
  {
   "cell_type": "code",
   "execution_count": null,
   "metadata": {},
   "outputs": [],
   "source": [
    "outtype = 'pim'"
   ]
  },
  {
   "cell_type": "code",
   "execution_count": null,
   "metadata": {
    "scrolled": false
   },
   "outputs": [],
   "source": [
    "request = requests.get(server + 'result/' + jobid + '/' + outtype)\n",
    "\n",
    "print(request.text)"
   ]
  },
  {
   "cell_type": "markdown",
   "metadata": {},
   "source": [
    "And you are done!\n",
    "\n",
    "We will check out some more tutorials, based on the other alignment algorithms!"
   ]
  },
  {
   "cell_type": "markdown",
   "metadata": {},
   "source": [
    "### KALIGN\n",
    "\n",
    "KALIGN is a very fast MSA tool that concentrates on local regions that is suitable for large alignments."
   ]
  },
  {
   "cell_type": "code",
   "execution_count": null,
   "metadata": {},
   "outputs": [],
   "source": [
    "server = 'https://www.ebi.ac.uk/Tools/services/rest/kalign/'"
   ]
  },
  {
   "cell_type": "code",
   "execution_count": null,
   "metadata": {
    "scrolled": true
   },
   "outputs": [],
   "source": [
    "request = requests.get(server + 'parameters')\n",
    "\n",
    "if not request.ok:\n",
    "  request.raise_for_status()\n",
    "  sys.exit() \n",
    "\n",
    "parameters = xml.dom.minidom.parseString(request.text)\n",
    "parameters = parameters.toprettyxml()\n",
    "\n",
    "print(parameters)"
   ]
  },
  {
   "cell_type": "code",
   "execution_count": null,
   "metadata": {},
   "outputs": [],
   "source": [
    "parameter = 'gapext'"
   ]
  },
  {
   "cell_type": "code",
   "execution_count": null,
   "metadata": {},
   "outputs": [],
   "source": [
    "request = requests.get(server + 'parameterdetails/' + parameter)\n",
    "\n",
    "if not request.ok:\n",
    "  request.raise_for_status()\n",
    "  sys.exit() \n",
    "\n",
    "parameter_details = xml.dom.minidom.parseString(request.text)\n",
    "parameter_details = parameter_details.toprettyxml()\n",
    "\n",
    "print(parameter_details)"
   ]
  },
  {
   "cell_type": "code",
   "execution_count": null,
   "metadata": {},
   "outputs": [],
   "source": [
    "request = requests.post(server + 'run', \n",
    "                        headers = {\"Content-Type\" : \"application/x-www-form-urlencoded\", \"Accept\" : \"text/plain\"}, \n",
    "                        data = {\"email\" : \"xyz@wormbase.org\", \"sequence\" : sequences, \"stype\" : \"dna\"})\n",
    "\n",
    "if not request.ok:\n",
    "  request.raise_for_status()\n",
    "  sys.exit() \n",
    "\n",
    "print(request.text)\n",
    "jobid = request.text"
   ]
  },
  {
   "cell_type": "code",
   "execution_count": null,
   "metadata": {},
   "outputs": [],
   "source": [
    "request = requests.get(server + 'status/' + jobid)\n",
    "print(request.text)"
   ]
  },
  {
   "cell_type": "code",
   "execution_count": null,
   "metadata": {},
   "outputs": [],
   "source": [
    "request = requests.get(server + 'resulttypes/' + jobid)\n",
    "\n",
    "resulttypes = xml.dom.minidom.parseString(request.text)\n",
    "resulttypes = resulttypes.toprettyxml()\n",
    "\n",
    "print(resulttypes)"
   ]
  },
  {
   "cell_type": "code",
   "execution_count": null,
   "metadata": {},
   "outputs": [],
   "source": [
    "outtype = 'out' "
   ]
  },
  {
   "cell_type": "code",
   "execution_count": null,
   "metadata": {
    "scrolled": true
   },
   "outputs": [],
   "source": [
    "request = requests.get(server + 'result/' + jobid + '/' + outtype)\n",
    "\n",
    "print(request.text)"
   ]
  },
  {
   "cell_type": "code",
   "execution_count": null,
   "metadata": {},
   "outputs": [],
   "source": [
    "outtype = 'aln-clustalw' "
   ]
  },
  {
   "cell_type": "code",
   "execution_count": null,
   "metadata": {
    "scrolled": true
   },
   "outputs": [],
   "source": [
    "request = requests.get(server + 'result/' + jobid + '/' + outtype)\n",
    "\n",
    "print(request.text)"
   ]
  },
  {
   "cell_type": "code",
   "execution_count": null,
   "metadata": {},
   "outputs": [],
   "source": [
    "outtype = 'phylotree' "
   ]
  },
  {
   "cell_type": "code",
   "execution_count": null,
   "metadata": {
    "scrolled": true
   },
   "outputs": [],
   "source": [
    "request = requests.get(server + 'result/ '+ jobid + '/' + outtype)\n",
    "\n",
    "print(request.text)"
   ]
  },
  {
   "cell_type": "code",
   "execution_count": null,
   "metadata": {},
   "outputs": [],
   "source": [
    "outtype = 'pim'"
   ]
  },
  {
   "cell_type": "code",
   "execution_count": null,
   "metadata": {
    "scrolled": true
   },
   "outputs": [],
   "source": [
    "request = requests.get(server + 'result/' + jobid + '/' + outtype)\n",
    "\n",
    "print(request.text)"
   ]
  },
  {
   "cell_type": "markdown",
   "metadata": {},
   "source": [
    "### MAFFT\n",
    "\n",
    "MAFFT is an MSA tool that uses Fast Fourier Transforms that is suitable for medium-large alignments."
   ]
  },
  {
   "cell_type": "code",
   "execution_count": null,
   "metadata": {},
   "outputs": [],
   "source": [
    "server = 'https://www.ebi.ac.uk/Tools/services/rest/mafft/'"
   ]
  },
  {
   "cell_type": "code",
   "execution_count": null,
   "metadata": {
    "scrolled": true
   },
   "outputs": [],
   "source": [
    "request = requests.get(server + 'parameters')\n",
    "\n",
    "if not request.ok:\n",
    "  request.raise_for_status()\n",
    "  sys.exit() \n",
    "\n",
    "parameters = xml.dom.minidom.parseString(request.text)\n",
    "parameters = parameters.toprettyxml()\n",
    "\n",
    "print(parameters)"
   ]
  },
  {
   "cell_type": "code",
   "execution_count": null,
   "metadata": {},
   "outputs": [],
   "source": [
    "parameter = 'gapext'"
   ]
  },
  {
   "cell_type": "code",
   "execution_count": null,
   "metadata": {},
   "outputs": [],
   "source": [
    "request = requests.get(server + 'parameterdetails/' + parameter)\n",
    "\n",
    "if not request.ok:\n",
    "  request.raise_for_status()\n",
    "  sys.exit() \n",
    "\n",
    "parameter_details = xml.dom.minidom.parseString(request.text)\n",
    "parameter_details = parameter_details.toprettyxml()\n",
    "\n",
    "print(parameter_details)"
   ]
  },
  {
   "cell_type": "code",
   "execution_count": null,
   "metadata": {},
   "outputs": [],
   "source": [
    "request = requests.post(server + 'run', \n",
    "                        headers = {\"Content-Type\" : \"application/x-www-form-urlencoded\", \"Accept\" : \"text/plain\"}, \n",
    "                        data = {\"email\" : \"xyz@wormbase.org\", \"sequence\" : sequences })\n",
    "\n",
    "if not request.ok:\n",
    "  request.raise_for_status()\n",
    "  sys.exit() \n",
    "\n",
    "print(request.text)\n",
    "jobid = request.text"
   ]
  },
  {
   "cell_type": "code",
   "execution_count": null,
   "metadata": {},
   "outputs": [],
   "source": [
    "request = requests.get(server + 'status/' + jobid)\n",
    "print(request.text)"
   ]
  },
  {
   "cell_type": "code",
   "execution_count": null,
   "metadata": {},
   "outputs": [],
   "source": [
    "request = requests.get(server + 'resulttypes/' + jobid)\n",
    "\n",
    "resulttypes = xml.dom.minidom.parseString(request.text)\n",
    "resulttypes = resulttypes.toprettyxml()\n",
    "\n",
    "print(resulttypes)"
   ]
  },
  {
   "cell_type": "code",
   "execution_count": null,
   "metadata": {},
   "outputs": [],
   "source": [
    "outtype = 'out'"
   ]
  },
  {
   "cell_type": "code",
   "execution_count": null,
   "metadata": {
    "scrolled": true
   },
   "outputs": [],
   "source": [
    "request = requests.get(server + 'result/' + jobid + '/' + outtype)\n",
    "\n",
    "print(request.text)"
   ]
  },
  {
   "cell_type": "code",
   "execution_count": null,
   "metadata": {},
   "outputs": [],
   "source": [
    "outtype = 'phylotree' "
   ]
  },
  {
   "cell_type": "code",
   "execution_count": null,
   "metadata": {
    "scrolled": true
   },
   "outputs": [],
   "source": [
    "request = requests.get(server + 'result/' + jobid + '/' + outtype)\n",
    "\n",
    "print(request.text)"
   ]
  },
  {
   "cell_type": "code",
   "execution_count": null,
   "metadata": {},
   "outputs": [],
   "source": [
    "outtype = 'pim'"
   ]
  },
  {
   "cell_type": "code",
   "execution_count": null,
   "metadata": {
    "scrolled": false
   },
   "outputs": [],
   "source": [
    "request = requests.get(server + 'result/' + jobid + '/' + outtype)\n",
    "\n",
    "print(request.text)"
   ]
  },
  {
   "cell_type": "markdown",
   "metadata": {},
   "source": [
    "### MUSCLE\n",
    "\n",
    "MUSCLE is an accurate MSA tool that is especially good with proteins. It is suitable for medium alignments."
   ]
  },
  {
   "cell_type": "code",
   "execution_count": null,
   "metadata": {},
   "outputs": [],
   "source": [
    "server = 'https://www.ebi.ac.uk/Tools/services/rest/muscle/'"
   ]
  },
  {
   "cell_type": "code",
   "execution_count": null,
   "metadata": {
    "scrolled": true
   },
   "outputs": [],
   "source": [
    "request = requests.get(server + 'parameters')\n",
    "\n",
    "if not request.ok:\n",
    "  request.raise_for_status()\n",
    "  sys.exit() \n",
    "\n",
    "parameters = xml.dom.minidom.parseString(request.text)\n",
    "parameters = parameters.toprettyxml()\n",
    "\n",
    "print(parameters)"
   ]
  },
  {
   "cell_type": "code",
   "execution_count": null,
   "metadata": {},
   "outputs": [],
   "source": [
    "parameter = 'tree'"
   ]
  },
  {
   "cell_type": "code",
   "execution_count": null,
   "metadata": {},
   "outputs": [],
   "source": [
    "request = requests.get(server + 'parameterdetails/' + parameter)\n",
    "\n",
    "if not request.ok:\n",
    "  request.raise_for_status()\n",
    "  sys.exit() \n",
    "\n",
    "parameter_details = xml.dom.minidom.parseString(request.text)\n",
    "parameter_details = parameter_details.toprettyxml()\n",
    "\n",
    "print(parameter_details)"
   ]
  },
  {
   "cell_type": "code",
   "execution_count": null,
   "metadata": {},
   "outputs": [],
   "source": [
    "request = requests.post(server + 'run', \n",
    "                        headers = {\"Content-Type\" : \"application/x-www-form-urlencoded\", \"Accept\" : \"text/plain\"}, \n",
    "                        data = {\"email\" : \"xyz@wormbase.org\", \"sequence\" : sequences})\n",
    "\n",
    "if not request.ok:\n",
    "  request.raise_for_status()\n",
    "  sys.exit() \n",
    "\n",
    "print(request.text)\n",
    "jobid = request.text"
   ]
  },
  {
   "cell_type": "code",
   "execution_count": null,
   "metadata": {},
   "outputs": [],
   "source": [
    "request = requests.get(server + 'status/' + jobid)\n",
    "print(request.text)"
   ]
  },
  {
   "cell_type": "code",
   "execution_count": null,
   "metadata": {},
   "outputs": [],
   "source": [
    "request = requests.get(server + 'resulttypes/' + jobid)\n",
    "\n",
    "resulttypes = xml.dom.minidom.parseString(request.text)\n",
    "resulttypes = resulttypes.toprettyxml()\n",
    "\n",
    "print(resulttypes)"
   ]
  },
  {
   "cell_type": "code",
   "execution_count": null,
   "metadata": {},
   "outputs": [],
   "source": [
    "outtype = 'out'"
   ]
  },
  {
   "cell_type": "code",
   "execution_count": null,
   "metadata": {
    "scrolled": true
   },
   "outputs": [],
   "source": [
    "request = requests.get(server + 'result/' + jobid + '/' + outtype)\n",
    "\n",
    "print(request.text)"
   ]
  },
  {
   "cell_type": "code",
   "execution_count": null,
   "metadata": {},
   "outputs": [],
   "source": [
    "outtype = 'aln-clustalw'"
   ]
  },
  {
   "cell_type": "code",
   "execution_count": null,
   "metadata": {
    "scrolled": true
   },
   "outputs": [],
   "source": [
    "request = requests.get(server + 'result/' + jobid + '/' + outtype)\n",
    "\n",
    "print(request.text)"
   ]
  },
  {
   "cell_type": "code",
   "execution_count": null,
   "metadata": {},
   "outputs": [],
   "source": [
    "outtype = 'phylotree'"
   ]
  },
  {
   "cell_type": "code",
   "execution_count": null,
   "metadata": {
    "scrolled": true
   },
   "outputs": [],
   "source": [
    "request = requests.get(server + 'result/' + jobid + '/' + outtype)\n",
    "\n",
    "print(request.text)"
   ]
  },
  {
   "cell_type": "code",
   "execution_count": null,
   "metadata": {},
   "outputs": [],
   "source": [
    "outtype = 'pim' "
   ]
  },
  {
   "cell_type": "code",
   "execution_count": null,
   "metadata": {
    "scrolled": true
   },
   "outputs": [],
   "source": [
    "request = requests.get(server + 'result/' + jobid + '/' + outtype)\n",
    "\n",
    "print(request.text)"
   ]
  },
  {
   "cell_type": "markdown",
   "metadata": {},
   "source": [
    "### PRANK\n",
    "\n",
    "PRANK is a phylogeny-aware multiple sequence alignment program which makes use of evolutionary information to help place insertions and deletions."
   ]
  },
  {
   "cell_type": "code",
   "execution_count": null,
   "metadata": {},
   "outputs": [],
   "source": [
    "server = 'https://www.ebi.ac.uk/Tools/services/rest/prank/'"
   ]
  },
  {
   "cell_type": "code",
   "execution_count": null,
   "metadata": {
    "scrolled": true
   },
   "outputs": [],
   "source": [
    "request = requests.get(server + 'parameters')\n",
    "\n",
    "if not request.ok:\n",
    "  request.raise_for_status()\n",
    "  sys.exit() \n",
    "\n",
    "parameters = xml.dom.minidom.parseString(request.text)\n",
    "parameters = parameters.toprettyxml()\n",
    "\n",
    "print(parameters)"
   ]
  },
  {
   "cell_type": "code",
   "execution_count": null,
   "metadata": {},
   "outputs": [],
   "source": [
    "parameter = 'gap_extension'"
   ]
  },
  {
   "cell_type": "code",
   "execution_count": null,
   "metadata": {},
   "outputs": [],
   "source": [
    "request = requests.get(server + 'parameterdetails/' + parameter)\n",
    "\n",
    "if not request.ok:\n",
    "  request.raise_for_status()\n",
    "  sys.exit() \n",
    "\n",
    "parameter_details = xml.dom.minidom.parseString(request.text)\n",
    "parameter_details = parameter_details.toprettyxml()\n",
    "\n",
    "print(parameter_details)"
   ]
  },
  {
   "cell_type": "code",
   "execution_count": null,
   "metadata": {},
   "outputs": [],
   "source": [
    "request = requests.post(server + 'run', \n",
    "                        headers = {\"Content-Type\" : \"application/x-www-form-urlencoded\", \"Accept\" : \"text/plain\"}, \n",
    "                        data = {\"email\" : \"xyz@wormbase.org\", \"sequence\" : sequences})\n",
    "\n",
    "if not request.ok:\n",
    "  request.raise_for_status()\n",
    "  sys.exit() \n",
    "\n",
    "print(request.text)\n",
    "jobid = request.text"
   ]
  },
  {
   "cell_type": "code",
   "execution_count": null,
   "metadata": {},
   "outputs": [],
   "source": [
    "request = requests.get(server + 'status/' + jobid)\n",
    "print(request.text)"
   ]
  },
  {
   "cell_type": "code",
   "execution_count": null,
   "metadata": {},
   "outputs": [],
   "source": [
    "request = requests.get(server + 'resulttypes/' + jobid)\n",
    "\n",
    "resulttypes = xml.dom.minidom.parseString(request.text)\n",
    "resulttypes = resulttypes.toprettyxml()\n",
    "\n",
    "print(resulttypes)"
   ]
  },
  {
   "cell_type": "code",
   "execution_count": null,
   "metadata": {},
   "outputs": [],
   "source": [
    "outtype = 'out'"
   ]
  },
  {
   "cell_type": "code",
   "execution_count": null,
   "metadata": {
    "scrolled": true
   },
   "outputs": [],
   "source": [
    "request = requests.get(server + 'result/' + jobid + '/' + outtype)\n",
    "\n",
    "print(request.text)"
   ]
  },
  {
   "cell_type": "code",
   "execution_count": null,
   "metadata": {},
   "outputs": [],
   "source": [
    "outtype = 'aln-hsaml'"
   ]
  },
  {
   "cell_type": "code",
   "execution_count": null,
   "metadata": {
    "scrolled": true
   },
   "outputs": [],
   "source": [
    "request = requests.get(server + 'result/' + jobid + '/' + outtype)\n",
    "\n",
    "print(request.text)"
   ]
  },
  {
   "cell_type": "code",
   "execution_count": null,
   "metadata": {},
   "outputs": [],
   "source": [
    "outtype = 'tree'"
   ]
  },
  {
   "cell_type": "code",
   "execution_count": null,
   "metadata": {
    "scrolled": true
   },
   "outputs": [],
   "source": [
    "request = requests.get(server + 'result/' + jobid + '/' + outtype)\n",
    "\n",
    "print(request.text)"
   ]
  },
  {
   "cell_type": "markdown",
   "metadata": {},
   "source": [
    "### T-COFFEE\n",
    "\n",
    "T-COFFEE is a consistency-based MSA tool that attempts to mitigate the pitfalls of progressive alignment methods. This is suitable for small alignments."
   ]
  },
  {
   "cell_type": "code",
   "execution_count": null,
   "metadata": {},
   "outputs": [],
   "source": [
    "server = 'https://www.ebi.ac.uk/Tools/services/rest/tcoffee/'"
   ]
  },
  {
   "cell_type": "code",
   "execution_count": null,
   "metadata": {
    "scrolled": true
   },
   "outputs": [],
   "source": [
    "request = requests.get(server + 'parameters')\n",
    "\n",
    "if not request.ok:\n",
    "  request.raise_for_status()\n",
    "  sys.exit() \n",
    "\n",
    "parameters = xml.dom.minidom.parseString(request.text)\n",
    "parameters = parameters.toprettyxml()\n",
    "\n",
    "print(parameters)"
   ]
  },
  {
   "cell_type": "code",
   "execution_count": null,
   "metadata": {},
   "outputs": [],
   "source": [
    "parameter = 'order'"
   ]
  },
  {
   "cell_type": "code",
   "execution_count": null,
   "metadata": {},
   "outputs": [],
   "source": [
    "request = requests.get(server + 'parameterdetails/' + parameter)\n",
    "\n",
    "if not request.ok:\n",
    "  request.raise_for_status()\n",
    "  sys.exit() \n",
    "\n",
    "parameter_details = xml.dom.minidom.parseString(request.text)\n",
    "parameter_details = parameter_details.toprettyxml()\n",
    "\n",
    "print(parameter_details)"
   ]
  },
  {
   "cell_type": "code",
   "execution_count": null,
   "metadata": {},
   "outputs": [],
   "source": [
    "request = requests.post(server + 'run', \n",
    "                        headers = {\"Content-Type\" : \"application/x-www-form-urlencoded\", \"Accept\" : \"text/plain\"}, \n",
    "                        data = {\"email\" : \"xyz@wormbase.org\", \"sequence\" : sequences})\n",
    "\n",
    "if not request.ok:\n",
    "  request.raise_for_status()\n",
    "  sys.exit() \n",
    "\n",
    "print(request.text)\n",
    "jobid = request.text"
   ]
  },
  {
   "cell_type": "code",
   "execution_count": null,
   "metadata": {},
   "outputs": [],
   "source": [
    "request = requests.get(server + 'status/' + jobid)\n",
    "print(request.text)"
   ]
  },
  {
   "cell_type": "code",
   "execution_count": null,
   "metadata": {},
   "outputs": [],
   "source": [
    "request = requests.get(server + 'resulttypes/' + jobid)\n",
    "\n",
    "resulttypes = xml.dom.minidom.parseString(request.text)\n",
    "resulttypes = resulttypes.toprettyxml()\n",
    "\n",
    "print(resulttypes)"
   ]
  },
  {
   "cell_type": "code",
   "execution_count": null,
   "metadata": {},
   "outputs": [],
   "source": [
    "outtype = 'out'"
   ]
  },
  {
   "cell_type": "code",
   "execution_count": null,
   "metadata": {
    "scrolled": true
   },
   "outputs": [],
   "source": [
    "request = requests.get(server + 'result/' + jobid + '/' + outtype)\n",
    "\n",
    "print(request.text)"
   ]
  },
  {
   "cell_type": "code",
   "execution_count": null,
   "metadata": {},
   "outputs": [],
   "source": [
    "outtype = 'aln-clustalw'"
   ]
  },
  {
   "cell_type": "code",
   "execution_count": null,
   "metadata": {
    "scrolled": true
   },
   "outputs": [],
   "source": [
    "request = requests.get(server + 'result/' + jobid + '/' + outtype)\n",
    "\n",
    "print(request.text)"
   ]
  },
  {
   "cell_type": "code",
   "execution_count": null,
   "metadata": {},
   "outputs": [],
   "source": [
    "outtype = 'tree'"
   ]
  },
  {
   "cell_type": "code",
   "execution_count": null,
   "metadata": {
    "scrolled": true
   },
   "outputs": [],
   "source": [
    "request = requests.get(server + 'result/' + jobid + '/' + outtype)\n",
    "\n",
    "print(request.text)"
   ]
  },
  {
   "cell_type": "code",
   "execution_count": null,
   "metadata": {},
   "outputs": [],
   "source": [
    "outtype = 'phylotree'"
   ]
  },
  {
   "cell_type": "code",
   "execution_count": null,
   "metadata": {
    "scrolled": true
   },
   "outputs": [],
   "source": [
    "request = requests.get(server + 'result/' + jobid + '/' + outtype)\n",
    "\n",
    "print(request.text)"
   ]
  },
  {
   "cell_type": "code",
   "execution_count": null,
   "metadata": {},
   "outputs": [],
   "source": [
    "outtype = 'pim' "
   ]
  },
  {
   "cell_type": "code",
   "execution_count": null,
   "metadata": {
    "scrolled": true
   },
   "outputs": [],
   "source": [
    "request = requests.get(server + 'result/' + jobid + '/' + outtype)\n",
    "\n",
    "print(request.text)"
   ]
  },
  {
   "cell_type": "markdown",
   "metadata": {},
   "source": [
    "This is the end of the fifth tutorial for WormBase data analysis! This tutorial dealt with using several algorithms for Multiple Sequence Alignment analyses.\n",
    "\n",
    "In the next tutorial, we will perform Ontology analyses to better understand WormBase data!\n",
    "\n",
    "Acknowledgements:\n",
    "- EBI APIs for Multiple Alignment (https://www.ebi.ac.uk/Tools/msa/)"
   ]
  }
 ],
 "metadata": {
  "kernelspec": {
   "display_name": "Python 3",
   "language": "python",
   "name": "python3"
  },
  "language_info": {
   "codemirror_mode": {
    "name": "ipython",
    "version": 3
   },
   "file_extension": ".py",
   "mimetype": "text/x-python",
   "name": "python",
   "nbconvert_exporter": "python",
   "pygments_lexer": "ipython3",
   "version": "3.8.5"
  }
 },
 "nbformat": 4,
 "nbformat_minor": 4
}
