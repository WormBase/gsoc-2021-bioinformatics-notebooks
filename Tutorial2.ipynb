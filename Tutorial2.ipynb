{
 "cells": [
  {
   "cell_type": "markdown",
   "metadata": {},
   "source": [
    "# **Bioinformatics with Jupyter Notebooks for WormBase:**\n",
    "## **Data Retrieval 2 - Getting data from WormMine**\n",
    "Welcome to the second jupyter notebook in the WormBase tutorial series. Over this series of tutorials, we will write code in Python that allows us to retrieve and perform simple analyses with data available on the WormBase sites.\n",
    "\n",
    "This tutorial will deal with the WormBase data from WormMine. (http://intermine.wormbase.org/tools/wormmine/begin.do)\n",
    "We will both explore the site, and the intermine python package, and extract data of interest. Let's get started!"
   ]
  },
  {
   "cell_type": "markdown",
   "metadata": {},
   "source": [
    "We start by installing and loading the libraries that are required for this tutorial. "
   ]
  },
  {
   "cell_type": "code",
   "execution_count": null,
   "metadata": {},
   "outputs": [],
   "source": [
    "!pip install intermine\n",
    "import intermine\n",
    "from intermine import registry\n",
    "from intermine.webservice import Service"
   ]
  },
  {
   "cell_type": "code",
   "execution_count": null,
   "metadata": {},
   "outputs": [],
   "source": [
    "#getInfo(mine) can fetch all the information about a particular mine i.e., its description, version, \n",
    "#organisms associated etc.\n",
    "registry.getInfo(\"WormMine\")"
   ]
  },
  {
   "cell_type": "code",
   "execution_count": null,
   "metadata": {},
   "outputs": [],
   "source": [
    "#getData(mine) can be used to extract the data sets corresponding to it\n",
    "registry.getData(\"WormMine\")"
   ]
  },
  {
   "cell_type": "code",
   "execution_count": null,
   "metadata": {},
   "outputs": [],
   "source": [
    "#The method \"new_query\" from Service class creates a query object\n",
    "service = Service(\"http://intermine.wormbase.org/tools/wormmine/service\")\n",
    "query=service.new_query()"
   ]
  },
  {
   "cell_type": "markdown",
   "metadata": {},
   "source": [
    "### Simple Queries"
   ]
  },
  {
   "cell_type": "code",
   "execution_count": null,
   "metadata": {
    "scrolled": true
   },
   "outputs": [],
   "source": [
    "#We can query the WormMine database to extract the commonName, genus, name, shortName, species, and taxonId of all \n",
    "#organisms.\n",
    "query=service.new_query(\"Organism\")\n",
    "query.select(\"commonName\", \"genus\", \"name\", \"shortName\", \"species\",\"taxonId\")\n",
    "#Print first 10 rows of the results of the query\n",
    "for row in query.rows(start=0,size=10):\n",
    "    print(row)"
   ]
  },
  {
   "cell_type": "code",
   "execution_count": null,
   "metadata": {
    "scrolled": true
   },
   "outputs": [],
   "source": [
    "#We can query the WormMine database to extract the automatedDescription, biotype, briefDescription, length, operon,\n",
    "#primaryIdentifier, secondaryIdentifier, and symbol of all genes.\n",
    "query=service.new_query(\"Gene\")\n",
    "query.select(\"automatedDescription\", \"biotype\", \"briefDescription\", \"length\", \"operon\", \"primaryIdentifier\", \"secondaryIdentifier\", \"symbol\")\n",
    "#Print first 10 rows of the results of the query\n",
    "for row in query.rows(start=0,size=10):\n",
    "    print(row)"
   ]
  },
  {
   "cell_type": "code",
   "execution_count": null,
   "metadata": {},
   "outputs": [],
   "source": [
    "#Create a query object and query the WormMine database to extract the description of all GO Terms.\n",
    "query=service.new_query()\n",
    "query.select(\"GOTerm.description\")\n",
    "#Add a column to the query with the identifiers of all GO Terms.\n",
    "query.add_view(\"GOTerm.identifier\")\n",
    "#Changing the sorting order of the query by a specific column\n",
    "query.add_sort_order(\"GOTerm.identifier\")\n",
    "#Print first 10 rows of the results of the query\n",
    "for row in query.rows(start=0,size=10):\n",
    "    print(row)"
   ]
  },
  {
   "cell_type": "markdown",
   "metadata": {},
   "source": [
    "### Constraints"
   ]
  },
  {
   "cell_type": "code",
   "execution_count": null,
   "metadata": {},
   "outputs": [],
   "source": [
    "query=service.new_query(\"Organism\")\n",
    "query.select('*')\n",
    "#Add a constraint to your query based on the genus column\n",
    "query.add_constraint(\"genus\",\"=\",\"Caenorhabditis\")\n",
    "for row in query.rows():\n",
    "    print(row)"
   ]
  },
  {
   "cell_type": "code",
   "execution_count": null,
   "metadata": {},
   "outputs": [],
   "source": [
    "query=service.new_query(\"Gene\")\n",
    "query.select(\"primaryIdentifier\", \"ontologyAnnotations.*\")\n",
    "query.add_constraint(\"organism.genus\",\"=\",\"Caenorhabditis\")\n",
    "#More than one constraint can be added to the query\n",
    "query.add_constraint(\"ontologyAnnotations.ontologyTerm.name\",\"=\",\"kinase activity\")\n",
    "for row in query.rows(size=10):\n",
    "    print(row)"
   ]
  },
  {
   "cell_type": "code",
   "execution_count": null,
   "metadata": {},
   "outputs": [],
   "source": [
    "query=service.new_query(\"Homologue\")\n",
    "query.select('*', 'gene.primaryIdentifier', 'gene.symbol')\n",
    "query.add_constraint(\"gene.organism.genus\",\"=\",\"Caenorhabditis\")\n",
    "query.add_constraint(\"gene.organism.species\",\"=\",\"elegans\")\n",
    "query.add_constraint(\"type\",\"=\",\"orthologue\")\n",
    "#Logic operators can be used to set the different constraints on the query\n",
    "query.set_logic(\"A & B & C\")\n",
    "for row in query.rows(size=10):\n",
    "    print(row)"
   ]
  },
  {
   "cell_type": "markdown",
   "metadata": {},
   "source": [
    "#### Different types of constraints"
   ]
  },
  {
   "cell_type": "code",
   "execution_count": null,
   "metadata": {},
   "outputs": [],
   "source": [
    "query=service.new_query(\"Gene\")\n",
    "#Unary constraint (IS Null and IS NOT Null)\n",
    "query.add_constraint(\"primaryIdentifier\",\"IS NOT NULL\")\n",
    "for row in query.rows(size=10):\n",
    "    print(row)"
   ]
  },
  {
   "cell_type": "code",
   "execution_count": null,
   "metadata": {},
   "outputs": [],
   "source": [
    "#Binary constraints (=,<=,>=,<,>,!=)\n",
    "query.add_constraint(\"length\",\">=\",\"12000\")\n",
    "for row in query.rows(size=10):\n",
    "    print(row)"
   ]
  },
  {
   "cell_type": "code",
   "execution_count": null,
   "metadata": {},
   "outputs": [],
   "source": [
    "query=service.new_query()\n",
    "#Ternary constraint (LOOKUP)\n",
    "query.add_constraint(\"Gene\",\"LOOKUP\",\"hlh-2\",extra_value=\"C. elegans\")\n",
    "for row in query.rows():\n",
    "    print(row)"
   ]
  },
  {
   "cell_type": "code",
   "execution_count": null,
   "metadata": {},
   "outputs": [],
   "source": [
    "query=service.new_query(\"Gene\")\n",
    "#Multi-value constraints (ONE OF and NONE OF)\n",
    "query.add_constraint(\"symbol\",\"NONE OF\",['hlh-2','unc-26'])\n",
    "for row in query.rows(size=10):\n",
    "    print(row)"
   ]
  },
  {
   "cell_type": "code",
   "execution_count": null,
   "metadata": {},
   "outputs": [],
   "source": [
    "query=service.new_query()\n",
    "#List constraint (IN and NOT IN)\n",
    "query.add_constraint(\"Gene\",\"IN\",\"C. elegans transcription factor genes\")\n",
    "for row in query.rows(size=10):\n",
    "    print(row)"
   ]
  },
  {
   "cell_type": "markdown",
   "metadata": {},
   "source": [
    "#### Creating own lists"
   ]
  },
  {
   "cell_type": "code",
   "execution_count": null,
   "metadata": {},
   "outputs": [],
   "source": [
    "#We can create our own lists but for this we need to use our login information to connect to WormMine.\n",
    "#Enter your login information in the line of code below and then run it.\n",
    "service=Service(\"http://intermine.wormbase.org/tools/wormmine/service\",username=\"purrrpleeee@gmail.com\",password=\"zxb3dCrxN7SJBaq\")"
   ]
  },
  {
   "cell_type": "code",
   "execution_count": null,
   "metadata": {},
   "outputs": [],
   "source": [
    "#Upload the required list of symbols\n",
    "symbols=[\"ugt-59\",\"sgn-1\",\"kinase\"]"
   ]
  },
  {
   "cell_type": "code",
   "execution_count": null,
   "metadata": {},
   "outputs": [],
   "source": [
    "#Declare a list manager object to create a list\n",
    "lm=service.list_manager()"
   ]
  },
  {
   "cell_type": "code",
   "execution_count": null,
   "metadata": {},
   "outputs": [],
   "source": [
    "#Get the names of all the lists related to your account in addition to the public lists\n",
    "lm.get_all_list_names()"
   ]
  },
  {
   "cell_type": "code",
   "execution_count": null,
   "metadata": {},
   "outputs": [],
   "source": [
    "#Create a new list with the list of symbols\n",
    "lm.delete_lists([\"my list\"])\n",
    "lm.create_list(content=symbols,list_type=\"Gene\",name=\"my list\")"
   ]
  },
  {
   "cell_type": "code",
   "execution_count": null,
   "metadata": {},
   "outputs": [],
   "source": [
    "#Query WormMine with the newly created list\n",
    "query=service.new_query(\"Gene\")\n",
    "query.add_constraint(\"Gene\",\"IN\",\"my list\")"
   ]
  },
  {
   "cell_type": "code",
   "execution_count": null,
   "metadata": {},
   "outputs": [],
   "source": [
    "query.add_constraint(\"symbol\",\"=\",\"sgn-1\")"
   ]
  },
  {
   "cell_type": "code",
   "execution_count": null,
   "metadata": {},
   "outputs": [],
   "source": [
    "lm.delete_lists([\"my list 2\"])\n",
    "lm.create_list(query,name=\"my list 2\")"
   ]
  },
  {
   "cell_type": "code",
   "execution_count": null,
   "metadata": {},
   "outputs": [],
   "source": [
    "#We can combine multiple lists in WormMine simply using a + or union operator\n",
    "l1=lm.get_list(name=\"C. elegans genes with a locomotion variant - or descendant - allele phenotype as of WS257\")\n",
    "l2=lm.get_list(name=\"C. elegans genes with a cell cycle variant - or descendant - allele phenotype as of WS257\")\n",
    "l3=l1+l2\n",
    "\n",
    "lm.delete_lists([\"combination-1\"])\n",
    "l3.set_name(\"combination-1\")"
   ]
  },
  {
   "cell_type": "code",
   "execution_count": null,
   "metadata": {},
   "outputs": [],
   "source": [
    "for r in l3:\n",
    "    print(r)"
   ]
  },
  {
   "cell_type": "code",
   "execution_count": null,
   "metadata": {},
   "outputs": [],
   "source": [
    "y=[l1,l2]"
   ]
  },
  {
   "cell_type": "code",
   "execution_count": null,
   "metadata": {},
   "outputs": [],
   "source": [
    "lm.delete_lists([\"combination-2\"])\n",
    "lm.union(y,name=\"combination-2\")"
   ]
  },
  {
   "cell_type": "markdown",
   "metadata": {},
   "source": [
    "### Some more query examples"
   ]
  },
  {
   "cell_type": "code",
   "execution_count": null,
   "metadata": {},
   "outputs": [],
   "source": [
    "query=service.new_query(\"Gene\")\n",
    "query.add_constraint(\"ontologyAnnotations\",\"GOAnnotation\")\n",
    "for row in query.rows(size=10):\n",
    "    print(row)"
   ]
  },
  {
   "cell_type": "code",
   "execution_count": null,
   "metadata": {},
   "outputs": [],
   "source": [
    "query=service.new_query(\"Gene\")\n",
    "query.add_view(\"homologues.gene.primaryIdentifier\",\"homologues.homologue.primaryIdentifier\")\n",
    "query.add_constraint(\"Gene\", \"IN\", \"C. elegans transcription factor genes\", code = \"A\")\n",
    "query.add_constraint(\"homologues.homologue\", \"IS NOT\", \"Gene\", code = \"B\")\n",
    "for row in query.rows(size=10):\n",
    "    print(row[\"homologues.gene.primaryIdentifier\"],row[\"homologues.homologue.primaryIdentifier\"])"
   ]
  },
  {
   "cell_type": "code",
   "execution_count": null,
   "metadata": {},
   "outputs": [],
   "source": [
    "query=service.new_query()\n",
    "query.add_view(\"SequenceFeature.organism.shortName\", \"SequenceFeature.chromosomeLocation.locatedOn.primaryIdentifier\", \"SequenceFeature.chromosomeLocation.start\", \"SequenceFeature.chromosomeLocation.end\" )\n",
    "query.add_constraint(\"chromosomeLocation\", \"OVERLAPS\", [\"I:1..4000\"])\n",
    "for row in query.rows(size=10): \n",
    "    print(row)"
   ]
  },
  {
   "cell_type": "code",
   "execution_count": null,
   "metadata": {
    "scrolled": true
   },
   "outputs": [],
   "source": [
    "query=service.new_query(\"Gene\")\n",
    "query.select(\"primaryIdentifier\",\"symbol\", \"ontologyAnnotations.ontologyTerm.name\", \"ontologyAnnotations.ontologyTerm.identifier\")\n",
    "query.add_constraint(\"homologues.type\",\"=\",\"orthologue\")\n",
    "#We can also perform joins on the queries to get columns from different sets of data\n",
    "query.add_join(\"ontologyAnnotations\", \"INNER\")\n",
    "for row in query.rows(size=10):\n",
    "    print(row)"
   ]
  },
  {
   "cell_type": "code",
   "execution_count": null,
   "metadata": {},
   "outputs": [],
   "source": [
    "#The names of columns can be changed to make them more readable\n",
    "query.add_path_description(\"ontologyAnnotations.ontologyTerm.identifier\",\"Ontology Term\")\n",
    "for row in query.rows(size=10):\n",
    "    print(row)"
   ]
  },
  {
   "cell_type": "code",
   "execution_count": null,
   "metadata": {},
   "outputs": [],
   "source": [
    "query=service.new_query(\"Gene\")\n",
    "query.select(\"expressionClusters.*\")\n",
    "query.add_constraint(\"Gene\",\"LOOKUP\",\"aap-1\",extra_value=\"C. elegans\")\n",
    "for gene in query.results(row=\"rr\"):\n",
    "    print(gene)"
   ]
  },
  {
   "cell_type": "code",
   "execution_count": null,
   "metadata": {},
   "outputs": [],
   "source": [
    "#Only some columns can be chosen for display\n",
    "for gene in query.results(\"list\"):\n",
    "    print(gene[0], gene[1])"
   ]
  },
  {
   "cell_type": "code",
   "execution_count": null,
   "metadata": {},
   "outputs": [],
   "source": [
    "#Only some columns and rows can be chosen for display based on different criteria\n",
    "for row in query.results(row=\"list\"):\n",
    "    if row[4]!=None:\n",
    "        print(row[0], row[1])"
   ]
  },
  {
   "cell_type": "markdown",
   "metadata": {},
   "source": [
    "### Write query results to a file for later use"
   ]
  },
  {
   "cell_type": "code",
   "execution_count": null,
   "metadata": {},
   "outputs": [],
   "source": [
    "import csv"
   ]
  },
  {
   "cell_type": "code",
   "execution_count": null,
   "metadata": {},
   "outputs": [],
   "source": [
    "with open('results.csv', 'w', newline='') as csvfile:\n",
    "    csv_writer = csv.writer(csvfile, delimiter=' ', quotechar='|', quoting=csv.QUOTE_MINIMAL)\n",
    "    for gene in query.results(row=\"rr\"):\n",
    "        csv_writer.writerow(gene)"
   ]
  },
  {
   "cell_type": "markdown",
   "metadata": {},
   "source": [
    "### Combinations of constraints and set logic"
   ]
  },
  {
   "cell_type": "code",
   "execution_count": null,
   "metadata": {},
   "outputs": [],
   "source": [
    "query=service.new_query()\n",
    "query.add_view(\"Gene.organism.name\",\"Gene.symbol\")\n",
    "gene_is_ugt = query.add_constraint(\"Gene.symbol\", \"=\", \"ugt-59\")\n",
    "gene_is_sgn = query.add_constraint(\"Gene.symbol\", \"=\", \"sgn-1\")\n",
    "query.set_logic(gene_is_ugt | gene_is_sgn)\n",
    "for row in query.rows():\n",
    "    print(row)"
   ]
  },
  {
   "cell_type": "code",
   "execution_count": null,
   "metadata": {},
   "outputs": [],
   "source": [
    "for row in query.rows():\n",
    "    print(row.to_d())"
   ]
  },
  {
   "cell_type": "markdown",
   "metadata": {},
   "source": [
    "### Get a readable XML serialisation of a query"
   ]
  },
  {
   "cell_type": "code",
   "execution_count": null,
   "metadata": {},
   "outputs": [],
   "source": [
    "query.to_xml()"
   ]
  },
  {
   "cell_type": "markdown",
   "metadata": {},
   "source": [
    "### Clear the output column list"
   ]
  },
  {
   "cell_type": "code",
   "execution_count": null,
   "metadata": {},
   "outputs": [],
   "source": [
    "query.clear_view()"
   ]
  },
  {
   "cell_type": "markdown",
   "metadata": {},
   "source": [
    "This is the end of the tutorial for querying and extracting WormBase data using WormMine through intermine. This tutorial is influenced by the intermine tutorial notebooks from - https://github.com/intermine/intermine-ws-python-docs\n",
    "\n",
    "In the next tutorial, we will use access the WormBase ParaSite data through their RESTful API."
   ]
  }
 ],
 "metadata": {
  "kernelspec": {
   "display_name": "Python 3",
   "language": "python",
   "name": "python3"
  },
  "language_info": {
   "codemirror_mode": {
    "name": "ipython",
    "version": 3
   },
   "file_extension": ".py",
   "mimetype": "text/x-python",
   "name": "python",
   "nbconvert_exporter": "python",
   "pygments_lexer": "ipython3",
   "version": "3.8.5"
  }
 },
 "nbformat": 4,
 "nbformat_minor": 4
}
