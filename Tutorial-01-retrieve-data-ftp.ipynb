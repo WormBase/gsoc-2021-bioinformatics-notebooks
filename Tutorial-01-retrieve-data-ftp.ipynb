{
 "cells": [
  {
   "cell_type": "markdown",
   "metadata": {
    "id": "g2v9oqCI8pvQ"
   },
   "source": [
    "# **Bioinformatics with Jupyter Notebooks for WormBase:**\n",
    "## **Data Retrieval 1 - Exploring WormBase FTP**\n",
    "Welcome to the first jupyter notebook in the WormBase tutorial series. Over this series of tutorials, we will write code in Python that allows us to retrieve and perform simple analyses with data available on the WormBase sites.\n",
    "\n",
    "This tutorial will deal with the data on the FTP site. (ftp://ftp.wormbase.org/pub/wormbase/)\n",
    "We will both explore the site and extract data of interest. Let's get started!"
   ]
  },
  {
   "cell_type": "markdown",
   "metadata": {
    "id": "1uIJdsWy-zII"
   },
   "source": [
    "We start by installing and loading the libraries that are required for this tutorial."
   ]
  },
  {
   "cell_type": "code",
   "execution_count": 1,
   "metadata": {},
   "outputs": [
    {
     "name": "stdout",
     "output_type": "stream",
     "text": [
      "Requirement already satisfied: wget in /home/prajna/anaconda3/lib/python3.8/site-packages (3.2)\r\n"
     ]
    }
   ],
   "source": [
    "#Run this cell if you do not have the wget package installed already.\n",
    "import sys\n",
    "!{sys.executable} -m pip install wget"
   ]
  },
  {
   "cell_type": "code",
   "execution_count": 2,
   "metadata": {
    "id": "3aN0sANQFlq2"
   },
   "outputs": [],
   "source": [
    "import wget\n",
    "import gzip\n",
    "import shutil\n",
    "import ftplib"
   ]
  },
  {
   "cell_type": "markdown",
   "metadata": {},
   "source": [
    "### Connecting to the WormBase FTP site"
   ]
  },
  {
   "cell_type": "markdown",
   "metadata": {
    "id": "z2IGfjaxAKBq"
   },
   "source": [
    "We need to connect to the wormbase ftp site. Here, we navigate to the `pub/wormbase/` directory which is where the data is situated.\n",
    "The cell below opens a ftp connection with the site and displays the files and sub-directories inside the `pub/wormbase/` directory."
   ]
  },
  {
   "cell_type": "code",
   "execution_count": 17,
   "metadata": {
    "id": "UE8LcbsbAwDQ"
   },
   "outputs": [
    {
     "name": "stdout",
     "output_type": "stream",
     "text": [
      "-rwxr-xr-x    1 1001     1001         2930 Aug 31  2020 README\n",
      "-rwxr-xr-x    1 1001     1001         2622 Aug 14  2014 README~\n",
      "drwxr-xr-x    3 1001     1001           20 Aug 24  2013 archive\n",
      "drwxr-xr-x   18 1001     1001         4096 Apr 15 15:53 datasets-published\n",
      "drwxr-xr-x   11 1001     1001         4096 Mar 31  2016 datasets-wormbase\n",
      "lrwxrwxrwx    1 1001     1001           29 Aug 29  2013 nGASP -> datasets-published/nGASP_2005\n",
      "drwxr-xr-x    3 1001     1001           22 May 24  2011 outgoing\n",
      "drwxr-xr-x    7 1001     1001          103 Apr 22 10:44 parasite\n",
      "drwxr-xr-x    4 1001     1001           34 May 17  2013 people\n",
      "drwxr-xr-x  100 1001     1001        16384 Jun 11 19:15 releases\n",
      "drwxr-xr-x    4 1001     1001         8192 Mar 02  2013 software\n",
      "drwxr-xr-x   36 1001     1001         4096 Aug 08  2019 species\n"
     ]
    }
   ],
   "source": [
    "ftp = ftplib.FTP('ftp.wormbase.org')\n",
    "ftp.login()\n",
    "ftp.cwd('pub/wormbase')\n",
    "files = []\n",
    "ftp.dir(files.append)\n",
    "print(*files, sep = \"\\n\")"
   ]
  },
  {
   "cell_type": "markdown",
   "metadata": {
    "id": "IRa5dSX4UwIu"
   },
   "source": [
    "The README file contains information regarding the data contained in all the directories and subdirectories. Downloading it can lead you to required data easily."
   ]
  },
  {
   "cell_type": "code",
   "execution_count": 4,
   "metadata": {
    "id": "2m7vD5oXA97A"
   },
   "outputs": [],
   "source": [
    "with open('README', 'wb') as downloaded_file:\n",
    "  ftp.retrbinary('RETR README', downloaded_file.write)"
   ]
  },
  {
   "cell_type": "markdown",
   "metadata": {},
   "source": [
    "Display the contents of the README file for easy understanding of the organisation of the data on the FTP site."
   ]
  },
  {
   "cell_type": "code",
   "execution_count": 5,
   "metadata": {},
   "outputs": [
    {
     "name": "stdout",
     "output_type": "stream",
     "text": [
      "Site Contents\n",
      "--------------------------------------\n",
      "\n",
      "species/\n",
      "   Core files and annotations for all species available\n",
      "   at WormBase (or of possible interest to WormBase users)\n",
      "   organized by species. Files previously available in genomes/\n",
      "   can be found here.  File names, paths, and contents are \n",
      "   standardized and computable. Please see species/README for\n",
      "   details.\n",
      "\n",
      "      Look here for the most current and archival versions of:\n",
      "        - genomic fasta sequence\n",
      "        - genomic annotations in GFF2 or GFF3\n",
      "        - assembly versions\n",
      "        - commonly requests data sets by species\n",
      "     \n",
      "releases/\n",
      "   Core files for each WormBase release organized by WS release ID.\n",
      "\n",
      "      Check here if you are interested in downloading all the files\n",
      "      that comprise the current WormBase release, or any other\n",
      "      older releases.\n",
      "\n",
      "datasets-published/\n",
      "   Published datasets submitted to WormBase for distribution.\n",
      "\n",
      "datasets-wormbase/\n",
      "   WormBase-generated datasets and data dumps. Includes non-species\n",
      "   specific, cross-species, and general WormBase information. See\n",
      "   /pub/wormbase/species/*/annotations\" for species-specific datasets.\n",
      "\n",
      "software\n",
      "   The software that drives WormBase, related libraries, and installation\n",
      "   documents.\n",
      "\n",
      "\n",
      "Computable Filenames/Paths/Contents\n",
      "--------------------------------------\n",
      "\n",
      "Doing large scale analyses across a large number of species? \n",
      "Filenames and their locations are easily computable, and you\n",
      "won't be left scratching your head trying to figure out what\n",
      "all the \"genome.seq\" files are in your Downloads/ folder.\n",
      "\n",
      "Each filename has \n",
      "     - the g_species of the source (if appropriate; eg c_elegans)\n",
      "     - the WS version (eg WS225)\n",
      "     - a brief content description (eg genomic_masked)\n",
      "     - the filetype as a suffix (eg .fa or .gff3)\n",
      "\n",
      "This structure makes processing en masse all the species hosted at\n",
      "WormBase easy.\n",
      "\n",
      "Fetching the most current version\n",
      "--------------------------------------\n",
      "We use extensive symlinking to make it easy to fetch the most \n",
      "current version of a file. For example:\n",
      "\n",
      "The most current production release is always available at:\n",
      "\n",
      "    ftp://ftp.wormbase.org/pub/wormbase/releases/current-production-release\n",
      "\n",
      "The most current development release is always available at:\n",
      "\n",
      "    ftp://ftp.wormbase.org/pub/wormbase/releases/current-development-release\n",
      "\n",
      "In any directory, a symlink of the form:\n",
      "\n",
      " G_SPECIES.canonical_bioproject.current.FILETYPE.FILETYPE.COMPRESSION \n",
      "   eg c_elegans.canonical_bioproject.current.annotations.gff2.gz\n",
      "\n",
      "will lead to the most current version of the file.\n",
      "\n",
      "A quick note on file sizes\n",
      "--------------------------------------\n",
      "We make extensive use of symbolic links on the FTP site to provide easy and\n",
      "predictable access to files. Because of this, some files may look like they\n",
      "have a size of 0 bytes. This is merely a reflection of the use of these \n",
      "symbolic links.\n",
      "\n",
      "--\n",
      "\n",
      "Need help? Contact:\n",
      "Todd Harris (todd@wormbase.org)\n",
      "25 May 2011\n",
      "\n"
     ]
    }
   ],
   "source": [
    "with open('README') as f:\n",
    "    lines = f.read()\n",
    "    print(lines)"
   ]
  },
  {
   "cell_type": "markdown",
   "metadata": {},
   "source": [
    "### Downloading the entire current release"
   ]
  },
  {
   "cell_type": "markdown",
   "metadata": {
    "id": "cF80-T2KX4KY"
   },
   "source": [
    "The releases folder contains the core files for the various releases of WormBase and all subsidiary files. We can easily access the current version and download the required data. "
   ]
  },
  {
   "cell_type": "code",
   "execution_count": 6,
   "metadata": {
    "id": "c7Hs_yfYttJS"
   },
   "outputs": [],
   "source": [
    "# This is a huge download (~40 GB)!! Uncomment this code and run this cell only if you are need the entire current \n",
    "#release and have enough disk space!!\n",
    "\n",
    "#!wget --cut-dirs 4 -r --no-parent ftp://ftp.wormbase.org/pub/wormbase/releases/current-development-release/\n",
    "#!mv ftp.wormbase.org current_release"
   ]
  },
  {
   "cell_type": "markdown",
   "metadata": {},
   "source": [
    "The cell above downloads all the files associated with the current development release (which is around 40 GB in size). A lot of the data might not be relevant to the users requirement and that is why we can download just the required data from the release using the code in the following cells."
   ]
  },
  {
   "cell_type": "markdown",
   "metadata": {},
   "source": [
    "### Downloading sequence, annotation, gff and assembly data files belonging to current development release"
   ]
  },
  {
   "cell_type": "markdown",
   "metadata": {},
   "source": [
    "The following cells deal with accessing and downloading the required sequence, annotations, gff, and assembly data from the current development release.\n",
    "\n",
    "To download assembly files, annotation files, etc., assign the organism name, the bioproject id, the wormbase version (WS280 for the latest version), the file type.\n",
    "You can also navigate into the different directories and check the available files to download."
   ]
  },
  {
   "cell_type": "markdown",
   "metadata": {},
   "source": [
    "Change the variables based on what you need. We can also list the files in a directory in case you need to see the available files in a directory before assigning your variables."
   ]
  },
  {
   "cell_type": "code",
   "execution_count": 7,
   "metadata": {},
   "outputs": [
    {
     "name": "stdout",
     "output_type": "stream",
     "text": [
      "releases/current-development-release/species/ASSEMBLIES.WS280.json\n",
      "releases/current-development-release/species/b_malayi\n",
      "releases/current-development-release/species/c_angaria\n",
      "releases/current-development-release/species/c_brenneri\n",
      "releases/current-development-release/species/c_briggsae\n",
      "releases/current-development-release/species/c_elegans\n",
      "releases/current-development-release/species/c_inopinata\n",
      "releases/current-development-release/species/c_japonica\n",
      "releases/current-development-release/species/c_latens\n",
      "releases/current-development-release/species/c_nigoni\n",
      "releases/current-development-release/species/c_remanei\n",
      "releases/current-development-release/species/c_sinica\n",
      "releases/current-development-release/species/c_tropicalis\n",
      "releases/current-development-release/species/o_tipulae\n",
      "releases/current-development-release/species/o_volvulus\n",
      "releases/current-development-release/species/p_pacificus\n",
      "releases/current-development-release/species/p_redivivus\n",
      "releases/current-development-release/species/s_ratti\n",
      "releases/current-development-release/species/t_muris\n"
     ]
    }
   ],
   "source": [
    "#List the different species for which we have available data:\n",
    "print(*ftp.nlst('releases/current-development-release/species'), sep = \"\\n\")\n",
    "#Assign species based on your requirement\n",
    "species = 'c_elegans'"
   ]
  },
  {
   "cell_type": "code",
   "execution_count": 8,
   "metadata": {},
   "outputs": [
    {
     "name": "stdout",
     "output_type": "stream",
     "text": [
      "releases/current-development-release/species/c_elegans/PRJEB28388\n",
      "releases/current-development-release/species/c_elegans/PRJNA13758\n",
      "releases/current-development-release/species/c_elegans/PRJNA275000\n"
     ]
    }
   ],
   "source": [
    "#List the different bioproject IDs for which we have available data:\n",
    "print(*ftp.nlst('releases/current-development-release/species/'+species), sep = \"\\n\")\n",
    "#Assign bioproject ID based on your requirement\n",
    "bioproject = 'PRJNA275000'"
   ]
  },
  {
   "cell_type": "code",
   "execution_count": 9,
   "metadata": {},
   "outputs": [
    {
     "name": "stdout",
     "output_type": "stream",
     "text": [
      "releases/current-development-release/species/c_elegans/PRJNA275000/c_elegans.PRJNA275000.WS280.annotations.gff3.gz\n",
      "releases/current-development-release/species/c_elegans/PRJNA275000/c_elegans.PRJNA275000.WS280.canonical_geneset.gtf.gz\n",
      "releases/current-development-release/species/c_elegans/PRJNA275000/c_elegans.PRJNA275000.WS280.genomic.fa.gz\n",
      "releases/current-development-release/species/c_elegans/PRJNA275000/c_elegans.PRJNA275000.WS280.genomic_masked.fa.gz\n",
      "releases/current-development-release/species/c_elegans/PRJNA275000/c_elegans.PRJNA275000.WS280.genomic_softmasked.fa.gz\n",
      "releases/current-development-release/species/c_elegans/PRJNA275000/c_elegans.PRJNA275000.WS280.mRNA_transcripts.fa.gz\n",
      "releases/current-development-release/species/c_elegans/PRJNA275000/c_elegans.PRJNA275000.WS280.protein.fa.gz\n"
     ]
    }
   ],
   "source": [
    "#Now list all available fles for the species and bioproject ID chosen:\n",
    "print(*ftp.nlst('releases/current-development-release/species/'+species+'/'+bioproject), sep = \"\\n\")"
   ]
  },
  {
   "cell_type": "code",
   "execution_count": 10,
   "metadata": {},
   "outputs": [],
   "source": [
    "#The WormBase ID for the current developement release (as on June 2021) is WS280.\n",
    "wormbase_id = 'WS280'\n",
    "#Change the descriptor and extension based on your needs and keep in mind the format. You should not include .gz !!\n",
    "descriptor = 'annotations'\n",
    "extension = 'gff3'"
   ]
  },
  {
   "cell_type": "code",
   "execution_count": 11,
   "metadata": {},
   "outputs": [],
   "source": [
    "#Generate the link for your download based on your requirements as assigned\n",
    "link = 'ftp://ftp.wormbase.org/pub/wormbase/releases/current-development-release/species/'+species+'/'+bioproject+'/'+species+'.'+bioproject+'.'+wormbase_id+'.'+descriptor+'.'+extension+'.gz'"
   ]
  },
  {
   "cell_type": "markdown",
   "metadata": {},
   "source": [
    "Download the file from the link we generated above using the identifiers provided by you. And then you can unzip the .gz file to get the required file!"
   ]
  },
  {
   "cell_type": "code",
   "execution_count": 12,
   "metadata": {
    "id": "9LRNAqAvFnXN"
   },
   "outputs": [
    {
     "data": {
      "text/plain": [
       "'c_elegans.PRJNA275000.WS280.annotations.gff3.gz'"
      ]
     },
     "execution_count": 12,
     "metadata": {},
     "output_type": "execute_result"
    }
   ],
   "source": [
    "wget.download(link)"
   ]
  },
  {
   "cell_type": "code",
   "execution_count": 13,
   "metadata": {
    "id": "QCrtjZTnI9jQ"
   },
   "outputs": [],
   "source": [
    "downloaded_file = species+'.'+bioproject+'.'+wormbase_id+'.'+descriptor+'.'+extension\n",
    "with gzip.open(downloaded_file + '.gz', 'rb') as f_in:\n",
    "    with open(downloaded_file, 'wb') as f_out:\n",
    "        shutil.copyfileobj(f_in, f_out)"
   ]
  },
  {
   "cell_type": "markdown",
   "metadata": {},
   "source": [
    "#### Downloading the reference genome for Caenorhabditis elegans"
   ]
  },
  {
   "cell_type": "code",
   "execution_count": 14,
   "metadata": {},
   "outputs": [],
   "source": [
    "#Generate the link for the reference genome\n",
    "species = 'c_elegans'\n",
    "bioproject = 'PRJNA13758'\n",
    "wormbase_id = 'WS280'\n",
    "descriptor = 'genomic'\n",
    "extension = 'fa'\n",
    "link = 'ftp://ftp.wormbase.org/pub/wormbase/releases/current-development-release/species/'+species+'/'+bioproject+'/'+species+'.'+bioproject+'.'+wormbase_id+'.'+descriptor+'.'+extension+'.gz'"
   ]
  },
  {
   "cell_type": "code",
   "execution_count": 15,
   "metadata": {},
   "outputs": [],
   "source": [
    "#Download the reference genome\n",
    "wget.download(link)\n",
    "downloaded_file = species+'.'+bioproject+'.'+wormbase_id+'.'+descriptor+'.'+extension\n",
    "with gzip.open(downloaded_file + '.gz', 'rb') as f_in:\n",
    "    with open(downloaded_file, 'wb') as f_out:\n",
    "        shutil.copyfileobj(f_in, f_out)"
   ]
  },
  {
   "cell_type": "markdown",
   "metadata": {},
   "source": [
    "### Downloading ontology data files belonging to current development release"
   ]
  },
  {
   "cell_type": "markdown",
   "metadata": {},
   "source": [
    "The following cells deal with accessing and downloading the required ontology data from the current development release."
   ]
  },
  {
   "cell_type": "markdown",
   "metadata": {},
   "source": [
    "Change the variables based on what you need. We can also list the files in a directory in case you need to see the available files in a directory before assigning your variables."
   ]
  },
  {
   "cell_type": "code",
   "execution_count": 18,
   "metadata": {},
   "outputs": [
    {
     "name": "stdout",
     "output_type": "stream",
     "text": [
      "releases/current-development-release/ONTOLOGY/anatomy_association.WS280.wb\n",
      "releases/current-development-release/ONTOLOGY/anatomy_association.WS280.wb.b_malayi\n",
      "releases/current-development-release/ONTOLOGY/anatomy_association.WS280.wb.c_brenneri\n",
      "releases/current-development-release/ONTOLOGY/anatomy_association.WS280.wb.c_briggsae\n",
      "releases/current-development-release/ONTOLOGY/anatomy_association.WS280.wb.c_elegans\n",
      "releases/current-development-release/ONTOLOGY/anatomy_association.WS280.wb.c_japonica\n",
      "releases/current-development-release/ONTOLOGY/anatomy_association.WS280.wb.c_remanei\n",
      "releases/current-development-release/ONTOLOGY/anatomy_association.WS280.wb.o_volvulus\n",
      "releases/current-development-release/ONTOLOGY/anatomy_association.WS280.wb.p_pacificus\n",
      "releases/current-development-release/ONTOLOGY/anatomy_association.WS280.wb.s_ratti\n",
      "releases/current-development-release/ONTOLOGY/anatomy_association.WS280.wb.t_muris\n",
      "releases/current-development-release/ONTOLOGY/anatomy_ontology.WS280.obo\n",
      "releases/current-development-release/ONTOLOGY/development_association.WS280.wb\n",
      "releases/current-development-release/ONTOLOGY/development_association.WS280.wb.b_malayi\n",
      "releases/current-development-release/ONTOLOGY/development_association.WS280.wb.c_brenneri\n",
      "releases/current-development-release/ONTOLOGY/development_association.WS280.wb.c_briggsae\n",
      "releases/current-development-release/ONTOLOGY/development_association.WS280.wb.c_elegans\n",
      "releases/current-development-release/ONTOLOGY/development_association.WS280.wb.c_japonica\n",
      "releases/current-development-release/ONTOLOGY/development_association.WS280.wb.c_remanei\n",
      "releases/current-development-release/ONTOLOGY/development_association.WS280.wb.o_volvulus\n",
      "releases/current-development-release/ONTOLOGY/development_association.WS280.wb.p_pacificus\n",
      "releases/current-development-release/ONTOLOGY/development_association.WS280.wb.s_ratti\n",
      "releases/current-development-release/ONTOLOGY/development_association.WS280.wb.t_muris\n",
      "releases/current-development-release/ONTOLOGY/development_ontology.WS280.obo\n",
      "releases/current-development-release/ONTOLOGY/disease_association.WS280.daf.txt\n",
      "releases/current-development-release/ONTOLOGY/disease_association.WS280.daf.txt.c_elegans\n",
      "releases/current-development-release/ONTOLOGY/disease_association.by_orthology.WS280.tsv.txt\n",
      "releases/current-development-release/ONTOLOGY/disease_ontology.WS280.obo\n",
      "releases/current-development-release/ONTOLOGY/gene_association.WS280.wb\n",
      "releases/current-development-release/ONTOLOGY/gene_association.WS280.wb.b_malayi\n",
      "releases/current-development-release/ONTOLOGY/gene_association.WS280.wb.c_brenneri\n",
      "releases/current-development-release/ONTOLOGY/gene_association.WS280.wb.c_briggsae\n",
      "releases/current-development-release/ONTOLOGY/gene_association.WS280.wb.c_elegans\n",
      "releases/current-development-release/ONTOLOGY/gene_association.WS280.wb.c_japonica\n",
      "releases/current-development-release/ONTOLOGY/gene_association.WS280.wb.c_remanei\n",
      "releases/current-development-release/ONTOLOGY/gene_association.WS280.wb.o_volvulus\n",
      "releases/current-development-release/ONTOLOGY/gene_association.WS280.wb.p_pacificus\n",
      "releases/current-development-release/ONTOLOGY/gene_association.WS280.wb.s_ratti\n",
      "releases/current-development-release/ONTOLOGY/gene_association.WS280.wb.t_muris\n",
      "releases/current-development-release/ONTOLOGY/gene_ontology.WS280.obo\n",
      "releases/current-development-release/ONTOLOGY/phenotype_association.WS280.wb\n",
      "releases/current-development-release/ONTOLOGY/phenotype_association.WS280.wb.b_malayi\n",
      "releases/current-development-release/ONTOLOGY/phenotype_association.WS280.wb.c_brenneri\n",
      "releases/current-development-release/ONTOLOGY/phenotype_association.WS280.wb.c_briggsae\n",
      "releases/current-development-release/ONTOLOGY/phenotype_association.WS280.wb.c_elegans\n",
      "releases/current-development-release/ONTOLOGY/phenotype_association.WS280.wb.c_japonica\n",
      "releases/current-development-release/ONTOLOGY/phenotype_association.WS280.wb.c_remanei\n",
      "releases/current-development-release/ONTOLOGY/phenotype_association.WS280.wb.o_volvulus\n",
      "releases/current-development-release/ONTOLOGY/phenotype_association.WS280.wb.p_pacificus\n",
      "releases/current-development-release/ONTOLOGY/phenotype_association.WS280.wb.s_ratti\n",
      "releases/current-development-release/ONTOLOGY/phenotype_association.WS280.wb.t_muris\n",
      "releases/current-development-release/ONTOLOGY/phenotype_ontology.WS280.obo\n",
      "releases/current-development-release/ONTOLOGY/rnai_phenotypes.WS280.wb.c_elegans\n",
      "releases/current-development-release/ONTOLOGY/rnai_phenotypes_quick.WS280.wb.c_elegans\n"
     ]
    }
   ],
   "source": [
    "#List the available ontology data in the current development release:\n",
    "print(*ftp.nlst('releases/current-development-release/ONTOLOGY'), sep = \"\\n\")"
   ]
  },
  {
   "cell_type": "code",
   "execution_count": 19,
   "metadata": {},
   "outputs": [],
   "source": [
    "#Assign the data_type and species based on your requirement and also availabity (from output of previous cell)\n",
    "\n",
    "# Remember - the data_type variable can have any one of these values: \n",
    "#anatomy_association, anatomy_ontology, development_association, development_ontology,disease_association, \n",
    "#disease_ontology, gene_association, gene_ontology, phenotype_association, phenotype_ontology, rnai_phenotypes, \n",
    "#rnai_phenotypes_quick.\n",
    "data_type = 'gene_association'\n",
    "\n",
    "#Remember - the species variable can have any one of these values:\n",
    "#b_malayi, c_brenneri, c_briggsae, c_elegans, c_japonica, c_remanei, o_volvulus, p_pacificus, s_ratti, t_muris\n",
    "species = 'c_elegans'\n",
    "\n",
    "#The WormBase ID for the current developement release (as on June 2021) is WS280.\n",
    "wormbase_id = 'WS280'"
   ]
  },
  {
   "cell_type": "code",
   "execution_count": 20,
   "metadata": {},
   "outputs": [],
   "source": [
    "#Generate the link for extracting the data\n",
    "if (species != ''):\n",
    "    species = '.' + species\n",
    "\n",
    "if (data_type[-8:]=='ontology'):\n",
    "    link = 'ftp://ftp.wormbase.org/pub/wormbase/releases/current-development-release/ONTOLOGY/'+data_type+'.'+wormbase_id+'.obo'\n",
    "elif (data_type[4:]=='rnai'):\n",
    "    link = 'ftp://ftp.wormbase.org/pub/wormbase/releases/current-development-release/ONTOLOGY/'+data_type+'.'+wormbase_id+'.wb.c_elegans'\n",
    "elif (data_type == 'disease_association'):\n",
    "    link = 'ftp://ftp.wormbase.org/pub/wormbase/releases/current-development-release/ONTOLOGY/'+data_type+'.'+wormbase_id+'.daf.txt'+species\n",
    "else :\n",
    "    link = 'ftp://ftp.wormbase.org/pub/wormbase/releases/current-development-release/ONTOLOGY/'+data_type+'.'+wormbase_id+'.wb'+species"
   ]
  },
  {
   "cell_type": "code",
   "execution_count": 21,
   "metadata": {},
   "outputs": [
    {
     "data": {
      "text/plain": [
       "'gene_association.WS280.wb.c_elegans'"
      ]
     },
     "execution_count": 21,
     "metadata": {},
     "output_type": "execute_result"
    }
   ],
   "source": [
    "wget.download(link)"
   ]
  },
  {
   "cell_type": "markdown",
   "metadata": {},
   "source": [
    "This is the end of the first tutorial for WormBase data! This tutorial dealt with extracting WormBase data from the FTP site easily and programatically. \n",
    "\n",
    "In the next tutorial, we will use intermine to access the WormMine site and retrieve data from WormBase in another way."
   ]
  }
 ],
 "metadata": {
  "colab": {
   "name": "Untitled2.ipynb",
   "provenance": []
  },
  "kernelspec": {
   "display_name": "Python 3",
   "language": "python",
   "name": "python3"
  },
  "language_info": {
   "codemirror_mode": {
    "name": "ipython",
    "version": 3
   },
   "file_extension": ".py",
   "mimetype": "text/x-python",
   "name": "python",
   "nbconvert_exporter": "python",
   "pygments_lexer": "ipython3",
   "version": "3.8.5"
  }
 },
 "nbformat": 4,
 "nbformat_minor": 1
}
