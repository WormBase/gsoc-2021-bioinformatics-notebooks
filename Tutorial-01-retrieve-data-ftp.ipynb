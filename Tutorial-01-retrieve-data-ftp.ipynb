{
 "cells": [
  {
   "cell_type": "markdown",
   "metadata": {
    "id": "g2v9oqCI8pvQ"
   },
   "source": [
    "# **Bioinformatics with Jupyter Notebooks for WormBase:**\n",
    "## **Data Retrieval 1 - Exploring WormBase FTP**\n",
    "Welcome to the first jupyter notebook in the WormBase tutorial series. Over this series of tutorials, we will write code in Python that allows us to retrieve and perform simple analyses with data available on the WormBase sites.\n",
    "\n",
    "This tutorial will deal with the data on the FTP site.\n",
    "We will both explore the site and extract data of interest. Let's get started!"
   ]
  },
  {
   "cell_type": "markdown",
   "metadata": {
    "id": "1uIJdsWy-zII"
   },
   "source": [
    "We start by installing and loading the libraries that are required for this tutorial."
   ]
  },
  {
   "cell_type": "code",
   "execution_count": null,
   "metadata": {
    "id": "3aN0sANQFlq2"
   },
   "outputs": [],
   "source": [
    "import wget\n",
    "import gzip\n",
    "import shutil\n",
    "import ftplib"
   ]
  },
  {
   "cell_type": "markdown",
   "metadata": {},
   "source": [
    "### Connecting to the WormBase FTP site"
   ]
  },
  {
   "cell_type": "markdown",
   "metadata": {
    "id": "z2IGfjaxAKBq"
   },
   "source": [
    "We need to connect to the wormbase ftp site. Here, we navigate to the `pub/wormbase/` directory which is where the data is situated.\n",
    "The cell below opens a ftp connection with the site and displays the files and sub-directories inside the `pub/wormbase/` directory."
   ]
  },
  {
   "cell_type": "code",
   "execution_count": null,
   "metadata": {
    "id": "UE8LcbsbAwDQ"
   },
   "outputs": [],
   "source": [
    "ftp = ftplib.FTP('ftp.wormbase.org')\n",
    "ftp.login()\n",
    "ftp.cwd('pub/wormbase')\n",
    "\n",
    "files = []\n",
    "ftp.dir(files.append)\n",
    "print(*files, sep = \"\\n\")"
   ]
  },
  {
   "cell_type": "markdown",
   "metadata": {
    "id": "IRa5dSX4UwIu"
   },
   "source": [
    "The README file contains information regarding the data contained in all the directories and subdirectories. Downloading it can lead you to required data easily."
   ]
  },
  {
   "cell_type": "code",
   "execution_count": null,
   "metadata": {
    "id": "2m7vD5oXA97A"
   },
   "outputs": [],
   "source": [
    "with open('README', 'wb') as downloaded_file:\n",
    "  ftp.retrbinary('RETR README', downloaded_file.write)"
   ]
  },
  {
   "cell_type": "markdown",
   "metadata": {},
   "source": [
    "Display the contents of the README file for easy understanding of the organisation of the data on the FTP site."
   ]
  },
  {
   "cell_type": "code",
   "execution_count": null,
   "metadata": {},
   "outputs": [],
   "source": [
    "with open('README') as f:\n",
    "    lines = f.read()\n",
    "    print(lines)"
   ]
  },
  {
   "cell_type": "markdown",
   "metadata": {},
   "source": [
    "### Downloading the entire current release"
   ]
  },
  {
   "cell_type": "markdown",
   "metadata": {
    "id": "cF80-T2KX4KY"
   },
   "source": [
    "The releases folder contains the core files for the various releases of WormBase and all subsidiary files. We can easily access the current version and download the required data. "
   ]
  },
  {
   "cell_type": "markdown",
   "metadata": {},
   "source": [
    "This is a huge download (~40 GB)!! Uncomment this code and run this cell only if you are need the entire current release and have enough disk space!!"
   ]
  },
  {
   "cell_type": "code",
   "execution_count": null,
   "metadata": {
    "id": "c7Hs_yfYttJS"
   },
   "outputs": [],
   "source": [
    "#!wget --cut-dirs 4 -r --no-parent ftp://ftp.wormbase.org/pub/wormbase/releases/current-development-release/\n",
    "#!mv ftp.wormbase.org current_release"
   ]
  },
  {
   "cell_type": "markdown",
   "metadata": {},
   "source": [
    "The cell above downloads all the files associated with the current development release (which is around 40 GB in size). A lot of the data might not be relevant to the users requirement and that is why we can download just the required data from the release using the code in the following cells."
   ]
  },
  {
   "cell_type": "markdown",
   "metadata": {},
   "source": [
    "### Downloading sequence, annotation, gff and assembly data files belonging to current development release"
   ]
  },
  {
   "cell_type": "markdown",
   "metadata": {},
   "source": [
    "The following cells deal with accessing and downloading the required sequence, annotations, gff, and assembly data from the current development release.\n",
    "\n",
    "To download assembly files, annotation files, etc., assign the organism name, the bioproject id, the wormbase version (WS280 for the latest version), the file type.\n",
    "You can also navigate into the different directories and check the available files to download."
   ]
  },
  {
   "cell_type": "markdown",
   "metadata": {},
   "source": [
    "Change the variables based on what you need. We can also list the files in a directory in case you need to see the available files in a directory before assigning your variables."
   ]
  },
  {
   "cell_type": "markdown",
   "metadata": {},
   "source": [
    "We first list the different species for which we have data available. Then we assign the species variable based on our requirement."
   ]
  },
  {
   "cell_type": "code",
   "execution_count": null,
   "metadata": {},
   "outputs": [],
   "source": [
    "print(*ftp.nlst('releases/current-development-release/species'), sep = \"\\n\")\n",
    "species = 'c_elegans'"
   ]
  },
  {
   "cell_type": "markdown",
   "metadata": {},
   "source": [
    "We then list the different bioproject IDs for which we have data available. Then we assign the bioproject variable based on our requirement."
   ]
  },
  {
   "cell_type": "code",
   "execution_count": null,
   "metadata": {},
   "outputs": [],
   "source": [
    "print(*ftp.nlst('releases/current-development-release/species/' + species), sep = \"\\n\")\n",
    "bioproject = 'PRJNA275000'"
   ]
  },
  {
   "cell_type": "markdown",
   "metadata": {},
   "source": [
    "We now list all the available files for the specified species and bioproject ID values."
   ]
  },
  {
   "cell_type": "code",
   "execution_count": null,
   "metadata": {},
   "outputs": [],
   "source": [
    "print(*ftp.nlst('releases/current-development-release/species/' + species + '/' + bioproject), sep = \"\\n\")"
   ]
  },
  {
   "cell_type": "markdown",
   "metadata": {},
   "source": [
    "We can now assign values for WormBase ID, and the descriptor and extension of the file we are looking to download. Keep in mind the format of the file while assigning the extension and remember to NOT include '.gz'. Once these variables have been assigned the desired values, we can generate the link for our download!\n",
    "\n",
    "The WormBase ID for the current developement release (as on August 2021) is WS282."
   ]
  },
  {
   "cell_type": "code",
   "execution_count": null,
   "metadata": {},
   "outputs": [],
   "source": [
    "wormbase_id = 'WS282'\n",
    "descriptor = 'annotations'\n",
    "extension = 'gff3'"
   ]
  },
  {
   "cell_type": "code",
   "execution_count": null,
   "metadata": {},
   "outputs": [],
   "source": [
    "link = 'ftp://ftp.wormbase.org/pub/wormbase/releases/current-development-release/species/' + species + \\\n",
    "       '/' + bioproject + '/' + species + '.' + bioproject + '.' + wormbase_id + '.'+ descriptor + '.' \\\n",
    "       + extension + '.gz'"
   ]
  },
  {
   "cell_type": "code",
   "execution_count": null,
   "metadata": {},
   "outputs": [],
   "source": [
    "link"
   ]
  },
  {
   "cell_type": "markdown",
   "metadata": {},
   "source": [
    "Download the file from the link we generated above using the identifiers provided by you. And then you can unzip the .gz file to get the required file!"
   ]
  },
  {
   "cell_type": "code",
   "execution_count": null,
   "metadata": {
    "id": "9LRNAqAvFnXN"
   },
   "outputs": [],
   "source": [
    "wget.download(link)"
   ]
  },
  {
   "cell_type": "code",
   "execution_count": null,
   "metadata": {
    "id": "QCrtjZTnI9jQ"
   },
   "outputs": [],
   "source": [
    "downloaded_file = species + '.' + bioproject + '.' + wormbase_id + '.' + descriptor + '.' + extension\n",
    "\n",
    "with gzip.open(downloaded_file + '.gz', 'rb') as f_in:\n",
    "    with open(downloaded_file, 'wb') as f_out:\n",
    "        shutil.copyfileobj(f_in, f_out)"
   ]
  },
  {
   "cell_type": "markdown",
   "metadata": {},
   "source": [
    "#### Downloading the reference genome for Caenorhabditis elegans"
   ]
  },
  {
   "cell_type": "markdown",
   "metadata": {},
   "source": [
    "We first generate the link for the reference genome by assigning the required values to the variables and then we download the reference genome!"
   ]
  },
  {
   "cell_type": "code",
   "execution_count": null,
   "metadata": {},
   "outputs": [],
   "source": [
    "species = 'c_elegans'\n",
    "bioproject = 'PRJNA13758'\n",
    "wormbase_id = 'WS282'\n",
    "descriptor = 'genomic'\n",
    "extension = 'fa'\n",
    "\n",
    "link = 'ftp://ftp.wormbase.org/pub/wormbase/releases/current-development-release/species/' + species + \\\n",
    "       '/' + bioproject + '/' + species + '.' + bioproject + '.' + wormbase_id + '.' + descriptor + '.' \\\n",
    "       + extension + '.gz'"
   ]
  },
  {
   "cell_type": "code",
   "execution_count": null,
   "metadata": {},
   "outputs": [],
   "source": [
    "wget.download(link)\n",
    "\n",
    "downloaded_file = species + '.' + bioproject + '.' + wormbase_id + '.' + descriptor + '.' + extension\n",
    "\n",
    "with gzip.open(downloaded_file + '.gz', 'rb') as f_in:\n",
    "    with open(downloaded_file, 'wb') as f_out:\n",
    "        shutil.copyfileobj(f_in, f_out)"
   ]
  },
  {
   "cell_type": "markdown",
   "metadata": {},
   "source": [
    "### Downloading ontology data files belonging to current development release"
   ]
  },
  {
   "cell_type": "markdown",
   "metadata": {},
   "source": [
    "The following cells deal with accessing and downloading the required ontology data from the current development release."
   ]
  },
  {
   "cell_type": "markdown",
   "metadata": {},
   "source": [
    "Change the variables based on what you need. We can also list the files in a directory in case you need to see the available files in a directory before assigning your variables."
   ]
  },
  {
   "cell_type": "markdown",
   "metadata": {},
   "source": [
    "We first list the available ontology data in the current development release."
   ]
  },
  {
   "cell_type": "code",
   "execution_count": null,
   "metadata": {},
   "outputs": [],
   "source": [
    "print(*ftp.nlst('releases/current-development-release/ONTOLOGY'), sep = \"\\n\")"
   ]
  },
  {
   "cell_type": "markdown",
   "metadata": {},
   "source": [
    "Based on the availability (from the previous output), assign the data type and species.\n",
    "\n",
    "The data type variable can take these values: anatomy_association, anatomy_ontology, development_association, development_ontology, disease_association, disease_ontology, gene_association, gene_ontology, phenotype_association, phenotype_ontology, rnai_phenotypes, and rnai_phenotypes_quick.\n",
    "\n",
    "The species variable can take these values: b_malayi, c_brenneri, c_briggsae, c_elegans, c_japonica, c_remanei, o_volvulus, p_pacificus, s_ratti, and t_muris.\n",
    "\n",
    "The WormBase ID for the current development release (as on August 2021) is WS282.\n",
    "\n",
    "Once these variables have been assigned the desired values, we can generate the link for our download!"
   ]
  },
  {
   "cell_type": "code",
   "execution_count": null,
   "metadata": {},
   "outputs": [],
   "source": [
    "data_type = 'gene_association'\n",
    "species = 'c_elegans'\n",
    "wormbase_id = 'WS282'"
   ]
  },
  {
   "cell_type": "code",
   "execution_count": null,
   "metadata": {},
   "outputs": [],
   "source": [
    "if (species != ''):\n",
    "    species = '.' + species\n",
    "\n",
    "if (data_type[-8:]=='ontology'):\n",
    "    link = 'ftp://ftp.wormbase.org/pub/wormbase/releases/current-development-release/ONTOLOGY/' + data_type + \\\n",
    "           '.' + wormbase_id + '.obo'\n",
    "    \n",
    "elif (data_type[4:]=='rnai'):\n",
    "    link = 'ftp://ftp.wormbase.org/pub/wormbase/releases/current-development-release/ONTOLOGY/' + data_type + \\\n",
    "           '.' + wormbase_id + '.wb.c_elegans'\n",
    "    \n",
    "elif (data_type == 'disease_association'):\n",
    "    link = 'ftp://ftp.wormbase.org/pub/wormbase/releases/current-development-release/ONTOLOGY/' + data_type + \\\n",
    "           '.' + wormbase_id + '.daf.txt' + species\n",
    "    \n",
    "else :\n",
    "    link = 'ftp://ftp.wormbase.org/pub/wormbase/releases/current-development-release/ONTOLOGY/' + data_type + \\\n",
    "           '.' + wormbase_id + '.wb' + species"
   ]
  },
  {
   "cell_type": "code",
   "execution_count": null,
   "metadata": {},
   "outputs": [],
   "source": [
    "wget.download(link)"
   ]
  },
  {
   "cell_type": "markdown",
   "metadata": {},
   "source": [
    "This is the end of the first tutorial for WormBase data! This tutorial dealt with extracting WormBase data from the FTP site easily and programatically. \n",
    "\n",
    "In the next tutorial, we will use intermine to access the WormMine site and retrieve data from WormBase in another way.\n",
    "\n",
    "Acknowledgements:\n",
    "- ftp://ftp.wormbase.org/pub/wormbase/"
   ]
  }
 ],
 "metadata": {
  "colab": {
   "name": "Untitled2.ipynb",
   "provenance": []
  },
  "kernelspec": {
   "display_name": "Python 3",
   "language": "python",
   "name": "python3"
  },
  "language_info": {
   "codemirror_mode": {
    "name": "ipython",
    "version": 3
   },
   "file_extension": ".py",
   "mimetype": "text/x-python",
   "name": "python",
   "nbconvert_exporter": "python",
   "pygments_lexer": "ipython3",
   "version": "3.8.5"
  }
 },
 "nbformat": 4,
 "nbformat_minor": 1
}
