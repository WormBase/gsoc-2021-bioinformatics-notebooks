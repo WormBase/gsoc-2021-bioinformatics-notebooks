{
 "cells": [
  {
   "cell_type": "markdown",
   "metadata": {},
   "source": [
    "# **Bioinformatics with Jupyter Notebooks for WormBase:**\n",
    "## **Analyses 1 - Alignment using BLAST**\n",
    "Welcome to the fifth jupyter notebook in the WormBase tutorial series. Over this series of tutorials, we will write code in Python that allows us to retrieve and perform simple analyses with data available on the WormBase sites.\n",
    "\n",
    "This tutorial will deal with performing BLAST alignment of your data against the WormBase Genome, ESTs and Protein data. \n",
    "Let's get started!"
   ]
  },
  {
   "cell_type": "markdown",
   "metadata": {},
   "source": [
    "For this tutorial, we will use the wrappers for NCBI Blast+ application in the BioPython library. \n",
    "\n",
    "We will start with installing and importing the required libraries."
   ]
  },
  {
   "cell_type": "code",
   "execution_count": null,
   "metadata": {},
   "outputs": [],
   "source": [
    "!pip install biopython"
   ]
  },
  {
   "cell_type": "code",
   "execution_count": null,
   "metadata": {},
   "outputs": [],
   "source": [
    "import Bio\n",
    "import wget\n",
    "import gzip \n",
    "import shutil\n",
    "from Bio.Blast.Applications import NcbimakeblastdbCommandline\n",
    "from Bio.Blast.Applications import NcbiblastnCommandline\n",
    "from Bio.Blast.Applications import NcbiblastpCommandline\n",
    "from Bio.Blast.Applications import NcbiblastxCommandline\n",
    "from Bio.Blast.Applications import NcbitblastnCommandline\n",
    "from Bio.Blast import NCBIWWW\n",
    "from Bio.Blast import NCBIXML"
   ]
  },
  {
   "cell_type": "markdown",
   "metadata": {},
   "source": [
    "### Creating a BLAST database\n",
    "\n",
    "We need to first create our own BLAST database using the C. elegans reference genome. (Or any reference genome based on your requirement). \n",
    "From the FTP site, we download the required reference genome and then generate the BLAST database with the wrapper for the NCBI BLAST+ `makeblastdb` command line."
   ]
  },
  {
   "cell_type": "markdown",
   "metadata": {},
   "source": [
    "Download the reference genome for the C. elegans species - BioProject PRJNA13758 and WormBase ID - WS280.\n",
    "Check out tutorial 1 for more information on customizing your download."
   ]
  },
  {
   "cell_type": "code",
   "execution_count": null,
   "metadata": {},
   "outputs": [],
   "source": [
    "#Generate the link for the reference genome\n",
    "species = 'c_elegans'\n",
    "bioproject = 'PRJNA13758'\n",
    "wormbase_id = 'WS280'\n",
    "descriptor = 'genomic'\n",
    "extension = 'fa'\n",
    "link = 'ftp://ftp.wormbase.org/pub/wormbase/releases/current-development-release/species/'+species+'/'+bioproject+'/'+species+'.'+bioproject+'.'+wormbase_id+'.'+descriptor+'.'+extension+'.gz'\n",
    "#Download the reference genome\n",
    "wget.download(link)\n",
    "downloaded_file = species+'.'+bioproject+'.'+wormbase_id+'.'+descriptor+'.'+extension\n",
    "#Unzip the reference genome to get the .fa file\n",
    "with gzip.open(downloaded_file + '.gz', 'rb') as f_in:\n",
    "    with open(downloaded_file, 'wb') as f_out:\n",
    "        shutil.copyfileobj(f_in, f_out)"
   ]
  },
  {
   "cell_type": "markdown",
   "metadata": {},
   "source": [
    "Create a commandline for the NCBI BLAST+ program makeblastdb, and then run the command.\n",
    "Here, we create a nucleotide database using the reference genome downloaded in the previous cell."
   ]
  },
  {
   "cell_type": "code",
   "execution_count": null,
   "metadata": {},
   "outputs": [],
   "source": [
    "command = NcbimakeblastdbCommandline(dbtype=\"nucl\", \n",
    "                                     parse_seqids = 'TRUE', \n",
    "                                     input_file=downloaded_file, \n",
    "                                     out='worm_genome', \n",
    "                                     title='worm_genome')\n",
    "command"
   ]
  },
  {
   "cell_type": "code",
   "execution_count": null,
   "metadata": {
    "scrolled": false
   },
   "outputs": [],
   "source": [
    "command()"
   ]
  },
  {
   "cell_type": "markdown",
   "metadata": {},
   "source": [
    "We have now created a new local database that we can use for our BLAST (blastn) alignments!!"
   ]
  },
  {
   "cell_type": "markdown",
   "metadata": {},
   "source": [
    "### Running a BLAST query\n",
    "\n",
    "We run blastn on our example.fa fasta file agaisnt the local BLAST database. The other parameters can be changed to your convinience.\n",
    "\n",
    "Create a commandline for the NCBI BLAST+ program blastn and then run the command."
   ]
  },
  {
   "cell_type": "code",
   "execution_count": null,
   "metadata": {},
   "outputs": [],
   "source": [
    "command = NcbiblastnCommandline(query=\"data/nucl_example.fa\", #The sequence to search with\n",
    "                                db=\"worm_genome\", #The database to BLAST against\n",
    "                                evalue=1e+0, #Expectation value cutoff\n",
    "                                out=\"blastn.xml\", #Output file for alignment\n",
    "                                reward=1, #Reward for a nucleotide match \n",
    "                                penalty=-3, #Penalty for a nucleotide mismatch\n",
    "                                outfmt='\"5\"', #Alignment view. -> 5 for XML\n",
    "                                word_size=15, #Word size for wordfinder algorithm\n",
    "                                gapopen=5, #Cost to open a gap\n",
    "                                gapextend=2 #Cost to extend a gap\n",
    "                               )"
   ]
  },
  {
   "cell_type": "code",
   "execution_count": null,
   "metadata": {
    "scrolled": true
   },
   "outputs": [],
   "source": [
    "command()"
   ]
  },
  {
   "cell_type": "markdown",
   "metadata": {},
   "source": [
    "We now have generated an xml file with the results of the BLAST alignment and we will parse it to get the output in a readable and understandable format.\n",
    "\n",
    "For this we use the NCBIXML module which can help us to easily parse the BLAST XML output."
   ]
  },
  {
   "cell_type": "code",
   "execution_count": null,
   "metadata": {},
   "outputs": [],
   "source": [
    "result_handle = open(\"blastn.xml\")\n",
    "\n",
    "blast_records = NCBIXML.read(result_handle)\n",
    "\n",
    "for i in range(len(blast_records.alignments)):\n",
    "    for hsp in blast_records.alignments[i].hsps:\n",
    "        print('Chromosome: ' + blast_records.descriptions[i].title.split(' ')[0])\n",
    "        print(hsp)\n",
    "        print('\\n')"
   ]
  },
  {
   "cell_type": "markdown",
   "metadata": {},
   "source": [
    "### Example with blastn using ESTs \n",
    "\n",
    "We look at another example, performing blastn alignment with ESTs this time!"
   ]
  },
  {
   "cell_type": "code",
   "execution_count": null,
   "metadata": {},
   "outputs": [],
   "source": [
    "#Generate the link for the ests file\n",
    "species = 'c_elegans'\n",
    "bioproject = 'PRJNA13758'\n",
    "wormbase_id = 'WS280'\n",
    "descriptor = 'ests'\n",
    "extension = 'fa'\n",
    "link = 'ftp://ftp.wormbase.org/pub/wormbase/releases/current-development-release/species/'+species+'/'+bioproject+'/'+species+'.'+bioproject+'.'+wormbase_id+'.'+descriptor+'.'+extension+'.gz'\n",
    "#Download the ests file\n",
    "wget.download(link)\n",
    "downloaded_file = species+'.'+bioproject+'.'+wormbase_id+'.'+descriptor+'.'+extension\n",
    "#Unzip the ests file to get the .fa file\n",
    "with gzip.open(downloaded_file + '.gz', 'rb') as f_in:\n",
    "    with open(downloaded_file, 'wb') as f_out:\n",
    "        shutil.copyfileobj(f_in, f_out)"
   ]
  },
  {
   "cell_type": "code",
   "execution_count": null,
   "metadata": {},
   "outputs": [],
   "source": [
    "command = NcbimakeblastdbCommandline(dbtype=\"nucl\", \n",
    "                                     parse_seqids = 'TRUE', \n",
    "                                     input_file=downloaded_file, \n",
    "                                     out='worm_ests', \n",
    "                                     title='worm_ests')\n",
    "command"
   ]
  },
  {
   "cell_type": "code",
   "execution_count": null,
   "metadata": {},
   "outputs": [],
   "source": [
    "command()"
   ]
  },
  {
   "cell_type": "code",
   "execution_count": null,
   "metadata": {},
   "outputs": [],
   "source": [
    "command = NcbiblastnCommandline(query=\"data/nucl_example.fa\", #The sequence to search with\n",
    "                                db=\"worm_ests\", #The database to BLAST against\n",
    "                                evalue=1e+0, #Expectation value cutoff\n",
    "                                out=\"blastn_ests.xml\", #Output file for alignment\n",
    "                                reward=1, #Reward for a nucleotide match \n",
    "                                penalty=-3, #Penalty for a nucleotide mismatch\n",
    "                                outfmt='\"5\"', #Alignment view. -> 5 for XML\n",
    "                                word_size=15, #Word size for wordfinder algorithm\n",
    "                                gapopen=5, #Cost to open a gap\n",
    "                                gapextend=2 #Cost to extend a gap\n",
    "                               )"
   ]
  },
  {
   "cell_type": "code",
   "execution_count": null,
   "metadata": {},
   "outputs": [],
   "source": [
    "command()"
   ]
  },
  {
   "cell_type": "code",
   "execution_count": null,
   "metadata": {},
   "outputs": [],
   "source": [
    "result_handle = open(\"blastn_ests.xml\")\n",
    "\n",
    "blast_records = NCBIXML.read(result_handle)\n",
    "\n",
    "for i in range(len(blast_records.alignments)):\n",
    "    for hsp in blast_records.alignments[i].hsps:\n",
    "        print('Chromosome: ' + blast_records.descriptions[i].title.split(' ')[0])\n",
    "        print(hsp)\n",
    "        print('\\n')"
   ]
  },
  {
   "cell_type": "markdown",
   "metadata": {},
   "source": [
    "### Example with blastp \n",
    "\n",
    "We look at another example, performing blastp alignment this time!"
   ]
  },
  {
   "cell_type": "code",
   "execution_count": null,
   "metadata": {},
   "outputs": [],
   "source": [
    "#Generate the link for the reference protein sequence\n",
    "species = 'c_elegans'\n",
    "bioproject = 'PRJNA13758'\n",
    "wormbase_id = 'WS280'\n",
    "descriptor = 'protein'\n",
    "extension = 'fa'\n",
    "link = 'ftp://ftp.wormbase.org/pub/wormbase/releases/current-development-release/species/'+species+'/'+bioproject+'/'+species+'.'+bioproject+'.'+wormbase_id+'.'+descriptor+'.'+extension+'.gz'\n",
    "#Download the reference protein sequence\n",
    "wget.download(link)\n",
    "downloaded_file = species+'.'+bioproject+'.'+wormbase_id+'.'+descriptor+'.'+extension\n",
    "#Unzip the reference protein sequence to get the .fa file\n",
    "with gzip.open(downloaded_file + '.gz', 'rb') as f_in:\n",
    "    with open(downloaded_file, 'wb') as f_out:\n",
    "        shutil.copyfileobj(f_in, f_out)"
   ]
  },
  {
   "cell_type": "code",
   "execution_count": null,
   "metadata": {},
   "outputs": [],
   "source": [
    "command = NcbimakeblastdbCommandline(dbtype=\"prot\", \n",
    "                                     parse_seqids = 'TRUE', \n",
    "                                     input_file=downloaded_file, \n",
    "                                     out='worm_protein', \n",
    "                                     title='worm_protein')\n",
    "command"
   ]
  },
  {
   "cell_type": "code",
   "execution_count": null,
   "metadata": {},
   "outputs": [],
   "source": [
    "command()"
   ]
  },
  {
   "cell_type": "code",
   "execution_count": null,
   "metadata": {},
   "outputs": [],
   "source": [
    "command = NcbiblastpCommandline(query=\"data/prot_example.fa\", #The sequence to search with\n",
    "                                db=\"worm_protein\", #The database to BLAST against\n",
    "                                evalue=1e+0, #Expectation value cutoff\n",
    "                                out=\"blastp.xml\", #Output file for alignment\n",
    "                                outfmt='\"5\"', #Alignment view. -> 5 for XML\n",
    "                                gapopen=11, #Cost to open a gap\n",
    "                                gapextend=1 #Cost to extend a gap\n",
    "                               )"
   ]
  },
  {
   "cell_type": "code",
   "execution_count": null,
   "metadata": {},
   "outputs": [],
   "source": [
    "command()"
   ]
  },
  {
   "cell_type": "code",
   "execution_count": null,
   "metadata": {
    "scrolled": true
   },
   "outputs": [],
   "source": [
    "result_handle = open(\"blastp.xml\")\n",
    "\n",
    "blast_records = NCBIXML.read(result_handle)\n",
    "\n",
    "for i in range(len(blast_records.alignments)):\n",
    "    for hsp in blast_records.alignments[i].hsps:\n",
    "        print('Chromosome: ' + blast_records.descriptions[i].title.split(' ')[0])\n",
    "        print(hsp)\n",
    "        print('\\n')"
   ]
  },
  {
   "cell_type": "markdown",
   "metadata": {},
   "source": [
    "### Example with blastx\n",
    "\n",
    "We look at another example, performing blastx alignment, nucleotide query against protein database, this time! "
   ]
  },
  {
   "cell_type": "code",
   "execution_count": null,
   "metadata": {},
   "outputs": [],
   "source": [
    "#We will use the previously generated worm_protein database!!\n",
    "command = NcbiblastxCommandline(query=\"data/nucl_example.fa\", #The sequence to search with\n",
    "                                db=\"worm_protein\", #The database to BLAST against\n",
    "                                evalue=1e+0, #Expectation value cutoff\n",
    "                                out=\"blastx.xml\", #Output file for alignment\n",
    "                                outfmt='\"5\"', #Alignment view. -> 5 for XML\n",
    "                                gapopen=11, #Cost to open a gap\n",
    "                                gapextend=1 #Cost to extend a gap\n",
    "                               )"
   ]
  },
  {
   "cell_type": "code",
   "execution_count": null,
   "metadata": {},
   "outputs": [],
   "source": [
    "command()"
   ]
  },
  {
   "cell_type": "code",
   "execution_count": null,
   "metadata": {},
   "outputs": [],
   "source": [
    "result_handle = open(\"blastx.xml\")\n",
    "\n",
    "blast_records = NCBIXML.read(result_handle)\n",
    "\n",
    "for i in range(len(blast_records.alignments)):\n",
    "    for hsp in blast_records.alignments[i].hsps:\n",
    "        print('Chromosome: ' + blast_records.descriptions[i].title.split(' ')[0])\n",
    "        print(hsp)\n",
    "        print('\\n')"
   ]
  },
  {
   "cell_type": "markdown",
   "metadata": {},
   "source": [
    "### Example with tblastn\n",
    "\n",
    "We look at another example, performing tblastn alignment, protein query against nucleotide database, this time! "
   ]
  },
  {
   "cell_type": "code",
   "execution_count": null,
   "metadata": {},
   "outputs": [],
   "source": [
    "#We will use the previously generated worm_protein database!!\n",
    "command = NcbitblastnCommandline(query=\"data/prot_example.fa\", #The sequence to search with\n",
    "                                db=\"worm_genome\", #The database to BLAST against\n",
    "                                evalue=1e+0, #Expectation value cutoff\n",
    "                                out=\"tblastn.xml\", #Output file for alignment\n",
    "                                outfmt='\"5\"', #Alignment view. -> 5 for XML\n",
    "                                gapopen=11, #Cost to open a gap\n",
    "                                gapextend=1 #Cost to extend a gap\n",
    "                               )"
   ]
  },
  {
   "cell_type": "code",
   "execution_count": null,
   "metadata": {},
   "outputs": [],
   "source": [
    "command()"
   ]
  },
  {
   "cell_type": "code",
   "execution_count": null,
   "metadata": {},
   "outputs": [],
   "source": [
    "result_handle = open(\"tblastn.xml\")\n",
    "\n",
    "blast_records = NCBIXML.read(result_handle)\n",
    "\n",
    "for i in range(len(blast_records.alignments)):\n",
    "    for hsp in blast_records.alignments[i].hsps:\n",
    "        print('Chromosome: ' + blast_records.descriptions[i].title.split(' ')[0])\n",
    "        print(hsp)\n",
    "        print('\\n')"
   ]
  },
  {
   "cell_type": "markdown",
   "metadata": {},
   "source": [
    "This is the end of the first tutorial for WormBase data analysis! This tutorial dealt with using BLAST alignment for any worm data.\n",
    "\n",
    "In the next tutorial, we will use BLAT, which is a faster and more efficient version of BLAT for similar analyses!"
   ]
  }
 ],
 "metadata": {
  "kernelspec": {
   "display_name": "Python 3",
   "language": "python",
   "name": "python3"
  },
  "language_info": {
   "codemirror_mode": {
    "name": "ipython",
    "version": 2
   },
   "file_extension": ".py",
   "mimetype": "text/x-python",
   "name": "python",
   "nbconvert_exporter": "python",
   "pygments_lexer": "ipython2",
   "version": "2.7.17"
  }
 },
 "nbformat": 4,
 "nbformat_minor": 4
}
