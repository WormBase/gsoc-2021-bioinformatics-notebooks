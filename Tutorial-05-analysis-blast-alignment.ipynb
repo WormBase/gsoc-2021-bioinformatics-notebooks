{
 "cells": [
  {
   "cell_type": "markdown",
   "metadata": {},
   "source": [
    "# **Bioinformatics with Jupyter Notebooks for WormBase:**\n",
    "## **Analyses 1 - Alignment using BLAST**\n",
    "Welcome to the fifth jupyter notebook in the WormBase tutorial series. Over this series of tutorials, we will write code in Python that allows us to retrieve and perform simple analyses with data available on the WormBase sites.\n",
    "\n",
    "This tutorial will deal with performing BLAST alignment of your data against the WormBase Genome, ESTs and Protein data. \n",
    "Let's get started!"
   ]
  },
  {
   "cell_type": "markdown",
   "metadata": {},
   "source": [
    "For this tutorial, we will use the wrappers for NCBI Blast+ application in the BioPython library. \n",
    "\n",
    "We will start with installing and importing the required libraries."
   ]
  },
  {
   "cell_type": "code",
   "execution_count": 1,
   "metadata": {},
   "outputs": [
    {
     "name": "stdout",
     "output_type": "stream",
     "text": [
      "Requirement already satisfied: biopython in /home/prajna/anaconda3/lib/python3.8/site-packages (1.79)\r\n",
      "Requirement already satisfied: numpy in /home/prajna/anaconda3/lib/python3.8/site-packages (from biopython) (1.19.2)\r\n"
     ]
    }
   ],
   "source": [
    "!pip install biopython"
   ]
  },
  {
   "cell_type": "code",
   "execution_count": 2,
   "metadata": {},
   "outputs": [],
   "source": [
    "import Bio\n",
    "import wget\n",
    "import gzip \n",
    "import shutil\n",
    "from Bio.Blast.Applications import NcbimakeblastdbCommandline, NcbiblastnCommandline, NcbiblastpCommandline\n",
    "from Bio.Blast.Applications import NcbiblastxCommandline, NcbitblastnCommandline\n",
    "from Bio.Blast import NCBIWWW, NCBIXML"
   ]
  },
  {
   "cell_type": "markdown",
   "metadata": {},
   "source": [
    "### Creating a BLAST database\n",
    "\n",
    "We need to first create our own BLAST database using the _C. elegans_ reference genome. (Or any reference genome based on your requirement). \n",
    "From the FTP site, we download the required reference genome and then generate the BLAST database with the wrapper for the NCBI BLAST+ `makeblastdb` command line."
   ]
  },
  {
   "cell_type": "markdown",
   "metadata": {},
   "source": [
    "Download the reference genome for the C. elegans species - BioProject PRJNA13758 and WormBase ID - WS280.\n",
    "Check out tutorial 1 for more information on customizing your download."
   ]
  },
  {
   "cell_type": "code",
   "execution_count": 3,
   "metadata": {},
   "outputs": [],
   "source": [
    "#Generate the link for the reference genome\n",
    "species = 'c_elegans'\n",
    "bioproject = 'PRJNA13758'\n",
    "wormbase_id = 'WS280'\n",
    "descriptor = 'genomic'\n",
    "extension = 'fa'\n",
    "link = 'ftp://ftp.wormbase.org/pub/wormbase/releases/current-development-release/species/' + species + '/' + \\\n",
    "bioproject + '/' + species + '.' + bioproject + '.' + wormbase_id + '.' + descriptor + '.' + extension + '.gz'\n",
    "\n",
    "#Download the reference genome\n",
    "wget.download(link)\n",
    "downloaded_file = species + '.' + bioproject + '.' + wormbase_id + '.' + descriptor + '.' + extension\n",
    "#Unzip the reference genome to get the .fa file\n",
    "with gzip.open(downloaded_file + '.gz', 'rb') as f_in:\n",
    "    with open(downloaded_file, 'wb') as f_out:\n",
    "        shutil.copyfileobj(f_in, f_out)"
   ]
  },
  {
   "cell_type": "markdown",
   "metadata": {},
   "source": [
    "Create a commandline for the NCBI BLAST+ program makeblastdb, and then run the command.\n",
    "Here, we create a nucleotide database using the reference genome downloaded in the previous cell."
   ]
  },
  {
   "cell_type": "code",
   "execution_count": 4,
   "metadata": {},
   "outputs": [
    {
     "data": {
      "text/plain": [
       "NcbimakeblastdbCommandline(cmd='makeblastdb', out='worm_genome', dbtype='nucl', input_file='c_elegans.PRJNA13758.WS280.genomic.fa', title='worm_genome', parse_seqids=True)"
      ]
     },
     "execution_count": 4,
     "metadata": {},
     "output_type": "execute_result"
    }
   ],
   "source": [
    "command = NcbimakeblastdbCommandline(dbtype=\"nucl\", \n",
    "                                     parse_seqids = 'TRUE', \n",
    "                                     input_file=downloaded_file, \n",
    "                                     out='worm_genome', \n",
    "                                     title='worm_genome')\n",
    "command"
   ]
  },
  {
   "cell_type": "code",
   "execution_count": 5,
   "metadata": {
    "scrolled": false
   },
   "outputs": [
    {
     "data": {
      "text/plain": [
       "('\\n\\nBuilding a new DB, current time: 06/30/2021 03:42:16\\nNew DB name:   /home/prajna/Research/Current/WormBase/worm_genome\\nNew DB title:  worm_genome\\nSequence type: Nucleotide\\nKeep MBits: T\\nMaximum file size: 1000000000B\\nAdding sequences from FASTA; added 7 sequences in 1.04752 seconds.\\n',\n",
       " '')"
      ]
     },
     "execution_count": 5,
     "metadata": {},
     "output_type": "execute_result"
    }
   ],
   "source": [
    "command()"
   ]
  },
  {
   "cell_type": "markdown",
   "metadata": {},
   "source": [
    "We have now created a new local database that we can use for our BLAST (blastn) alignments!!"
   ]
  },
  {
   "cell_type": "markdown",
   "metadata": {},
   "source": [
    "### Running a BLAST query\n",
    "\n",
    "We run blastn on our example.fa fasta file agaisnt the local BLAST database. The other parameters can be changed to your convinience.\n",
    "\n",
    "Create a commandline for the NCBI BLAST+ program blastn and then run the command."
   ]
  },
  {
   "cell_type": "code",
   "execution_count": 6,
   "metadata": {},
   "outputs": [],
   "source": [
    "command = NcbiblastnCommandline(query=\"data/nucl_example.fa\", #The sequence to search with\n",
    "                                db=\"worm_genome\", #The database to BLAST against\n",
    "                                evalue=1e+0, #Expectation value cutoff\n",
    "                                out=\"blastn.xml\", #Output file for alignment\n",
    "                                reward=1, #Reward for a nucleotide match \n",
    "                                penalty=-3, #Penalty for a nucleotide mismatch\n",
    "                                outfmt='\"5\"', #Alignment view. -> 5 for XML\n",
    "                                word_size=15, #Word size for wordfinder algorithm\n",
    "                                gapopen=5, #Cost to open a gap\n",
    "                                gapextend=2 #Cost to extend a gap\n",
    "                               )"
   ]
  },
  {
   "cell_type": "code",
   "execution_count": 7,
   "metadata": {
    "scrolled": true
   },
   "outputs": [
    {
     "data": {
      "text/plain": [
       "('', '')"
      ]
     },
     "execution_count": 7,
     "metadata": {},
     "output_type": "execute_result"
    }
   ],
   "source": [
    "command()"
   ]
  },
  {
   "cell_type": "markdown",
   "metadata": {},
   "source": [
    "We now have generated an xml file with the results of the BLAST alignment and we will parse it to get the output in a readable and understandable format.\n",
    "\n",
    "For this we use the NCBIXML module which can help us to easily parse the BLAST XML output."
   ]
  },
  {
   "cell_type": "code",
   "execution_count": 8,
   "metadata": {},
   "outputs": [
    {
     "name": "stdout",
     "output_type": "stream",
     "text": [
      "Chromosome: IV\n",
      "Score 294 (583 bits), expectation 1.1e-165, alignment length 294\n",
      "Query:     113 AGAAAGAGATGAACGTCTCAGACTTGATGTGTACCCGATCCTCGA...TGA 406\n",
      "               |||||||||||||||||||||||||||||||||||||||||||||...|||\n",
      "Sbjct: 2279181 AGAAAGAGATGAACGTCTCAGACTTGATGTGTACCCGATCCTCGA...TGA 2278888\n",
      "\n",
      "\n",
      "Chromosome: IV\n",
      "Score 93 (184 bits), expectation 9.8e-46, alignment length 97\n",
      "Query:      16 CTTTTGAAGGTCAAAAAAGAGCCGCCGTCGAGTTCGGAAGAAGCC...GAA 112\n",
      "               |||||| ||||||||||||||||||||||||||||||||||||||...|||\n",
      "Sbjct: 2300226 CTTTTGCAGGTCAAAAAAGAGCCGCCGTCGAGTTCGGAAGAAGCC...GAA 2300130\n",
      "\n",
      "\n",
      "Chromosome: IV\n",
      "Score 50 (99 bits), expectation 4.5e-20, alignment length 50\n",
      "Query:     401 AGGTGATCGGCAAAAAGTTCGTATATCGCTTTGTAACTACTGACG...CAC 450\n",
      "               |||||||||||||||||||||||||||||||||||||||||||||...|||\n",
      "Sbjct: 2278481 AGGTGATCGGCAAAAAGTTCGTATATCGCTTTGTAACTACTGACG...CAC 2278432\n",
      "\n",
      "\n",
      "Chromosome: IV\n",
      "Score 26 (52 bits), expectation 9.4e-06, alignment length 26\n",
      "Query:       1 ATGAATCACATTGACCTTTTGAAGGT 26\n",
      "               ||||||||||||||||||||||||||\n",
      "Sbjct: 2300286 ATGAATCACATTGACCTTTTGAAGGT 2300261\n",
      "\n",
      "\n",
      "Chromosome: X\n",
      "Score 50 (99 bits), expectation 4.5e-20, alignment length 50\n",
      "Query:     401 AGGTGATCGGCAAAAAGTTCGTATATCGCTTTGTAACTACTGACG...CAC 450\n",
      "               |||||||||||||||||||||||||||||||||||||||||||||...|||\n",
      "Sbjct:  109109 AGGTGATCGGCAAAAAGTTCGTATATCGCTTTGTAACTACTGACG...CAC 109060\n",
      "\n",
      "\n",
      "Chromosome: III\n",
      "Score 20 (40 bits), expectation 3.6e-02, alignment length 20\n",
      "Query:      16 CTTTTGAAGGTCAAAAAAGA 35\n",
      "               ||||||||||||||||||||\n",
      "Sbjct: 5767271 CTTTTGAAGGTCAAAAAAGA 5767252\n",
      "\n",
      "\n",
      "Chromosome: III\n",
      "Score 18 (36 bits), expectation 5.6e-01, alignment length 18\n",
      "Query:      27 CAAAAAAGAGCCGCCGTC 44\n",
      "               ||||||||||||||||||\n",
      "Sbjct: 2535587 CAAAAAAGAGCCGCCGTC 2535570\n",
      "\n",
      "\n",
      "Chromosome: III\n",
      "Score 18 (36 bits), expectation 5.6e-01, alignment length 18\n",
      "Query:     275 AATTCCGACTGATTGATG 292\n",
      "               ||||||||||||||||||\n",
      "Sbjct: 3778800 AATTCCGACTGATTGATG 3778817\n",
      "\n",
      "\n",
      "Chromosome: V\n",
      "Score 18 (36 bits), expectation 5.6e-01, alignment length 18\n",
      "Query:     388 AATATTATTAAGAAGGTG 405\n",
      "               ||||||||||||||||||\n",
      "Sbjct: 7550506 AATATTATTAAGAAGGTG 7550489\n",
      "\n",
      "\n",
      "Chromosome: V\n",
      "Score 18 (36 bits), expectation 5.6e-01, alignment length 18\n",
      "Query:      55 GAAGCCGAGGAAGAAGAA 72\n",
      "               ||||||||||||||||||\n",
      "Sbjct:18094249 GAAGCCGAGGAAGAAGAA 18094266\n",
      "\n",
      "\n",
      "Chromosome: I\n",
      "Score 18 (36 bits), expectation 5.6e-01, alignment length 18\n",
      "Query:     336 GCATATGAATTATGATAA 353\n",
      "               ||||||||||||||||||\n",
      "Sbjct:12635097 GCATATGAATTATGATAA 12635080\n",
      "\n",
      "\n",
      "Chromosome: I\n",
      "Score 18 (36 bits), expectation 5.6e-01, alignment length 18\n",
      "Query:     336 GCATATGAATTATGATAA 353\n",
      "               ||||||||||||||||||\n",
      "Sbjct:12632630 GCATATGAATTATGATAA 12632647\n",
      "\n",
      "\n"
     ]
    }
   ],
   "source": [
    "result_handle = open(\"blastn.xml\")\n",
    "\n",
    "blast_records = NCBIXML.read(result_handle)\n",
    "\n",
    "for i in range(len(blast_records.alignments)):\n",
    "    for hsp in blast_records.alignments[i].hsps:\n",
    "        print('Chromosome: ' + blast_records.descriptions[i].title.split(' ')[0])\n",
    "        print(hsp)\n",
    "        print('\\n')"
   ]
  },
  {
   "cell_type": "markdown",
   "metadata": {},
   "source": [
    "### Example with blastn using ESTs \n",
    "\n",
    "We look at another example, performing blastn alignment with ESTs this time!"
   ]
  },
  {
   "cell_type": "code",
   "execution_count": 9,
   "metadata": {},
   "outputs": [],
   "source": [
    "#Generate the link for the ests file\n",
    "species = 'c_elegans'\n",
    "bioproject = 'PRJNA13758'\n",
    "wormbase_id = 'WS280'\n",
    "descriptor = 'ests'\n",
    "extension = 'fa'\n",
    "link = 'ftp://ftp.wormbase.org/pub/wormbase/releases/current-development-release/species/' + species + \\\n",
    "'/' + bioproject + '/' + species + '.' + bioproject + '.' + wormbase_id + '.' + descriptor + '.' + extension + '.gz'\n",
    "\n",
    "#Download the ests file\n",
    "wget.download(link)\n",
    "downloaded_file = species+'.'+bioproject+'.'+wormbase_id+'.'+descriptor+'.'+extension\n",
    "#Unzip the ests file to get the .fa file\n",
    "with gzip.open(downloaded_file + '.gz', 'rb') as f_in:\n",
    "    with open(downloaded_file, 'wb') as f_out:\n",
    "        shutil.copyfileobj(f_in, f_out)"
   ]
  },
  {
   "cell_type": "code",
   "execution_count": 10,
   "metadata": {},
   "outputs": [
    {
     "data": {
      "text/plain": [
       "NcbimakeblastdbCommandline(cmd='makeblastdb', out='worm_ests', dbtype='nucl', input_file='c_elegans.PRJNA13758.WS280.ests.fa', title='worm_ests', parse_seqids=True)"
      ]
     },
     "execution_count": 10,
     "metadata": {},
     "output_type": "execute_result"
    }
   ],
   "source": [
    "command = NcbimakeblastdbCommandline(dbtype=\"nucl\", \n",
    "                                     parse_seqids='TRUE', \n",
    "                                     input_file=downloaded_file, \n",
    "                                     out='worm_ests', \n",
    "                                     title='worm_ests')\n",
    "command"
   ]
  },
  {
   "cell_type": "code",
   "execution_count": 11,
   "metadata": {},
   "outputs": [
    {
     "data": {
      "text/plain": [
       "('\\n\\nBuilding a new DB, current time: 06/30/2021 03:42:38\\nNew DB name:   /home/prajna/Research/Current/WormBase/worm_ests\\nNew DB title:  worm_ests\\nSequence type: Nucleotide\\nKeep MBits: T\\nMaximum file size: 1000000000B\\nAdding sequences from FASTA; added 402200 sequences in 9.00358 seconds.\\n',\n",
       " '')"
      ]
     },
     "execution_count": 11,
     "metadata": {},
     "output_type": "execute_result"
    }
   ],
   "source": [
    "command()"
   ]
  },
  {
   "cell_type": "code",
   "execution_count": 12,
   "metadata": {},
   "outputs": [],
   "source": [
    "command = NcbiblastnCommandline(query=\"data/nucl_example.fa\", #The sequence to search with\n",
    "                                db=\"worm_ests\", #The database to BLAST against\n",
    "                                evalue=1e+0, #Expectation value cutoff\n",
    "                                out=\"blastn_ests.xml\", #Output file for alignment\n",
    "                                reward=1, #Reward for a nucleotide match \n",
    "                                penalty=-3, #Penalty for a nucleotide mismatch\n",
    "                                outfmt='\"5\"', #Alignment view. -> 5 for XML\n",
    "                                word_size=15, #Word size for wordfinder algorithm\n",
    "                                gapopen=5, #Cost to open a gap\n",
    "                                gapextend=2 #Cost to extend a gap\n",
    "                               )"
   ]
  },
  {
   "cell_type": "code",
   "execution_count": 13,
   "metadata": {},
   "outputs": [
    {
     "data": {
      "text/plain": [
       "('', '')"
      ]
     },
     "execution_count": 13,
     "metadata": {},
     "output_type": "execute_result"
    }
   ],
   "source": [
    "command()"
   ]
  },
  {
   "cell_type": "code",
   "execution_count": 14,
   "metadata": {},
   "outputs": [
    {
     "name": "stdout",
     "output_type": "stream",
     "text": [
      "Chromosome: gb|U38935|\n",
      "Score 450 (892 bits), expectation 0.0e+00, alignment length 450\n",
      "Query:       1 ATGAATCACATTGACCTTTTGAAGGTCAAAAAAGAGCCGCCGTCG...CAC 450\n",
      "               |||||||||||||||||||||||||||||||||||||||||||||...|||\n",
      "Sbjct:      49 ATGAATCACATTGACCTTTTGAAGGTCAAAAAAGAGCCGCCGTCG...CAC 498\n",
      "\n",
      "\n",
      "Chromosome: yk1150h12.5\n",
      "Score 450 (892 bits), expectation 0.0e+00, alignment length 450\n",
      "Query:       1 ATGAATCACATTGACCTTTTGAAGGTCAAAAAAGAGCCGCCGTCG...CAC 450\n",
      "               |||||||||||||||||||||||||||||||||||||||||||||...|||\n",
      "Sbjct:      66 ATGAATCACATTGACCTTTTGAAGGTCAAAAAAGAGCCGCCGTCG...CAC 515\n",
      "\n",
      "\n",
      "Chromosome: RST5_372761\n",
      "Score 338 (670 bits), expectation 0.0e+00, alignment length 338\n",
      "Query:     113 AGAAAGAGATGAACGTCTCAGACTTGATGTGTACCCGATCCTCGA...CAC 450\n",
      "               |||||||||||||||||||||||||||||||||||||||||||||...|||\n",
      "Sbjct:      23 AGAAAGAGATGAACGTCTCAGACTTGATGTGTACCCGATCCTCGA...CAC 360\n",
      "\n",
      "\n",
      "Chromosome: emb|FM864439|\n",
      "Score 338 (670 bits), expectation 0.0e+00, alignment length 338\n",
      "Query:     113 AGAAAGAGATGAACGTCTCAGACTTGATGTGTACCCGATCCTCGA...CAC 450\n",
      "               |||||||||||||||||||||||||||||||||||||||||||||...|||\n",
      "Sbjct:     639 AGAAAGAGATGAACGTCTCAGACTTGATGTGTACCCGATCCTCGA...CAC 302\n",
      "\n",
      "\n",
      "Chromosome: emb|FM864439|\n",
      "Score 25 (50 bits), expectation 7.4e-05, alignment length 37\n",
      "Query:      23 AGGTCAAAAAAGAGCCGCCGTCGAGTTCGGAAGAAGC 59\n",
      "               |||||||||||||||  |||| |||||||||||||||\n",
      "Sbjct:     730 AGGTCAAAAAAGAGCATCCGTAGAGTTCGGAAGAAGC 694\n",
      "\n",
      "\n",
      "Chromosome: yk418d10.5\n",
      "Score 327 (648 bits), expectation 0.0e+00, alignment length 327\n",
      "Query:     124 AACGTCTCAGACTTGATGTGTACCCGATCCTCGACACCTCCGACC...CAC 450\n",
      "               |||||||||||||||||||||||||||||||||||||||||||||...|||\n",
      "Sbjct:       2 AACGTCTCAGACTTGATGTGTACCCGATCCTCGACACCTCCGACC...CAC 328\n",
      "\n",
      "\n",
      "Chromosome: RST5_373258\n",
      "Score 322 (638 bits), expectation 0.0e+00, alignment length 338\n",
      "Query:     113 AGAAAGAGATGAACGTCTCAGACTTGATGTGTACCCGATCCTCGA...CAC 450\n",
      "               |||| ||||||||||||||||||||||||||||||||||||||||...|||\n",
      "Sbjct:      23 AGAAGGAGATGAACGTCTCAGACTTGATGTGTACCCGATCCTCGA...CAC 360\n",
      "\n",
      "\n",
      "Chromosome: yk391c12.5\n",
      "Score 315 (624 bits), expectation 6.5e-178, alignment length 340\n",
      "Query:     113 AGAAAGAGATGAACGTCTCAGACTTGATGTGTACCCGATCCTCGA...CAC 450\n",
      "               ||||||| |||||||||||||||||||||||||||||||||||||...|||\n",
      "Sbjct:       2 AGAAAGANATGAACGTCTCAGACTTGATGTGTACCCGATCCTCGA...CAC 341\n",
      "\n",
      "\n",
      "Chromosome: yk602c12.5\n",
      "Score 309 (613 bits), expectation 2.5e-174, alignment length 317\n",
      "Query:     135 CTTGATGTGTACCCGATCCTCGACACCTCCGACCTCATCATCCGT...CAC 450\n",
      "               |||||||||||||||||||||||||||||||||||||||||||||...|||\n",
      "Sbjct:       1 CTTGATGTGTACCCGATCCTCGACACCTCCGACCTCATCATCCGT...CAC 317\n",
      "\n",
      "\n",
      "Chromosome: yk289e10.5\n",
      "Score 305 (605 bits), expectation 6.0e-172, alignment length 313\n",
      "Query:     139 ATGTGTACCCGATCCTCGACACCTCCGACCTCATCATCCGTCGAC...CAC 450\n",
      "               |||||||||||||||||||||||||||||||||||||||||||||...|||\n",
      "Sbjct:       1 ATGTGTACCCGATCCTCGACACCTCCGACCTCATCATCCGTCGAC...CAC 313\n",
      "\n",
      "\n",
      "Chromosome: yk493g11.5\n",
      "Score 286 (567 bits), expectation 1.3e-160, alignment length 297\n",
      "Query:     155 CGACACCTCCGACCTCATCATCCGTCGACTCAATCATAACCCTGT...CAC 450\n",
      "               |||||||||||||||||||||||||||||||||||||||||||||...|||\n",
      "Sbjct:       1 CGACACCTCCGACCTCATCATCCGTCGACTCAATCATAACCCTGT...CAC 297\n",
      "\n",
      "\n",
      "Chromosome: yk162e11.5\n",
      "Score 166 (329 bits), expectation 5.3e-89, alignment length 175\n",
      "Query:     276 ATTCCGACTGATTGATGCAGAAGCCGTGGCGAGAAAGTGGGGACA...CAC 450\n",
      "               |||||||||||||||||||||||||||||||||||||||| ||||...|||\n",
      "Sbjct:       6 ATTCCGACTGATTGATGCAGAAGCCGTGGCGAGAAAGTGGNGACA...CAC 180\n",
      "\n",
      "\n",
      "Chromosome: emb|FN891707|\n",
      "Score 134 (266 bits), expectation 6.7e-70, alignment length 142\n",
      "Query:       9 CATTGACCTTTTGAAGGTCAAAAAAGAGCCGCCGTCGAGTTCGGA...CGA 150\n",
      "               ||||||||||||||||||| |||||||||||||||||||||||||...|||\n",
      "Sbjct:      34 CATTGACCTTTTGAAGGTC-AAAAAGAGCCGCCGTCGAGTTCGGA...CGA 174\n",
      "\n",
      "\n",
      "Chromosome: emb|FN891708|\n",
      "Score 87 (172 bits), expectation 7.4e-42, alignment length 87\n",
      "Query:       1 ATGAATCACATTGACCTTTTGAAGGTCAAAAAAGAGCCGCCGTCG...ACG 87\n",
      "               |||||||||||||||||||||||||||||||||||||||||||||...|||\n",
      "Sbjct:     118 ATGAATCACATTGACCTTTTGAAGGTCAAAAAAGAGCCGCCGTCG...ACG 32\n",
      "\n",
      "\n",
      "Chromosome: emb|FN664761|\n",
      "Score 65 (129 bits), expectation 1.0e-28, alignment length 141\n",
      "Query:     308 GAAAGTGGGGACAACG-GAAGGCGAAACCGCATATGAATTATGAT...GCC 447\n",
      "               |||||||||||||||| |  || ||||||||  |||||||| |||...|||\n",
      "Sbjct:     219 GAAAGTGGGGACAACGAGCCGGGGAAACCGCTCATGAATTAGGAT...GCC 359\n",
      "\n",
      "\n",
      "Chromosome: yk279f6.3\n",
      "Score 48 (95 bits), expectation 1.4e-18, alignment length 48\n",
      "Query:     403 GTGATCGGCAAAAAGTTCGTATATCGCTTTGTAACTACTGACGCCCAC 450\n",
      "               ||||||||||||||||||||||||||||||||||||||||||||||||\n",
      "Sbjct:       1 GTGATCGGCAAAAAGTTCGTATATCGCTTTGTAACTACTGACGCCCAC 48\n",
      "\n",
      "\n",
      "Chromosome: yk431f7.5\n",
      "Score 25 (50 bits), expectation 7.4e-05, alignment length 25\n",
      "Query:     426 TCGCTTTGTAACTACTGACGCCCAC 450\n",
      "               |||||||||||||||||||||||||\n",
      "Sbjct:       1 TCGCTTTGTAACTACTGACGCCCAC 25\n",
      "\n",
      "\n",
      "Chromosome: yk8f6.5\n",
      "Score 20 (40 bits), expectation 7.1e-02, alignment length 20\n",
      "Query:      16 CTTTTGAAGGTCAAAAAAGA 35\n",
      "               ||||||||||||||||||||\n",
      "Sbjct:      43 CTTTTGAAGGTCAAAAAAGA 24\n",
      "\n",
      "\n",
      "Chromosome: emb|FN907513|\n",
      "Score 19 (38 bits), expectation 2.8e-01, alignment length 19\n",
      "Query:     103 GATATAAGAAAGAAAGAGA 121\n",
      "               |||||||||||||||||||\n",
      "Sbjct:     751 GATATAAGAAAGAAAGAGA 769\n",
      "\n",
      "\n"
     ]
    }
   ],
   "source": [
    "result_handle = open(\"blastn_ests.xml\")\n",
    "\n",
    "blast_records = NCBIXML.read(result_handle)\n",
    "\n",
    "for i in range(len(blast_records.alignments)):\n",
    "    for hsp in blast_records.alignments[i].hsps:\n",
    "        print('Chromosome: ' + blast_records.descriptions[i].title.split(' ')[0])\n",
    "        print(hsp)\n",
    "        print('\\n')"
   ]
  },
  {
   "cell_type": "markdown",
   "metadata": {},
   "source": [
    "### Example with blastp \n",
    "\n",
    "We look at another example, performing blastp alignment this time!"
   ]
  },
  {
   "cell_type": "code",
   "execution_count": 15,
   "metadata": {},
   "outputs": [],
   "source": [
    "#Generate the link for the reference protein sequence\n",
    "species = 'c_elegans'\n",
    "bioproject = 'PRJNA13758'\n",
    "wormbase_id = 'WS280'\n",
    "descriptor = 'protein'\n",
    "extension = 'fa'\n",
    "link = 'ftp://ftp.wormbase.org/pub/wormbase/releases/current-development-release/species/' + species + '/' + \n",
    "bioproject + '/' + species + '.' + bioproject + '.' + wormbase_id + '.' + descriptor + '.' + extension + '.gz'\n",
    "\n",
    "#Download the reference protein sequence\n",
    "wget.download(link)\n",
    "downloaded_file = species+'.'+bioproject+'.'+wormbase_id+'.'+descriptor+'.'+extension\n",
    "#Unzip the reference protein sequence to get the .fa file\n",
    "with gzip.open(downloaded_file + '.gz', 'rb') as f_in:\n",
    "    with open(downloaded_file, 'wb') as f_out:\n",
    "        shutil.copyfileobj(f_in, f_out)"
   ]
  },
  {
   "cell_type": "code",
   "execution_count": 16,
   "metadata": {},
   "outputs": [
    {
     "data": {
      "text/plain": [
       "NcbimakeblastdbCommandline(cmd='makeblastdb', out='worm_protein', dbtype='prot', input_file='c_elegans.PRJNA13758.WS280.protein.fa', title='worm_protein', parse_seqids=True)"
      ]
     },
     "execution_count": 16,
     "metadata": {},
     "output_type": "execute_result"
    }
   ],
   "source": [
    "command = NcbimakeblastdbCommandline(dbtype=\"prot\", \n",
    "                                     parse_seqids='TRUE', \n",
    "                                     input_file=downloaded_file, \n",
    "                                     out='worm_protein', \n",
    "                                     title='worm_protein')\n",
    "command"
   ]
  },
  {
   "cell_type": "code",
   "execution_count": 17,
   "metadata": {},
   "outputs": [
    {
     "data": {
      "text/plain": [
       "('\\n\\nBuilding a new DB, current time: 06/30/2021 03:43:06\\nNew DB name:   /home/prajna/Research/Current/WormBase/worm_protein\\nNew DB title:  worm_protein\\nSequence type: Protein\\nKeep MBits: T\\nMaximum file size: 1000000000B\\nAdding sequences from FASTA; added 28389 sequences in 0.728467 seconds.\\n',\n",
       " '')"
      ]
     },
     "execution_count": 17,
     "metadata": {},
     "output_type": "execute_result"
    }
   ],
   "source": [
    "command()"
   ]
  },
  {
   "cell_type": "code",
   "execution_count": 18,
   "metadata": {},
   "outputs": [],
   "source": [
    "command = NcbiblastpCommandline(query=\"data/prot_example.fa\", #The sequence to search with\n",
    "                                db=\"worm_protein\", #The database to BLAST against\n",
    "                                evalue=1e+0, #Expectation value cutoff\n",
    "                                out=\"blastp.xml\", #Output file for alignment\n",
    "                                outfmt='\"5\"', #Alignment view. -> 5 for XML\n",
    "                                gapopen=11, #Cost to open a gap\n",
    "                                gapextend=1 #Cost to extend a gap\n",
    "                               )"
   ]
  },
  {
   "cell_type": "code",
   "execution_count": 19,
   "metadata": {},
   "outputs": [
    {
     "data": {
      "text/plain": [
       "('', '')"
      ]
     },
     "execution_count": 19,
     "metadata": {},
     "output_type": "execute_result"
    }
   ],
   "source": [
    "command()"
   ]
  },
  {
   "cell_type": "code",
   "execution_count": 20,
   "metadata": {
    "scrolled": true
   },
   "outputs": [
    {
     "name": "stdout",
     "output_type": "stream",
     "text": [
      "Chromosome: C37F5.1a\n",
      "Score 2311 (894 bits), expectation 0.0e+00, alignment length 441\n",
      "Query:       1 MNHIDLLKVKKEPPSSSEEAEEEESPKHTIEGILDIRKKEMNVSD...PTL 441\n",
      "               MNHIDLLKVKKEPPSSSEEAEEEESPKHTIEGILDIRKKEMNVSD...PTL\n",
      "Sbjct:       1 MNHIDLLKVKKEPPSSSEEAEEEESPKHTIEGILDIRKKEMNVSD...PTL 441\n",
      "\n",
      "\n",
      "Chromosome: C37F5.1b\n",
      "Score 2096 (811 bits), expectation 0.0e+00, alignment length 401\n",
      "Query:      41 MNVSDLMCTRSSTPPTSSSVDSIITLWQFLLELLQQDQNGDIIEW...PTL 441\n",
      "               MNVSDLMCTRSSTPPTSSSVDSIITLWQFLLELLQQDQNGDIIEW...PTL\n",
      "Sbjct:       1 MNVSDLMCTRSSTPPTSSSVDSIITLWQFLLELLQQDQNGDIIEW...PTL 401\n",
      "\n",
      "\n",
      "Chromosome: Y73B3A.5\n",
      "Score 1172 (456 bits), expectation 7.3e-162, alignment length 241\n",
      "Query:     161 MNMKMCYVKDEKDIRHEIPSFMTSLQAPPPPPPPPQNPRGNTDFS...FSN 401\n",
      "               MNMKMCYVKDEKDIRHEIPSFMTSLQAPPPPPPP QNPRGNTDFS...FSN\n",
      "Sbjct:       1 MNMKMCYVKDEKDIRHEIPSFMTSLQAPPPPPPP-QNPRGNTDFS...FSN 237\n",
      "\n",
      "\n",
      "Chromosome: C42D8.4a\n",
      "Score 310 (124 bits), expectation 3.9e-33, alignment length 81\n",
      "Query:      64 ITLWQFLLELLQQDQNGDIIEWTRGTDGEFRLIDAEAVARKWGQR...YRF 144\n",
      "               I LWQFLLELL    N   I W  G++GEF+L+D + VARKWG+R...Y+F\n",
      "Sbjct:      35 IQLWQFLLELLADAVNAHCIAW-EGSNGEFKLVDPDEVARKWGER...YKF 114\n",
      "\n",
      "\n",
      "Chromosome: C42D8.4b\n",
      "Score 312 (124 bits), expectation 5.6e-33, alignment length 81\n",
      "Query:      64 ITLWQFLLELLQQDQNGDIIEWTRGTDGEFRLIDAEAVARKWGQR...YRF 144\n",
      "               I LWQFLLELL    N   I W  G++GEF+L+D + VARKWG+R...Y+F\n",
      "Sbjct:      73 IQLWQFLLELLADAVNAHCIAW-EGSNGEFKLVDPDEVARKWGER...YKF 152\n",
      "\n",
      "\n",
      "Chromosome: T08H4.3\n",
      "Score 309 (123 bits), expectation 2.2e-31, alignment length 93\n",
      "Query:      66 LWQFLLELLQQDQNGDIIEWTRGTDGEFRLIDAEAVARKWGQRKA...PTA 155\n",
      "               LWQFLLELL   +  ++I W  GT GEF+L+D + VARKWG+RK+...PTA\n",
      "Sbjct:     216 LWQFLLELLSDKRYSEVITW-EGTQGEFKLVDPDEVARKWGERKS...PTA 307\n",
      "\n",
      "\n",
      "Chromosome: C24A1.2a\n",
      "Score 259 (104 bits), expectation 2.3e-24, alignment length 94\n",
      "Query:      53 TPPTSSSVDSIITLWQFLLELLQQDQNG-DIIEWTRGTDGEFRLI...RFV 145\n",
      "               TP        +  LW+FLL LLQ DQ     I+W     G F+L+...RFV\n",
      "Sbjct:     283 TPGKKQKDGQVTYLWEFLLRLLQDDQYSPKFIKWIDQAKGIFKLV...RFV 376\n",
      "\n",
      "\n",
      "Chromosome: C24A1.2b\n",
      "Score 258 (103 bits), expectation 3.6e-24, alignment length 94\n",
      "Query:      53 TPPTSSSVDSIITLWQFLLELLQQDQNG-DIIEWTRGTDGEFRLI...RFV 145\n",
      "               TP        +  LW+FLL LLQ DQ     I+W     G F+L+...RFV\n",
      "Sbjct:     282 TPGKKQKDGQVTYLWEFLLRLLQDDQYSPKFIKWIDQAKGIFKLV...RFV 375\n",
      "\n",
      "\n",
      "Chromosome: F19F10.1\n",
      "Score 198 (80 bits), expectation 1.4e-17, alignment length 95\n",
      "Query:      64 ITLWQFLLELLQQDQNGDIIEWTRGTDGEFRLIDAEAVARKWGQR...DFS 158\n",
      "               + L  FL +LL+ + N DII W   ++  F++     VA  WG  ...DFS\n",
      "Sbjct:      12 LRLLSFLRDLLEDESNSDIIYWFDKSESVFKMSKPHKVAELWGAA...DFS 104\n",
      "\n",
      "\n",
      "Chromosome: F19F10.5\n",
      "Score 198 (80 bits), expectation 1.6e-17, alignment length 87\n",
      "Query:      66 LWQFLLELLQQDQNGDIIEWTRGTDGEFRLIDAEAVARKWGQRKA...HAP 152\n",
      "               L  FL  LL+ D + D+I W+     EF+++    VA  WG    ... AP\n",
      "Sbjct:      14 LLNFLRGLLEDDSHSDLITWSNKDTLEFQMLKPHKVAELWGAATG...LAP 100\n",
      "\n",
      "\n",
      "Chromosome: F22A3.1a\n",
      "Score 202 (82 bits), expectation 5.1e-17, alignment length 106\n",
      "Query:      45 DLMCTRSSTPPTSSSV---DSIITLWQFLLELLQQ-DQNGDIIEW...RFV 145\n",
      "               D MC  S       +       + LWQF+ ELL Q  Q    + W...+F+\n",
      "Sbjct:     266 DAMCNGSEGDDDERAYTRHQGTVHLWQFIRELLDQPKQYSACVRW...KFL 371\n",
      "\n",
      "\n",
      "Chromosome: F22A3.1b\n",
      "Score 203 (82 bits), expectation 5.1e-17, alignment length 106\n",
      "Query:      45 DLMCTRSSTPPTSSSV---DSIITLWQFLLELLQQ-DQNGDIIEW...RFV 145\n",
      "               D MC  S       +       + LWQF+ ELL Q  Q    + W...+F+\n",
      "Sbjct:     353 DAMCNGSEGDDDERAYTRHQGTVHLWQFIRELLDQPKQYSACVRW...KFL 458\n",
      "\n",
      "\n",
      "Chromosome: C50A2.4\n",
      "Score 172 (70 bits), expectation 1.2e-14, alignment length 81\n",
      "Query:      69 FLLELLQQDQN----GDIIEWTRGTDGEFRLIDAEAVARKWGQRK...RFV 145\n",
      "               +L +++ + +N      II+WT+ +  EF+++D + VAR WG  K...+F+\n",
      "Sbjct:      31 YLFQMILKSENDKNVAKIIKWTKKSSLEFQMVDRQEVARLWGAEK...QFI 111\n",
      "\n",
      "\n",
      "Chromosome: C33A11.4a\n",
      "Score 180 (73 bits), expectation 4.9e-14, alignment length 85\n",
      "Query:      66 LWQFLLELLQQDQNG-DIIEWTRGTDGEFRLIDAEAVARKWGQRK...YRF 144\n",
      "               LW+F+ + L+       ++ W    +G FR++++E +AR WG RK...Y+F\n",
      "Sbjct:     396 LWEFIRDALKDPSTCPSVVRWEDPIEGVFRIVESEKLARLWGARK...YKF 480\n",
      "\n",
      "\n",
      "Chromosome: C33A11.4b\n",
      "Score 175 (72 bits), expectation 1.5e-13, alignment length 85\n",
      "Query:      66 LWQFLLELLQQDQNG-DIIEWTRGTDGEFRLIDAEAVARKWGQRK...YRF 144\n",
      "               LW+F+ + L+       ++ W    +G FR++++E +AR WG RK...Y+F\n",
      "Sbjct:     304 LWEFIRDALKDPSTCPSVVRWEDPIEGVFRIVESEKLARLWGARK...YKF 388\n",
      "\n",
      "\n",
      "Chromosome: C52B9.2\n",
      "Score 121 (51 bits), expectation 2.6e-07, alignment length 65\n",
      "Query:      66 LWQFLLELLQQDQNGDIIEWTRGTDGEFRLIDAEAVARKWGQRKA...YEK 129\n",
      "               L  FL+ L   ++    + WT G   EF L++ E VA+ WG RK ...YEK\n",
      "Sbjct:      87 LIGFLVHLAMNERARKALRWT-GNGLEFVLVNKELVAKMWGNRKH...YEK 150\n",
      "\n",
      "\n",
      "Chromosome: C52B9.19\n",
      "Score 111 (47 bits), expectation 4.1e-06, alignment length 61\n",
      "Query:      69 FLLELLQQDQNGDIIEWTRGTDGEFRLIDAEAVARKWGQRKAK-P...YYE 128\n",
      "               FL +L   ++ G  + WT G   EF +++ + V++ WG RK    ... Y+\n",
      "Sbjct:      96 FLADLAMNEKAGRALHWT-GNGLEFVIVNTKLVSKLWGNRKRNTK...KYK 155\n",
      "\n",
      "\n",
      "Chromosome: ZK783.1g\n",
      "Score 91 (39 bits), expectation 4.0e-03, alignment length 114\n",
      "Query:     195 PQNPRGNTDFSALSLLGTDSPTTHSVSTPSPTDSVCSPSSSVASS...PNP 286\n",
      "               P++P G+ + S  +  G  SPT+ + +   PT S  S   +V  S...P P\n",
      "Sbjct:    1256 PESPDGSGESSTSAPDGV-SPTSSATAPEVPTTSASSTPDAVEES...PEP 1368\n",
      "\n",
      "\n",
      "Chromosome: R09E10.7\n",
      "Score 75 (33 bits), expectation 3.5e-01, alignment length 111\n",
      "Query:     166 CYVKD-EKDIRHEIPSFMTSLQAPPPPP------PPPQNPRGNTD...STT 268\n",
      "               C + D E  I  E+   + S   P PP       P  ++ R ++ ...+ +\n",
      "Sbjct:    1052 CLIADYEAQIEAELQRMIDSEMIPRPPALITRSRPSNEDARSSSS...TVS 1162\n",
      "\n",
      "\n"
     ]
    }
   ],
   "source": [
    "result_handle = open(\"blastp.xml\")\n",
    "\n",
    "blast_records = NCBIXML.read(result_handle)\n",
    "\n",
    "for i in range(len(blast_records.alignments)):\n",
    "    for hsp in blast_records.alignments[i].hsps:\n",
    "        print('Chromosome: ' + blast_records.descriptions[i].title.split(' ')[0])\n",
    "        print(hsp)\n",
    "        print('\\n')"
   ]
  },
  {
   "cell_type": "markdown",
   "metadata": {},
   "source": [
    "### Example with blastx\n",
    "\n",
    "We look at another example, performing blastx alignment, nucleotide query against protein database, this time! "
   ]
  },
  {
   "cell_type": "code",
   "execution_count": 21,
   "metadata": {},
   "outputs": [],
   "source": [
    "#We will use the previously generated worm_protein database!!\n",
    "command = NcbiblastxCommandline(query=\"data/nucl_example.fa\", #The sequence to search with\n",
    "                                db=\"worm_protein\", #The database to BLAST against\n",
    "                                evalue=1e+0, #Expectation value cutoff\n",
    "                                out=\"blastx.xml\", #Output file for alignment\n",
    "                                outfmt='\"5\"', #Alignment view. -> 5 for XML\n",
    "                                gapopen=11, #Cost to open a gap\n",
    "                                gapextend=1 #Cost to extend a gap\n",
    "                               )"
   ]
  },
  {
   "cell_type": "code",
   "execution_count": 22,
   "metadata": {},
   "outputs": [
    {
     "data": {
      "text/plain": [
       "('', '')"
      ]
     },
     "execution_count": 22,
     "metadata": {},
     "output_type": "execute_result"
    }
   ],
   "source": [
    "command()"
   ]
  },
  {
   "cell_type": "code",
   "execution_count": 23,
   "metadata": {},
   "outputs": [
    {
     "name": "stdout",
     "output_type": "stream",
     "text": [
      "Chromosome: C37F5.1a\n",
      "Score 654 (256 bits), expectation 2.9e-85, alignment length 150\n",
      "Query:       1 MNHIDLLKVXXXXXXXXXXXXXXXXXXHTIEGILDIRKKEMNVSD...DAH 450\n",
      "               MNHIDLLKVKKEPPSSSEEAEEEESPKHTIEGILDIRKKEMNVSD...DAH\n",
      "Sbjct:       1 MNHIDLLKVKKEPPSSSEEAEEEESPKHTIEGILDIRKKEMNVSD...DAH 150\n",
      "\n",
      "\n",
      "Chromosome: C37F5.1b\n",
      "Score 558 (219 bits), expectation 2.4e-71, alignment length 110\n",
      "Query:     121 MNVSDLMCTRXXXXXXXXXVDSIITLWQFLLELLQQDQNGDIIEW...DAH 450\n",
      "               MNVSDLMCTRSSTPPTSSSVDSIITLWQFLLELLQQDQNGDIIEW...DAH\n",
      "Sbjct:       1 MNVSDLMCTRSSTPPTSSSVDSIITLWQFLLELLQQDQNGDIIEW...DAH 110\n",
      "\n",
      "\n",
      "Chromosome: C42D8.4a\n",
      "Score 297 (119 bits), expectation 3.4e-34, alignment length 81\n",
      "Query:     190 ITLWQFLLELLQQDQNGDIIEWTRGTDGEFRLIDAEAVARKWGQR...YRF 432\n",
      "               I LWQFLLELL    N   I W  G++GEF+L+D + VARKWG+R...Y+F\n",
      "Sbjct:      35 IQLWQFLLELLADAVNAHCIAW-EGSNGEFKLVDPDEVARKWGER...YKF 114\n",
      "\n",
      "\n",
      "Chromosome: C42D8.4b\n",
      "Score 298 (119 bits), expectation 4.9e-34, alignment length 81\n",
      "Query:     190 ITLWQFLLELLQQDQNGDIIEWTRGTDGEFRLIDAEAVARKWGQR...YRF 432\n",
      "               I LWQFLLELL    N   I W  G++GEF+L+D + VARKWG+R...Y+F\n",
      "Sbjct:      73 IQLWQFLLELLADAVNAHCIAW-EGSNGEFKLVDPDEVARKWGER...YKF 152\n",
      "\n",
      "\n",
      "Chromosome: T08H4.3\n",
      "Score 292 (117 bits), expectation 4.5e-32, alignment length 79\n",
      "Query:     196 LWQFLLELLQQDQNGDIIEWTRGTDGEFRLIDAEAVARKWGQRKA...YRF 432\n",
      "               LWQFLLELL   +  ++I W  GT GEF+L+D + VARKWG+RK+...Y+F\n",
      "Sbjct:     216 LWQFLLELLSDKRYSEVITW-EGTQGEFKLVDPDEVARKWGERKS...YKF 293\n",
      "\n",
      "\n",
      "Chromosome: C24A1.2a\n",
      "Score 238 (96 bits), expectation 3.8e-24, alignment length 81\n",
      "Query:     196 LWQFLLELLQQDQ-NGDIIEWTRGTDGEFRLIDAEAVARKWGQRK...RFV 435\n",
      "               LW+FLL LLQ DQ +   I+W     G F+L+D++AV+R WG  K...RFV\n",
      "Sbjct:     296 LWEFLLRLLQDDQYSPKFIKWIDQAKGIFKLVDSKAVSRLWGMHK...RFV 376\n",
      "\n",
      "\n",
      "Chromosome: C24A1.2b\n",
      "Score 236 (95 bits), expectation 6.8e-24, alignment length 81\n",
      "Query:     196 LWQFLLELLQQDQ-NGDIIEWTRGTDGEFRLIDAEAVARKWGQRK...RFV 435\n",
      "               LW+FLL LLQ DQ +   I+W     G F+L+D++AV+R WG  K...RFV\n",
      "Sbjct:     295 LWEFLLRLLQDDQYSPKFIKWIDQAKGIFKLVDSKAVSRLWGMHK...RFV 375\n",
      "\n",
      "\n",
      "Chromosome: F19F10.1\n",
      "Score 196 (80 bits), expectation 3.1e-19, alignment length 85\n",
      "Query:     196 LWQFLLELLQQDQNGDIIEWTRGTDGEFRLIDAEAVARKWGQRKA...DAH 450\n",
      "               L  FL +LL+ + N DII W   ++  F++     VA  WG    ...  H\n",
      "Sbjct:      14 LLSFLRDLLEDESNSDIIYWFDKSESVFKMSKPHKVAELWGAATG...PRH 98\n",
      "\n",
      "\n",
      "Chromosome: F22A3.1b\n",
      "Score 195 (79 bits), expectation 3.8e-18, alignment length 84\n",
      "Query:     190 ITLWQFLLELLQQ-DQNGDIIEWTRGTDGEFRLIDAEAVARKWGQ...RFV 435\n",
      "               + LWQF+ ELL Q  Q    + W    +G F++  +  +AR WGQ...+F+\n",
      "Sbjct:     375 VHLWQFIRELLDQPKQYSACVRWVDRDEGTFKIESSLLLARYWGQ...KFL 458\n",
      "\n",
      "\n",
      "Chromosome: F19F10.5\n",
      "Score 186 (76 bits), expectation 1.1e-17, alignment length 83\n",
      "Query:     196 LWQFLLELLQQDQNGDIIEWTRGTDGEFRLIDAEAVARKWGQRKA...TTD 444\n",
      "               L  FL  LL+ D + D+I W+     EF+++    VA  WG    ... T \n",
      "Sbjct:      14 LLNFLRGLLEDDSHSDLITWSNKDTLEFQMLKPHKVAELWGAATG...DTP 96\n",
      "\n",
      "\n",
      "Chromosome: F22A3.1a\n",
      "Score 183 (75 bits), expectation 1.3e-16, alignment length 86\n",
      "Query:     190 ITLWQFLLELLQQD-QNGDIIEWTRGTDGEFRLIDAEAVARKWGQ...VTT 441\n",
      "               + LWQF+ ELL Q  Q    + W    +G F++  +  +AR WGQ...+  \n",
      "Sbjct:     288 VHLWQFIRELLDQPKQYSACVRWVDRDEGTFKIESSLLLARYWGQ...LPP 373\n",
      "\n",
      "\n",
      "Chromosome: C50A2.4\n",
      "Score 165 (68 bits), expectation 2.5e-15, alignment length 81\n",
      "Query:     196 LWQFLLELLQQDQNGDIIEWTRGTDGEFRLIDAEAVARKWGQRKA...FVT 438\n",
      "               L+Q +L+         II+WT+ +  EF+++D + VAR WG  K ...F+ \n",
      "Sbjct:      32 LFQMILKSENDKNVAKIIKWTKKSSLEFQMVDRQEVARLWGAEKG...FIA 112\n",
      "\n",
      "\n",
      "Chromosome: C33A11.4a\n",
      "Score 172 (70 bits), expectation 5.9e-15, alignment length 85\n",
      "Query:     196 LWQFLLELLQQDQN-GDIIEWTRGTDGEFRLIDAEAVARKWGQRK...YRF 432\n",
      "               LW+F+ + L+       ++ W    +G FR++++E +AR WG RK...Y+F\n",
      "Sbjct:     396 LWEFIRDALKDPSTCPSVVRWEDPIEGVFRIVESEKLARLWGARK...YKF 480\n",
      "\n",
      "\n",
      "Chromosome: C33A11.4b\n",
      "Score 171 (70 bits), expectation 6.9e-15, alignment length 85\n",
      "Query:     196 LWQFLLELLQQDQN-GDIIEWTRGTDGEFRLIDAEAVARKWGQRK...YRF 432\n",
      "               LW+F+ + L+       ++ W    +G FR++++E +AR WG RK...Y+F\n",
      "Sbjct:     304 LWEFIRDALKDPSTCPSVVRWEDPIEGVFRIVESEKLARLWGARK...YKF 388\n",
      "\n",
      "\n",
      "Chromosome: C52B9.2\n",
      "Score 103 (44 bits), expectation 5.5e-06, alignment length 62\n",
      "Query:     205 FLLELLQQDQNGDIIEWTRGTDGEFRLIDAEAVARKWGQRKAKPH...YEK 387\n",
      "               FL+ L   ++    + WT G   EF L++ E VA+ WG RK    ...YEK\n",
      "Sbjct:      90 FLVHLAMNERARKALRWT-GNGLEFVLVNKELVAKMWGNRKHNTK...YEK 150\n",
      "\n",
      "\n",
      "Chromosome: C52B9.19\n",
      "Score 103 (44 bits), expectation 6.6e-06, alignment length 64\n",
      "Query:     196 LWQFLLELLQQDQNGDIIEWTRGTDGEFRLIDAEAVARKWGQRKA...YYE 384\n",
      "               L  FL +L   ++ G  + WT G   EF +++ + V++ WG RK ... Y+\n",
      "Sbjct:      93 LIAFLADLAMNEKAGRALHWT-GNGLEFVIVNTKLVSKLWGNRKR...KYK 155\n",
      "\n",
      "\n"
     ]
    }
   ],
   "source": [
    "result_handle = open(\"blastx.xml\")\n",
    "\n",
    "blast_records = NCBIXML.read(result_handle)\n",
    "\n",
    "for i in range(len(blast_records.alignments)):\n",
    "    for hsp in blast_records.alignments[i].hsps:\n",
    "        print('Chromosome: ' + blast_records.descriptions[i].title.split(' ')[0])\n",
    "        print(hsp)\n",
    "        print('\\n')"
   ]
  },
  {
   "cell_type": "markdown",
   "metadata": {},
   "source": [
    "### Example with tblastn\n",
    "\n",
    "We look at another example, performing tblastn alignment, protein query against nucleotide database, this time! "
   ]
  },
  {
   "cell_type": "code",
   "execution_count": 24,
   "metadata": {},
   "outputs": [],
   "source": [
    "#We will use the previously generated worm_protein database!!\n",
    "command = NcbitblastnCommandline(query=\"data/prot_example.fa\", #The sequence to search with\n",
    "                                db=\"worm_genome\", #The database to BLAST against\n",
    "                                evalue=1e+0, #Expectation value cutoff\n",
    "                                out=\"tblastn.xml\", #Output file for alignment\n",
    "                                outfmt='\"5\"', #Alignment view. -> 5 for XML\n",
    "                                gapopen=11, #Cost to open a gap\n",
    "                                gapextend=1 #Cost to extend a gap\n",
    "                               )"
   ]
  },
  {
   "cell_type": "code",
   "execution_count": 25,
   "metadata": {},
   "outputs": [
    {
     "data": {
      "text/plain": [
       "('', '')"
      ]
     },
     "execution_count": 25,
     "metadata": {},
     "output_type": "execute_result"
    }
   ],
   "source": [
    "command()"
   ]
  },
  {
   "cell_type": "code",
   "execution_count": 26,
   "metadata": {},
   "outputs": [
    {
     "name": "stdout",
     "output_type": "stream",
     "text": [
      "Chromosome: IV\n",
      "Score 556 (218 bits), expectation 9.4e-62, alignment length 132\n",
      "Query:     249 DESRQCRKRXXXXXXXXXXXXXXXXXXXXXKKGMKPNPLNLTATS...SQV 380\n",
      "               DESRQCRKRSLSPSTTSSTTAPPPPPQPPTKKGMKPNPLNLTATS...SQV\n",
      "Sbjct: 2277189 DESRQCRKRSLSPSTTSSTTAPPPPPQPPTKKGMKPNPLNLTATS...SQV 2277584\n",
      "\n",
      "\n",
      "Chromosome: IV\n",
      "Score 476 (187 bits), expectation 3.1e-51, alignment length 98\n",
      "Query:      38 KKEMNVSDLMCTRXXXXXXXXXVDSIITLWQFLLELLQQDQNGDI...KKV 135\n",
      "               +KEMNVSDLMCTRSSTPPTSSSVDSIITLWQFLLELLQQDQNGDI...KKV\n",
      "Sbjct: 2278889 EKEMNVSDLMCTRSSTPPTSSSVDSIITLWQFLLELLQQDQNGDI...KKV 2279182\n",
      "\n",
      "\n",
      "Chromosome: IV\n",
      "Score 372 (147 bits), expectation 1.4e-37, alignment length 100\n",
      "Query:     112 PHMNYDKLSRALRYYYEKNIIKKVIGKKFVYRFVTTDAHAPPTAD...LLG 211\n",
      "               P  +  K  R   +   K  I +VIGKKFVYRFVTTDAHAPPTAD...LLG\n",
      "Sbjct: 2278249 PKYDKRKRGRCTIFLLTKLNIFQVIGKKFVYRFVTTDAHAPPTAD...LLG 2278548\n",
      "\n",
      "\n",
      "Chromosome: IV\n",
      "Score 216 (87 bits), expectation 9.2e-18, alignment length 63\n",
      "Query:     379 QVFQFPPVSAFQATNPLLNTFSNLISPMAPFMMXXXXXXXXXXXX...PTL 441\n",
      "               QVFQFPPVSAFQATNPLLNTFSNLISPMAPFMMPPSQSSTSFKFP...PTL\n",
      "Sbjct: 2276277 QVFQFPPVSAFQATNPLLNTFSNLISPMAPFMMPPSQSSTSFKFP...PTL 2276465\n",
      "\n",
      "\n",
      "Chromosome: IV\n",
      "Score 139 (58 bits), expectation 2.1e-08, alignment length 71\n",
      "Query:      69 FLLELLQQDQN----GDIIEWTRGTDGEFRLIDAEAVARKWGQRK...KKV 135\n",
      "               +L +++ + +N      II+WT+ +  EF+++D + VAR WG  K...+KV\n",
      "Sbjct: 1160180 YLFQMILKSENDKNVAKIIKWTKKSSLEFQMVDRQEVARLWGAEK...RKV 1160392\n",
      "\n",
      "\n",
      "Chromosome: X\n",
      "Score 543 (213 bits), expectation 5.2e-60, alignment length 135\n",
      "Query:     249 DESRQCRKRXXXXXXXXXXXXXXXXXXXXXKKGMKPNPLNLTATS...FQF 383\n",
      "               DESRQCRKRSLS STT STTAPP PP    KKGMKPNPLNLTATS...  F\n",
      "Sbjct:  107794 DESRQCRKRSLSSSTTPSTTAPPQPPT---KKGMKPNPLNLTATS...GFF 108189\n",
      "\n",
      "\n",
      "Chromosome: X\n",
      "Score 358 (142 bits), expectation 9.4e-36, alignment length 80\n",
      "Query:     132 IKKVIGKKFVYRFVTTDAHAPPTADFSSNMNMKMCYVKDEKDIRH...LLG 211\n",
      "               I +VIGKKFVYRFVTTDAH PPTADFSSNMNMKMCYVKDEKDIRH...LLG\n",
      "Sbjct:  108880 IFQVIGKKFVYRFVTTDAHTPPTADFSSNMNMKMCYVKDEKDIRH...LLG 109116\n",
      "\n",
      "\n",
      "Chromosome: X\n",
      "Score 145 (60 bits), expectation 3.0e-17, alignment length 46\n",
      "Query:      64 ITLWQFLLELLQQDQNGDIIEWTRGTDGEFRLIDAEAVARKWGQRK 109\n",
      "               I LWQFLLELL    N   I W  G++GEF+L+D + VARKWG+RK\n",
      "Sbjct: 5081387 IQLWQFLLELLADAVNAHCIAW-EGSNGEFKLVDPDEVARKWGERK 5081521\n",
      "\n",
      "\n",
      "Chromosome: X\n",
      "Score 113 (48 bits), expectation 3.0e-17, alignment length 26\n",
      "Query:     110 AKPHMNYDKLSRALRYYYEKNIIKKV 135\n",
      "               +KP+MNYDKLSRALRYYY+KNI+ KV\n",
      "Sbjct: 5081260 SKPNMNYDKLSRALRYYYDKNIMTKV 5081337\n",
      "\n",
      "\n",
      "Chromosome: X\n",
      "Score 163 (67 bits), expectation 3.1e-11, alignment length 67\n",
      "Query:      64 ITLWQFLLELLQQ-DQNGDIIEWTRGTDGEFRLIDAEAVARKWGQ...YEK 129\n",
      "               + LWQF+ ELL Q  Q    + W    +G F++  +  +AR WGQ...Y+K\n",
      "Sbjct: 6521591 VHLWQFIRELLDQPKQYSACVRWVDRDEGTFKIESSLLLARYWGQ...YKK 6521791\n",
      "\n",
      "\n",
      "Chromosome: X\n",
      "Score 121 (51 bits), expectation 3.5e-06, alignment length 86\n",
      "Query:      81 DIIEWTRGTDGEFRLIDAEAVARKWGQRKAKPHMNYDKLSRALRY...YRF 144\n",
      "               ++  W    +G FR++++E +AR WG RK    M Y+KLSRA+R+...Y+F\n",
      "Sbjct:15370684 NVSRWEDPIEGVFRIVESEKLARLWGARKNNEKMTYEKLSRAMRF...YKF 15370941\n",
      "\n",
      "\n",
      "Chromosome: X\n",
      "Score 115 (48 bits), expectation 1.7e-05, alignment length 23\n",
      "Query:     379 QVFQFPPVSAFQATNPLLNTFSN 401\n",
      "               QVFQFPPVSAFQATNPLLNTFSN\n",
      "Sbjct:  106995 QVFQFPPVSAFQATNPLLNTFSN 107063\n",
      "\n",
      "\n",
      "Chromosome: X\n",
      "Score 110 (46 bits), expectation 6.5e-05, alignment length 62\n",
      "Query:      69 FLLELLQQDQNGDIIEWTRGTDGEFRLIDAEAVARKWGQRKAK-P...YEK 129\n",
      "               FL+ L   ++    + WT G   EF L++ E VA+ WG RK    ...YEK\n",
      "Sbjct: 4281797 FLVHLAMNERARKALRWT-GNGLEFVLVNKELVAKMWGNRKHNTK...YEK 4281979\n",
      "\n",
      "\n",
      "Chromosome: X\n",
      "Score 107 (45 bits), expectation 1.7e-04, alignment length 61\n",
      "Query:      69 FLLELLQQDQNGDIIEWTRGTDGEFRLIDAEAVARKWGQRKAKPH...YYE 128\n",
      "               FL +L   ++ G  + WT G   EF +++ + V++ WG RK    ... Y+\n",
      "Sbjct: 4283115 FLADLAMNEKAGRALHWT-GNGLEFVIVNTKLVSKLWGNRKRNTK...KYK 4283294\n",
      "\n",
      "\n",
      "Chromosome: II\n",
      "Score 285 (114 bits), expectation 2.0e-26, alignment length 79\n",
      "Query:      66 LWQFLLELLQQDQNGDIIEWTRGTDGEFRLIDAEAVARKWGQRKA...YRF 144\n",
      "               LWQFLLELL   +  ++I W  GT GEF+L+D + VARKWG+RK+...Y+F\n",
      "Sbjct: 4128991 LWQFLLELLSDKRYSEVITW-EGTQGEFKLVDPDEVARKWGERKS...YKF 4129224\n",
      "\n",
      "\n",
      "Chromosome: III\n",
      "Score 246 (99 bits), expectation 1.9e-21, alignment length 102\n",
      "Query:      63 IITLWQFLLELLQQDQNG-DIIEWTRGTDGEFRLIDAEAVARKWG...MNM 163\n",
      "               +  LW+FLL LLQ DQ     I+W     G F+L+D++AV+R WG... N \n",
      "Sbjct:  714358 VTYLWEFLLRLLQDDQYSPKFIKWIDQAKGIFKLVDSKAVSRLWG...KNF 714663\n",
      "\n",
      "\n",
      "Chromosome: V\n",
      "Score 164 (67 bits), expectation 2.6e-11, alignment length 70\n",
      "Query:      66 LWQFLLELLQQDQNGDIIEWTRGTDGEFRLIDAEAVARKWGQRKA...KKV 135\n",
      "               L  FL  LL+ D + D+I W+     EF+++    VA  WG    ...KKV\n",
      "Sbjct: 7558535 LLNFLRGLLEDDSHSDLITWSNKDTLEFQMLKPHKVAELWGAATG...KKV 7558744\n",
      "\n",
      "\n",
      "Chromosome: V\n",
      "Score 158 (65 bits), expectation 1.2e-10, alignment length 72\n",
      "Query:      64 ITLWQFLLELLQQDQNGDIIEWTRGTDGEFRLIDAEAVARKWGQR...KKV 135\n",
      "               + L  FL +LL+ + N DII W   ++  F++     VA  WG  ...+KV\n",
      "Sbjct: 7563289 LRLLSFLRDLLEDESNSDIIYWFDKSESVFKMSKPHKVAELWGAA...EKV 7563504\n",
      "\n",
      "\n"
     ]
    }
   ],
   "source": [
    "result_handle = open(\"tblastn.xml\")\n",
    "\n",
    "blast_records = NCBIXML.read(result_handle)\n",
    "\n",
    "for i in range(len(blast_records.alignments)):\n",
    "    for hsp in blast_records.alignments[i].hsps:\n",
    "        print('Chromosome: ' + blast_records.descriptions[i].title.split(' ')[0])\n",
    "        print(hsp)\n",
    "        print('\\n')"
   ]
  },
  {
   "cell_type": "markdown",
   "metadata": {},
   "source": [
    "This is the end of the first tutorial for WormBase data analysis! This tutorial dealt with using BLAST alignment for any worm data.\n",
    "\n",
    "In the next tutorial, we will use BLAT, which is a faster and more efficient version of BLAT for similar analyses!"
   ]
  }
 ],
 "metadata": {
  "kernelspec": {
   "display_name": "Python 3",
   "language": "python",
   "name": "python3"
  },
  "language_info": {
   "codemirror_mode": {
    "name": "ipython",
    "version": 2
   },
   "file_extension": ".py",
   "mimetype": "text/x-python",
   "name": "python",
   "nbconvert_exporter": "python",
   "pygments_lexer": "ipython2",
   "version": "2.7.17"
  }
 },
 "nbformat": 4,
 "nbformat_minor": 4
}
