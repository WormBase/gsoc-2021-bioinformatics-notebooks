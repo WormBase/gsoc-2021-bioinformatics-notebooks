{
 "cells": [
  {
   "cell_type": "markdown",
   "metadata": {},
   "source": [
    "# **Bioinformatics with Jupyter Notebooks for WormBase:**\n",
    "## **Data Retrieval 4 - Getting essential gene information**\n",
    "Welcome to the fourth jupyter notebook in the WormBase tutorial series. Over this series of tutorials, we will write code in Python that allows us to retrieve and perform simple analyses with data available on the WormBase sites.\n",
    "\n",
    "This tutorial will deal with getting the essential gene information for WormBase genes, replicating the results from the SimpleMine utility. Given a list of WormBase Gene IDs, we can extract all required information associated with the gene using the WormBase RESTful API. Let's get started!"
   ]
  },
  {
   "cell_type": "markdown",
   "metadata": {},
   "source": [
    "We start by installing and loading the libraries that are required for this tutorial."
   ]
  },
  {
   "cell_type": "code",
   "execution_count": null,
   "metadata": {},
   "outputs": [],
   "source": [
    "import requests, sys\n",
    "import pandas as pd\n",
    "pd.set_option('display.max_columns', None) #for ensuring full view of the dataframe generated"
   ]
  },
  {
   "cell_type": "markdown",
   "metadata": {},
   "source": [
    "We initialise the columns for the dataframe. All columns have a small description next to them. You can comment out any of the columns if they are not required for your study."
   ]
  },
  {
   "cell_type": "code",
   "execution_count": null,
   "metadata": {},
   "outputs": [],
   "source": [
    "EssentialGeneInfo = pd.DataFrame(columns = ['WormBase Gene ID', #Unique Gene identifiers used by WormBase\n",
    "                                            'Public Name', #Official gene names specified by WormBase\n",
    "                                            'Species', #Each gene can only be associated with one species\n",
    "                                            'Sequence Name', #Sequence name of the gene\n",
    "                                            'Other Name', #All names that have been used by the gene in publications\n",
    "                                            'Transcript', #Transcript names of the gene\n",
    "                                            'Operon', #A set of genes transcribed under the control of an operator gene\n",
    "                                            'Protein Domain', #Protein Domains associated with the gene\n",
    "                                            'UniProt', #Official Protein Identifiers used by the UniProt database\n",
    "                                            'Reference UniProt ID', #Unique UniProt ID for each gene to act as a \"reference\" UniProt ID\n",
    "                                            'TreeFam', #Official gene identifiers used by the TreeFam database\n",
    "                                            'RefSeq_mRNA', #Sequence IDs used by the RefSeq database\n",
    "                                            'RefSeq_protein', #Protein IDs used by the RefSeq databaseDisplay Chromosome and chromosomal position of the gene\n",
    "                                            'Genetic Map Position', #Display Chromosome and chromosomal position of the gene\n",
    "                                            'RNAi Phenotype Observed', #Display the RNAi phenotype ontology names\n",
    "                                            'Allele Phenotype Observed', #Display the Allele phenotype ontology names\n",
    "                                            'Coding_exon Non_silent Allele', #Display a list of alleles that fall in any coding exon\n",
    "                                            'Interacting Gene', #Display experimentally confirmed gene interactions\n",
    "                                            'Expr_pattern Tissue', #Anatomical expression based on GFP, immunoprecipitation, In_situ\n",
    "                                            'Genomic Study Tissue', #Tissue enrichment based on the microarray, RNA-Seq, and proteomics studies\n",
    "                                            'Expr_pattern LifeStage', #Developmental expression based on GFP, immunoprecipitation, In_situ\n",
    "                                            'Genomic Study LifeStage', #Developmental expression based on the microarray, RNA-Seq, and proteomics studies\n",
    "                                            'Disease Info', #Display the disease names associated with the gene\n",
    "                                            'Human Ortholog', #Display the human orthologs of the gene\n",
    "                                            'Gene Ontology Association', #Display the names of gene ontology terms that were annotated to the gene\n",
    "                                            'Automated Description', #Up-to-date gene description \n",
    "                                            'Reference' #Primary research articles that studied the gene\n",
    "                                           ])"
   ]
  },
  {
   "cell_type": "markdown",
   "metadata": {},
   "source": [
    "The next step is to initialize the list of Gene IDs. This can be done either by manually typing in a list or by uploading a csv file that has one single column with the required gene IDs.\n",
    "Uncomment the required line in the below cell."
   ]
  },
  {
   "cell_type": "code",
   "execution_count": null,
   "metadata": {},
   "outputs": [],
   "source": [
    "GeneID = ['WBGene00001648', 'WBGene00012578', 'WBGene00021277']\n",
    "#GeneID = pd.read_csv('GeneID_list.csv', header=None)[0]"
   ]
  },
  {
   "cell_type": "markdown",
   "metadata": {},
   "source": [
    "We finally access the WormBase RESTful API to get the necessary information for the genes. We use the gene widgets and gene fields operations to access the data based on the gene ID. (http://rest.wormbase.org/index.html)\n",
    "\n",
    "Remember to comment out any fields that you may have commented in the previous cell while initialising the empty dataframe."
   ]
  },
  {
   "cell_type": "code",
   "execution_count": null,
   "metadata": {},
   "outputs": [],
   "source": [
    "for gene in GeneID:\n",
    "    WormBaseGeneID = gene\n",
    "    PublicName = requests.get('http://rest.wormbase.org/rest/field/gene/' + gene + '/name').json()['name']['data']['label']\n",
    "    Species = requests.get('http://rest.wormbase.org/rest/field/gene/' + gene + '/taxonomy').json()['taxonomy']['data']['genus'] + ' ' + requests.get('http://rest.wormbase.org/rest/field/gene/' + gene + '/taxonomy').json()['taxonomy']['data']['species']\n",
    "    SequenceName = requests.get('http://rest.wormbase.org/rest/field/gene/' + gene + '/sequence_name').json()['sequence_name']['data']\n",
    "    OtherName = ', '. join(requests.get('http://rest.wormbase.org/rest/field/gene/' + gene + '/other_names').json()['other_names']['data'])\n",
    "    Transcript = requests.get('http://rest.wormbase.org/rest/widget/gene/' + gene + '/sequences').json()['fields']['gene_models']['data']['table'][0]['model'][0]['id']\n",
    "    Operon = 'N.A.' if requests.get('http://rest.wormbase.org/rest/field/gene/' + gene + '/operon').json()['operon']['data'] is None else requests.get('http://rest.wormbase.org/rest/field/gene/' + gene + '/operon').json()['operon']['data']['label']\n",
    "    ProteinDomain = [val['id'] for key, val in requests.get('http://rest.wormbase.org/rest/field/gene/' + gene + '/protein_domains').json()['protein_domains']['data'].items() if 'id' in val]\n",
    "    Uniprot = requests.get('http://rest.wormbase.org/rest/field/gene/' + gene + '/xrefs').json()['xrefs']['data']['TrEMBL']['UniProtAcc']['ids'] if 'TrEMBL' in requests.get('http://rest.wormbase.org/rest/field/gene/' + gene + '/xrefs').json()['xrefs']['data'] else requests.get('http://rest.wormbase.org/rest/field/gene/' + gene + '/xrefs').json()['xrefs']['data']['SwissProt']['UniProtAcc']['ids'] if 'SwissProt' in requests.get('http://rest.wormbase.org/rest/field/gene/' + gene + '/xrefs').json()['xrefs']['data'] else 'N.A.'\n",
    "    RefUniprotID = requests.get('http://rest.wormbase.org/rest/field/gene/' + gene + '/xrefs').json()['xrefs']['data']['UniProt_GCRP']['UniProtAcc']['ids']\n",
    "    TreeFam = 'N.A.' if requests.get('http://rest.wormbase.org/rest/field/gene/' + gene + '/treefam').json()['treefam']['data'] is None else requests.get('http://rest.wormbase.org/rest/field/gene/' + gene + '/treefam').json()['treefam']['data']\n",
    "    RefSeqmRNA = requests.get('http://rest.wormbase.org/rest/field/gene/' + gene + '/xrefs').json()['xrefs']['data']['RefSeq']['mRNA']['ids']\n",
    "    RefSeqProtein = requests.get('http://rest.wormbase.org/rest/field/gene/' + gene + '/xrefs').json()['xrefs']['data']['RefSeq']['protein']['ids']\n",
    "    GeneticMapPosition = requests.get('http://rest.wormbase.org/rest/field/gene/' + gene + '/genetic_position').json()['genetic_position']['data'][0]['chromosome'] + ':' + str(requests.get('http://rest.wormbase.org/rest/field/gene/' + gene + '/genetic_position').json()['genetic_position']['data'][0]['position'])\n",
    "    RNAiPhen = sorted(list(set([i['phenotype']['label'] for i in requests.get('http://rest.wormbase.org/rest/field/gene/' + gene + '/phenotype').json()['phenotype']['data'] if 'RNAi' in i['evidence']])))\n",
    "    AllelePhen = sorted(list(set([i['phenotype']['label'] for i in requests.get('http://rest.wormbase.org/rest/field/gene/' + gene + '/phenotype').json()['phenotype']['data'] if 'Allele' in i['evidence']])))\n",
    "    NonSilent = sorted(list(set([i['variation']['label'] + '|' + i['effects'][0] for i in requests.get('http://rest.wormbase.org/rest/field/gene/' + gene + '/alleles').json()['alleles']['data'] if 'effects' in i])))\n",
    "    InteractingGene = sorted(list(set([i['affected']['label'] for i in requests.get('http://rest.wormbase.org/rest/field/gene/' + gene + '/interaction_details').json()['interaction_details']['data']['edges_all']])))\n",
    "    ExprPatternTissue = sorted([i['ontology_term']['label'] for i in requests.get('http://rest.wormbase.org/rest/field/gene/' + gene + '/expressed_in').json()['expressed_in']['data'] if i['details'][0]['text']['class'] == 'expr_pattern'])\n",
    "    GenomicStudyTissue = sorted([i['ontology_term']['label'] for i in requests.get('http://rest.wormbase.org/rest/field/gene/' + gene + '/expressed_in').json()['expressed_in']['data'] if i['details'][0]['text']['class'] == 'expression_cluster'])\n",
    "    ExprPatternLifeStage = 'N.A.' if requests.get('http://rest.wormbase.org/rest/field/gene/' + gene + '/expressed_during').json()['expressed_during']['data'] is None else sorted([i['ontology_term']['label'] for i in requests.get('http://rest.wormbase.org/rest/field/gene/' + gene + '/expressed_during').json()['expressed_during']['data']])\n",
    "    GenomicStudyLifeStage = 'N.A.' if requests.get('http://rest.wormbase.org/rest/field/gene/' + gene + '/fpkm_expression_summary_ls').json()['fpkm_expression_summary_ls']['data']['table']['fpkm']['data'] is None else sorted(list(set([i['life_stage']['label'] for i in requests.get('http://rest.wormbase.org/rest/field/gene/' + gene + '/fpkm_expression_summary_ls').json()['fpkm_expression_summary_ls']['data']['table']['fpkm']['data']])))\n",
    "    Disease = 'N.A.' if requests.get('http://rest.wormbase.org/rest/field/gene/' + gene + '/human_diseases').json()['human_diseases']['data'] is None else sorted([i['label'] for i in requests.get('http://rest.wormbase.org/rest/field/gene/' + gene + '/human_diseases').json()['human_diseases']['data']['potential_model']])\n",
    "    HumanOrtholog = 'N.A.' if requests.get('http://rest.wormbase.org/rest/field/gene/' + gene + '/other_orthologs').json()['other_orthologs']['data'] is None else sorted([i['ortholog']['id'] + '|' + '; '.join([j['id'] for j in i['method']]) for i in requests.get('http://rest.wormbase.org/rest/field/gene/' + gene + '/other_orthologs').json()['other_orthologs']['data'] if (i['ortholog']['taxonomy'] == 'h_sapiens')])\n",
    "    GeneOntology = 'N.A.' if requests.get('http://rest.wormbase.org/rest/field/gene/' + gene + '/gene_ontology').json()['gene_ontology']['data'] is None else sorted(list(set([i['term_description']['label'] for i in requests.get('http://rest.wormbase.org/rest/field/gene/' + gene + '/gene_ontology').json()['gene_ontology']['data']['Biological_process']] + [i['term_description']['label'] for i in requests.get('http://rest.wormbase.org/rest/field/gene/' + gene + '/gene_ontology').json()['gene_ontology']['data']['Molecular_function']] + [i['term_description']['label'] for i in requests.get('http://rest.wormbase.org/rest/field/gene/' + gene + '/gene_ontology').json()['gene_ontology']['data']['Cellular_component']] + [i['with'][0]['label'] for i in requests.get('http://rest.wormbase.org/rest/field/gene/' + gene + '/gene_ontology').json()['gene_ontology']['data']['Cellular_component'] if i['with'] is not None and i['with'][0]['label'][:7] != 'Panther'])))\n",
    "    AutomatedDesc = requests.get('http://rest.wormbase.org/rest/field/gene/' + gene + '/concise_description').json()['concise_description']['data']['text']\n",
    "    Reference = 'N.A.' if requests.get('http://rest.wormbase.org/rest/widget/gene/' + gene + '/references').json()['fields']['references']['data'] is None else [i['name']['id'] for i in requests.get('http://rest.wormbase.org/rest/widget/gene/' + gene + '/references').json()['fields']['references']['data']['results']]\n",
    "    EssentialGeneInfo = EssentialGeneInfo.append({'WormBase Gene ID': WormBaseGeneID, \n",
    "                                            'Public Name': PublicName,\n",
    "                                            'Species': Species,\n",
    "                                            'Sequence Name': SequenceName,\n",
    "                                            'Other Name': OtherName,\n",
    "                                            'Transcript': Transcript,\n",
    "                                            'Operon': Operon,\n",
    "                                            'Protein Domain': ProteinDomain, \n",
    "                                            'UniProt': Uniprot,\n",
    "                                            'Reference UniProt ID': RefUniprotID,\n",
    "                                            'TreeFam': TreeFam,\n",
    "                                            'RefSeq_mRNA': RefSeqmRNA,\n",
    "                                            'RefSeq_protein': RefSeqProtein,\n",
    "                                            'Genetic Map Position': GeneticMapPosition,\n",
    "                                            'RNAi Phenotype Observed': RNAiPhen,\n",
    "                                            'Allele Phenotype Observed': AllelePhen,\n",
    "                                            'Coding_exon Non_silent Allele': NonSilent,\n",
    "                                            'Interacting Gene': InteractingGene,\n",
    "                                            'Expr_pattern Tissue': ExprPatternTissue,\n",
    "                                            'Genomic Study Tissue': GenomicStudyTissue,\n",
    "                                            'Expr_pattern LifeStage': ExprPatternLifeStage,\n",
    "                                            'Genomic Study LifeStage': GenomicStudyLifeStage,\n",
    "                                            'Disease Info': Disease,\n",
    "                                            'Human Ortholog': HumanOrtholog,\n",
    "                                            'Gene Ontology Association': GeneOntology,\n",
    "                                            'Automated Description': AutomatedDesc,\n",
    "                                            'Reference': Reference}, \n",
    "                                            ignore_index = True)"
   ]
  },
  {
   "cell_type": "code",
   "execution_count": null,
   "metadata": {
    "scrolled": true
   },
   "outputs": [],
   "source": [
    "EssentialGeneInfo"
   ]
  },
  {
   "cell_type": "markdown",
   "metadata": {},
   "source": [
    "The dataframe can be written into a csv file to save the essential gene information and for any analyses that you want to perform later."
   ]
  },
  {
   "cell_type": "code",
   "execution_count": null,
   "metadata": {},
   "outputs": [],
   "source": [
    "EssentialGeneInfo.to_csv('EssentialGeneInformation.csv')"
   ]
  },
  {
   "cell_type": "markdown",
   "metadata": {},
   "source": [
    "This is the end of the tutorial on replicating SimpleMine results using the WormBase RESTful API to get the essential gene information. The data is up-to date and is very quick to extract, and is easier to handle than the results from SimpleMine.\n",
    "\n",
    "This tutorial is also the end of the Data Retrieval series. In the next tutorial, we will implement and test some simple utilities that can help us work with the data we have retrieved until now.\n"
   ]
  }
 ],
 "metadata": {
  "kernelspec": {
   "display_name": "Python 3",
   "language": "python",
   "name": "python3"
  },
  "language_info": {
   "codemirror_mode": {
    "name": "ipython",
    "version": 3
   },
   "file_extension": ".py",
   "mimetype": "text/x-python",
   "name": "python",
   "nbconvert_exporter": "python",
   "pygments_lexer": "ipython3",
   "version": "3.8.5"
  }
 },
 "nbformat": 4,
 "nbformat_minor": 4
}
