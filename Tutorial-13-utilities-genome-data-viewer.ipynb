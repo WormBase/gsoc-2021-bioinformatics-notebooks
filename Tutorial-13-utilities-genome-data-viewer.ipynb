{
 "cells": [
  {
   "cell_type": "markdown",
   "metadata": {},
   "source": [
    "# **Bioinformatics with Jupyter Notebooks for WormBase:**\n",
    "## **Utilities 1 - Genome Data Viewer**\n",
    "Welcome to the thirteenth jupyter notebook in the WormBase tutorial series. Over this series of tutorials, we will write code in Python that allows us to retrieve and perform simple analyses with data available on the WormBase sites.\n",
    "\n",
    "This tutorial will deal with obtaining the right URLs to easily view data on the NCBI Genome Data Viewer. Let's get started!"
   ]
  },
  {
   "cell_type": "markdown",
   "metadata": {},
   "source": [
    "We start by importing the required python libraries."
   ]
  },
  {
   "cell_type": "code",
   "execution_count": null,
   "metadata": {},
   "outputs": [],
   "source": [
    "import webbrowser\n",
    "from IPython.display import HTML"
   ]
  },
  {
   "cell_type": "markdown",
   "metadata": {},
   "source": [
    "The NCBI Genome Data Viewer has a neat trick for viewing data in which we can manipulate the URL according to our needs and thereby the webpage will lead to the results of our query.\n",
    "\n",
    "We will perform different queries in this tutorial to creat URLs that can be easily modified to fit any of your needs. This can also be extended to species other than C. elegans."
   ]
  },
  {
   "cell_type": "markdown",
   "metadata": {},
   "source": [
    "ID - Identifier (typically accession) from NCBI resource with associated tracks to be displayed in GDV"
   ]
  },
  {
   "cell_type": "code",
   "execution_count": null,
   "metadata": {},
   "outputs": [],
   "source": [
    "id_value = 'GCF_000002985.6'\n",
    "url = 'https://www.ncbi.nlm.nih.gov/genome/gdv/?id=' + id_value\n",
    "webbrowser.open_new_tab(url)"
   ]
  },
  {
   "cell_type": "markdown",
   "metadata": {},
   "source": [
    "context - NCBI resource context that defines default tracks displayed"
   ]
  },
  {
   "cell_type": "code",
   "execution_count": null,
   "metadata": {},
   "outputs": [],
   "source": [
    "context_value = 'genome'\n",
    "id_value = 'GCF_000002985.6' #RefSeq genome for C. elegans!!\n",
    "url = 'https://www.ncbi.nlm.nih.gov/genome/gdv/?id='+id_value+'&context='+context_value\n",
    "webbrowser.open_new_tab(url)"
   ]
  },
  {
   "cell_type": "markdown",
   "metadata": {},
   "source": [
    " chr - chromosome number or alternate locus (can be changed based on requirement and organism)"
   ]
  },
  {
   "cell_type": "code",
   "execution_count": null,
   "metadata": {},
   "outputs": [],
   "source": [
    "chr_value = 'II'\n",
    "id_value = 'GCF_000002985.6'\n",
    "url = 'https://www.ncbi.nlm.nih.gov/genome/gdv/?id='+id_value+'&chr='+chr_value\n",
    "webbrowser.open_new_tab(url)"
   ]
  },
  {
   "cell_type": "markdown",
   "metadata": {},
   "source": [
    "from/to - range start, end (both 1-based)"
   ]
  },
  {
   "cell_type": "code",
   "execution_count": null,
   "metadata": {},
   "outputs": [],
   "source": [
    "from_value = '100' \n",
    "to_value = '1000'\n",
    "chr_value = 'II'\n",
    "id_value = 'GCF_000002985.6'\n",
    "url = 'https://www.ncbi.nlm.nih.gov/genome/gdv/?id='+id_value+'&chr='+chr_value+'&from='+from_value+'&to='+to_value\n",
    "webbrowser.open_new_tab(url)"
   ]
  },
  {
   "cell_type": "markdown",
   "metadata": {},
   "source": [
    "q - search term (You can search for genes, dbSNP IDs, Sequence IDs, chromosome ranges, etc.)"
   ]
  },
  {
   "cell_type": "code",
   "execution_count": null,
   "metadata": {},
   "outputs": [],
   "source": [
    "#keyword = 'daf-16'\n",
    "keyword = 'F52D10.5'\n",
    "id_value = 'GCF_000002985.6'\n",
    "url = 'https://www.ncbi.nlm.nih.gov/genome/gdv/?id='+id_value+'&q='+keyword\n",
    "webbrowser.open_new_tab(url)"
   ]
  },
  {
   "cell_type": "markdown",
   "metadata": {},
   "source": [
    "mk - list of marker spec - comma separated list of position|name|color to customise the display on the GDV"
   ]
  },
  {
   "cell_type": "code",
   "execution_count": null,
   "metadata": {},
   "outputs": [],
   "source": [
    "position_value = 'chr2:100-1000'\n",
    "name_value = 'myMarker'\n",
    "color_value = 'red'\n",
    "id_value = 'GCF_000002985.6'\n",
    "url = 'https://www.ncbi.nlm.nih.gov/genome/gdv/?id='+id_value+'&mk='+position_value+'|'+name_value+'|'+color_value\n",
    "webbrowser.open_new_tab(url)"
   ]
  },
  {
   "cell_type": "markdown",
   "metadata": {},
   "source": [
    "This is the end of the short tutorial on manipulating URLs to use NCBI GDV easily!\n",
    "\n",
    "In the next tutorial, we will look at WormCat, another utility which can be used with WormBase data!\n",
    "\n",
    "Acknowledgements:\n",
    "- NCBI Genome Data Viewer (https://www.ncbi.nlm.nih.gov/genome/gdv/?org=caenorhabditis-elegans)"
   ]
  }
 ],
 "metadata": {
  "kernelspec": {
   "display_name": "Python 3",
   "language": "python",
   "name": "python3"
  },
  "language_info": {
   "codemirror_mode": {
    "name": "ipython",
    "version": 3
   },
   "file_extension": ".py",
   "mimetype": "text/x-python",
   "name": "python",
   "nbconvert_exporter": "python",
   "pygments_lexer": "ipython3",
   "version": "3.8.5"
  }
 },
 "nbformat": 4,
 "nbformat_minor": 4
}
