{
 "cells": [
  {
   "cell_type": "markdown",
   "metadata": {},
   "source": [
    "# **Bioinformatics with Jupyter Notebooks for WormBase:**\n",
    "## **Analyses 7 - Enrichment Analyses**\n",
    "Welcome to the seventh jupyter notebook in the WormBase tutorial series. Over this series of tutorials, we will write code in Python that allows us to retrieve and perform simple analyses with data available on the WormBase sites.\n",
    "\n",
    "This tutorial will deal with performing 3 kinds of enrichment analyses - tissue, gene ontology, and phenotype for the given gene list input.\n",
    "Let's get started!"
   ]
  },
  {
   "cell_type": "markdown",
   "metadata": {},
   "source": [
    "For this tutorial we use the WormBase Tissue Enrichment Analysis (TEA) pip package which we need to install and then import. We also need to import other relevant python packages."
   ]
  },
  {
   "cell_type": "code",
   "execution_count": null,
   "metadata": {},
   "outputs": [],
   "source": [
    "import pandas as pd\n",
    "import numpy as np\n",
    "import matplotlib.pyplot as plt\n",
    "import tissue_enrichment_analysis as tea\n",
    "%matplotlib inline\n",
    "%config InlineBackend.figure_formats = {'png', 'retina'}"
   ]
  },
  {
   "cell_type": "markdown",
   "metadata": {},
   "source": [
    "Read a csv file with gene names into a dataframe for performing the analyses further.\n",
    "\n",
    "The csv file needs to have one gene in each line with the first line being a header."
   ]
  },
  {
   "cell_type": "code",
   "execution_count": null,
   "metadata": {},
   "outputs": [],
   "source": [
    "genes = pd.read_csv('data/tea.csv')"
   ]
  },
  {
   "cell_type": "markdown",
   "metadata": {},
   "source": [
    "For analysing the enrichment, we need to use the dictionaries which are maintained by WormBase regularly. There are 3 dictionaries, each for the three types of enrichment analyses."
   ]
  },
  {
   "cell_type": "code",
   "execution_count": null,
   "metadata": {},
   "outputs": [],
   "source": [
    "Tissue_Enrichment = tea.fetch_dictionary('tissue')            #Tissue Enrichment\n",
    "Phenotype_Enrichment = tea.fetch_dictionary('phenotype')      #Phenotype Enrichment\n",
    "GO_Enrichment = tea.fetch_dictionary('go')                    #Gene Ontology Enrichment"
   ]
  },
  {
   "cell_type": "markdown",
   "metadata": {},
   "source": [
    "Now we analyse the gene list against the WormBase TEA dictionaries.\n",
    "\n",
    "We create a python dictionary to store the TEA dictionaries."
   ]
  },
  {
   "cell_type": "code",
   "execution_count": null,
   "metadata": {},
   "outputs": [],
   "source": [
    "dictionaries = {'Tissue_Enrichment': Tissue_Enrichment, \n",
    "                'Phenotype_Enrichment': Phenotype_Enrichment, \n",
    "                'GO_Enrichment': GO_Enrichment}"
   ]
  },
  {
   "cell_type": "markdown",
   "metadata": {},
   "source": [
    "We test the list of genes and store the results. For this, we need to set an alpha value to extract only the statistically significant results."
   ]
  },
  {
   "cell_type": "code",
   "execution_count": null,
   "metadata": {},
   "outputs": [],
   "source": [
    "cutoff = 0.01\n",
    "\n",
    "enrichments = {}\n",
    "for analysis, dictionary in dictionaries.items():\n",
    "    enrichments[analysis] = tea.enrichment_analysis(genes.gene_name, dictionary, show=False, alpha=cutoff)"
   ]
  },
  {
   "cell_type": "markdown",
   "metadata": {},
   "source": [
    "We have performed the enrichment analysis! Now we can obtain the results in the form of dataframes!"
   ]
  },
  {
   "cell_type": "code",
   "execution_count": null,
   "metadata": {},
   "outputs": [],
   "source": [
    "for enrichment in enrichments:\n",
    "  print('This is the ', enrichment, ' result dataframe, it has', str(len(enrichments[enrichment])), ' entries')\n",
    "  display(enrichments[enrichment])"
   ]
  },
  {
   "cell_type": "markdown",
   "metadata": {},
   "source": [
    "It is also possible to visualize these enrichments in the form of plots that show the top n hits based on -log10 q values."
   ]
  },
  {
   "cell_type": "code",
   "execution_count": null,
   "metadata": {},
   "outputs": [],
   "source": [
    "for enrichment in ['GO_Enrichment', 'Phenotype_Enrichment', 'Tissue_Enrichment']:\n",
    "    data_for_graph = enrichments[enrichment]\n",
    "    data_for_graph['minus_log10_Qvalue'] = -np.log10(data_for_graph['Q value'])\n",
    "\n",
    "    n = 10 #Change based on how many top hits you want!\n",
    "    \n",
    "    data_for_graph = data_for_graph.head(n).iloc[::-1]\n",
    "    data_for_graph.plot(x='Term', y='minus_log10_Qvalue', kind=\"barh\", legend=False, width=0.8, color = 'red', \n",
    "                        figsize = (10,5))\n",
    "    for i, (Term, qval) in enumerate(zip(data_for_graph['Term'], \n",
    "                                         data_for_graph[\"minus_log10_Qvalue\"].round(1).astype(str))):\n",
    "        plt.text(s = qval + '    ' + Term, x = 0, y = i, color = \"k\", horizontalalignment = 'left', \n",
    "                 verticalalignment = \"center\", size = 10)\n",
    "        plt.axis(\"off\")\n",
    "        plt.tight_layout()\n",
    "        plt.title(f'{analysis} enrichment analysis showing -log10 Q-values top '+str(n)+' hits', fontsize = 14)\n",
    "plt.show()"
   ]
  },
  {
   "cell_type": "markdown",
   "metadata": {},
   "source": [
    "This is the end of the seventh tutorial for WormBase data analysis! This tutorial dealt with performing enrichment analyses on WormBase data for a user provided gene list along with generating figures for easy understanding.\n",
    "\n",
    "In the next tutorial, we will perform Literature based analyses on WormBase data!\n",
    "\n",
    "Acknowledgements:\n",
    "- Tissue Enrichment Analysis GitHub Repository (https://github.com/dangeles/TissueEnrichmentAnalysis)\n",
    "- TEA Publication - 'Tissue enrichment analysis for C. elegans genomics.'  Angeles-Albores, D., N. Lee, R.Y., Chan, J., Sternberg, P.W. BMC Bioinformatics 17, 366 (2016). https://doi.org/10.1186/s12859-016-1229-9\n",
    "- TEA Tutorial (https://colab.research.google.com/github/Munfred/worm-tutorials/blob/main/tissue_enrichment_analysis.ipynb)"
   ]
  }
 ],
 "metadata": {
  "kernelspec": {
   "display_name": "Python 3",
   "language": "python",
   "name": "python3"
  },
  "language_info": {
   "codemirror_mode": {
    "name": "ipython",
    "version": 3
   },
   "file_extension": ".py",
   "mimetype": "text/x-python",
   "name": "python",
   "nbconvert_exporter": "python",
   "pygments_lexer": "ipython3",
   "version": "3.8.5"
  }
 },
 "nbformat": 4,
 "nbformat_minor": 4
}
