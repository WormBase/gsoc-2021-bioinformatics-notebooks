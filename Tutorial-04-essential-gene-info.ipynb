{
 "cells": [
  {
   "cell_type": "markdown",
   "metadata": {},
   "source": [
    "# **Bioinformatics with Jupyter Notebooks for WormBase:**\n",
    "## **Data Retrieval 4 - Getting essential gene information**\n",
    "Welcome to the fourth jupyter notebook in the WormBase tutorial series. Over this series of tutorials, we will write code in Python that allows us to retrieve and perform simple analyses with data available on the WormBase sites.\n",
    "\n",
    "This tutorial will deal with getting the essential gene information for WormBase genes, replicating the results from the SimpleMine utility. Given a list of WormBase Gene IDs, we can extract all required information associated with the gene using the WormBase RESTful API. Let's get started!"
   ]
  },
  {
   "cell_type": "markdown",
   "metadata": {},
   "source": [
    "We start by installing and loading the libraries that are required for this tutorial."
   ]
  },
  {
   "cell_type": "code",
   "execution_count": null,
   "metadata": {},
   "outputs": [],
   "source": [
    "import requests\n",
    "import sys\n",
    "import pandas as pd\n",
    "pd.set_option('display.max_columns', None) #for ensuring full view of the dataframe generated"
   ]
  },
  {
   "cell_type": "markdown",
   "metadata": {},
   "source": [
    "We initialise the columns for the dataframe. The description of each column can be found preceding the function that assigns the value to that column. You can comment out any of the columns if they are not required for your study."
   ]
  },
  {
   "cell_type": "code",
   "execution_count": null,
   "metadata": {},
   "outputs": [],
   "source": [
    "GeneInfo = pd.DataFrame(columns = ['WormBase Gene ID',\n",
    "                                   'Public Name', \n",
    "                                   'Species', \n",
    "                                   'Sequence Name',\n",
    "                                   'Other Name', \n",
    "                                   'Transcript', \n",
    "                                   'Operon', \n",
    "                                   'Protein Domain', \n",
    "                                   'UniProt', \n",
    "                                   'Reference UniProt ID', \n",
    "                                   'TreeFam', \n",
    "                                   'RefSeq_mRNA', \n",
    "                                   'RefSeq_protein', \n",
    "                                   'Genetic Map Position', \n",
    "                                   'RNAi Phenotype Observed',\n",
    "                                   'Allele Phenotype Observed',\n",
    "                                   'Coding_exon Non_silent Allele', \n",
    "                                   'Interacting Gene', \n",
    "                                   'Expr_pattern Tissue', \n",
    "                                   'Genomic Study Tissue',\n",
    "                                   'Expr_pattern LifeStage',\n",
    "                                   'Genomic Study LifeStage',\n",
    "                                   'Disease Info',\n",
    "                                   'Human Ortholog',\n",
    "                                   'Gene Ontology Association', \n",
    "                                   'Automated Description',\n",
    "                                   'Reference' \n",
    "                                    ])"
   ]
  },
  {
   "cell_type": "markdown",
   "metadata": {},
   "source": [
    "The next step is to initialize the list of Gene IDs. This can be done either by manually typing in a list or by uploading a csv file that has one single column with the required gene IDs.\n",
    "Uncomment the required line in the below cell."
   ]
  },
  {
   "cell_type": "markdown",
   "metadata": {},
   "source": [
    "GeneID - Unique Gene identifiers used by WormBase"
   ]
  },
  {
   "cell_type": "code",
   "execution_count": null,
   "metadata": {},
   "outputs": [],
   "source": [
    "GeneID = ['WBGene00001648', 'WBGene00012578', 'WBGene00021277']\n",
    "#GeneID = pd.read_csv('GeneID_list.csv', header=None)[0]"
   ]
  },
  {
   "cell_type": "markdown",
   "metadata": {},
   "source": [
    "We finally access the WormBase RESTful API to get the necessary information for the genes. We use the gene widgets and gene fields operations to access the data based on the gene ID. (http://rest.wormbase.org/index.html)\n",
    "\n",
    "Remember to comment out any fields that you may have commented in the previous cell while initialising the empty dataframe."
   ]
  },
  {
   "cell_type": "markdown",
   "metadata": {},
   "source": [
    "Public Name - Official gene names specified by WormBase"
   ]
  },
  {
   "cell_type": "code",
   "execution_count": null,
   "metadata": {},
   "outputs": [],
   "source": [
    "def publicName(gene):\n",
    "    res = requests.get('http://rest.wormbase.org/rest/field/gene/' + gene + '/name')\n",
    "    return res.json()['name']['data']['label']"
   ]
  },
  {
   "cell_type": "markdown",
   "metadata": {},
   "source": [
    "Species - Each gene can only be associated with one species"
   ]
  },
  {
   "cell_type": "code",
   "execution_count": null,
   "metadata": {},
   "outputs": [],
   "source": [
    "def species(gene):\n",
    "    res = requests.get('http://rest.wormbase.org/rest/field/gene/' + gene + '/taxonomy')\n",
    "    return res.json()['taxonomy']['data']['genus'] + ' ' + res.json()['taxonomy']['data']['species']"
   ]
  },
  {
   "cell_type": "markdown",
   "metadata": {},
   "source": [
    "Sequence name - Sequence name of the gene"
   ]
  },
  {
   "cell_type": "code",
   "execution_count": null,
   "metadata": {},
   "outputs": [],
   "source": [
    "def sequenceName(gene):\n",
    "    res = requests.get('http://rest.wormbase.org/rest/field/gene/' + gene + '/sequence_name')\n",
    "    return res.json()['sequence_name']['data']"
   ]
  },
  {
   "cell_type": "markdown",
   "metadata": {},
   "source": [
    "Other name - all names that have been used by the gene in publications"
   ]
  },
  {
   "cell_type": "code",
   "execution_count": null,
   "metadata": {},
   "outputs": [],
   "source": [
    "def otherName(gene):\n",
    "    res = requests.get('http://rest.wormbase.org/rest/field/gene/' + gene + '/other_names')\n",
    "    return ', '.join(res.json()['other_names']['data'])"
   ]
  },
  {
   "cell_type": "markdown",
   "metadata": {},
   "source": [
    "Transcript - Transcript names of the gene"
   ]
  },
  {
   "cell_type": "code",
   "execution_count": null,
   "metadata": {},
   "outputs": [],
   "source": [
    "def transcript(gene):\n",
    "    res = requests.get('http://rest.wormbase.org/rest/widget/gene/' + gene + '/sequences')\n",
    "    return res.json()['fields']['gene_models']['data']['table'][0]['model'][0]['id']"
   ]
  },
  {
   "cell_type": "markdown",
   "metadata": {},
   "source": [
    "Operon - A set of genes transcribed under the control of an operator gene"
   ]
  },
  {
   "cell_type": "code",
   "execution_count": null,
   "metadata": {},
   "outputs": [],
   "source": [
    "def operon(gene):\n",
    "    res = requests.get('http://rest.wormbase.org/rest/field/gene/' + gene + '/operon')\n",
    "    return 'N.A.' if res.json()['operon']['data'] is None else res.json()['operon']['data']['label']"
   ]
  },
  {
   "cell_type": "markdown",
   "metadata": {},
   "source": [
    "Protein Domains associated with the gene"
   ]
  },
  {
   "cell_type": "code",
   "execution_count": null,
   "metadata": {},
   "outputs": [],
   "source": [
    "def proteinDomain(gene):\n",
    "    res = requests.get('http://rest.wormbase.org/rest/field/gene/' + gene + '/protein_domains')\n",
    "    return [val['id'] for key, val in res.json()['protein_domains']['data'].items() if 'id' in val]"
   ]
  },
  {
   "cell_type": "markdown",
   "metadata": {},
   "source": [
    "Uniprot - Official Protein Identifiers used by the UniProt database"
   ]
  },
  {
   "cell_type": "code",
   "execution_count": null,
   "metadata": {},
   "outputs": [],
   "source": [
    "def uniprot(gene):\n",
    "    res = requests.get('http://rest.wormbase.org/rest/field/gene/' + gene + '/xrefs')\n",
    "    \n",
    "    if 'TrEMBL' in res.json()['xrefs']['data']:\n",
    "        return res.json()['xrefs']['data']['TrEMBL']['UniProtAcc']['ids']  \n",
    "    \n",
    "    elif 'SwissProt' in res.json()['xrefs']['data']:\n",
    "        return res.json()['xrefs']['data']['SwissProt']['UniProtAcc']['ids']\n",
    "    \n",
    "    else:\n",
    "        return 'N.A.'"
   ]
  },
  {
   "cell_type": "markdown",
   "metadata": {},
   "source": [
    "Reference UniProt ID - Unique UniProt ID for each gene "
   ]
  },
  {
   "cell_type": "code",
   "execution_count": null,
   "metadata": {},
   "outputs": [],
   "source": [
    "def refUniprotId(gene):\n",
    "    res = requests.get('http://rest.wormbase.org/rest/field/gene/' + gene + '/xrefs')\n",
    "    return res.json()['xrefs']['data']['UniProt_GCRP']['UniProtAcc']['ids']"
   ]
  },
  {
   "cell_type": "markdown",
   "metadata": {},
   "source": [
    "TreeFam - Official gene identifiers used by the TreeFam database"
   ]
  },
  {
   "cell_type": "code",
   "execution_count": null,
   "metadata": {},
   "outputs": [],
   "source": [
    "def treeFam(gene):\n",
    "    res = requests.get('http://rest.wormbase.org/rest/field/gene/' + gene + '/treefam')\n",
    "    \n",
    "    if res.json()['treefam']['data'] is None:\n",
    "        return 'N.A.'\n",
    "    else:\n",
    "        return res.json()['treefam']['data']"
   ]
  },
  {
   "cell_type": "markdown",
   "metadata": {},
   "source": [
    "RefSeq mRNA - Sequence IDs used by the RefSeq database"
   ]
  },
  {
   "cell_type": "code",
   "execution_count": null,
   "metadata": {},
   "outputs": [],
   "source": [
    "def refSeqmRNA(gene):\n",
    "    res = requests.get('http://rest.wormbase.org/rest/field/gene/' + gene + '/xrefs')\n",
    "    return res.json()['xrefs']['data']['RefSeq']['mRNA']['ids']"
   ]
  },
  {
   "cell_type": "markdown",
   "metadata": {},
   "source": [
    "RefSeq Protein - Sequence proteins used by the RefSeq database"
   ]
  },
  {
   "cell_type": "code",
   "execution_count": null,
   "metadata": {},
   "outputs": [],
   "source": [
    "def refSeqProtein(gene):\n",
    "    res = requests.get('http://rest.wormbase.org/rest/field/gene/' + gene + '/xrefs')\n",
    "    return res.json()['xrefs']['data']['RefSeq']['protein']['ids']"
   ]
  },
  {
   "cell_type": "markdown",
   "metadata": {},
   "source": [
    "GeneticMapPosition - Chromosome and chromosomal position of the gene"
   ]
  },
  {
   "cell_type": "code",
   "execution_count": null,
   "metadata": {},
   "outputs": [],
   "source": [
    "def geneticMapPosition(gene):\n",
    "    res = requests.get('http://rest.wormbase.org/rest/field/gene/' + gene + '/genetic_position')\n",
    "    return res.json()['genetic_position']['data'][0]['chromosome'] + ':' + \\\n",
    "           str(res.json()['genetic_position']['data'][0]['position'])"
   ]
  },
  {
   "cell_type": "markdown",
   "metadata": {},
   "source": [
    "RNAi Phenotype Observed - RNAi phenotype ontology names"
   ]
  },
  {
   "cell_type": "code",
   "execution_count": null,
   "metadata": {},
   "outputs": [],
   "source": [
    "def rnaiPhen(gene):\n",
    "    res = requests.get('http://rest.wormbase.org/rest/field/gene/' + gene + '/phenotype')\n",
    "    final = []\n",
    "    for i in res.json()['phenotype']['data']:\n",
    "        if 'RNAi' in i['evidence']:\n",
    "            final.append(i['phenotype']['label'])\n",
    "    return set(final)"
   ]
  },
  {
   "cell_type": "markdown",
   "metadata": {},
   "source": [
    "Allele Phenotype Observed - Allele phenotype ontology names"
   ]
  },
  {
   "cell_type": "code",
   "execution_count": null,
   "metadata": {},
   "outputs": [],
   "source": [
    "def allelePhen(gene):\n",
    "    res = requests.get('http://rest.wormbase.org/rest/field/gene/' + gene + '/phenotype')\n",
    "    final  = []\n",
    "    for i in res.json()['phenotype']['data']:\n",
    "        if 'Allele' in i['evidence']:\n",
    "            final.append(i['phenotype']['label'])\n",
    "    return set(final)"
   ]
  },
  {
   "cell_type": "markdown",
   "metadata": {},
   "source": [
    "Coding_exon Non_silent Allele - List of alleles that fall in any coding exon"
   ]
  },
  {
   "cell_type": "code",
   "execution_count": null,
   "metadata": {},
   "outputs": [],
   "source": [
    "def nonSilent(gene):\n",
    "    res = requests.get('http://rest.wormbase.org/rest/field/gene/' + gene + '/alleles')\n",
    "    final = []\n",
    "    for i in res.json()['alleles']['data']:\n",
    "        if 'effects' in i:\n",
    "            final.append(i['variation']['label'] + '|' + i['effects'][0])\n",
    "    return set(final)"
   ]
  },
  {
   "cell_type": "markdown",
   "metadata": {},
   "source": [
    "Interacting Gene - Experimentally confirmed gene interactions"
   ]
  },
  {
   "cell_type": "code",
   "execution_count": null,
   "metadata": {},
   "outputs": [],
   "source": [
    "def interactingGene(gene):\n",
    "    res = requests.get('http://rest.wormbase.org/rest/field/gene/' + gene + '/interaction_details')\n",
    "    final = []\n",
    "    for i in res.json()['interaction_details']['data']['edges_all']:\n",
    "        final.append(i['affected']['label'])\n",
    "    return set(final)"
   ]
  },
  {
   "cell_type": "markdown",
   "metadata": {},
   "source": [
    "Expr_pattern Tissue - Anatomical expression based on GFP, immunoprecipitation, in-situ"
   ]
  },
  {
   "cell_type": "code",
   "execution_count": null,
   "metadata": {},
   "outputs": [],
   "source": [
    "def exprPatternTissue(gene):\n",
    "    res = requests.get('http://rest.wormbase.org/rest/field/gene/' + gene + '/expressed_in')\n",
    "    final = []\n",
    "    for i in res.json()['expressed_in']['data']:\n",
    "        if i['details'][0]['text']['class'] == 'expr_pattern':\n",
    "            final.append(i['ontology_term']['label'])\n",
    "    return set(final)"
   ]
  },
  {
   "cell_type": "markdown",
   "metadata": {},
   "source": [
    "Genomic Study Tissue - Tissue enrichment based on microarray, RNA-Seq, proteomics studies"
   ]
  },
  {
   "cell_type": "code",
   "execution_count": null,
   "metadata": {},
   "outputs": [],
   "source": [
    "def genomicStudyTissue(gene):\n",
    "    res = requests.get('http://rest.wormbase.org/rest/field/gene/' + gene + '/expressed_in')\n",
    "    final = []\n",
    "    for i in res.json()['expressed_in']['data']:\n",
    "        if i['details'][0]['text']['class'] == 'expression_cluster':\n",
    "            final.append(i['ontology_term']['label'])\n",
    "    return set(final)"
   ]
  },
  {
   "cell_type": "markdown",
   "metadata": {},
   "source": [
    "Expr_pattern LifeStage - Anatomical expression based on GFP, immunoprecipitation, in-situ"
   ]
  },
  {
   "cell_type": "code",
   "execution_count": null,
   "metadata": {},
   "outputs": [],
   "source": [
    "def exprPatternLifeStage(gene):\n",
    "    res = requests.get('http://rest.wormbase.org/rest/field/gene/' + gene + '/expressed_during')\n",
    "    final = []\n",
    "    if res.json()['expressed_during']['data'] is None:\n",
    "        return 'N.A.'\n",
    "    else:\n",
    "        for i in res.json()['expressed_during']['data']:\n",
    "            final.append(i['ontology_term']['label'])\n",
    "    return set(final)"
   ]
  },
  {
   "cell_type": "markdown",
   "metadata": {},
   "source": [
    "Genomic Study LifeStage - Developmental expression based on microarray, RNA-Seq, proteomics studies"
   ]
  },
  {
   "cell_type": "code",
   "execution_count": null,
   "metadata": {},
   "outputs": [],
   "source": [
    "def genomicStudyLifeStage(gene):\n",
    "    res = requests.get('http://rest.wormbase.org/rest/field/gene/' + gene + '/fpkm_expression_summary_ls')\n",
    "    final = []\n",
    "    if res.json()['fpkm_expression_summary_ls']['data']['table']['fpkm']['data'] is None:\n",
    "        return 'N.A.'\n",
    "    else:\n",
    "        for i in res.json()['fpkm_expression_summary_ls']['data']['table']['fpkm']['data']:\n",
    "            final.append(i['life_stage']['label'])\n",
    "    return set(final)"
   ]
  },
  {
   "cell_type": "markdown",
   "metadata": {},
   "source": [
    "Disease Info - Diseases associated with the gene"
   ]
  },
  {
   "cell_type": "code",
   "execution_count": null,
   "metadata": {},
   "outputs": [],
   "source": [
    "def disease(gene):\n",
    "    res = requests.get('http://rest.wormbase.org/rest/field/gene/' + gene + '/human_diseases')\n",
    "    final = []\n",
    "    if res.json()['human_diseases']['data'] is None:\n",
    "        return 'N.A.'\n",
    "    else:\n",
    "        for i in res.json()['human_diseases']['data']['potential_model']:\n",
    "            final.append(i['label'])\n",
    "    return set(final)"
   ]
  },
  {
   "cell_type": "markdown",
   "metadata": {},
   "source": [
    "Human Ortholog - Human orthologs of the gene"
   ]
  },
  {
   "cell_type": "code",
   "execution_count": null,
   "metadata": {},
   "outputs": [],
   "source": [
    "def humanOrtholog(gene):\n",
    "    res = requests.get('http://rest.wormbase.org/rest/field/gene/' + gene + '/other_orthologs')\n",
    "    final = []\n",
    "    if res.json()['other_orthologs']['data'] is None:\n",
    "        return 'N.A.'\n",
    "    else:\n",
    "        for i in res.json()['other_orthologs']['data']:\n",
    "            if (i['ortholog']['taxonomy'] == 'h_sapiens'):\n",
    "                final.append(i['ortholog']['id'] + '|' + '; '.join([j['id'] for j in i['method']]))\n",
    "    return set(final)"
   ]
  },
  {
   "cell_type": "markdown",
   "metadata": {},
   "source": [
    "Gene Ontology Association - Gene ontology terms annotated to the gene"
   ]
  },
  {
   "cell_type": "code",
   "execution_count": null,
   "metadata": {},
   "outputs": [],
   "source": [
    "def geneOntology(gene):\n",
    "    res = requests.get('http://rest.wormbase.org/rest/field/gene/' + gene + '/gene_ontology')\n",
    "    final = []\n",
    "    if res.json()['gene_ontology']['data'] is None:\n",
    "        return 'N.A.'\n",
    "    else:\n",
    "        for i in res.json()['gene_ontology']['data']['Biological_process']:\n",
    "            final.append('BP_' + i['term_description']['label'])\n",
    "        for i in res.json()['gene_ontology']['data']['Molecular_function']:\n",
    "            final.append('MF_' + i['term_description']['label'])\n",
    "        for i in res.json()['gene_ontology']['data']['Cellular_component']:\n",
    "            final.append('CC_' + i['term_description']['label'])\n",
    "        for i in res.json()['gene_ontology']['data']['Cellular_component']:\n",
    "            if i['with'] is not None and i['with'][0]['label'][:7] != 'Panther':\n",
    "                final.append('CC_' + i['with'][0]['label'])\n",
    "    return set(final)"
   ]
  },
  {
   "cell_type": "markdown",
   "metadata": {},
   "source": [
    "Automated Description - Up-to-date gene description"
   ]
  },
  {
   "cell_type": "code",
   "execution_count": null,
   "metadata": {},
   "outputs": [],
   "source": [
    "def automatedDesc(gene):\n",
    "    res = requests.get('http://rest.wormbase.org/rest/field/gene/' + gene + '/concise_description')\n",
    "    return res.json()['concise_description']['data']['text']"
   ]
  },
  {
   "cell_type": "markdown",
   "metadata": {},
   "source": [
    "Reference - Primary research articles that studied the gene"
   ]
  },
  {
   "cell_type": "code",
   "execution_count": null,
   "metadata": {},
   "outputs": [],
   "source": [
    "def reference(gene):\n",
    "    res = requests.get('http://rest.wormbase.org/rest/widget/gene/' + gene + '/references')\n",
    "    final = []\n",
    "    if res.json()['fields']['references']['data'] is None:\n",
    "        return 'N.A.'\n",
    "    else:\n",
    "        for i in res.json()['fields']['references']['data']['results']:\n",
    "            final.append(i['name']['id'])\n",
    "    return set(final)"
   ]
  },
  {
   "cell_type": "code",
   "execution_count": null,
   "metadata": {},
   "outputs": [],
   "source": [
    "for gene in GeneID:\n",
    "    WormBaseGeneID = gene\n",
    "    GeneInfo = GeneInfo.append({'WormBase Gene ID': WormBaseGeneID, \n",
    "                                'Public Name': publicName(gene),\n",
    "                                'Species': species(gene),\n",
    "                                'Sequence Name': sequenceName(gene),\n",
    "                                'Other Name': otherName(gene),\n",
    "                                'Transcript': transcript(gene),\n",
    "                                'Operon': operon(gene),\n",
    "                                'Protein Domain': proteinDomain(gene), \n",
    "                                'UniProt': uniprot(gene),\n",
    "                                'Reference UniProt ID': refUniprotId(gene),\n",
    "                                'TreeFam': treeFam(gene),\n",
    "                                'RefSeq_mRNA': refSeqmRNA(gene),\n",
    "                                'RefSeq_protein': refSeqProtein(gene),\n",
    "                                'Genetic Map Position': geneticMapPosition(gene),\n",
    "                                'RNAi Phenotype Observed': rnaiPhen(gene),\n",
    "                                'Allele Phenotype Observed': allelePhen(gene),\n",
    "                                'Coding_exon Non_silent Allele': nonSilent(gene),\n",
    "                                'Interacting Gene': interactingGene(gene),\n",
    "                                'Expr_pattern Tissue': exprPatternTissue(gene),\n",
    "                                'Genomic Study Tissue': genomicStudyTissue(gene),\n",
    "                                'Expr_pattern LifeStage': exprPatternLifeStage(gene),\n",
    "                                'Genomic Study LifeStage': genomicStudyLifeStage(gene),\n",
    "                                'Disease Info': disease(gene),\n",
    "                                'Human Ortholog': humanOrtholog(gene),\n",
    "                                'Gene Ontology Association': geneOntology(gene),\n",
    "                                'Automated Description': automatedDesc(gene),\n",
    "                                'Reference': reference(gene)}, \n",
    "                               ignore_index = True)"
   ]
  },
  {
   "cell_type": "code",
   "execution_count": null,
   "metadata": {},
   "outputs": [],
   "source": [
    "GeneInfo"
   ]
  },
  {
   "cell_type": "markdown",
   "metadata": {},
   "source": [
    "The dataframe can be written into a csv file to save the essential gene information and for any analyses that you want to perform later."
   ]
  },
  {
   "cell_type": "code",
   "execution_count": null,
   "metadata": {},
   "outputs": [],
   "source": [
    "GeneInfo.to_csv('EssentialGeneInformation.csv')"
   ]
  },
  {
   "cell_type": "markdown",
   "metadata": {},
   "source": [
    "This is the end of the tutorial on replicating SimpleMine results using the WormBase RESTful API to get the essential gene information. The data is up-to date and is very quick to extract, and is easier to handle than the results from SimpleMine.\n",
    "\n",
    "This tutorial is also the end of the Data Retrieval series. In the next tutorial, we will implement and test some simple utilities that can help us work with the data we have retrieved until now.\n",
    "\n",
    "Acknowledgements:\n",
    "- WormBase RESTful API (http://rest.wormbase.org/index.html#/)"
   ]
  }
 ],
 "metadata": {
  "kernelspec": {
   "display_name": "Python 3",
   "language": "python",
   "name": "python3"
  },
  "language_info": {
   "codemirror_mode": {
    "name": "ipython",
    "version": 3
   },
   "file_extension": ".py",
   "mimetype": "text/x-python",
   "name": "python",
   "nbconvert_exporter": "python",
   "pygments_lexer": "ipython3",
   "version": "3.8.5"
  }
 },
 "nbformat": 4,
 "nbformat_minor": 4
}
