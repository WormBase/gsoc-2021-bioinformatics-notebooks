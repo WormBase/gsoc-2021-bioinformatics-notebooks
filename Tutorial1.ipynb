{
 "cells": [
  {
   "cell_type": "markdown",
   "metadata": {
    "id": "g2v9oqCI8pvQ"
   },
   "source": [
    "# **Bioinformatics with Jupyter Notebooks for WormBase:**\n",
    "## **Data Retrieval 1 - Exploring WormBase FTP**\n",
    "Welcome to the first jupyter notebook in the WormBase tutorial series. Over this series of tutorials, we will write code in Python that allows us to retrieve and perform simple analyses with data available on the WormBase sites.\n",
    "\n",
    "This tutorial will deal with the data on the FTP site. (ftp://ftp.wormbase.org/pub/wormbase/)\n",
    "We will both explore the site and extract data of interest. Let's get started!"
   ]
  },
  {
   "cell_type": "markdown",
   "metadata": {
    "id": "1uIJdsWy-zII"
   },
   "source": [
    "We start by installing and loading the libraries that are required for this tutorial."
   ]
  },
  {
   "cell_type": "code",
   "execution_count": null,
   "metadata": {
    "id": "3aN0sANQFlq2"
   },
   "outputs": [],
   "source": [
    "import wget\n",
    "import gzip\n",
    "import shutil\n",
    "import ftplib\n",
    "import os"
   ]
  },
  {
   "cell_type": "markdown",
   "metadata": {
    "id": "z2IGfjaxAKBq"
   },
   "source": [
    "We need to connect to the wormbase ftp site. Here, we navigate to the `pub/wormbase/` directory which is where the data is situated.\n",
    "The cell below opens a ftp connection with the site and displays the files and sub-directories inside the `pub/wormbase/` directory."
   ]
  },
  {
   "cell_type": "code",
   "execution_count": null,
   "metadata": {
    "id": "UE8LcbsbAwDQ"
   },
   "outputs": [],
   "source": [
    "ftp = ftplib.FTP('ftp.wormbase.org')\n",
    "ftp.login()\n",
    "ftp.cwd('pub/wormbase')\n",
    "files = ftp.retrlines('LIST')\n",
    "files"
   ]
  },
  {
   "cell_type": "markdown",
   "metadata": {
    "id": "IRa5dSX4UwIu"
   },
   "source": [
    "The README file contains information regarding the data contained in all the directories and subdirectories. Downloading it can lead you to required data easily."
   ]
  },
  {
   "cell_type": "code",
   "execution_count": null,
   "metadata": {
    "id": "2m7vD5oXA97A"
   },
   "outputs": [],
   "source": [
    "with open('README', 'wb') as downloaded_file:\n",
    "  ftp.retrbinary('RETR README', downloaded_file.write)"
   ]
  },
  {
   "cell_type": "code",
   "execution_count": null,
   "metadata": {},
   "outputs": [],
   "source": [
    "f = open('README').read()\n",
    "print(f)"
   ]
  },
  {
   "cell_type": "markdown",
   "metadata": {
    "id": "cF80-T2KX4KY"
   },
   "source": [
    "The releases folder contains the core files for the various releases of WormBase and all subsidiary files. We can easily access the current version and download the required data. "
   ]
  },
  {
   "cell_type": "code",
   "execution_count": null,
   "metadata": {
    "id": "c7Hs_yfYttJS"
   },
   "outputs": [],
   "source": [
    "!wget --cut-dirs 4 -r --no-parent ftp://ftp.wormbase.org/pub/wormbase/releases/current-development-release/\n",
    "!mv ftp.wormbase.org current_release"
   ]
  },
  {
   "cell_type": "markdown",
   "metadata": {},
   "source": [
    "The cell above downloads all the files associated with the current development release (which is around 40 GB in size). A lot of the data might not be relevant to the users requirement and that is why we can download just the required data from the release using the code in the following cells."
   ]
  },
  {
   "cell_type": "markdown",
   "metadata": {},
   "source": [
    "The following cells deal with accessing and downloading the required sequence, annotations, gff, and assembly data from the current development release.\n",
    "\n",
    "To download assembly files, annotation files, etc., assign the organism name, the bioproject id, the wormbase version (WS280 for the latest version), the file type.\n",
    "You can also naviagte into the different directories and check the available files to download."
   ]
  },
  {
   "cell_type": "markdown",
   "metadata": {},
   "source": [
    "Change the variables based on what you need. Uncomment the lines that list the files in a directory in case you need to see the available files in a directory before assigning your variables."
   ]
  },
  {
   "cell_type": "code",
   "execution_count": null,
   "metadata": {},
   "outputs": [],
   "source": [
    "#print(*ftp.nlst('releases/current-development-release/species'), sep = \"\\n\")\n",
    "species = 'c_elegans'\n",
    "#print(*ftp.nlst('releases/current-development-release/species/'+species), sep = \"\\n\")\n",
    "bioproject = 'PRJNA13758'\n",
    "#print(*ftp.nlst('releases/current-development-release/species/'+species+'/'+bioproject), sep = \"\\n\")\n",
    "wormbase_id = 'WS280'\n",
    "descriptor = 'annotations'\n",
    "extension = 'gff3'"
   ]
  },
  {
   "cell_type": "code",
   "execution_count": null,
   "metadata": {},
   "outputs": [],
   "source": [
    "link = 'ftp://ftp.wormbase.org/pub/wormbase/releases/current-development-release/species/' + species\n",
    "link += '/' + bioproject + '/' + species + '.' + bioproject + '.' + wormbase_id + '.' + descriptor \n",
    "link += '.' + extension + '.gz'\n",
    "link"
   ]
  },
  {
   "cell_type": "markdown",
   "metadata": {},
   "source": [
    "Download the file from the link we generated above using the identifiers provided by you. And then you can unzip the .gz file to get the required file!"
   ]
  },
  {
   "cell_type": "code",
   "execution_count": null,
   "metadata": {
    "id": "9LRNAqAvFnXN"
   },
   "outputs": [],
   "source": [
    "wget.download(link)"
   ]
  },
  {
   "cell_type": "code",
   "execution_count": null,
   "metadata": {
    "id": "QCrtjZTnI9jQ"
   },
   "outputs": [],
   "source": [
    "downloaded_file = os.path.basename(link)\n",
    "\n",
    "\n",
    "\n",
    "with gzip.open(downloaded_file + '.gz', 'rb') as f_in:\n",
    "    with open(downloaded_file, 'wb') as f_out:\n",
    "        shutil.copyfileobj(f_in, f_out)\n",
    "        \n",
    "# I would simply this ^^^^"
   ]
  },
  {
   "cell_type": "markdown",
   "metadata": {},
   "source": [
    "Here we can get the sequence files for a species - genomic, protein and transcript.\n",
    "\n",
    "Again - change the variables based on what you need. Uncomment the lines that list the files in a directory in case you need to see the available files in a directory before assigning your variables."
   ]
  },
  {
   "cell_type": "code",
   "execution_count": null,
   "metadata": {},
   "outputs": [],
   "source": [
    "#print(*ftp.nlst('species'), sep = \"\\n\")\n",
    "species = 'c_elegans'\n",
    "data_type = 'sequence/protein'\n",
    "#print(*ftp.nlst('species/'+species+'/'+data_type), sep = \"\\n\")\n",
    "bioproject = 'PRJNA13758'\n",
    "wormbase_id = 'WS280'\n",
    "# Descriptor can be - genomic.fa, genomic_masked.fa, genomic_softmasked.fa \n",
    "# OR protein.fa, wormpep_package.tar\n",
    "# OR CDS_transcripts.fa, mRNA_transcripts.fa, cds_transcripts.fa, coding_transcripts.fa, ncrna_transcripts.fa, transposon_transcripts.fa, pseudogenic_transcripts.fa, ncRNA_transcripts.fa\n",
    "descriptor = 'wormpep_package.tar'"
   ]
  },
  {
   "cell_type": "code",
   "execution_count": null,
   "metadata": {},
   "outputs": [],
   "source": [
    "if bioproject != '':\n",
    "    bioproject = '.' + bioproject\n",
    "link = 'ftp://ftp.wormbase.org/pub/wormbase/species/' + species + '/' + data_type + '/'\n",
    "link += species + bioproject + '.' + wormbase_id + '.' + descriptor +'.gz'\n",
    "link"
   ]
  },
  {
   "cell_type": "code",
   "execution_count": null,
   "metadata": {},
   "outputs": [],
   "source": [
    "wget.download(link)"
   ]
  },
  {
   "cell_type": "markdown",
   "metadata": {},
   "source": [
    "Here we can get the gff files for a species.\n",
    "\n",
    "Again - change the variables based on what you need. Uncomment the lines that list the files in a directory in case you need to see the available files in a directory before assigning your variables."
   ]
  },
  {
   "cell_type": "code",
   "execution_count": null,
   "metadata": {},
   "outputs": [],
   "source": [
    "#print(*ftp.nlst('species'), sep = \"\\n\")\n",
    "species = 'c_elegans'\n",
    "data_type = 'gff'\n",
    "#print(*ftp.nlst('species/'+species+'/'+data_type), sep = \"\\n\")\n",
    "bioproject = ''\n",
    "wormbase_id = 'WS280'\n",
    "descriptor = 'annotations' #annotations or protein_annotation\n",
    "file_extension='gff2' #gff2 or gff3"
   ]
  },
  {
   "cell_type": "code",
   "execution_count": null,
   "metadata": {},
   "outputs": [],
   "source": [
    "if bioproject != '':\n",
    "    bioproject = '.' + bioproject\n",
    "link = 'ftp://ftp.wormbase.org/pub/wormbase/species/' + species + '/' + data_type + '/'\n",
    "link += species + bioproject + '.' + wormbase_id + '.' + descriptor + '.' + file_extension + '.gz'\n",
    "link"
   ]
  },
  {
   "cell_type": "code",
   "execution_count": null,
   "metadata": {},
   "outputs": [],
   "source": [
    "wget.download(link)"
   ]
  },
  {
   "cell_type": "markdown",
   "metadata": {},
   "source": [
    "Here we can get the assembly files for a species.\n",
    "\n",
    "Again - change the variables based on what you need. Uncomment the lines that list the files in a directory in case you need to see the available files in a directory before assigning your variables."
   ]
  },
  {
   "cell_type": "code",
   "execution_count": null,
   "metadata": {},
   "outputs": [],
   "source": [
    "#print(*ftp.nlst('species'), sep = \"\\n\")\n",
    "species = 'c_elegans'\n",
    "data_type = 'assemblies'\n",
    "#print(*ftp.nlst('species/'+species+'/'+data_type), sep = \"\\n\")\n",
    "bioproject = 'PRJNA13758'\n",
    "wormbase_id = 'current_development'\n",
    "descriptor = 'assembly'"
   ]
  },
  {
   "cell_type": "code",
   "execution_count": null,
   "metadata": {},
   "outputs": [],
   "source": [
    "if bioproject != '':\n",
    "    bioproject = '.' + bioproject\n",
    "link = 'ftp://ftp.wormbase.org/pub/wormbase/species/' + species + '/'\n",
    "link += data_type+ '/' + species + bioproject + '.' + wormbase_id + '.' + descriptor + '.agp.gz'\n",
    "link"
   ]
  },
  {
   "cell_type": "code",
   "execution_count": null,
   "metadata": {},
   "outputs": [],
   "source": [
    "wget.download(link)"
   ]
  },
  {
   "cell_type": "markdown",
   "metadata": {},
   "source": [
    "Here we can get the annotation files for a species.\n",
    "\n",
    "Again - change the variables based on what you need. Uncomment the lines that list the files in a directory in case you need to see the available files in a directory before assigning your variables."
   ]
  },
  {
   "cell_type": "code",
   "execution_count": null,
   "metadata": {},
   "outputs": [],
   "source": [
    "#Getting annotation files \n",
    "#print(*ftp.nlst('species'), sep = \"\\n\")\n",
    "species = 'c_elegans'\n",
    "data_type = 'annotation'\n",
    "print(*ftp.nlst('species/' + species + '/' + data_type), sep = \"\\n\")"
   ]
  },
  {
   "cell_type": "code",
   "execution_count": null,
   "metadata": {},
   "outputs": [],
   "source": [
    "type_of_annot = 'geneIDs'\n",
    "print(*ftp.nlst('species/'+species+'/'+data_type+'/'+type_of_annot), sep = \"\\n\")"
   ]
  },
  {
   "cell_type": "code",
   "execution_count": null,
   "metadata": {},
   "outputs": [],
   "source": [
    "#Copy required file from above list to the variable below\n",
    "download_file = 'species/c_elegans/annotation/geneIDs/c_elegans.PRJNA13758.current.geneIDs.txt.gz'\n",
    "link = 'ftp://ftp.wormbase.org/pub/wormbase/'+download_file\n",
    "link"
   ]
  },
  {
   "cell_type": "code",
   "execution_count": null,
   "metadata": {},
   "outputs": [],
   "source": [
    "wget.download(link)"
   ]
  },
  {
   "cell_type": "markdown",
   "metadata": {},
   "source": [
    "The following cells deal with accessing and downloading the required ontology data from the current development release."
   ]
  },
  {
   "cell_type": "markdown",
   "metadata": {},
   "source": [
    "Change the variables based on what you need. Uncomment the lines that list the files in a directory in case you need to see the available files in a directory before assigning your variables."
   ]
  },
  {
   "cell_type": "code",
   "execution_count": null,
   "metadata": {},
   "outputs": [],
   "source": [
    "#Types of data: anatomy_association, anatomy_ontology, development_association, development_ontology,\n",
    "#disease_association, disease_ontology, gene_association, gene_ontology, phenotype_association, phenotype_ontology,\n",
    "#rnai_phenotypes, rnai_phenotypes_quick.\n",
    "\n",
    "data_type = 'gene_association'\n",
    "species = 'c_elegans'\n",
    "wormbase_id = 'WS280'"
   ]
  },
  {
   "cell_type": "code",
   "execution_count": null,
   "metadata": {},
   "outputs": [],
   "source": [
    "if (species != ''):\n",
    "    species = '.' + species\n",
    "\n",
    "if (data_type[-8:]=='ontology'):\n",
    "    link = 'ftp://ftp.wormbase.org/pub/wormbase/releases/current-development-release/ONTOLOGY/'+data_type+'.'+wormbase_id+'.obo'\n",
    "elif (data_type[4:]=='rnai'):\n",
    "    link = 'ftp://ftp.wormbase.org/pub/wormbase/releases/current-development-release/ONTOLOGY/'+data_type+'.'+wormbase_id+'.wb.c_elegans'\n",
    "elif (data_type == 'disease_association'):\n",
    "    link = 'ftp://ftp.wormbase.org/pub/wormbase/releases/current-development-release/ONTOLOGY/'+data_type+'.'+wormbase_id+'.daf.txt'+species\n",
    "else :\n",
    "    link = 'ftp://ftp.wormbase.org/pub/wormbase/releases/current-development-release/ONTOLOGY/'+data_type+'.'+wormbase_id+'.wb'+species"
   ]
  },
  {
   "cell_type": "code",
   "execution_count": null,
   "metadata": {},
   "outputs": [],
   "source": [
    "wget.download(link)"
   ]
  },
  {
   "cell_type": "markdown",
   "metadata": {},
   "source": [
    "This is the end of the first tutorial for WormBase data! This tutorial dealt with extracting WormBase data from the FTP site easily and programatically. \n",
    "\n",
    "In the next tutorial, we will use intermine to access the WormMine site and retrieve data from WormBase in another way."
   ]
  }
 ],
 "metadata": {
  "colab": {
   "name": "Untitled2.ipynb",
   "provenance": []
  },
  "kernelspec": {
   "display_name": "Python 3",
   "language": "python",
   "name": "python3"
  },
  "language_info": {
   "codemirror_mode": {
    "name": "ipython",
    "version": 3
   },
   "file_extension": ".py",
   "mimetype": "text/x-python",
   "name": "python",
   "nbconvert_exporter": "python",
   "pygments_lexer": "ipython3",
   "version": "3.8.5"
  }
 },
 "nbformat": 4,
 "nbformat_minor": 1
}
